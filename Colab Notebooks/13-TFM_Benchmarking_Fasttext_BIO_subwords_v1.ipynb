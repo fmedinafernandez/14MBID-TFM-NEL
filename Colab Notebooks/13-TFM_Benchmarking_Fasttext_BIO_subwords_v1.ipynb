{
  "nbformat": 4,
  "nbformat_minor": 0,
  "metadata": {
    "colab": {
      "provenance": []
    },
    "kernelspec": {
      "name": "python3",
      "display_name": "Python 3"
    },
    "language_info": {
      "name": "python"
    }
  },
  "cells": [
    {
      "cell_type": "markdown",
      "source": [
        "# Benchmark modelos de Fasttext(BIO) (Subwords) para obtener Embeddings del texto"
      ],
      "metadata": {
        "id": "WWKk5ENDqBwA"
      }
    },
    {
      "cell_type": "code",
      "source": [
        "! python -m spacy download es_core_news_lg"
      ],
      "metadata": {
        "colab": {
          "base_uri": "https://localhost:8080/"
        },
        "id": "qoV_aSw2iGwO",
        "outputId": "a7071df9-1129-4414-d74c-b865904065cd"
      },
      "execution_count": null,
      "outputs": [
        {
          "output_type": "stream",
          "name": "stdout",
          "text": [
            "/usr/local/lib/python3.8/dist-packages/torch/cuda/__init__.py:497: UserWarning: Can't initialize NVML\n",
            "  warnings.warn(\"Can't initialize NVML\")\n",
            "2023-01-27 10:46:27.035359: E tensorflow/stream_executor/cuda/cuda_driver.cc:271] failed call to cuInit: CUDA_ERROR_NO_DEVICE: no CUDA-capable device is detected\n",
            "Looking in indexes: https://pypi.org/simple, https://us-python.pkg.dev/colab-wheels/public/simple/\n",
            "Collecting es-core-news-lg==3.4.0\n",
            "  Downloading https://github.com/explosion/spacy-models/releases/download/es_core_news_lg-3.4.0/es_core_news_lg-3.4.0-py3-none-any.whl (568.0 MB)\n",
            "\u001b[2K     \u001b[90m━━━━━━━━━━━━━━━━━━━━━━━━━━━━━━━━━━━━━━━\u001b[0m \u001b[32m568.0/568.0 MB\u001b[0m \u001b[31m2.6 MB/s\u001b[0m eta \u001b[36m0:00:00\u001b[0m\n",
            "\u001b[?25hRequirement already satisfied: spacy<3.5.0,>=3.4.0 in /usr/local/lib/python3.8/dist-packages (from es-core-news-lg==3.4.0) (3.4.4)\n",
            "Requirement already satisfied: typer<0.8.0,>=0.3.0 in /usr/local/lib/python3.8/dist-packages (from spacy<3.5.0,>=3.4.0->es-core-news-lg==3.4.0) (0.7.0)\n",
            "Requirement already satisfied: cymem<2.1.0,>=2.0.2 in /usr/local/lib/python3.8/dist-packages (from spacy<3.5.0,>=3.4.0->es-core-news-lg==3.4.0) (2.0.7)\n",
            "Requirement already satisfied: pydantic!=1.8,!=1.8.1,<1.11.0,>=1.7.4 in /usr/local/lib/python3.8/dist-packages (from spacy<3.5.0,>=3.4.0->es-core-news-lg==3.4.0) (1.10.4)\n",
            "Requirement already satisfied: catalogue<2.1.0,>=2.0.6 in /usr/local/lib/python3.8/dist-packages (from spacy<3.5.0,>=3.4.0->es-core-news-lg==3.4.0) (2.0.8)\n",
            "Requirement already satisfied: smart-open<7.0.0,>=5.2.1 in /usr/local/lib/python3.8/dist-packages (from spacy<3.5.0,>=3.4.0->es-core-news-lg==3.4.0) (6.3.0)\n",
            "Requirement already satisfied: srsly<3.0.0,>=2.4.3 in /usr/local/lib/python3.8/dist-packages (from spacy<3.5.0,>=3.4.0->es-core-news-lg==3.4.0) (2.4.5)\n",
            "Requirement already satisfied: pathy>=0.3.5 in /usr/local/lib/python3.8/dist-packages (from spacy<3.5.0,>=3.4.0->es-core-news-lg==3.4.0) (0.10.1)\n",
            "Requirement already satisfied: murmurhash<1.1.0,>=0.28.0 in /usr/local/lib/python3.8/dist-packages (from spacy<3.5.0,>=3.4.0->es-core-news-lg==3.4.0) (1.0.9)\n",
            "Requirement already satisfied: spacy-legacy<3.1.0,>=3.0.10 in /usr/local/lib/python3.8/dist-packages (from spacy<3.5.0,>=3.4.0->es-core-news-lg==3.4.0) (3.0.11)\n",
            "Requirement already satisfied: jinja2 in /usr/local/lib/python3.8/dist-packages (from spacy<3.5.0,>=3.4.0->es-core-news-lg==3.4.0) (2.11.3)\n",
            "Requirement already satisfied: thinc<8.2.0,>=8.1.0 in /usr/local/lib/python3.8/dist-packages (from spacy<3.5.0,>=3.4.0->es-core-news-lg==3.4.0) (8.1.6)\n",
            "Requirement already satisfied: requests<3.0.0,>=2.13.0 in /usr/local/lib/python3.8/dist-packages (from spacy<3.5.0,>=3.4.0->es-core-news-lg==3.4.0) (2.25.1)\n",
            "Requirement already satisfied: packaging>=20.0 in /usr/local/lib/python3.8/dist-packages (from spacy<3.5.0,>=3.4.0->es-core-news-lg==3.4.0) (21.3)\n",
            "Requirement already satisfied: numpy>=1.15.0 in /usr/local/lib/python3.8/dist-packages (from spacy<3.5.0,>=3.4.0->es-core-news-lg==3.4.0) (1.21.6)\n",
            "Requirement already satisfied: langcodes<4.0.0,>=3.2.0 in /usr/local/lib/python3.8/dist-packages (from spacy<3.5.0,>=3.4.0->es-core-news-lg==3.4.0) (3.3.0)\n",
            "Requirement already satisfied: preshed<3.1.0,>=3.0.2 in /usr/local/lib/python3.8/dist-packages (from spacy<3.5.0,>=3.4.0->es-core-news-lg==3.4.0) (3.0.8)\n",
            "Requirement already satisfied: setuptools in /usr/local/lib/python3.8/dist-packages (from spacy<3.5.0,>=3.4.0->es-core-news-lg==3.4.0) (57.4.0)\n",
            "Requirement already satisfied: tqdm<5.0.0,>=4.38.0 in /usr/local/lib/python3.8/dist-packages (from spacy<3.5.0,>=3.4.0->es-core-news-lg==3.4.0) (4.64.1)\n",
            "Requirement already satisfied: wasabi<1.1.0,>=0.9.1 in /usr/local/lib/python3.8/dist-packages (from spacy<3.5.0,>=3.4.0->es-core-news-lg==3.4.0) (0.10.1)\n",
            "Requirement already satisfied: spacy-loggers<2.0.0,>=1.0.0 in /usr/local/lib/python3.8/dist-packages (from spacy<3.5.0,>=3.4.0->es-core-news-lg==3.4.0) (1.0.4)\n",
            "Requirement already satisfied: pyparsing!=3.0.5,>=2.0.2 in /usr/local/lib/python3.8/dist-packages (from packaging>=20.0->spacy<3.5.0,>=3.4.0->es-core-news-lg==3.4.0) (3.0.9)\n",
            "Requirement already satisfied: typing-extensions>=4.2.0 in /usr/local/lib/python3.8/dist-packages (from pydantic!=1.8,!=1.8.1,<1.11.0,>=1.7.4->spacy<3.5.0,>=3.4.0->es-core-news-lg==3.4.0) (4.4.0)\n",
            "Requirement already satisfied: chardet<5,>=3.0.2 in /usr/local/lib/python3.8/dist-packages (from requests<3.0.0,>=2.13.0->spacy<3.5.0,>=3.4.0->es-core-news-lg==3.4.0) (4.0.0)\n",
            "Requirement already satisfied: certifi>=2017.4.17 in /usr/local/lib/python3.8/dist-packages (from requests<3.0.0,>=2.13.0->spacy<3.5.0,>=3.4.0->es-core-news-lg==3.4.0) (2022.12.7)\n",
            "Requirement already satisfied: idna<3,>=2.5 in /usr/local/lib/python3.8/dist-packages (from requests<3.0.0,>=2.13.0->spacy<3.5.0,>=3.4.0->es-core-news-lg==3.4.0) (2.10)\n",
            "Requirement already satisfied: urllib3<1.27,>=1.21.1 in /usr/local/lib/python3.8/dist-packages (from requests<3.0.0,>=2.13.0->spacy<3.5.0,>=3.4.0->es-core-news-lg==3.4.0) (1.24.3)\n",
            "Requirement already satisfied: blis<0.8.0,>=0.7.8 in /usr/local/lib/python3.8/dist-packages (from thinc<8.2.0,>=8.1.0->spacy<3.5.0,>=3.4.0->es-core-news-lg==3.4.0) (0.7.9)\n",
            "Requirement already satisfied: confection<1.0.0,>=0.0.1 in /usr/local/lib/python3.8/dist-packages (from thinc<8.2.0,>=8.1.0->spacy<3.5.0,>=3.4.0->es-core-news-lg==3.4.0) (0.0.3)\n",
            "Requirement already satisfied: click<9.0.0,>=7.1.1 in /usr/local/lib/python3.8/dist-packages (from typer<0.8.0,>=0.3.0->spacy<3.5.0,>=3.4.0->es-core-news-lg==3.4.0) (7.1.2)\n",
            "Requirement already satisfied: MarkupSafe>=0.23 in /usr/local/lib/python3.8/dist-packages (from jinja2->spacy<3.5.0,>=3.4.0->es-core-news-lg==3.4.0) (2.0.1)\n",
            "Installing collected packages: es-core-news-lg\n",
            "Successfully installed es-core-news-lg-3.4.0\n",
            "\u001b[38;5;2m✔ Download and installation successful\u001b[0m\n",
            "You can now load the package via spacy.load('es_core_news_lg')\n"
          ]
        }
      ]
    },
    {
      "cell_type": "code",
      "execution_count": null,
      "metadata": {
        "colab": {
          "base_uri": "https://localhost:8080/"
        },
        "id": "NRj-GbKDiNAg",
        "outputId": "64b76fa5-d0bf-455b-cade-57a3565a940e"
      },
      "outputs": [
        {
          "output_type": "stream",
          "name": "stdout",
          "text": [
            "Looking in indexes: https://pypi.org/simple, https://us-python.pkg.dev/colab-wheels/public/simple/\n",
            "Requirement already satisfied: spacy in /usr/local/lib/python3.8/dist-packages (3.4.4)\n",
            "Requirement already satisfied: spacy-legacy<3.1.0,>=3.0.10 in /usr/local/lib/python3.8/dist-packages (from spacy) (3.0.11)\n",
            "Requirement already satisfied: spacy-loggers<2.0.0,>=1.0.0 in /usr/local/lib/python3.8/dist-packages (from spacy) (1.0.4)\n",
            "Requirement already satisfied: numpy>=1.15.0 in /usr/local/lib/python3.8/dist-packages (from spacy) (1.21.6)\n",
            "Requirement already satisfied: jinja2 in /usr/local/lib/python3.8/dist-packages (from spacy) (2.11.3)\n",
            "Requirement already satisfied: pathy>=0.3.5 in /usr/local/lib/python3.8/dist-packages (from spacy) (0.10.1)\n",
            "Requirement already satisfied: tqdm<5.0.0,>=4.38.0 in /usr/local/lib/python3.8/dist-packages (from spacy) (4.64.1)\n",
            "Requirement already satisfied: langcodes<4.0.0,>=3.2.0 in /usr/local/lib/python3.8/dist-packages (from spacy) (3.3.0)\n",
            "Requirement already satisfied: packaging>=20.0 in /usr/local/lib/python3.8/dist-packages (from spacy) (21.3)\n",
            "Requirement already satisfied: murmurhash<1.1.0,>=0.28.0 in /usr/local/lib/python3.8/dist-packages (from spacy) (1.0.9)\n",
            "Requirement already satisfied: typer<0.8.0,>=0.3.0 in /usr/local/lib/python3.8/dist-packages (from spacy) (0.7.0)\n",
            "Requirement already satisfied: pydantic!=1.8,!=1.8.1,<1.11.0,>=1.7.4 in /usr/local/lib/python3.8/dist-packages (from spacy) (1.10.4)\n",
            "Requirement already satisfied: thinc<8.2.0,>=8.1.0 in /usr/local/lib/python3.8/dist-packages (from spacy) (8.1.6)\n",
            "Requirement already satisfied: catalogue<2.1.0,>=2.0.6 in /usr/local/lib/python3.8/dist-packages (from spacy) (2.0.8)\n",
            "Requirement already satisfied: wasabi<1.1.0,>=0.9.1 in /usr/local/lib/python3.8/dist-packages (from spacy) (0.10.1)\n",
            "Requirement already satisfied: preshed<3.1.0,>=3.0.2 in /usr/local/lib/python3.8/dist-packages (from spacy) (3.0.8)\n",
            "Requirement already satisfied: setuptools in /usr/local/lib/python3.8/dist-packages (from spacy) (57.4.0)\n",
            "Requirement already satisfied: srsly<3.0.0,>=2.4.3 in /usr/local/lib/python3.8/dist-packages (from spacy) (2.4.5)\n",
            "Requirement already satisfied: cymem<2.1.0,>=2.0.2 in /usr/local/lib/python3.8/dist-packages (from spacy) (2.0.7)\n",
            "Requirement already satisfied: requests<3.0.0,>=2.13.0 in /usr/local/lib/python3.8/dist-packages (from spacy) (2.25.1)\n",
            "Requirement already satisfied: smart-open<7.0.0,>=5.2.1 in /usr/local/lib/python3.8/dist-packages (from spacy) (6.3.0)\n",
            "Requirement already satisfied: pyparsing!=3.0.5,>=2.0.2 in /usr/local/lib/python3.8/dist-packages (from packaging>=20.0->spacy) (3.0.9)\n",
            "Requirement already satisfied: typing-extensions>=4.2.0 in /usr/local/lib/python3.8/dist-packages (from pydantic!=1.8,!=1.8.1,<1.11.0,>=1.7.4->spacy) (4.4.0)\n",
            "Requirement already satisfied: chardet<5,>=3.0.2 in /usr/local/lib/python3.8/dist-packages (from requests<3.0.0,>=2.13.0->spacy) (4.0.0)\n",
            "Requirement already satisfied: certifi>=2017.4.17 in /usr/local/lib/python3.8/dist-packages (from requests<3.0.0,>=2.13.0->spacy) (2022.12.7)\n",
            "Requirement already satisfied: urllib3<1.27,>=1.21.1 in /usr/local/lib/python3.8/dist-packages (from requests<3.0.0,>=2.13.0->spacy) (1.24.3)\n",
            "Requirement already satisfied: idna<3,>=2.5 in /usr/local/lib/python3.8/dist-packages (from requests<3.0.0,>=2.13.0->spacy) (2.10)\n",
            "Requirement already satisfied: blis<0.8.0,>=0.7.8 in /usr/local/lib/python3.8/dist-packages (from thinc<8.2.0,>=8.1.0->spacy) (0.7.9)\n",
            "Requirement already satisfied: confection<1.0.0,>=0.0.1 in /usr/local/lib/python3.8/dist-packages (from thinc<8.2.0,>=8.1.0->spacy) (0.0.3)\n",
            "Requirement already satisfied: click<9.0.0,>=7.1.1 in /usr/local/lib/python3.8/dist-packages (from typer<0.8.0,>=0.3.0->spacy) (7.1.2)\n",
            "Requirement already satisfied: MarkupSafe>=0.23 in /usr/local/lib/python3.8/dist-packages (from jinja2->spacy) (2.0.1)\n"
          ]
        }
      ],
      "source": [
        "! pip install spacy\n",
        "#! python -m spacy download es\n",
        "import warnings\n",
        "warnings.filterwarnings('ignore')\n",
        "import pandas as pd\n",
        "import spacy\n"
      ]
    },
    {
      "cell_type": "code",
      "source": [
        "def NLP_preprocesaDocumento(nlp, doc):\n",
        "\n",
        "  #Convertir a minúsculas\n",
        "  doc = doc.lower()\n",
        "  \n",
        "  #Tokenizado\n",
        "  doc = [\" \".join([token.text for token in nlp(doc)])][0]\n",
        "\n",
        "  #Eliminación de signos de puntuación\n",
        "  doc = [\" \".join([token.lemma_ for token in nlp(doc) if not token.is_punct]) ][0]\n",
        "\n",
        "  #Eliminación de stopwords\n",
        "  spacy_stopwords = spacy.lang.es.stop_words.STOP_WORDS\n",
        "  doc = [\" \".join([token for token in doc.split() if not token.lower() in spacy_stopwords])][0]\n",
        "  \n",
        "  #Lematización de palabras\n",
        "  doc = [\" \".join([token.lemma_ for token in nlp(doc)])][0]\n",
        "\n",
        "  #Eliminación de tildes\n",
        "  tildes = {'á': 'a', 'é': 'e', 'í': 'i', 'ó': 'o', 'ú': 'u', 'Á': 'A', 'E': 'E', 'Í': 'I', 'Ó': 'O', 'Ú': 'U', 'ü': 'u', 'Ü': 'U'}\n",
        "  for tilde in tildes:\n",
        "\t  if tilde in doc:\n",
        "\t\t  doc = doc.replace(tilde, tildes[tilde])\n",
        "\n",
        "  return doc\n"
      ],
      "metadata": {
        "id": "OWmrre3vii8w"
      },
      "execution_count": null,
      "outputs": []
    },
    {
      "cell_type": "code",
      "source": [
        "def split_sentences(nlp, text):\n",
        "    tokens = nlp(text)\n",
        "    sentences = []\n",
        "    for sent in tokens.sents:\n",
        "        sentences.append(sent.text.strip())\n",
        "    return sentences"
      ],
      "metadata": {
        "id": "dvZh0zqwgZtk"
      },
      "execution_count": null,
      "outputs": []
    },
    {
      "cell_type": "code",
      "source": [
        "#Cargamos el modelo en español\n",
        "nlp_lg = spacy.load(\"es_core_news_lg\")"
      ],
      "metadata": {
        "id": "IvWOkVZRj5Pf"
      },
      "execution_count": null,
      "outputs": []
    },
    {
      "cell_type": "markdown",
      "source": [
        "## Carga de las terminologías clínicas SNOMED-CT y generación de sus Embeddings\n",
        "NOTA: Estos solo es necesario hacerlo la primera vez"
      ],
      "metadata": {
        "id": "luRQ4W8wpX_0"
      }
    },
    {
      "cell_type": "code",
      "source": [
        "import os\n",
        "def cargaProblemasSaludAHSpainExtension():\n",
        "  f = open('der2_Refset_ProblemasSaludAHSpainExtensionSnapshot_ES_20221201.txt')\n",
        "  terminos_snomedct_problemassaludAH = []\n",
        "  cont = 0\n",
        "  for row in f:\n",
        "    if cont>0:\n",
        "      values = row.strip().split(\"\\t\")\n",
        "      #id\teffectiveTime\tactive\tmoduleId\trefsetId\treferencedComponentId\tterm\n",
        "      #print(values)\n",
        "      termino = {}\n",
        "      termino[\"id\"] = values[0];\n",
        "      #termino[\"effectiveTime\"] = values[1];\n",
        "      #termino[\"active\"] = values[2];\n",
        "      #termino[\"moduleId\"] = values[3];\n",
        "      #termino[\"refsetId\"] = values[4];\n",
        "      #termino[\"referencedComponentId\"] = values[5];\n",
        "      termino[\"term\"] = values[6];\n",
        "      #termino[\"num_palabras\"] = len(values[6].split(\" \"));\n",
        "      #print(termino)\n",
        "      terminos_snomedct_problemassaludAH.append(termino)\n",
        "    cont = cont + 1\n",
        "\n",
        "  f.close();\n",
        "  return terminos_snomedct_problemassaludAH;"
      ],
      "metadata": {
        "id": "5sL1HVqZjlkI"
      },
      "execution_count": null,
      "outputs": []
    },
    {
      "cell_type": "code",
      "source": [
        "!pip install sentencepiece\n",
        "import sentencepiece as spm\n",
        "\n",
        "sp = spm.SentencePieceProcessor(model_file='drive/MyDrive/models/sp-bio-sw-emb-uncased-bio.model')\n",
        "\n",
        "def anadirEmbedding(model,nlp,lista,num_items_max=0,preprocesado=False):\n",
        "  cont = 0\n",
        "  for item in lista:\n",
        "    #print(item[\"term\"])\n",
        "    if preprocesado:\n",
        "      doc = NLP_preprocesaDocumento(nlp,item[\"term\"])\n",
        "      if doc == \"\":\n",
        "        print(\"ERROR AL Parsear \" + item[\"term\"])\n",
        "        doc = item[\"term\"]\n",
        "    else:\n",
        "      doc = item[\"term\"]\n",
        "    #print(doc)\n",
        "    #item[\"embedding\"] = model.wv.get_vector(doc)\n",
        "    item[\"embedding\"] = model.wv.get_vector(sp.decode([sp.bos_id()] + sp.encode_as_ids(doc) + [sp.eos_id()]))\n",
        "    cont = cont + 1\n",
        "    if cont == num_items_max:\n",
        "      break\n",
        "  return lista"
      ],
      "metadata": {
        "id": "nBnZnJKcjydV",
        "colab": {
          "base_uri": "https://localhost:8080/"
        },
        "outputId": "8d2911b0-4b81-4666-d644-fb3ed45a633d"
      },
      "execution_count": null,
      "outputs": [
        {
          "output_type": "stream",
          "name": "stdout",
          "text": [
            "Looking in indexes: https://pypi.org/simple, https://us-python.pkg.dev/colab-wheels/public/simple/\n",
            "Requirement already satisfied: sentencepiece in /usr/local/lib/python3.8/dist-packages (0.1.97)\n"
          ]
        }
      ]
    },
    {
      "cell_type": "code",
      "source": [
        "terminos_snomedct_problemassaludAH = cargaProblemasSaludAHSpainExtension();"
      ],
      "metadata": {
        "id": "OpciyOj9h5hk"
      },
      "execution_count": null,
      "outputs": []
    },
    {
      "cell_type": "code",
      "source": [
        "import json\n",
        "from json import JSONEncoder\n",
        "import numpy\n",
        "\n",
        "class NumpyArrayEncoder(JSONEncoder):\n",
        "    def default(self, obj):\n",
        "        if isinstance(obj, numpy.ndarray):\n",
        "            return obj.tolist()\n",
        "        return JSONEncoder.default(self, obj)\n",
        "\n",
        "#numpyArrayOne = numpy.array([[11, 22, 33], [44, 55, 66], [77, 88, 99]])\n",
        "\n",
        "# Serialization\n",
        "#numpyData = {\"array\": numpyArrayOne}\n",
        "#encodedNumpyData = json.dumps(numpyData, cls=NumpyArrayEncoder)  # use dump() to write array into file\n",
        "#print(\"Printing JSON serialized NumPy array\")\n",
        "#print(encodedNumpyData)\n",
        "\n",
        "# Deserialization\n",
        "#print(\"Decode JSON serialized NumPy array\")\n",
        "#decodedArrays = json.loads(encodedNumpyData)\n",
        "\n",
        "#finalNumpyArray = numpy.asarray(decodedArrays[\"array\"])\n",
        "#print(\"NumPy Array\")\n",
        "#print(finalNumpyArray)"
      ],
      "metadata": {
        "id": "PB48lS9hMrmh"
      },
      "execution_count": null,
      "outputs": []
    },
    {
      "cell_type": "code",
      "source": [
        "!pip install gensim\n",
        "from gensim.models import FastText\n",
        "import json"
      ],
      "metadata": {
        "colab": {
          "base_uri": "https://localhost:8080/"
        },
        "id": "wf74B8pM6FnL",
        "outputId": "59350575-a398-413e-de72-36849999fd30"
      },
      "execution_count": null,
      "outputs": [
        {
          "output_type": "stream",
          "name": "stdout",
          "text": [
            "Looking in indexes: https://pypi.org/simple, https://us-python.pkg.dev/colab-wheels/public/simple/\n",
            "Requirement already satisfied: gensim in /usr/local/lib/python3.8/dist-packages (3.6.0)\n",
            "Requirement already satisfied: six>=1.5.0 in /usr/local/lib/python3.8/dist-packages (from gensim) (1.15.0)\n",
            "Requirement already satisfied: smart-open>=1.2.1 in /usr/local/lib/python3.8/dist-packages (from gensim) (6.3.0)\n",
            "Requirement already satisfied: scipy>=0.18.1 in /usr/local/lib/python3.8/dist-packages (from gensim) (1.7.3)\n",
            "Requirement already satisfied: numpy>=1.11.3 in /usr/local/lib/python3.8/dist-packages (from gensim) (1.21.6)\n"
          ]
        }
      ]
    },
    {
      "cell_type": "markdown",
      "source": [
        "Obtención de embeddings con el modelo seleccionado (nlp_lg y model sp-cli-w-emb-uncased-cbow-d50-clinic_es)"
      ],
      "metadata": {
        "id": "nsBm4viqsN4J"
      }
    },
    {
      "cell_type": "code",
      "source": [
        "#Tiempo de ejecucion: 3 sg\n",
        "model = FastText.load_fasttext_format('drive/MyDrive/models/sp-bio-sw-emb-uncased-cbow-d50-bio_es.bin')"
      ],
      "metadata": {
        "id": "fLl8xj52qSmY"
      },
      "execution_count": null,
      "outputs": []
    },
    {
      "cell_type": "code",
      "source": [
        "#Tiempo de ejecucion: 56 sg\n",
        "terminos_snomedct_problemassaludAH = anadirEmbedding(model, nlp_lg, terminos_snomedct_problemassaludAH, 0, True);"
      ],
      "metadata": {
        "colab": {
          "base_uri": "https://localhost:8080/"
        },
        "id": "b0WxjASUrcuY",
        "outputId": "c964d93c-6211-45b8-87f4-5bd555f725fb"
      },
      "execution_count": null,
      "outputs": [
        {
          "output_type": "stream",
          "name": "stdout",
          "text": [
            "ERROR AL Parsear estado de gran mal\n"
          ]
        }
      ]
    },
    {
      "cell_type": "code",
      "source": [
        "for termino in terminos_snomedct_problemassaludAH:\n",
        "  termino[\"embedding\"] = json.dumps(termino[\"embedding\"], cls=NumpyArrayEncoder)"
      ],
      "metadata": {
        "id": "CHbvxR0BtpO2"
      },
      "execution_count": null,
      "outputs": []
    },
    {
      "cell_type": "code",
      "source": [
        "with open('catalogo_sp-bio-sw-emb-uncased-cbow-d50-bio_es.json', 'w') as file:\n",
        "    json.dump(terminos_snomedct_problemassaludAH, file)\n",
        "file.close()"
      ],
      "metadata": {
        "id": "96GlR-tAAkFy"
      },
      "execution_count": null,
      "outputs": []
    },
    {
      "cell_type": "code",
      "source": [
        "#Tiempo de ejecucion: 7 sg\n",
        "model = FastText.load_fasttext_format('drive/MyDrive/models/sp-bio-sw-emb-uncased-cbow-d100-bio_es.bin')"
      ],
      "metadata": {
        "id": "ioV8M5H8v7ar"
      },
      "execution_count": null,
      "outputs": []
    },
    {
      "cell_type": "code",
      "source": [
        "#Tiempo de ejecucion: 58 sg\n",
        "terminos_snomedct_problemassaludAH = anadirEmbedding(model, nlp_lg, terminos_snomedct_problemassaludAH, 0, True);"
      ],
      "metadata": {
        "colab": {
          "base_uri": "https://localhost:8080/"
        },
        "id": "JJEvOWU_v7SB",
        "outputId": "b5cf2e34-11b9-4bfe-fde4-e82046894f3c"
      },
      "execution_count": null,
      "outputs": [
        {
          "output_type": "stream",
          "name": "stdout",
          "text": [
            "ERROR AL Parsear estado de gran mal\n"
          ]
        }
      ]
    },
    {
      "cell_type": "code",
      "source": [
        "for termino in terminos_snomedct_problemassaludAH:\n",
        "  termino[\"embedding\"] = json.dumps(termino[\"embedding\"], cls=NumpyArrayEncoder)"
      ],
      "metadata": {
        "id": "14ugGGMUv7HM"
      },
      "execution_count": null,
      "outputs": []
    },
    {
      "cell_type": "code",
      "source": [
        "with open('catalogo_sp-bio-sw-emb-uncased-cbow-d100-bio_es.json', 'w') as file:\n",
        "    json.dump(terminos_snomedct_problemassaludAH, file)\n",
        "file.close()"
      ],
      "metadata": {
        "id": "EL9x_9UYv66F"
      },
      "execution_count": null,
      "outputs": []
    },
    {
      "cell_type": "code",
      "source": [
        "#Tiempo de ejecucion: 21 sg\n",
        "model = FastText.load_fasttext_format('drive/MyDrive/models/sp-bio-sw-emb-uncased-cbow-d300-bio_es.bin')"
      ],
      "metadata": {
        "id": "3GoxqaU0woGK"
      },
      "execution_count": null,
      "outputs": []
    },
    {
      "cell_type": "code",
      "source": [
        "#Tiempo de ejecucion: 55 sg\n",
        "terminos_snomedct_problemassaludAH = anadirEmbedding(model, nlp_lg, terminos_snomedct_problemassaludAH, 0, True);"
      ],
      "metadata": {
        "outputId": "5098a2a6-cb3c-4541-e006-c5029a31e112",
        "colab": {
          "base_uri": "https://localhost:8080/"
        },
        "id": "sceQZudrwoGK"
      },
      "execution_count": null,
      "outputs": [
        {
          "output_type": "stream",
          "name": "stdout",
          "text": [
            "ERROR AL Parsear estado de gran mal\n"
          ]
        }
      ]
    },
    {
      "cell_type": "code",
      "source": [
        "for termino in terminos_snomedct_problemassaludAH:\n",
        "  termino[\"embedding\"] = json.dumps(termino[\"embedding\"], cls=NumpyArrayEncoder)"
      ],
      "metadata": {
        "id": "8EBvSJIiwoGK"
      },
      "execution_count": null,
      "outputs": []
    },
    {
      "cell_type": "code",
      "source": [
        "with open('catalogo_sp-bio-sw-emb-uncased-cbow-d300-bio_es.json', 'w') as file:\n",
        "    json.dump(terminos_snomedct_problemassaludAH, file)\n",
        "file.close()"
      ],
      "metadata": {
        "id": "4sbPJ6fzwoGL"
      },
      "execution_count": null,
      "outputs": []
    },
    {
      "cell_type": "code",
      "source": [
        "#Tiempo de ejecucion: 4 sg\n",
        "model = FastText.load_fasttext_format('drive/MyDrive/models/sp-bio-sw-emb-uncased-skip-d50-bio_es.bin')\n"
      ],
      "metadata": {
        "id": "SJGi2Nxf68BQ"
      },
      "execution_count": null,
      "outputs": []
    },
    {
      "cell_type": "code",
      "source": [
        "#Tiempo de ejecucion: 51 sg\n",
        "terminos_snomedct_problemassaludAH = anadirEmbedding(model, nlp_lg, terminos_snomedct_problemassaludAH, 0, True);\n"
      ],
      "metadata": {
        "colab": {
          "base_uri": "https://localhost:8080/"
        },
        "id": "omklmsYN69DJ",
        "outputId": "4fa6e694-6bd2-425b-d56c-053f220e1585"
      },
      "execution_count": null,
      "outputs": [
        {
          "output_type": "stream",
          "name": "stdout",
          "text": [
            "ERROR AL Parsear estado de gran mal\n"
          ]
        }
      ]
    },
    {
      "cell_type": "code",
      "source": [
        "for termino in terminos_snomedct_problemassaludAH:\n",
        "  termino[\"embedding\"] = json.dumps(termino[\"embedding\"], cls=NumpyArrayEncoder)\n",
        "with open('catalogo_sp-bio-sw-emb-uncased-skip-d50-bio_es.json', 'w') as file:\n",
        "    json.dump(terminos_snomedct_problemassaludAH, file)\n",
        "file.close()"
      ],
      "metadata": {
        "id": "52tGysHlT1_s"
      },
      "execution_count": null,
      "outputs": []
    },
    {
      "cell_type": "code",
      "source": [
        "#Tiempo de ejecucion: 7 sg\n",
        "model = FastText.load_fasttext_format('drive/MyDrive/models/sp-bio-sw-emb-uncased-skip-d100-bio_es.bin')\n"
      ],
      "metadata": {
        "id": "w5W71WMd7Drp"
      },
      "execution_count": null,
      "outputs": []
    },
    {
      "cell_type": "code",
      "source": [
        "#Tiempo de ejecucion: 52 sg\n",
        "terminos_snomedct_problemassaludAH = anadirEmbedding(model, nlp_lg, terminos_snomedct_problemassaludAH, 0, True);\n"
      ],
      "metadata": {
        "colab": {
          "base_uri": "https://localhost:8080/"
        },
        "id": "ypfy1oKe7EKI",
        "outputId": "6538bdf4-11f1-4b86-9b90-e5fb3f218b4f"
      },
      "execution_count": null,
      "outputs": [
        {
          "output_type": "stream",
          "name": "stdout",
          "text": [
            "ERROR AL Parsear estado de gran mal\n"
          ]
        }
      ]
    },
    {
      "cell_type": "code",
      "source": [
        "for termino in terminos_snomedct_problemassaludAH:\n",
        "  termino[\"embedding\"] = json.dumps(termino[\"embedding\"], cls=NumpyArrayEncoder)\n",
        "with open('catalogo_sp-bio-sw-emb-uncased-skip-d100-bio_es.json', 'w') as file:\n",
        "    json.dump(terminos_snomedct_problemassaludAH, file)\n",
        "file.close()"
      ],
      "metadata": {
        "id": "BVwhRt2LT1sY"
      },
      "execution_count": null,
      "outputs": []
    },
    {
      "cell_type": "code",
      "source": [
        "#Tiempo de ejecucion: 16 sg\n",
        "model = FastText.load_fasttext_format('drive/MyDrive/models/sp-bio-sw-emb-uncased-skip-d300-bio_es.bin')\n"
      ],
      "metadata": {
        "id": "EF1uJmMJ7IPR"
      },
      "execution_count": null,
      "outputs": []
    },
    {
      "cell_type": "code",
      "source": [
        "#Tiempo de ejecucion: 53 sg\n",
        "terminos_snomedct_problemassaludAH = anadirEmbedding(model, nlp_lg, terminos_snomedct_problemassaludAH, 0, True);\n"
      ],
      "metadata": {
        "colab": {
          "base_uri": "https://localhost:8080/"
        },
        "id": "2BdSNhoZ7InX",
        "outputId": "ae02a071-b44b-462e-b526-5485e1520b7a"
      },
      "execution_count": null,
      "outputs": [
        {
          "output_type": "stream",
          "name": "stdout",
          "text": [
            "ERROR AL Parsear estado de gran mal\n"
          ]
        }
      ]
    },
    {
      "cell_type": "code",
      "source": [
        "for termino in terminos_snomedct_problemassaludAH:\n",
        "  termino[\"embedding\"] = json.dumps(termino[\"embedding\"], cls=NumpyArrayEncoder)\n",
        "with open('catalogo_sp-bio-sw-emb-uncased-skip-d300-bio_es.json', 'w') as file:\n",
        "    json.dump(terminos_snomedct_problemassaludAH, file)\n",
        "file.close()"
      ],
      "metadata": {
        "id": "kl5ZUyYnUSpW"
      },
      "execution_count": null,
      "outputs": []
    },
    {
      "cell_type": "markdown",
      "source": [
        "## Obtención de embeddings, carga de modelos y pruebas"
      ],
      "metadata": {
        "id": "9A4o1IJ7s9_f"
      }
    },
    {
      "cell_type": "code",
      "source": [
        "!pip install gensim\n",
        "from gensim.models import FastText"
      ],
      "metadata": {
        "colab": {
          "base_uri": "https://localhost:8080/"
        },
        "id": "N3z5pQjBpJla",
        "outputId": "17b02967-a86c-4388-f931-020fefea7f97"
      },
      "execution_count": null,
      "outputs": [
        {
          "output_type": "stream",
          "name": "stdout",
          "text": [
            "Looking in indexes: https://pypi.org/simple, https://us-python.pkg.dev/colab-wheels/public/simple/\n",
            "Requirement already satisfied: gensim in /usr/local/lib/python3.8/dist-packages (3.6.0)\n",
            "Requirement already satisfied: smart-open>=1.2.1 in /usr/local/lib/python3.8/dist-packages (from gensim) (6.3.0)\n",
            "Requirement already satisfied: six>=1.5.0 in /usr/local/lib/python3.8/dist-packages (from gensim) (1.15.0)\n",
            "Requirement already satisfied: scipy>=0.18.1 in /usr/local/lib/python3.8/dist-packages (from gensim) (1.7.3)\n",
            "Requirement already satisfied: numpy>=1.11.3 in /usr/local/lib/python3.8/dist-packages (from gensim) (1.21.6)\n"
          ]
        }
      ]
    },
    {
      "cell_type": "code",
      "source": [
        "def obtenEmbedding(model, doc):\n",
        "  return model.wv.get_vector(sp.decode([sp.bos_id()] + sp.encode_as_ids(doc) + [sp.eos_id()]))"
      ],
      "metadata": {
        "id": "wbD4bdIIqok7"
      },
      "execution_count": null,
      "outputs": []
    },
    {
      "cell_type": "code",
      "source": [
        "#Tiempo de ejecucion: 24 sg\n",
        "model_cc50 = FastText.load_fasttext_format('drive/MyDrive/models/sp-bio-sw-emb-uncased-cbow-d50-bio_es.bin')\n",
        "model_cc100 = FastText.load_fasttext_format('drive/MyDrive/models/sp-bio-sw-emb-uncased-cbow-d100-bio_es.bin')\n",
        "model_cc300 = FastText.load_fasttext_format('drive/MyDrive/models/sp-bio-sw-emb-uncased-cbow-d300-bio_es.bin')\n"
      ],
      "metadata": {
        "id": "rNAnTrKLgWXZ"
      },
      "execution_count": null,
      "outputs": []
    },
    {
      "cell_type": "code",
      "source": [
        "#Tiempo de ejecucion: 22 sg\n",
        "model_cs50 = FastText.load_fasttext_format('drive/MyDrive/models/sp-bio-sw-emb-uncased-skip-d50-bio_es.bin')\n",
        "model_cs100 = FastText.load_fasttext_format('drive/MyDrive/models/sp-bio-sw-emb-uncased-skip-d100-bio_es.bin')\n",
        "model_cs300 = FastText.load_fasttext_format('drive/MyDrive/models/sp-bio-sw-emb-uncased-skip-d300-bio_es.bin')"
      ],
      "metadata": {
        "id": "esZDSWgqUnb7"
      },
      "execution_count": null,
      "outputs": []
    },
    {
      "cell_type": "code",
      "source": [
        "import os, json, numpy\n",
        "\n",
        "f = open('catalogo_sp-bio-sw-emb-uncased-cbow-d50-bio_es.json')\n",
        "data = json.load(f)\n",
        "terminos_snomedct_problemassaludAH_cc50 = []\n",
        "for termino in data:\n",
        "  termino[\"embedding\"] = numpy.asarray(json.loads(termino[\"embedding\"]));\n",
        "  terminos_snomedct_problemassaludAH_cc50.append(termino)\n",
        "f.close();\n",
        "\n",
        "f = open('catalogo_sp-bio-sw-emb-uncased-cbow-d100-bio_es.json')\n",
        "data = json.load(f)\n",
        "terminos_snomedct_problemassaludAH_cc100 = []\n",
        "for termino in data:\n",
        "  termino[\"embedding\"] = numpy.asarray(json.loads(termino[\"embedding\"]));\n",
        "  terminos_snomedct_problemassaludAH_cc100.append(termino)\n",
        "f.close();\n",
        "\n",
        "f = open('catalogo_sp-bio-sw-emb-uncased-cbow-d300-bio_es.json')\n",
        "data = json.load(f)\n",
        "terminos_snomedct_problemassaludAH_cc300 = []\n",
        "for termino in data:\n",
        "  termino[\"embedding\"] = numpy.asarray(json.loads(termino[\"embedding\"]));\n",
        "  terminos_snomedct_problemassaludAH_cc300.append(termino)\n",
        "f.close();"
      ],
      "metadata": {
        "id": "5zIJCOemgkgV"
      },
      "execution_count": null,
      "outputs": []
    },
    {
      "cell_type": "code",
      "source": [
        "f = open('catalogo_sp-bio-sw-emb-uncased-skip-d50-bio_es.json')\n",
        "data = json.load(f)\n",
        "terminos_snomedct_problemassaludAH_cs50 = []\n",
        "for termino in data:\n",
        "  termino[\"embedding\"] = numpy.asarray(json.loads(termino[\"embedding\"]));\n",
        "  terminos_snomedct_problemassaludAH_cs50.append(termino)\n",
        "f.close();\n",
        "\n",
        "f = open('catalogo_sp-bio-sw-emb-uncased-skip-d100-bio_es.json')\n",
        "data = json.load(f)\n",
        "terminos_snomedct_problemassaludAH_cs100 = []\n",
        "for termino in data:\n",
        "  termino[\"embedding\"] = numpy.asarray(json.loads(termino[\"embedding\"]));\n",
        "  terminos_snomedct_problemassaludAH_cs100.append(termino)\n",
        "f.close();\n",
        "\n",
        "f = open('catalogo_sp-bio-sw-emb-uncased-skip-d300-bio_es.json')\n",
        "data = json.load(f)\n",
        "terminos_snomedct_problemassaludAH_cs300 = []\n",
        "for termino in data:\n",
        "  termino[\"embedding\"] = numpy.asarray(json.loads(termino[\"embedding\"]));\n",
        "  terminos_snomedct_problemassaludAH_cs300.append(termino)\n",
        "f.close();"
      ],
      "metadata": {
        "id": "YJYpitxqUw1j"
      },
      "execution_count": null,
      "outputs": []
    },
    {
      "cell_type": "code",
      "source": [
        "def NLP_get_ngrams(text, n):\n",
        "    text = text.split()\n",
        "    output = []\n",
        "    for i in range(len(text) - n + 1):\n",
        "        output.append(text[i:i+n])\n",
        "    return output"
      ],
      "metadata": {
        "id": "LohpNnBFs-YW"
      },
      "execution_count": null,
      "outputs": []
    },
    {
      "cell_type": "code",
      "source": [
        "#informe = \"El paciente presenta el abdomen distenido .\"\n",
        "#informe = \"El paciente presenta un aborto espontáneo y retenido, distendido, y no es capaz de volverse loco. El paciente presenta ansiedad y a veces un poco de apraxia.\"\n",
        "#informe = \"El paciente presenta un abdomen distendido, y no es capaz de volverse loco. El paciente presenta ansiedad y a veces un poco de apraxia.\"\n",
        "informe = \"Hay evidencia de hipoatenuación hepática difusa compatible con infiltración grasa . No hay dilatación de los conductos biliares intra o extrahepáticos. El paciente se encuentra en estado post colecistectomía. El bazo es normal. El páncreas es de contorno y características de atenuación normales. No hay evidencia de masa suprarrenal. Hay una hernia supraumbilical de tamaño moderado que contiene grasa. Los riñones son normales en tamaño, forma y configuración. No se identifican cálculos renales ni ureterales. No hay hidrouréter ni hidronefrosis. No hay evidencia de apendicitis. Hay varias asas de intestino delgado llenas de líquido, compatibles con una enteritis leve. No hay engrosamiento de la pared intestinal. No hay evidencia de obstrucción del intestino delgado o grueso. No hay evidencia de ascitis abdominal o linfadenopatía. No hay evidencia de masa vesical intrínseca o extrínseca . No hay ascitis pélvica ni linfadenopatía . El útero y los ovarios no presentan ninguna anomalía. Las imágenes de las bases pulmonares no muestran evidencia de masa pleural o parenquimatosa . No hay derrames pleurales. Hay cicatrices en el lóbulo medio derecho y en la língula, así como en ambas bases pulmonares. Las estructuras óseas están libres de lesiones líticas o blásticas. Se observan cambios degenerativos multinivel en la columna toracolumbar. Se observan calcificaciones dispersas en la aorta y en sus principales ramas, compatibles con la aterosclerosis.\"\n"
      ],
      "metadata": {
        "id": "fdgQMdgQsDmT"
      },
      "execution_count": null,
      "outputs": []
    },
    {
      "cell_type": "code",
      "source": [
        "import numpy as np\n",
        "from numpy.linalg import norm\n",
        "from operator import itemgetter\n",
        "\n",
        "def get_terminos_vinculados(model, catalog, similarity_threshold, similarity, informe):\n",
        "  terminos_vinculados = []\n",
        "\n",
        "  frases = split_sentences(nlp_lg, informe)\n",
        "  for frase in frases:\n",
        "    informe_preprocesado = NLP_preprocesaDocumento(nlp_lg, frase)\n",
        "\n",
        "    #Empezamos por ngramas más grandes a más pequeños\n",
        "    for num_ngrams in range(6, 0, -1):\n",
        "      ngramas = NLP_get_ngrams(informe_preprocesado, num_ngrams)\n",
        "      for ngrama in ngramas:\n",
        "        doc = \" \".join([token for token in ngrama])\n",
        "        #print(doc)\n",
        "        doc_embedding = model.wv.get_vector(doc)\n",
        "        vector_A = doc_embedding\n",
        "        #Por cada término de la terminología, comprobamos la similaridad con el ngrama previo\n",
        "        terminos_candidatos = []\n",
        "        for termino in catalog:\n",
        "          vector_B = termino[\"embedding\"]\n",
        "          if similarity == 0:\n",
        "            dist = numpy.linalg.norm(vector_A-vector_B)\n",
        "            if dist <= similarity_threshold:\n",
        "              #print(doc, \" \", termino[\"term\"], \" Similarity:\", dist)\n",
        "              terminos_candidatos.append({\"term\": termino[\"term\"], \"embedding\": termino[\"embedding\"], \"similarity\": dist})\n",
        "            #Nos quedamos con el término con menor distancia de los obtenidos\n",
        "            if terminos_candidatos:\n",
        "              terminos_candidatos_sorted = sorted(terminos_candidatos, key=itemgetter('similarity'), reverse=False) \n",
        "              terminos_vinculados.append(terminos_candidatos_sorted[0])\n",
        "          else:\n",
        "            dist = np.dot(vector_A,vector_B)/(norm(vector_A)*norm(vector_B))\n",
        "            if dist >= similarity_threshold:\n",
        "              #print(doc, \" \", termino[\"term\"], \" Similarity:\", dist)\n",
        "              terminos_candidatos.append({\"term\": termino[\"term\"], \"embedding\": termino[\"embedding\"], \"similarity\": dist})\n",
        "            #Nos quedamos con el término con mayor probabilidad de los obtenidos\n",
        "            if terminos_candidatos:\n",
        "              terminos_candidatos_sorted = sorted(terminos_candidatos, key=itemgetter('similarity'), reverse=True) \n",
        "              terminos_vinculados.append(terminos_candidatos_sorted[0])\n",
        "\n",
        "  print(\"Resultado:\")\n",
        "\n",
        "  if similarity == 0:\n",
        "    #Eliminamos duplicados\n",
        "    terminos_vinculados_sorted = sorted(terminos_vinculados, key=itemgetter('term')) \n",
        "    termino_ant = {\"term\":\"\", \"similarity\": \"100.0\"}\n",
        "    terminos_vinculados_deduplicated = []\n",
        "    for termino in terminos_vinculados_sorted:\n",
        "      if termino[\"term\"] != termino_ant[\"term\"]:\n",
        "        if termino_ant[\"term\"] != \"\":\n",
        "          terminos_vinculados_deduplicated.append(termino_ant)\n",
        "          #print(termino_ant[\"term\"], \" Cosine Similarity:\", termino_ant[\"similarity\"])\n",
        "        termino_ant = termino\n",
        "      else:\n",
        "        if termino_ant[\"similarity\"]>termino[\"similarity\"]:\n",
        "          termino_ant = termino\n",
        "    terminos_vinculados_deduplicated.append(termino_ant)\n",
        "    #print(termino_ant[\"term\"], \" Cosine Similarity:\", termino_ant[\"similarity\"])\n",
        "\n",
        "  else:\n",
        "    #Eliminamos duplicados\n",
        "    terminos_vinculados_sorted = sorted(terminos_vinculados, key=itemgetter('term')) \n",
        "    termino_ant = {\"term\":\"\", \"similarity\": \"0.0\"}\n",
        "    terminos_vinculados_deduplicated = []\n",
        "    for termino in terminos_vinculados_sorted:\n",
        "      if termino[\"term\"] != termino_ant[\"term\"]:\n",
        "        if termino_ant[\"term\"] != \"\":\n",
        "          terminos_vinculados_deduplicated.append(termino_ant)\n",
        "          #print(termino_ant[\"term\"], \" Cosine Similarity:\", termino_ant[\"similarity\"])\n",
        "        termino_ant = termino\n",
        "      else:\n",
        "        if termino_ant[\"similarity\"]<termino[\"similarity\"]:\n",
        "          termino_ant = termino\n",
        "    terminos_vinculados_deduplicated.append(termino_ant)\n",
        "    #print(termino_ant[\"term\"], \" Cosine Similarity:\", termino_ant[\"similarity\"])\n",
        "\n",
        "  return terminos_vinculados_deduplicated\n"
      ],
      "metadata": {
        "id": "tYlwWo87tJKA"
      },
      "execution_count": null,
      "outputs": []
    },
    {
      "cell_type": "code",
      "source": [],
      "metadata": {
        "id": "w5fzw2I-pilH"
      },
      "execution_count": null,
      "outputs": []
    },
    {
      "cell_type": "code",
      "source": [
        "#Tiempo de ejecucion: 10 sg\n",
        "terminos_vinculados = get_terminos_vinculados(model_cc50, terminos_snomedct_problemassaludAH_cc50, 10, 0, informe )\n",
        "for termino in terminos_vinculados:\n",
        "  print(termino[\"term\"], \" Similarity:\", termino[\"similarity\"])\n"
      ],
      "metadata": {
        "colab": {
          "base_uri": "https://localhost:8080/"
        },
        "id": "ZW4ErlO9pOzE",
        "outputId": "a0b46b14-5fb5-4900-fff8-cdf9ea76e7da"
      },
      "execution_count": null,
      "outputs": [
        {
          "output_type": "stream",
          "name": "stdout",
          "text": [
            "Resultado:\n",
            "absceso abdominal  Similarity: 4.546358087231224\n",
            "accidentes producidos por instrumentos u objetos cortantes y para piercing  Similarity: 8.39342105566491\n",
            "adherencias intestinales con obstrucción  Similarity: 5.547472546957855\n",
            "agresión por instrumentos cortantes y punzantes  Similarity: 8.417195600715775\n",
            "alteración visual moderada  Similarity: 9.291776864507915\n",
            "anemia megaloblástica por deficiencia de ácido fólico  Similarity: 8.93816188421902\n",
            "aneurisma de aorta abdominal  Similarity: 9.169241336549158\n",
            "aneurisma de aorta abdominal en aumento  Similarity: 9.790220729535214\n",
            "anomalía fetal sospechada que afecta el manejo de la madre  Similarity: 9.897977596942182\n",
            "anticoncepción con dispositivo intrauterino  Similarity: 9.30172572033451\n",
            "apendicitis  Similarity: 0.0\n",
            "aplastamiento vertebral  Similarity: 9.049364842313246\n",
            "arteriosclerosis obliterante  Similarity: 8.814866272531953\n",
            "artritis de articulación esternoclavicular  Similarity: 9.48217230417043\n",
            "artritis de articulación esternoclavicular derecha  Similarity: 9.181191257615785\n",
            "artritis de articulación esternoclavicular izquierda  Similarity: 8.656453968651064\n",
            "artrosis de múltiples articulaciones  Similarity: 9.655619546026603\n",
            "ascitis  Similarity: 0.0\n",
            "asma persistente moderada  Similarity: 9.445485055382106\n",
            "aterosclerosis aortoilíaca  Similarity: 8.411659557813541\n",
            "aterosclerosis cerebral  Similarity: 9.212885221713623\n",
            "aterosclerosis de aorta  Similarity: 9.000150788943488\n",
            "calcificación de mama  Similarity: 7.466680628715874\n",
            "carcinoma in situ de parénquima pulmonar y bronquio del lóbulo superior  Similarity: 9.966147479468773\n",
            "celulitis de la pared abdominal  Similarity: 9.356237699835305\n",
            "cicatriz  Similarity: 0.0\n",
            "colostomía, presente  Similarity: 9.944805962451422\n",
            "complicación asociada con dispositivo  Similarity: 9.522627081356891\n",
            "complicación mecánica por catéter uretral permanente  Similarity: 9.179795623993112\n",
            "condición respiratoria del feto o recién nacido  Similarity: 9.165888864488611\n",
            "conectivopatía no diferenciada  Similarity: 9.800648689011947\n",
            "conjuntivitis atópica  Similarity: 8.637081412291641\n",
            "contenidos anormales en materia fecal  Similarity: 9.58799750078052\n",
            "contractura de múltiples articulaciones  Similarity: 8.640171949560969\n",
            "convulsión parcial simple sin alteración de la consciencia  Similarity: 9.752693977126434\n",
            "crecimiento fetal excesivo que afecta el manejo de la situación materna  Similarity: 9.363936592570592\n",
            "cuerpo extraño en estructura corporal  Similarity: 7.42553378549793\n",
            "cálculo renal  Similarity: 0.0\n",
            "células escamosas atípicas de significación indeterminada en el extendido de Papanicolaou cervical  Similarity: 6.530443539373838\n",
            "degeneración de disco intervertebral cervical  Similarity: 9.56322656486449\n",
            "degeneración de disco intervertebral lumbar  Similarity: 9.036675285846147\n",
            "demencia degenerativa primaria de tipo Alzheimer, de inicio en la edad senil, no complicada  Similarity: 9.346171393566763\n",
            "demencia degenerativa primaria de tipo Alzheimer, de inicio en la etapa senil  Similarity: 9.119667136862413\n",
            "depresión mayor moderada  Similarity: 9.077213224534777\n",
            "derrame pleural  Similarity: 0.0\n",
            "deshidratación hipernatrémica moderada  Similarity: 8.181124319195945\n",
            "desprendimiento vítreo posterior  Similarity: 9.240451344576998\n",
            "edema pulmonar  Similarity: 6.918525602785695\n",
            "efecto crónico de los rayos ultravioletas sobre la piel normal (fotoenvejecimiento)  Similarity: 9.973332921481067\n",
            "efecto sobre el feto o recién nacido de presentación y/o posición anómalas y/o desproporción durante el trabajo de parto y/o parto  Similarity: 9.82503793068648\n",
            "embolia pulmonar  Similarity: 6.56126554499377\n",
            "embolia pulmonar recurrente  Similarity: 9.487239836340978\n",
            "enfermedad arterial periférica oclusiva  Similarity: 9.944001007513158\n",
            "enfermedad articular degenerativa con compromiso de múltiples articulaciones  Similarity: 8.716459811387224\n",
            "enfermedad articular degenerativa de región de hombro  Similarity: 8.093969930919053\n",
            "enfermedad pulmonar intersticial  Similarity: 9.448264094736551\n",
            "enfermedad pulmonar obstructiva crónica  Similarity: 9.209076521596996\n",
            "enfermedad pulmonar obstructiva crónica con nivel de gravedad 1 leve de la escala GOLD  Similarity: 8.086640778306739\n",
            "enfermedad pulmonar obstructiva crónica con nivel de gravedad 2 moderado de la escala GOLD  Similarity: 7.431984653410776\n",
            "engrosamiento del tallo hipofisario  Similarity: 9.089318719594914\n",
            "esclerosis múltiple progresiva secundaria  Similarity: 7.825250322133156\n",
            "espondilolistesis degenerativa  Similarity: 9.317844038486976\n",
            "estenosis adquirida de conducto nasolagrimal  Similarity: 9.02442008011603\n",
            "estenosis degenerativa del conducto raquídeo de la región lumbar  Similarity: 7.939610915329226\n",
            "extendido cervical de Papanicolaou anormal con prueba de ácido desoxirribonucleico de papilomavirus humano positiva  Similarity: 8.558805112134568\n",
            "fibrilación auricular permanente  Similarity: 9.460637699952443\n",
            "fibromatosis abdominal  Similarity: 9.055412156626444\n",
            "fractura de la columna vertebral lumbar  Similarity: 9.310561731640838\n",
            "fractura de la columna vertebral por compresión  Similarity: 9.519184136346823\n",
            "fractura de múltiples costillas, no expuesta  Similarity: 9.64835881813277\n",
            "fractura por compresión de la columna vertebral lumbar  Similarity: 8.890815429941245\n",
            "hallazgo relacionado con el ronquido  Similarity: 9.479014205654131\n",
            "hemangioma hepático  Similarity: 9.923130250010365\n",
            "hemorragia de intestino grueso con enfermedad diverticular de intestino grueso  Similarity: 9.467954531031056\n",
            "hemorragia subdural postraumática con herida intracraneal abierta Y pérdida de la consciencia  Similarity: 7.786428366134299\n",
            "hernia paraumbilical  Similarity: 6.080498725137985\n",
            "hidronefrosis  Similarity: 0.0\n",
            "hidroureteronefrosis  Similarity: 6.055652971146063\n",
            "hábitos intestinales anormal  Similarity: 8.937220206912933\n",
            "ileítis regional del intestino delgado  Similarity: 9.458426606101616\n",
            "linfadenopatía  Similarity: 0.0\n",
            "masa renal  Similarity: 9.46054089636923\n",
            "masa suprarrenal  Similarity: 0.0\n",
            "motivo administrativo del encuentro  Similarity: 9.820229521056389\n",
            "neumonía causada por bacterias gramnegativas  Similarity: 9.961231627739513\n",
            "obstrucción de conducto nasolagrimal  Similarity: 9.099190113303267\n",
            "obstrucción del intestino delgado  Similarity: 0.0\n",
            "otoesclerosis  Similarity: 6.741297019902055\n",
            "perturbación en la conducta durante el sueño  Similarity: 9.44695870274205\n",
            "pielonefritis crónica no obstructiva asociada a reflujo  Similarity: 8.022197802738344\n",
            "prueba de tolerancia a la glucosa, anormal  Similarity: 9.523424744907942\n",
            "prueba de tolerancia al ejercicio - anormal  Similarity: 9.11014323690643\n",
            "sin evidencia de recurrencia de cáncer  Similarity: 8.166516900797584\n",
            "síndrome de estrés de la tibia medial, localización anterior  Similarity: 9.742645587250319\n",
            "síndrome de secreción inadecuada de hormona antidiurética  Similarity: 9.266144062735822\n",
            "trastorno de estructura hematopoyética  Similarity: 9.868552676524809\n",
            "trastorno de hiperactividad con déficit de atención  Similarity: 9.076337835515067\n",
            "trastorno de hiperactividad con déficit de atención, con predominio de déficit de atención  Similarity: 8.415052405350417\n",
            "trastorno de hiperactividad con déficit de atención, tipo combinado  Similarity: 7.443672946859322\n",
            "tratamiento con inmunosupresor no esteroideo en la gestación  Similarity: 9.454412761329662\n",
            "voz anormal  Similarity: 8.376018125266693\n"
          ]
        }
      ]
    },
    {
      "cell_type": "code",
      "source": [
        "#Tiempo de ejecucion: 19 sg\n",
        "terminos_vinculados = get_terminos_vinculados(model_cc50, terminos_snomedct_problemassaludAH_cc50, 0.85, 1, informe )\n",
        "for termino in terminos_vinculados:\n",
        "  print(termino[\"term\"], \" Cosine Similarity:\", termino[\"similarity\"])"
      ],
      "metadata": {
        "colab": {
          "base_uri": "https://localhost:8080/"
        },
        "id": "6CE3_B76svRc",
        "outputId": "ab572fc3-72bc-461a-be5d-d20c5abe91bd"
      },
      "execution_count": null,
      "outputs": [
        {
          "output_type": "stream",
          "name": "stdout",
          "text": [
            "Resultado:\n",
            "absceso abdominal  Cosine Similarity: 0.9665122975625563\n",
            "adherencias intestinales con obstrucción  Cosine Similarity: 0.9011206416597514\n",
            "anemia hemolítica  Cosine Similarity: 0.9036948652678766\n",
            "apendicitis  Cosine Similarity: 1.000000014706098\n",
            "ascitis  Cosine Similarity: 1.0000000613743327\n",
            "asma sin estado asmático  Cosine Similarity: 0.8682262506489348\n",
            "aterosclerosis aortoilíaca  Cosine Similarity: 0.8799879307479621\n",
            "aterosclerosis de aorta  Cosine Similarity: 0.8956423457669668\n",
            "calcificación de mama  Cosine Similarity: 0.9110756513664221\n",
            "callo - lesión  Cosine Similarity: 0.8546052133895455\n",
            "choque séptico  Cosine Similarity: 0.9255888692511076\n",
            "cicatriz  Cosine Similarity: 1.0000000016932336\n",
            "convulsión epiléptica  Cosine Similarity: 0.8516425172222074\n",
            "cuerpo extraño en estructura corporal  Cosine Similarity: 0.8625446501643084\n",
            "cálculo renal  Cosine Similarity: 1.0000000106956948\n",
            "células escamosas atípicas de significación indeterminada en el extendido de Papanicolaou cervical  Cosine Similarity: 0.8590287611122277\n",
            "derrame pleural  Cosine Similarity: 0.9999999908012404\n",
            "dolor neuropático  Cosine Similarity: 0.850153107764476\n",
            "dolor pleurítico  Cosine Similarity: 0.8609996702874579\n",
            "edema de papila óptica  Cosine Similarity: 0.8668278147511607\n",
            "edema pulmonar  Cosine Similarity: 0.9305195846420802\n",
            "embolia pulmonar  Cosine Similarity: 0.9420636110219555\n",
            "engrosamiento del tallo hipofisario  Cosine Similarity: 0.8884156222544927\n",
            "enteritis bacteriana  Cosine Similarity: 0.8516868797507544\n",
            "enteritis causada por rotavirus  Cosine Similarity: 0.8568426750091247\n",
            "enteritis viral  Cosine Similarity: 0.9116811195653799\n",
            "esofagitis eosinofílica  Cosine Similarity: 0.877198930521049\n",
            "esputo anormal  Cosine Similarity: 0.9108964358662118\n",
            "esteatosis hepática  Cosine Similarity: 0.9126617945560095\n",
            "forúnculo  Cosine Similarity: 0.8747244081503412\n",
            "frote  Cosine Similarity: 0.9065933503245716\n",
            "hemangioma hepático  Cosine Similarity: 0.8975780538782343\n",
            "hernia paraumbilical  Cosine Similarity: 0.9558352704716051\n",
            "hidronefrosis  Cosine Similarity: 0.9999999753390144\n",
            "lesión hepática  Cosine Similarity: 0.9376581254429706\n",
            "lesión por presión  Cosine Similarity: 0.8625512461039786\n",
            "linfadenopatía  Cosine Similarity: 1.000000014687592\n",
            "masa hepática  Cosine Similarity: 0.9187341231571142\n",
            "masa renal  Cosine Similarity: 0.9607432767176498\n",
            "masa suprarrenal  Cosine Similarity: 1.000000000785473\n",
            "neuritis óptica  Cosine Similarity: 0.9405204045400254\n",
            "obstrucción del intestino delgado  Cosine Similarity: 1.000000043290533\n",
            "otoesclerosis  Cosine Similarity: 0.9512411489557965\n",
            "parto normal  Cosine Similarity: 0.9006019432831839\n",
            "sin evidencia de recurrencia de cáncer  Cosine Similarity: 0.8678776314316088\n",
            "trastorno de hiperactividad con déficit de atención, tipo combinado  Cosine Similarity: 0.8606255080046105\n",
            "voz anormal  Cosine Similarity: 0.9239503941822885\n"
          ]
        }
      ]
    },
    {
      "cell_type": "code",
      "source": [
        "#Tiempo de ejecucion: 9 sg\n",
        "terminos_vinculados = get_terminos_vinculados(model_cc100, terminos_snomedct_problemassaludAH_cc100, 10, 0, informe )\n",
        "for termino in terminos_vinculados:\n",
        "  print(termino[\"term\"], \" Euclidean Similarity:\", termino[\"similarity\"])"
      ],
      "metadata": {
        "colab": {
          "base_uri": "https://localhost:8080/"
        },
        "id": "E6aZLbgrq1w9",
        "outputId": "1a8e0914-df26-4a16-fe40-dae45b2a80c5"
      },
      "execution_count": null,
      "outputs": [
        {
          "output_type": "stream",
          "name": "stdout",
          "text": [
            "Resultado:\n",
            "absceso abdominal  Euclidean Similarity: 5.31766932519715\n",
            "accidentes producidos por instrumentos u objetos cortantes y para piercing  Euclidean Similarity: 9.695290535527482\n",
            "adherencias intestinales con obstrucción  Euclidean Similarity: 6.581675508872707\n",
            "agresión por instrumentos cortantes y punzantes  Euclidean Similarity: 9.992631494445618\n",
            "apendicitis  Euclidean Similarity: 0.0\n",
            "arteriosclerosis obliterante  Euclidean Similarity: 9.86303103502855\n",
            "ascitis  Euclidean Similarity: 0.0\n",
            "aterosclerosis aortoilíaca  Euclidean Similarity: 8.957620662073762\n",
            "aterosclerosis de aorta  Euclidean Similarity: 9.425930817220323\n",
            "calcificación de mama  Euclidean Similarity: 8.026223142327293\n",
            "celulitis de la pared abdominal  Euclidean Similarity: 8.54144313030143\n",
            "cicatriz  Euclidean Similarity: 0.0\n",
            "cuerpo extraño en estructura corporal  Euclidean Similarity: 9.814464870868743\n",
            "cálculo renal  Euclidean Similarity: 0.0\n",
            "células escamosas atípicas de significación indeterminada en el extendido de Papanicolaou cervical  Euclidean Similarity: 7.592290184411457\n",
            "degeneración de disco intervertebral  Euclidean Similarity: 9.931827197901574\n",
            "degeneración de disco intervertebral cervical  Euclidean Similarity: 9.831939918899309\n",
            "degeneración de disco intervertebral lumbar  Euclidean Similarity: 9.30202757881122\n",
            "derrame pleural  Euclidean Similarity: 0.0\n",
            "edema pulmonar  Euclidean Similarity: 7.905784300961276\n",
            "efecto sobre el feto o recién nacido de presentación y/o posición anómalas y/o desproporción durante el trabajo de parto y/o parto  Euclidean Similarity: 9.590183864570221\n",
            "embolia pulmonar  Euclidean Similarity: 7.6696624846308605\n",
            "epilepsia caracterizada por convulsiones complejas parciales refractarias al tratamiento  Euclidean Similarity: 9.676826590051496\n",
            "esclerosis múltiple progresiva secundaria  Euclidean Similarity: 8.844473629928432\n",
            "esclerosis múltiple remitente recidivante  Euclidean Similarity: 8.17667708631996\n",
            "estenosis degenerativa del conducto raquídeo de la región lumbar  Euclidean Similarity: 8.806052530157068\n",
            "hemorragia de intestino grueso con enfermedad diverticular de intestino grueso  Euclidean Similarity: 9.737884698194005\n",
            "hernia paraumbilical  Euclidean Similarity: 6.412338888356289\n",
            "hidronefrosis  Euclidean Similarity: 0.0\n",
            "hidroureteronefrosis  Euclidean Similarity: 6.889072800319262\n",
            "linfadenopatía  Euclidean Similarity: 0.0\n",
            "masa suprarrenal  Euclidean Similarity: 0.0\n",
            "obstrucción del intestino delgado  Euclidean Similarity: 0.0\n",
            "otoesclerosis  Euclidean Similarity: 8.672563747005453\n",
            "trastorno de hiperactividad con déficit de atención, con predominio de déficit de atención  Euclidean Similarity: 9.943945404837102\n"
          ]
        }
      ]
    },
    {
      "cell_type": "code",
      "source": [
        "#Tiempo de ejecucion: 19 sg\n",
        "terminos_vinculados = get_terminos_vinculados(model_cc100, terminos_snomedct_problemassaludAH_cc100, 0.85, 1, informe )\n",
        "for termino in terminos_vinculados:\n",
        "  print(termino[\"term\"], \" Cosine Similarity:\", termino[\"similarity\"])"
      ],
      "metadata": {
        "colab": {
          "base_uri": "https://localhost:8080/"
        },
        "id": "yCO4vdD-tJS1",
        "outputId": "d96f22c9-5700-4347-b6ce-083432d01884"
      },
      "execution_count": null,
      "outputs": [
        {
          "output_type": "stream",
          "name": "stdout",
          "text": [
            "Resultado:\n",
            "absceso abdominal  Cosine Similarity: 0.9555793867210567\n",
            "adherencias intestinales con obstrucción  Cosine Similarity: 0.8656185613708847\n",
            "anemia hemolítica  Cosine Similarity: 0.8760345500380488\n",
            "apendicitis  Cosine Similarity: 0.9999999774699373\n",
            "ascitis  Cosine Similarity: 0.9999999748623216\n",
            "asma sin estado asmático  Cosine Similarity: 0.8976650495027991\n",
            "aterosclerosis aortoilíaca  Cosine Similarity: 0.8894492644873124\n",
            "aterosclerosis de aorta  Cosine Similarity: 0.8956675265606071\n",
            "calcificación de mama  Cosine Similarity: 0.8894545811318739\n",
            "celulitis de la pared abdominal  Cosine Similarity: 0.8711717223807021\n",
            "cicatriz  Cosine Similarity: 0.9999999848466449\n",
            "cálculo renal  Cosine Similarity: 0.9999999820622258\n",
            "derrame pleural  Cosine Similarity: 1.0000000159614437\n",
            "edema pulmonar  Cosine Similarity: 0.9146033780535122\n",
            "embolia pulmonar  Cosine Similarity: 0.9199701079906579\n",
            "enteritis bacteriana  Cosine Similarity: 0.8574589078509391\n",
            "enteritis viral  Cosine Similarity: 0.9042726324619312\n",
            "esputo anormal  Cosine Similarity: 0.8664743989989598\n",
            "esteatosis hepática  Cosine Similarity: 0.8715051517614887\n",
            "frote  Cosine Similarity: 0.8761027604323981\n",
            "hemangioma hepático  Cosine Similarity: 0.9012951357969533\n",
            "hernia paraumbilical  Cosine Similarity: 0.9565405785933062\n",
            "hidronefrosis  Cosine Similarity: 1.000000037074743\n",
            "lesión hepática  Cosine Similarity: 0.9255196914276951\n",
            "lesión por presión  Cosine Similarity: 0.8596810766570508\n",
            "linfadenopatía  Cosine Similarity: 0.9999999875402227\n",
            "lípidos anormales  Cosine Similarity: 0.8756916448660539\n",
            "masa renal  Cosine Similarity: 0.9461160536596166\n",
            "masa suprarrenal  Cosine Similarity: 0.9999999604546753\n",
            "neuritis óptica  Cosine Similarity: 0.9006829602227788\n",
            "obstrucción del intestino delgado  Cosine Similarity: 1.0000000263792235\n",
            "otoesclerosis  Cosine Similarity: 0.9197531998322986\n",
            "parto normal  Cosine Similarity: 0.858976890316178\n",
            "voz anormal  Cosine Similarity: 0.8914203955107926\n"
          ]
        }
      ]
    },
    {
      "cell_type": "code",
      "source": [
        "#Tiempo de ejecucion: 10 sg\n",
        "terminos_vinculados = get_terminos_vinculados(model_cc300, terminos_snomedct_problemassaludAH_cc300, 10, 0, informe )\n",
        "for termino in terminos_vinculados:\n",
        "  print(termino[\"term\"], \" Euclidean Similarity:\", termino[\"similarity\"])"
      ],
      "metadata": {
        "colab": {
          "base_uri": "https://localhost:8080/"
        },
        "id": "Ja1SJ4kDrDjG",
        "outputId": "824cb054-7e21-4b81-b885-08beda2c52e6"
      },
      "execution_count": null,
      "outputs": [
        {
          "output_type": "stream",
          "name": "stdout",
          "text": [
            "Resultado:\n",
            "absceso abdominal  Euclidean Similarity: 5.452100978757312\n",
            "adherencias intestinales con obstrucción  Euclidean Similarity: 8.053429403891952\n",
            "apendicitis  Euclidean Similarity: 0.0\n",
            "ascitis  Euclidean Similarity: 0.0\n",
            "aterosclerosis de aorta  Euclidean Similarity: 9.578853243148258\n",
            "calcificación de mama  Euclidean Similarity: 8.35932519631885\n",
            "celulitis de la pared abdominal  Euclidean Similarity: 9.28467785488095\n",
            "cicatriz  Euclidean Similarity: 0.0\n",
            "cálculo renal  Euclidean Similarity: 0.0\n",
            "células escamosas atípicas de significación indeterminada en el extendido de Papanicolaou cervical  Euclidean Similarity: 9.169378064009488\n",
            "derrame pleural  Euclidean Similarity: 0.0\n",
            "edema pulmonar  Euclidean Similarity: 8.968442742225445\n",
            "embolia pulmonar  Euclidean Similarity: 8.728565852063475\n",
            "hernia paraumbilical  Euclidean Similarity: 7.327009034043378\n",
            "hidronefrosis  Euclidean Similarity: 0.0\n",
            "hidroureteronefrosis  Euclidean Similarity: 7.16593755395356\n",
            "linfadenopatía  Euclidean Similarity: 0.0\n",
            "masa suprarrenal  Euclidean Similarity: 0.0\n",
            "obstrucción del intestino delgado  Euclidean Similarity: 0.0\n",
            "otoesclerosis  Euclidean Similarity: 8.425239123127565\n"
          ]
        }
      ]
    },
    {
      "cell_type": "code",
      "source": [
        "#Tiempo de ejecucion: 19 sg\n",
        "terminos_vinculados = get_terminos_vinculados(model_cc300, terminos_snomedct_problemassaludAH_cc300, 0.85, 1, informe )\n",
        "for termino in terminos_vinculados:\n",
        "  print(termino[\"term\"], \" Cosine Similarity:\", termino[\"similarity\"])"
      ],
      "metadata": {
        "colab": {
          "base_uri": "https://localhost:8080/"
        },
        "id": "omlDs22_tNK1",
        "outputId": "3d4bfffd-2576-4934-941e-5c4a5113279b"
      },
      "execution_count": null,
      "outputs": [
        {
          "output_type": "stream",
          "name": "stdout",
          "text": [
            "Resultado:\n",
            "absceso abdominal  Cosine Similarity: 0.9562747499199189\n",
            "apendicitis  Cosine Similarity: 0.9999999896109536\n",
            "ascitis  Cosine Similarity: 0.9999999760695482\n",
            "aterosclerosis aortoilíaca  Cosine Similarity: 0.87596101164518\n",
            "aterosclerosis de aorta  Cosine Similarity: 0.8881411039859841\n",
            "calcificación de mama  Cosine Similarity: 0.8973565127665636\n",
            "cicatriz  Cosine Similarity: 0.9999999975863367\n",
            "cálculo renal  Cosine Similarity: 0.9999999983275956\n",
            "derrame pleural  Cosine Similarity: 1.0000000156039566\n",
            "edema pulmonar  Cosine Similarity: 0.900826409165184\n",
            "embolia pulmonar  Cosine Similarity: 0.907290983269277\n",
            "enteritis viral  Cosine Similarity: 0.8883227422757618\n",
            "hemangioma hepático  Cosine Similarity: 0.8649057590196244\n",
            "hernia paraumbilical  Cosine Similarity: 0.9428839026967182\n",
            "hernia umbilical  Cosine Similarity: 0.9452586750326627\n",
            "hidronefrosis  Cosine Similarity: 1.000000048407138\n",
            "lesión hepática  Cosine Similarity: 0.9141457448112001\n",
            "lesión por presión  Cosine Similarity: 0.868598423263319\n",
            "linfadenopatía  Cosine Similarity: 0.9999999853901542\n",
            "lípidos anormales  Cosine Similarity: 0.8615080076878953\n",
            "masa renal  Cosine Similarity: 0.9385697190311164\n",
            "masa suprarrenal  Cosine Similarity: 0.9999999900451477\n",
            "neuritis óptica  Cosine Similarity: 0.8537427892378037\n",
            "obstrucción del intestino delgado  Cosine Similarity: 0.9999999965217352\n",
            "otoesclerosis  Cosine Similarity: 0.9198459924047715\n",
            "soplo abdominal  Cosine Similarity: 0.8605844396191666\n",
            "voz anormal  Cosine Similarity: 0.880876007768928\n"
          ]
        }
      ]
    },
    {
      "cell_type": "code",
      "source": [
        "#informe =\"el paciente presenta el abdomen distendido\"\n",
        "informe = \"Hay evidencia de hipoatenuación hepática difusa compatible con infiltración grasa . No hay dilatación de los conductos biliares intra o extrahepáticos. El paciente se encuentra en estado post colecistectomía. El bazo es normal. El páncreas es de contorno y características de atenuación normales. No hay evidencia de masa suprarrenal. Hay una hernia supraumbilical de tamaño moderado que contiene grasa. Los riñones son normales en tamaño, forma y configuración. No se identifican cálculos renales ni ureterales. No hay hidrouréter ni hidronefrosis. No hay evidencia de apendicitis. Hay varias asas de intestino delgado llenas de líquido, compatibles con una enteritis leve. No hay engrosamiento de la pared intestinal. No hay evidencia de obstrucción del intestino delgado o grueso. No hay evidencia de ascitis abdominal o linfadenopatía. No hay evidencia de masa vesical intrínseca o extrínseca . No hay ascitis pélvica ni linfadenopatía . El útero y los ovarios no presentan ninguna anomalía. Las imágenes de las bases pulmonares no muestran evidencia de masa pleural o parenquimatosa . No hay derrames pleurales. Hay cicatrices en el lóbulo medio derecho y en la língula, así como en ambas bases pulmonares. Las estructuras óseas están libres de lesiones líticas o blásticas. Se observan cambios degenerativos multinivel en la columna toracolumbar. Se observan calcificaciones dispersas en la aorta y en sus principales ramas, compatibles con la aterosclerosis.\""
      ],
      "metadata": {
        "id": "Z5A4YQugEzI7"
      },
      "execution_count": null,
      "outputs": []
    },
    {
      "cell_type": "code",
      "source": [
        "#Tiempo de ejecucion: 9 sg\n",
        "terminos_vinculados = get_terminos_vinculados(model_cs50, terminos_snomedct_problemassaludAH_cs50, 1.2, 0, informe )\n",
        "for termino in terminos_vinculados:\n",
        "  print(termino[\"term\"], \" Similarity:\", termino[\"similarity\"])"
      ],
      "metadata": {
        "id": "w7gr_KEZVLCe",
        "colab": {
          "base_uri": "https://localhost:8080/"
        },
        "outputId": "82169967-4145-44a7-c49f-2ed5dd8bdcb7"
      },
      "execution_count": null,
      "outputs": [
        {
          "output_type": "stream",
          "name": "stdout",
          "text": [
            "Resultado:\n",
            "absceso abdominal  Similarity: 0.5191199006538469\n",
            "accidentes producidos por instrumentos u objetos cortantes y para piercing  Similarity: 1.18311368413299\n",
            "adenoma corticosuprarrenal  Similarity: 1.1927689314830485\n",
            "adherencias intestinales con obstrucción  Similarity: 0.955139116644531\n",
            "adherencias peritoneales de la pelvis femenina  Similarity: 1.1740085441128576\n",
            "amplitud de movimiento articular activo reducido  Similarity: 1.068818043820242\n",
            "aneurisma de aorta abdominal  Similarity: 0.95509821236321\n",
            "aneurisma de aorta abdominal en aumento  Similarity: 1.1859622154864704\n",
            "aneurisma de aorta abdominal sin ruptura  Similarity: 1.1628043407993867\n",
            "apendicitis  Similarity: 0.0\n",
            "apendicitis aguda con absceso peritoneal  Similarity: 1.1719071020497462\n",
            "aplastamiento osteoporótico de vértebra cervical  Similarity: 1.0930553554855602\n",
            "arteriosclerosis obliterante  Similarity: 1.0316920283419218\n",
            "ascitis  Similarity: 0.0\n",
            "asma persistente moderada  Similarity: 1.0475084496247853\n",
            "ataque isquémico transitorio  Similarity: 1.1415623749896104\n",
            "aterosclerosis aortoilíaca  Similarity: 0.9402593820964444\n",
            "aterosclerosis de aorta  Similarity: 0.7444243105382102\n",
            "ausencia adquirida de los dientes  Similarity: 1.1763692470872202\n",
            "bloqueo de la rama derecha del haz de His  Similarity: 1.1186342211055\n",
            "calambre en pierna asociado con reposo  Similarity: 1.1056047412130234\n",
            "calcificación de mama  Similarity: 0.7065218833699302\n",
            "callo - lesión  Similarity: 0.8232024682344389\n",
            "campo pulmonar anormal  Similarity: 1.1350112680435818\n",
            "celulitis de la pared abdominal  Similarity: 0.9973947544675273\n",
            "cicatriz  Similarity: 0.0\n",
            "conducto arterioso persistente  Similarity: 1.1582027912138853\n",
            "consolidación de fractura defectuosa  Similarity: 1.19445513563622\n",
            "cuadriplejía completa debida a lesión de médula espinal entre quinta y séptima vértebras cervicales  Similarity: 1.138339333176374\n",
            "cuerpo extraño en estructura corporal  Similarity: 1.065218609054225\n",
            "cuidado domiciliario del paciente  Similarity: 1.074715337519237\n",
            "cálculo del conducto biliar con obstrucción  Similarity: 1.0889008030335399\n",
            "cálculo renal  Similarity: 0.0\n",
            "células escamosas atípicas de significación indeterminada en el extendido de Papanicolaou cervical  Similarity: 0.9877109482569522\n",
            "dependencia de ventilación con presión positiva continua en la vía aérea  Similarity: 1.1627529546607869\n",
            "depresión mayor moderada  Similarity: 1.1723015721165102\n",
            "depresión mayor recurrente moderada  Similarity: 1.1080666038568978\n",
            "derrame pleural  Similarity: 0.0\n",
            "deshidratación hipernatrémica moderada  Similarity: 0.9254028105940795\n",
            "deshidratación isonatrémica moderada  Similarity: 1.0547261945125364\n",
            "dolor en el cuadrante inferoderecho  Similarity: 1.1545446715498198\n",
            "dolor en el cuadrante superoderecho  Similarity: 1.1717879854174527\n",
            "dolor en la columna dorsal  Similarity: 1.1936405652599262\n",
            "edema pulmonar  Similarity: 0.6782043424275634\n",
            "efecto sobre el feto o recién nacido de presentación y/o posición anómalas y/o desproporción durante el trabajo de parto y/o parto  Similarity: 1.1929132465619983\n",
            "embolia pulmonar  Similarity: 0.6127167135813482\n",
            "embolia pulmonar recurrente  Similarity: 1.0934856626713423\n",
            "encefalopatía hepática  Similarity: 1.1576085517059702\n",
            "enfermedad materna Y/O del alumbramiento que afecta el manejo  Similarity: 1.1619810583442953\n",
            "engrosamiento del tallo hipofisario  Similarity: 1.037989692435134\n",
            "enteritis causada por rotavirus  Similarity: 1.1966226889241103\n",
            "enteritis viral  Similarity: 0.887082691788087\n",
            "epilepsia caracterizada por convulsiones complejas parciales refractarias al tratamiento  Similarity: 1.1054647699309734\n",
            "eritema de la membrana mucosa de la orofaringe  Similarity: 1.1410781281639832\n",
            "espasmo vesical  Similarity: 1.1433668735432767\n",
            "esplenomegalia  Similarity: 1.1897105033726203\n",
            "esputo anormal  Similarity: 0.9968625764398303\n",
            "esteatosis hepática  Similarity: 1.1899463515807986\n",
            "estenosis congénita de cuello vesical  Similarity: 1.126316245072073\n",
            "estenosis congénita de la válvula pulmonar  Similarity: 1.0683042120872683\n",
            "estenosis degenerativa del conducto raquídeo de la región lumbar  Similarity: 0.9863662745886181\n",
            "exceso de cerumen en el conducto auditivo  Similarity: 1.123762630279684\n",
            "extendido cervical de Papanicolaou anormal  Similarity: 1.1989516891612468\n",
            "extendido cervical de Papanicolaou anormal con prueba de ácido desoxirribonucleico de papilomavirus humano positiva  Similarity: 1.1094821628016314\n",
            "falta de descenso testicular derecho  Similarity: 1.1904286349829378\n",
            "falta de descenso testicular unilateral  Similarity: 1.1421332062172367\n",
            "fibromatosis abdominal  Similarity: 0.8055695738555284\n",
            "fractura bimaleolar no expuesta  Similarity: 1.1342196547744912\n",
            "fractura de acetábulo, no expuesta  Similarity: 1.1246471076089364\n",
            "fractura de clavícula  Similarity: 1.1880246429350092\n",
            "fractura de clavícula por traumatismo obstétrico  Similarity: 1.180204649078906\n",
            "fractura de columna vertebral  Similarity: 1.048986773769004\n",
            "fractura de diáfisis de tibia, no expuesta  Similarity: 1.1993462311963285\n",
            "fractura de diáfisis del cúbito, no expuesta  Similarity: 1.1774058514142234\n",
            "fractura de diáfisis del radio, no expuesta  Similarity: 1.1689673103585587\n",
            "fractura de falange de dedo de la mano, no expuesta  Similarity: 1.0795077921963465\n",
            "fractura de falange del pie, no expuesta  Similarity: 0.9776400672958114\n",
            "fractura de la columna vertebral cervical  Similarity: 1.0412348389804136\n",
            "fractura de la columna vertebral dorsal  Similarity: 0.963869220980917\n",
            "fractura de la columna vertebral lumbar  Similarity: 0.9709626676735109\n",
            "fractura de mandíbula  Similarity: 1.1246108410171942\n",
            "fractura de tibia Y peroné  Similarity: 1.1647438826444292\n",
            "fractura no expuesta de columna vertebral  Similarity: 1.0752710816348687\n",
            "fractura no expuesta de columna vertebral cervical  Similarity: 1.0136388994467187\n",
            "fractura no expuesta de hueso metatarsiano  Similarity: 1.1159100144640157\n",
            "fractura no expuesta de la base del cuello femoral  Similarity: 1.0906919476560724\n",
            "fractura no expuesta de tibia Y peroné  Similarity: 1.0052921390295906\n",
            "hernia inguinal derecha  Similarity: 1.1233173414814097\n",
            "hernia inguinal derecha recurrente  Similarity: 1.0655036370206297\n",
            "hernia paraumbilical  Similarity: 0.7726222459626009\n",
            "hidronefrosis  Similarity: 0.0\n",
            "hidroureteronefrosis  Similarity: 0.7616805249569698\n",
            "hiperbilirrubinemia obstructiva  Similarity: 1.1278679429019052\n",
            "hábitos intestinales anormal  Similarity: 1.1017903407728766\n",
            "ileítis regional del intestino delgado  Similarity: 1.171185470266292\n",
            "intestino neurogénico  Similarity: 0.9880835688496384\n",
            "linfadenopatía  Similarity: 0.0\n",
            "linfadenopatía axilar  Similarity: 0.7787023789368821\n",
            "lípidos anormales  Similarity: 0.9079055017305965\n",
            "marcha anormal  Similarity: 1.1783432490162828\n",
            "masa abdominal  Similarity: 0.4478233748089384\n",
            "masa de estructura torácica  Similarity: 1.1329401231263911\n",
            "masa de páncreas  Similarity: 0.985585999439103\n",
            "masa hepática  Similarity: 0.863060224205608\n",
            "masa renal  Similarity: 0.9047795927978335\n",
            "masa suprarrenal  Similarity: 0.0\n",
            "meconio en líquido amniótico que afecta el manejo de la situación materna  Similarity: 1.1167998388798113\n",
            "menstruación excesiva y frecuente  Similarity: 1.138914955116123\n",
            "movimientos periódicos de las piernas durante el sueño  Similarity: 0.9845554820758298\n",
            "nefropatía debida a reflujo vesicoureteral  Similarity: 1.0662248840719888\n",
            "nefropatía por reflujo del riñón derecho debida a reflujo vesicoureteral  Similarity: 0.8325914904859749\n",
            "neoplasia maligna del tracto gastrointestinal  Similarity: 1.179493828813023\n",
            "neumonitis causada por inhalación de alimento regurgitado  Similarity: 1.00770090476723\n",
            "obstrucción congénita del conducto lagrimal  Similarity: 1.0821127815251608\n",
            "obstrucción congénita del conducto nasolagrimal  Similarity: 1.0429533131104713\n",
            "obstrucción del intestino delgado  Similarity: 0.0\n",
            "obstrucción intestinal  Similarity: 0.9582230150872869\n",
            "obstrucción nasal  Similarity: 1.0179567955074462\n",
            "ojo derecho ciego  Similarity: 1.121433578674378\n",
            "osteoartrosis de localizaciones múltiples, no especificada como generalizada  Similarity: 1.0892257091279074\n",
            "parto normal  Similarity: 1.0336096198952316\n",
            "perturbación en la conducta durante el sueño  Similarity: 1.1718926307148951\n",
            "pielonefritis crónica no obstructiva asociada a reflujo  Similarity: 1.0244681122934411\n",
            "presentación pélvica anómala convertida exitosamente en presentación cefálica  Similarity: 1.0667108589953596\n",
            "pruebas de coagulación/sangrado anormales  Similarity: 1.0758843094283772\n",
            "pérdida de la audición neurosensorial  Similarity: 0.9416791478225361\n",
            "pérdida de la audición neurosensorial, bilateral  Similarity: 0.9232876394443127\n",
            "raquitismo fosfopénico por nefropatía tubular adquirida  Similarity: 1.1749295532573585\n",
            "reflujo vesicoureteral  Similarity: 1.0585847036505789\n",
            "sin evidencia de recurrencia de cáncer  Similarity: 1.0651128902884888\n",
            "sombra pulmonar  Similarity: 0.6874196324881081\n",
            "soplo abdominal  Similarity: 0.35509632538075103\n",
            "síndrome del intestino corto  Similarity: 1.1907244798086576\n",
            "tratamiento con inmunosupresor no esteroideo en la gestación  Similarity: 1.1489976237856279\n",
            "tumor del estroma gastrointestinal  Similarity: 1.1777246850018417\n",
            "tumor maligno del intestino grueso  Similarity: 0.9738417217339608\n",
            "tumoración de estructura corporal  Similarity: 1.0690675439518493\n",
            "voz anormal  Similarity: 0.7011501056522511\n"
          ]
        }
      ]
    },
    {
      "cell_type": "code",
      "source": [
        "#Tiempo de ejecucion: 18 sg\n",
        "terminos_vinculados = get_terminos_vinculados(model_cs50, terminos_snomedct_problemassaludAH_cs50, 0.95, 1, informe )\n",
        "for termino in terminos_vinculados:\n",
        "  print(termino[\"term\"], \" Similarity:\", termino[\"similarity\"])"
      ],
      "metadata": {
        "id": "f6ssyUlnVMwT",
        "colab": {
          "base_uri": "https://localhost:8080/"
        },
        "outputId": "88f17509-cc69-4ff1-a725-433b5ff620ba"
      },
      "execution_count": null,
      "outputs": [
        {
          "output_type": "stream",
          "name": "stdout",
          "text": [
            "Resultado:\n",
            "absceso abdominal  Similarity: 0.9884790723644857\n",
            "apendicitis  Similarity: 0.9999999289284328\n",
            "ascitis  Similarity: 1.000000002022122\n",
            "aterosclerosis de aorta  Similarity: 0.9683588638524672\n",
            "calcificación de mama  Similarity: 0.9634989978607577\n",
            "cicatriz  Similarity: 1.0000000686460806\n",
            "cálculo renal  Similarity: 0.9999999847901402\n",
            "derrame pleural  Similarity: 0.999999972105954\n",
            "edema pulmonar  Similarity: 0.9758187998688564\n",
            "embolia pulmonar  Similarity: 0.9799370222064289\n",
            "enteritis viral  Similarity: 0.9545609618121784\n",
            "esputo anormal  Similarity: 0.9516568172144344\n",
            "hidronefrosis  Similarity: 1.000000028001919\n",
            "linfadenopatía  Similarity: 1.0000000275007346\n",
            "lípidos anormales  Similarity: 0.9605421007006723\n",
            "masa abdominal  Similarity: 0.9894730683652699\n",
            "masa hepática  Similarity: 0.9743152822078404\n",
            "masa suprarrenal  Similarity: 0.9999999553725268\n",
            "obstrucción del intestino delgado  Similarity: 1.0000000601094619\n",
            "parto normal  Similarity: 0.9510463057524708\n",
            "soplo abdominal  Similarity: 0.9933936227342594\n",
            "voz anormal  Similarity: 0.9792107444841195\n"
          ]
        }
      ]
    },
    {
      "cell_type": "code",
      "source": [
        "#Tiempo de ejecucion: 8 sg\n",
        "terminos_vinculados = get_terminos_vinculados(model_cs100, terminos_snomedct_problemassaludAH_cs100, 1.2, 0, informe )\n",
        "for termino in terminos_vinculados:\n",
        "  print(termino[\"term\"], \" Similarity:\", termino[\"similarity\"])"
      ],
      "metadata": {
        "id": "NF7bbMLfVUqH",
        "colab": {
          "base_uri": "https://localhost:8080/"
        },
        "outputId": "8dc407d0-e9eb-4ee4-9b31-5d75295a8e49"
      },
      "execution_count": null,
      "outputs": [
        {
          "output_type": "stream",
          "name": "stdout",
          "text": [
            "Resultado:\n",
            "absceso abdominal  Similarity: 0.7088515894150375\n",
            "aneurisma de aorta abdominal  Similarity: 1.0738537165804998\n",
            "apendicitis  Similarity: 0.0\n",
            "ascitis  Similarity: 0.0\n",
            "aterosclerosis aortoilíaca  Similarity: 1.1109125389461798\n",
            "aterosclerosis de aorta  Similarity: 0.8353091933860176\n",
            "calcificación de mama  Similarity: 0.8190229100060146\n",
            "callo - lesión  Similarity: 0.9303324332578999\n",
            "cicatriz  Similarity: 0.0\n",
            "cicatriz queloide  Similarity: 1.122154983783586\n",
            "cuidado domiciliario del paciente  Similarity: 1.1198480022944988\n",
            "cálculo renal  Similarity: 0.0\n",
            "células escamosas atípicas de significación indeterminada en el extendido de Papanicolaou cervical  Similarity: 1.1665779935047944\n",
            "derrame pleural  Similarity: 0.0\n",
            "edema pulmonar  Similarity: 0.7381361373589997\n",
            "embolia pulmonar  Similarity: 1.0626056709928173\n",
            "engrosamiento del tallo hipofisario  Similarity: 1.1508224704451775\n",
            "enteritis viral  Similarity: 1.0885392786368482\n",
            "esputo anormal  Similarity: 1.1914847053641255\n",
            "estenosis degenerativa del conducto raquídeo de la región lumbar  Similarity: 1.1681701910716564\n",
            "fibromatosis abdominal  Similarity: 0.9620629394678006\n",
            "fractura de la columna vertebral lumbar  Similarity: 1.149295767614032\n",
            "fractura no expuesta de columna vertebral cervical  Similarity: 1.1473788645220444\n",
            "fumador moderado (20 cigarrillos o menos por día)  Similarity: 1.0532911342306392\n",
            "hernia paraumbilical  Similarity: 0.8087287190738631\n",
            "hidronefrosis  Similarity: 0.0\n",
            "intestino neurogénico  Similarity: 1.142687185154561\n",
            "linfadenopatía  Similarity: 0.0\n",
            "lípidos anormales  Similarity: 1.0371553625244843\n",
            "masa abdominal  Similarity: 0.577653397926318\n",
            "masa de estructura torácica  Similarity: 1.1955489867209363\n",
            "masa de páncreas  Similarity: 1.0638260841056182\n",
            "masa hepática  Similarity: 0.8602213679591645\n",
            "masa renal  Similarity: 1.1323834598594325\n",
            "masa suprarrenal  Similarity: 0.0\n",
            "nefropatía por reflujo del riñón derecho debida a reflujo vesicoureteral  Similarity: 1.1996295363466059\n",
            "obstrucción del intestino delgado  Similarity: 0.0\n",
            "obstrucción nasal  Similarity: 1.078004473003514\n",
            "soplo abdominal  Similarity: 0.4512980754882975\n",
            "voz anormal  Similarity: 0.8273003231453643\n"
          ]
        }
      ]
    },
    {
      "cell_type": "code",
      "source": [
        "#Tiempo de ejecucion: 19 sg\n",
        "terminos_vinculados = get_terminos_vinculados(model_cs100, terminos_snomedct_problemassaludAH_cs100, 0.95, 1, informe )\n",
        "for termino in terminos_vinculados:\n",
        "  print(termino[\"term\"], \" Similarity:\", termino[\"similarity\"])"
      ],
      "metadata": {
        "id": "M3kRfRdJVjbY",
        "colab": {
          "base_uri": "https://localhost:8080/"
        },
        "outputId": "941367ed-e125-4b78-ce11-a52eb8a25dd4"
      },
      "execution_count": null,
      "outputs": [
        {
          "output_type": "stream",
          "name": "stdout",
          "text": [
            "Resultado:\n",
            "absceso abdominal  Similarity: 0.9786927210486015\n",
            "apendicitis  Similarity: 1.000000047841527\n",
            "ascitis  Similarity: 1.0000000231934383\n",
            "aterosclerosis de aorta  Similarity: 0.9674901046525459\n",
            "calcificación de mama  Similarity: 0.9630764690585242\n",
            "cicatriz  Similarity: 0.999999982111321\n",
            "cálculo renal  Similarity: 1.0000000208821584\n",
            "derrame pleural  Similarity: 0.99999994684797\n",
            "edema pulmonar  Similarity: 0.9781743648019987\n",
            "hidronefrosis  Similarity: 1.000000004821988\n",
            "linfadenopatía  Similarity: 1.0000000204927266\n",
            "lípidos anormales  Similarity: 0.9603839480889819\n",
            "masa abdominal  Similarity: 0.986389819058891\n",
            "masa hepática  Similarity: 0.9748264146526643\n",
            "masa suprarrenal  Similarity: 0.9999999607581544\n",
            "obstrucción del intestino delgado  Similarity: 0.9999999839856961\n",
            "soplo abdominal  Similarity: 0.9908591078665472\n",
            "voz anormal  Similarity: 0.9780232254223178\n"
          ]
        }
      ]
    },
    {
      "cell_type": "code",
      "source": [
        "#Tiempo de ejecucion: 10 sg\n",
        "terminos_vinculados = get_terminos_vinculados(model_cs300, terminos_snomedct_problemassaludAH_cs300, 1.2, 0, informe )\n",
        "for termino in terminos_vinculados:\n",
        "  print(termino[\"term\"], \" Similarity:\", termino[\"similarity\"])"
      ],
      "metadata": {
        "id": "Bk4nqG1YVrzO",
        "colab": {
          "base_uri": "https://localhost:8080/"
        },
        "outputId": "233c1c97-f8ae-42b7-f477-19ab08d44724"
      },
      "execution_count": null,
      "outputs": [
        {
          "output_type": "stream",
          "name": "stdout",
          "text": [
            "Resultado:\n",
            "absceso abdominal  Similarity: 0.9233627689449166\n",
            "apendicitis  Similarity: 0.0\n",
            "ascitis  Similarity: 0.0\n",
            "aterosclerosis de aorta  Similarity: 1.0270846043068973\n",
            "calcificación de mama  Similarity: 1.035769935749844\n",
            "cicatriz  Similarity: 0.0\n",
            "cálculo renal  Similarity: 0.0\n",
            "derrame pleural  Similarity: 0.0\n",
            "edema pulmonar  Similarity: 0.9805518898840251\n",
            "hernia paraumbilical  Similarity: 1.0406125166549651\n",
            "hidronefrosis  Similarity: 0.0\n",
            "hidroureteronefrosis  Similarity: 1.039189602609959\n",
            "linfadenopatía  Similarity: 0.0\n",
            "masa abdominal  Similarity: 0.7186124738374491\n",
            "masa hepática  Similarity: 1.1760545645068547\n",
            "masa suprarrenal  Similarity: 0.0\n",
            "obstrucción del intestino delgado  Similarity: 0.0\n",
            "soplo abdominal  Similarity: 0.5677505878332866\n",
            "voz anormal  Similarity: 1.0313730251002204\n"
          ]
        }
      ]
    },
    {
      "cell_type": "code",
      "source": [
        "#Tiempo de ejecucion: 19 sg\n",
        "terminos_vinculados = get_terminos_vinculados(model_cs300, terminos_snomedct_problemassaludAH_cs300, 0.95, 1, informe )\n",
        "for termino in terminos_vinculados:\n",
        "  print(termino[\"term\"], \" Similarity:\", termino[\"similarity\"])"
      ],
      "metadata": {
        "id": "_2Ag4A99VspD",
        "colab": {
          "base_uri": "https://localhost:8080/"
        },
        "outputId": "7c5b01f2-e74e-4b97-f7fe-971f551b011b"
      },
      "execution_count": null,
      "outputs": [
        {
          "output_type": "stream",
          "name": "stdout",
          "text": [
            "Resultado:\n",
            "absceso abdominal  Similarity: 0.9772876887830823\n",
            "apendicitis  Similarity: 0.9999999772982147\n",
            "ascitis  Similarity: 1.0000000340799877\n",
            "aterosclerosis de aorta  Similarity: 0.9648783250524904\n",
            "calcificación de mama  Similarity: 0.9587587180805336\n",
            "cicatriz  Similarity: 1.000000003340891\n",
            "cálculo renal  Similarity: 0.9999999900897357\n",
            "derrame pleural  Similarity: 0.9999999937720159\n",
            "edema pulmonar  Similarity: 0.9767364056077397\n",
            "hidronefrosis  Similarity: 0.9999999705395328\n",
            "linfadenopatía  Similarity: 1.0000000248003937\n",
            "lípidos anormales  Similarity: 0.9543572264979956\n",
            "masa abdominal  Similarity: 0.9860515295477978\n",
            "masa hepática  Similarity: 0.9580333264366948\n",
            "masa suprarrenal  Similarity: 1.0000000312131383\n",
            "obstrucción del intestino delgado  Similarity: 0.999999991393781\n",
            "soplo abdominal  Similarity: 0.9911524021151514\n",
            "voz anormal  Similarity: 0.9763272979481873\n"
          ]
        }
      ]
    }
  ]
}