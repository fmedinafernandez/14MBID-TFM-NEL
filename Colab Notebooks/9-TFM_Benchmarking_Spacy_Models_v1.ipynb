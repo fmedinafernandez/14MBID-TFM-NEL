{
  "nbformat": 4,
  "nbformat_minor": 0,
  "metadata": {
    "colab": {
      "provenance": []
    },
    "kernelspec": {
      "name": "python3",
      "display_name": "Python 3"
    },
    "language_info": {
      "name": "python"
    }
  },
  "cells": [
    {
      "cell_type": "markdown",
      "source": [
        "# Benchmark modelos de Spacy para procesar el Texto"
      ],
      "metadata": {
        "id": "x017f-XHiSRb"
      }
    },
    {
      "cell_type": "code",
      "source": [
        "! python -m spacy download es_core_news_sm\n",
        "! python -m spacy download es_core_news_md\n",
        "! python -m spacy download es_core_news_lg"
      ],
      "metadata": {
        "colab": {
          "base_uri": "https://localhost:8080/"
        },
        "id": "qoV_aSw2iGwO",
        "outputId": "d265003c-45e3-4726-b5ea-05c27266ce0f"
      },
      "execution_count": null,
      "outputs": [
        {
          "output_type": "stream",
          "name": "stdout",
          "text": [
            "/usr/local/lib/python3.8/dist-packages/torch/cuda/__init__.py:497: UserWarning: Can't initialize NVML\n",
            "  warnings.warn(\"Can't initialize NVML\")\n",
            "2023-01-26 16:11:40.006357: E tensorflow/stream_executor/cuda/cuda_driver.cc:271] failed call to cuInit: CUDA_ERROR_NO_DEVICE: no CUDA-capable device is detected\n",
            "Looking in indexes: https://pypi.org/simple, https://us-python.pkg.dev/colab-wheels/public/simple/\n",
            "Collecting es-core-news-sm==3.4.0\n",
            "  Downloading https://github.com/explosion/spacy-models/releases/download/es_core_news_sm-3.4.0/es_core_news_sm-3.4.0-py3-none-any.whl (12.9 MB)\n",
            "\u001b[2K     \u001b[90m━━━━━━━━━━━━━━━━━━━━━━━━━━━━━━━━━━━━━━━━\u001b[0m \u001b[32m12.9/12.9 MB\u001b[0m \u001b[31m41.2 MB/s\u001b[0m eta \u001b[36m0:00:00\u001b[0m\n",
            "\u001b[?25hRequirement already satisfied: spacy<3.5.0,>=3.4.0 in /usr/local/lib/python3.8/dist-packages (from es-core-news-sm==3.4.0) (3.4.4)\n",
            "Requirement already satisfied: pydantic!=1.8,!=1.8.1,<1.11.0,>=1.7.4 in /usr/local/lib/python3.8/dist-packages (from spacy<3.5.0,>=3.4.0->es-core-news-sm==3.4.0) (1.10.4)\n",
            "Requirement already satisfied: spacy-legacy<3.1.0,>=3.0.10 in /usr/local/lib/python3.8/dist-packages (from spacy<3.5.0,>=3.4.0->es-core-news-sm==3.4.0) (3.0.11)\n",
            "Requirement already satisfied: numpy>=1.15.0 in /usr/local/lib/python3.8/dist-packages (from spacy<3.5.0,>=3.4.0->es-core-news-sm==3.4.0) (1.21.6)\n",
            "Requirement already satisfied: catalogue<2.1.0,>=2.0.6 in /usr/local/lib/python3.8/dist-packages (from spacy<3.5.0,>=3.4.0->es-core-news-sm==3.4.0) (2.0.8)\n",
            "Requirement already satisfied: cymem<2.1.0,>=2.0.2 in /usr/local/lib/python3.8/dist-packages (from spacy<3.5.0,>=3.4.0->es-core-news-sm==3.4.0) (2.0.7)\n",
            "Requirement already satisfied: jinja2 in /usr/local/lib/python3.8/dist-packages (from spacy<3.5.0,>=3.4.0->es-core-news-sm==3.4.0) (2.11.3)\n",
            "Requirement already satisfied: setuptools in /usr/local/lib/python3.8/dist-packages (from spacy<3.5.0,>=3.4.0->es-core-news-sm==3.4.0) (57.4.0)\n",
            "Requirement already satisfied: tqdm<5.0.0,>=4.38.0 in /usr/local/lib/python3.8/dist-packages (from spacy<3.5.0,>=3.4.0->es-core-news-sm==3.4.0) (4.64.1)\n",
            "Requirement already satisfied: preshed<3.1.0,>=3.0.2 in /usr/local/lib/python3.8/dist-packages (from spacy<3.5.0,>=3.4.0->es-core-news-sm==3.4.0) (3.0.8)\n",
            "Requirement already satisfied: smart-open<7.0.0,>=5.2.1 in /usr/local/lib/python3.8/dist-packages (from spacy<3.5.0,>=3.4.0->es-core-news-sm==3.4.0) (6.3.0)\n",
            "Requirement already satisfied: wasabi<1.1.0,>=0.9.1 in /usr/local/lib/python3.8/dist-packages (from spacy<3.5.0,>=3.4.0->es-core-news-sm==3.4.0) (0.10.1)\n",
            "Requirement already satisfied: srsly<3.0.0,>=2.4.3 in /usr/local/lib/python3.8/dist-packages (from spacy<3.5.0,>=3.4.0->es-core-news-sm==3.4.0) (2.4.5)\n",
            "Requirement already satisfied: pathy>=0.3.5 in /usr/local/lib/python3.8/dist-packages (from spacy<3.5.0,>=3.4.0->es-core-news-sm==3.4.0) (0.10.1)\n",
            "Requirement already satisfied: packaging>=20.0 in /usr/local/lib/python3.8/dist-packages (from spacy<3.5.0,>=3.4.0->es-core-news-sm==3.4.0) (21.3)\n",
            "Requirement already satisfied: requests<3.0.0,>=2.13.0 in /usr/local/lib/python3.8/dist-packages (from spacy<3.5.0,>=3.4.0->es-core-news-sm==3.4.0) (2.25.1)\n",
            "Requirement already satisfied: typer<0.8.0,>=0.3.0 in /usr/local/lib/python3.8/dist-packages (from spacy<3.5.0,>=3.4.0->es-core-news-sm==3.4.0) (0.7.0)\n",
            "Requirement already satisfied: spacy-loggers<2.0.0,>=1.0.0 in /usr/local/lib/python3.8/dist-packages (from spacy<3.5.0,>=3.4.0->es-core-news-sm==3.4.0) (1.0.4)\n",
            "Requirement already satisfied: murmurhash<1.1.0,>=0.28.0 in /usr/local/lib/python3.8/dist-packages (from spacy<3.5.0,>=3.4.0->es-core-news-sm==3.4.0) (1.0.9)\n",
            "Requirement already satisfied: langcodes<4.0.0,>=3.2.0 in /usr/local/lib/python3.8/dist-packages (from spacy<3.5.0,>=3.4.0->es-core-news-sm==3.4.0) (3.3.0)\n",
            "Requirement already satisfied: thinc<8.2.0,>=8.1.0 in /usr/local/lib/python3.8/dist-packages (from spacy<3.5.0,>=3.4.0->es-core-news-sm==3.4.0) (8.1.6)\n",
            "Requirement already satisfied: pyparsing!=3.0.5,>=2.0.2 in /usr/local/lib/python3.8/dist-packages (from packaging>=20.0->spacy<3.5.0,>=3.4.0->es-core-news-sm==3.4.0) (3.0.9)\n",
            "Requirement already satisfied: typing-extensions>=4.2.0 in /usr/local/lib/python3.8/dist-packages (from pydantic!=1.8,!=1.8.1,<1.11.0,>=1.7.4->spacy<3.5.0,>=3.4.0->es-core-news-sm==3.4.0) (4.4.0)\n",
            "Requirement already satisfied: idna<3,>=2.5 in /usr/local/lib/python3.8/dist-packages (from requests<3.0.0,>=2.13.0->spacy<3.5.0,>=3.4.0->es-core-news-sm==3.4.0) (2.10)\n",
            "Requirement already satisfied: chardet<5,>=3.0.2 in /usr/local/lib/python3.8/dist-packages (from requests<3.0.0,>=2.13.0->spacy<3.5.0,>=3.4.0->es-core-news-sm==3.4.0) (4.0.0)\n",
            "Requirement already satisfied: urllib3<1.27,>=1.21.1 in /usr/local/lib/python3.8/dist-packages (from requests<3.0.0,>=2.13.0->spacy<3.5.0,>=3.4.0->es-core-news-sm==3.4.0) (1.24.3)\n",
            "Requirement already satisfied: certifi>=2017.4.17 in /usr/local/lib/python3.8/dist-packages (from requests<3.0.0,>=2.13.0->spacy<3.5.0,>=3.4.0->es-core-news-sm==3.4.0) (2022.12.7)\n",
            "Requirement already satisfied: confection<1.0.0,>=0.0.1 in /usr/local/lib/python3.8/dist-packages (from thinc<8.2.0,>=8.1.0->spacy<3.5.0,>=3.4.0->es-core-news-sm==3.4.0) (0.0.3)\n",
            "Requirement already satisfied: blis<0.8.0,>=0.7.8 in /usr/local/lib/python3.8/dist-packages (from thinc<8.2.0,>=8.1.0->spacy<3.5.0,>=3.4.0->es-core-news-sm==3.4.0) (0.7.9)\n",
            "Requirement already satisfied: click<9.0.0,>=7.1.1 in /usr/local/lib/python3.8/dist-packages (from typer<0.8.0,>=0.3.0->spacy<3.5.0,>=3.4.0->es-core-news-sm==3.4.0) (7.1.2)\n",
            "Requirement already satisfied: MarkupSafe>=0.23 in /usr/local/lib/python3.8/dist-packages (from jinja2->spacy<3.5.0,>=3.4.0->es-core-news-sm==3.4.0) (2.0.1)\n",
            "Installing collected packages: es-core-news-sm\n",
            "Successfully installed es-core-news-sm-3.4.0\n",
            "\u001b[38;5;2m✔ Download and installation successful\u001b[0m\n",
            "You can now load the package via spacy.load('es_core_news_sm')\n",
            "/usr/local/lib/python3.8/dist-packages/torch/cuda/__init__.py:497: UserWarning: Can't initialize NVML\n",
            "  warnings.warn(\"Can't initialize NVML\")\n",
            "2023-01-26 16:11:58.897178: E tensorflow/stream_executor/cuda/cuda_driver.cc:271] failed call to cuInit: CUDA_ERROR_NO_DEVICE: no CUDA-capable device is detected\n",
            "Looking in indexes: https://pypi.org/simple, https://us-python.pkg.dev/colab-wheels/public/simple/\n",
            "Collecting es-core-news-md==3.4.0\n",
            "  Downloading https://github.com/explosion/spacy-models/releases/download/es_core_news_md-3.4.0/es_core_news_md-3.4.0-py3-none-any.whl (42.3 MB)\n",
            "\u001b[2K     \u001b[90m━━━━━━━━━━━━━━━━━━━━━━━━━━━━━━━━━━━━━━━━\u001b[0m \u001b[32m42.3/42.3 MB\u001b[0m \u001b[31m13.2 MB/s\u001b[0m eta \u001b[36m0:00:00\u001b[0m\n",
            "\u001b[?25hRequirement already satisfied: spacy<3.5.0,>=3.4.0 in /usr/local/lib/python3.8/dist-packages (from es-core-news-md==3.4.0) (3.4.4)\n",
            "Requirement already satisfied: cymem<2.1.0,>=2.0.2 in /usr/local/lib/python3.8/dist-packages (from spacy<3.5.0,>=3.4.0->es-core-news-md==3.4.0) (2.0.7)\n",
            "Requirement already satisfied: spacy-legacy<3.1.0,>=3.0.10 in /usr/local/lib/python3.8/dist-packages (from spacy<3.5.0,>=3.4.0->es-core-news-md==3.4.0) (3.0.11)\n",
            "Requirement already satisfied: numpy>=1.15.0 in /usr/local/lib/python3.8/dist-packages (from spacy<3.5.0,>=3.4.0->es-core-news-md==3.4.0) (1.21.6)\n",
            "Requirement already satisfied: preshed<3.1.0,>=3.0.2 in /usr/local/lib/python3.8/dist-packages (from spacy<3.5.0,>=3.4.0->es-core-news-md==3.4.0) (3.0.8)\n",
            "Requirement already satisfied: pydantic!=1.8,!=1.8.1,<1.11.0,>=1.7.4 in /usr/local/lib/python3.8/dist-packages (from spacy<3.5.0,>=3.4.0->es-core-news-md==3.4.0) (1.10.4)\n",
            "Requirement already satisfied: jinja2 in /usr/local/lib/python3.8/dist-packages (from spacy<3.5.0,>=3.4.0->es-core-news-md==3.4.0) (2.11.3)\n",
            "Requirement already satisfied: smart-open<7.0.0,>=5.2.1 in /usr/local/lib/python3.8/dist-packages (from spacy<3.5.0,>=3.4.0->es-core-news-md==3.4.0) (6.3.0)\n",
            "Requirement already satisfied: packaging>=20.0 in /usr/local/lib/python3.8/dist-packages (from spacy<3.5.0,>=3.4.0->es-core-news-md==3.4.0) (21.3)\n",
            "Requirement already satisfied: langcodes<4.0.0,>=3.2.0 in /usr/local/lib/python3.8/dist-packages (from spacy<3.5.0,>=3.4.0->es-core-news-md==3.4.0) (3.3.0)\n",
            "Requirement already satisfied: pathy>=0.3.5 in /usr/local/lib/python3.8/dist-packages (from spacy<3.5.0,>=3.4.0->es-core-news-md==3.4.0) (0.10.1)\n",
            "Requirement already satisfied: tqdm<5.0.0,>=4.38.0 in /usr/local/lib/python3.8/dist-packages (from spacy<3.5.0,>=3.4.0->es-core-news-md==3.4.0) (4.64.1)\n",
            "Requirement already satisfied: typer<0.8.0,>=0.3.0 in /usr/local/lib/python3.8/dist-packages (from spacy<3.5.0,>=3.4.0->es-core-news-md==3.4.0) (0.7.0)\n",
            "Requirement already satisfied: murmurhash<1.1.0,>=0.28.0 in /usr/local/lib/python3.8/dist-packages (from spacy<3.5.0,>=3.4.0->es-core-news-md==3.4.0) (1.0.9)\n",
            "Requirement already satisfied: wasabi<1.1.0,>=0.9.1 in /usr/local/lib/python3.8/dist-packages (from spacy<3.5.0,>=3.4.0->es-core-news-md==3.4.0) (0.10.1)\n",
            "Requirement already satisfied: requests<3.0.0,>=2.13.0 in /usr/local/lib/python3.8/dist-packages (from spacy<3.5.0,>=3.4.0->es-core-news-md==3.4.0) (2.25.1)\n",
            "Requirement already satisfied: spacy-loggers<2.0.0,>=1.0.0 in /usr/local/lib/python3.8/dist-packages (from spacy<3.5.0,>=3.4.0->es-core-news-md==3.4.0) (1.0.4)\n",
            "Requirement already satisfied: catalogue<2.1.0,>=2.0.6 in /usr/local/lib/python3.8/dist-packages (from spacy<3.5.0,>=3.4.0->es-core-news-md==3.4.0) (2.0.8)\n",
            "Requirement already satisfied: srsly<3.0.0,>=2.4.3 in /usr/local/lib/python3.8/dist-packages (from spacy<3.5.0,>=3.4.0->es-core-news-md==3.4.0) (2.4.5)\n",
            "Requirement already satisfied: setuptools in /usr/local/lib/python3.8/dist-packages (from spacy<3.5.0,>=3.4.0->es-core-news-md==3.4.0) (57.4.0)\n",
            "Requirement already satisfied: thinc<8.2.0,>=8.1.0 in /usr/local/lib/python3.8/dist-packages (from spacy<3.5.0,>=3.4.0->es-core-news-md==3.4.0) (8.1.6)\n",
            "Requirement already satisfied: pyparsing!=3.0.5,>=2.0.2 in /usr/local/lib/python3.8/dist-packages (from packaging>=20.0->spacy<3.5.0,>=3.4.0->es-core-news-md==3.4.0) (3.0.9)\n",
            "Requirement already satisfied: typing-extensions>=4.2.0 in /usr/local/lib/python3.8/dist-packages (from pydantic!=1.8,!=1.8.1,<1.11.0,>=1.7.4->spacy<3.5.0,>=3.4.0->es-core-news-md==3.4.0) (4.4.0)\n",
            "Requirement already satisfied: urllib3<1.27,>=1.21.1 in /usr/local/lib/python3.8/dist-packages (from requests<3.0.0,>=2.13.0->spacy<3.5.0,>=3.4.0->es-core-news-md==3.4.0) (1.24.3)\n",
            "Requirement already satisfied: certifi>=2017.4.17 in /usr/local/lib/python3.8/dist-packages (from requests<3.0.0,>=2.13.0->spacy<3.5.0,>=3.4.0->es-core-news-md==3.4.0) (2022.12.7)\n",
            "Requirement already satisfied: idna<3,>=2.5 in /usr/local/lib/python3.8/dist-packages (from requests<3.0.0,>=2.13.0->spacy<3.5.0,>=3.4.0->es-core-news-md==3.4.0) (2.10)\n",
            "Requirement already satisfied: chardet<5,>=3.0.2 in /usr/local/lib/python3.8/dist-packages (from requests<3.0.0,>=2.13.0->spacy<3.5.0,>=3.4.0->es-core-news-md==3.4.0) (4.0.0)\n",
            "Requirement already satisfied: confection<1.0.0,>=0.0.1 in /usr/local/lib/python3.8/dist-packages (from thinc<8.2.0,>=8.1.0->spacy<3.5.0,>=3.4.0->es-core-news-md==3.4.0) (0.0.3)\n",
            "Requirement already satisfied: blis<0.8.0,>=0.7.8 in /usr/local/lib/python3.8/dist-packages (from thinc<8.2.0,>=8.1.0->spacy<3.5.0,>=3.4.0->es-core-news-md==3.4.0) (0.7.9)\n",
            "Requirement already satisfied: click<9.0.0,>=7.1.1 in /usr/local/lib/python3.8/dist-packages (from typer<0.8.0,>=0.3.0->spacy<3.5.0,>=3.4.0->es-core-news-md==3.4.0) (7.1.2)\n",
            "Requirement already satisfied: MarkupSafe>=0.23 in /usr/local/lib/python3.8/dist-packages (from jinja2->spacy<3.5.0,>=3.4.0->es-core-news-md==3.4.0) (2.0.1)\n",
            "Installing collected packages: es-core-news-md\n",
            "Successfully installed es-core-news-md-3.4.0\n",
            "\u001b[38;5;2m✔ Download and installation successful\u001b[0m\n",
            "You can now load the package via spacy.load('es_core_news_md')\n",
            "/usr/local/lib/python3.8/dist-packages/torch/cuda/__init__.py:497: UserWarning: Can't initialize NVML\n",
            "  warnings.warn(\"Can't initialize NVML\")\n",
            "2023-01-26 16:12:12.771231: E tensorflow/stream_executor/cuda/cuda_driver.cc:271] failed call to cuInit: CUDA_ERROR_NO_DEVICE: no CUDA-capable device is detected\n",
            "Looking in indexes: https://pypi.org/simple, https://us-python.pkg.dev/colab-wheels/public/simple/\n",
            "Collecting es-core-news-lg==3.4.0\n",
            "  Downloading https://github.com/explosion/spacy-models/releases/download/es_core_news_lg-3.4.0/es_core_news_lg-3.4.0-py3-none-any.whl (568.0 MB)\n",
            "\u001b[2K     \u001b[90m━━━━━━━━━━━━━━━━━━━━━━━━━━━━━━━━━━━━━━━\u001b[0m \u001b[32m568.0/568.0 MB\u001b[0m \u001b[31m2.3 MB/s\u001b[0m eta \u001b[36m0:00:00\u001b[0m\n",
            "\u001b[?25hRequirement already satisfied: spacy<3.5.0,>=3.4.0 in /usr/local/lib/python3.8/dist-packages (from es-core-news-lg==3.4.0) (3.4.4)\n",
            "Requirement already satisfied: preshed<3.1.0,>=3.0.2 in /usr/local/lib/python3.8/dist-packages (from spacy<3.5.0,>=3.4.0->es-core-news-lg==3.4.0) (3.0.8)\n",
            "Requirement already satisfied: numpy>=1.15.0 in /usr/local/lib/python3.8/dist-packages (from spacy<3.5.0,>=3.4.0->es-core-news-lg==3.4.0) (1.21.6)\n",
            "Requirement already satisfied: pathy>=0.3.5 in /usr/local/lib/python3.8/dist-packages (from spacy<3.5.0,>=3.4.0->es-core-news-lg==3.4.0) (0.10.1)\n",
            "Requirement already satisfied: spacy-loggers<2.0.0,>=1.0.0 in /usr/local/lib/python3.8/dist-packages (from spacy<3.5.0,>=3.4.0->es-core-news-lg==3.4.0) (1.0.4)\n",
            "Requirement already satisfied: srsly<3.0.0,>=2.4.3 in /usr/local/lib/python3.8/dist-packages (from spacy<3.5.0,>=3.4.0->es-core-news-lg==3.4.0) (2.4.5)\n",
            "Requirement already satisfied: pydantic!=1.8,!=1.8.1,<1.11.0,>=1.7.4 in /usr/local/lib/python3.8/dist-packages (from spacy<3.5.0,>=3.4.0->es-core-news-lg==3.4.0) (1.10.4)\n",
            "Requirement already satisfied: langcodes<4.0.0,>=3.2.0 in /usr/local/lib/python3.8/dist-packages (from spacy<3.5.0,>=3.4.0->es-core-news-lg==3.4.0) (3.3.0)\n",
            "Requirement already satisfied: tqdm<5.0.0,>=4.38.0 in /usr/local/lib/python3.8/dist-packages (from spacy<3.5.0,>=3.4.0->es-core-news-lg==3.4.0) (4.64.1)\n",
            "Requirement already satisfied: thinc<8.2.0,>=8.1.0 in /usr/local/lib/python3.8/dist-packages (from spacy<3.5.0,>=3.4.0->es-core-news-lg==3.4.0) (8.1.6)\n",
            "Requirement already satisfied: catalogue<2.1.0,>=2.0.6 in /usr/local/lib/python3.8/dist-packages (from spacy<3.5.0,>=3.4.0->es-core-news-lg==3.4.0) (2.0.8)\n",
            "Requirement already satisfied: packaging>=20.0 in /usr/local/lib/python3.8/dist-packages (from spacy<3.5.0,>=3.4.0->es-core-news-lg==3.4.0) (21.3)\n",
            "Requirement already satisfied: requests<3.0.0,>=2.13.0 in /usr/local/lib/python3.8/dist-packages (from spacy<3.5.0,>=3.4.0->es-core-news-lg==3.4.0) (2.25.1)\n",
            "Requirement already satisfied: smart-open<7.0.0,>=5.2.1 in /usr/local/lib/python3.8/dist-packages (from spacy<3.5.0,>=3.4.0->es-core-news-lg==3.4.0) (6.3.0)\n",
            "Requirement already satisfied: wasabi<1.1.0,>=0.9.1 in /usr/local/lib/python3.8/dist-packages (from spacy<3.5.0,>=3.4.0->es-core-news-lg==3.4.0) (0.10.1)\n",
            "Requirement already satisfied: spacy-legacy<3.1.0,>=3.0.10 in /usr/local/lib/python3.8/dist-packages (from spacy<3.5.0,>=3.4.0->es-core-news-lg==3.4.0) (3.0.11)\n",
            "Requirement already satisfied: jinja2 in /usr/local/lib/python3.8/dist-packages (from spacy<3.5.0,>=3.4.0->es-core-news-lg==3.4.0) (2.11.3)\n",
            "Requirement already satisfied: setuptools in /usr/local/lib/python3.8/dist-packages (from spacy<3.5.0,>=3.4.0->es-core-news-lg==3.4.0) (57.4.0)\n",
            "Requirement already satisfied: cymem<2.1.0,>=2.0.2 in /usr/local/lib/python3.8/dist-packages (from spacy<3.5.0,>=3.4.0->es-core-news-lg==3.4.0) (2.0.7)\n",
            "Requirement already satisfied: murmurhash<1.1.0,>=0.28.0 in /usr/local/lib/python3.8/dist-packages (from spacy<3.5.0,>=3.4.0->es-core-news-lg==3.4.0) (1.0.9)\n",
            "Requirement already satisfied: typer<0.8.0,>=0.3.0 in /usr/local/lib/python3.8/dist-packages (from spacy<3.5.0,>=3.4.0->es-core-news-lg==3.4.0) (0.7.0)\n",
            "Requirement already satisfied: pyparsing!=3.0.5,>=2.0.2 in /usr/local/lib/python3.8/dist-packages (from packaging>=20.0->spacy<3.5.0,>=3.4.0->es-core-news-lg==3.4.0) (3.0.9)\n",
            "Requirement already satisfied: typing-extensions>=4.2.0 in /usr/local/lib/python3.8/dist-packages (from pydantic!=1.8,!=1.8.1,<1.11.0,>=1.7.4->spacy<3.5.0,>=3.4.0->es-core-news-lg==3.4.0) (4.4.0)\n",
            "Requirement already satisfied: urllib3<1.27,>=1.21.1 in /usr/local/lib/python3.8/dist-packages (from requests<3.0.0,>=2.13.0->spacy<3.5.0,>=3.4.0->es-core-news-lg==3.4.0) (1.24.3)\n",
            "Requirement already satisfied: chardet<5,>=3.0.2 in /usr/local/lib/python3.8/dist-packages (from requests<3.0.0,>=2.13.0->spacy<3.5.0,>=3.4.0->es-core-news-lg==3.4.0) (4.0.0)\n",
            "Requirement already satisfied: idna<3,>=2.5 in /usr/local/lib/python3.8/dist-packages (from requests<3.0.0,>=2.13.0->spacy<3.5.0,>=3.4.0->es-core-news-lg==3.4.0) (2.10)\n",
            "Requirement already satisfied: certifi>=2017.4.17 in /usr/local/lib/python3.8/dist-packages (from requests<3.0.0,>=2.13.0->spacy<3.5.0,>=3.4.0->es-core-news-lg==3.4.0) (2022.12.7)\n",
            "Requirement already satisfied: confection<1.0.0,>=0.0.1 in /usr/local/lib/python3.8/dist-packages (from thinc<8.2.0,>=8.1.0->spacy<3.5.0,>=3.4.0->es-core-news-lg==3.4.0) (0.0.3)\n",
            "Requirement already satisfied: blis<0.8.0,>=0.7.8 in /usr/local/lib/python3.8/dist-packages (from thinc<8.2.0,>=8.1.0->spacy<3.5.0,>=3.4.0->es-core-news-lg==3.4.0) (0.7.9)\n",
            "Requirement already satisfied: click<9.0.0,>=7.1.1 in /usr/local/lib/python3.8/dist-packages (from typer<0.8.0,>=0.3.0->spacy<3.5.0,>=3.4.0->es-core-news-lg==3.4.0) (7.1.2)\n",
            "Requirement already satisfied: MarkupSafe>=0.23 in /usr/local/lib/python3.8/dist-packages (from jinja2->spacy<3.5.0,>=3.4.0->es-core-news-lg==3.4.0) (2.0.1)\n",
            "Installing collected packages: es-core-news-lg\n",
            "Successfully installed es-core-news-lg-3.4.0\n",
            "\u001b[38;5;2m✔ Download and installation successful\u001b[0m\n",
            "You can now load the package via spacy.load('es_core_news_lg')\n"
          ]
        }
      ]
    },
    {
      "cell_type": "code",
      "execution_count": null,
      "metadata": {
        "colab": {
          "base_uri": "https://localhost:8080/"
        },
        "id": "NRj-GbKDiNAg",
        "outputId": "948c8579-d9ea-42f5-c2df-1c43a6b858ce"
      },
      "outputs": [
        {
          "output_type": "stream",
          "name": "stdout",
          "text": [
            "Looking in indexes: https://pypi.org/simple, https://us-python.pkg.dev/colab-wheels/public/simple/\n",
            "Requirement already satisfied: spacy in /usr/local/lib/python3.8/dist-packages (3.4.4)\n",
            "Requirement already satisfied: catalogue<2.1.0,>=2.0.6 in /usr/local/lib/python3.8/dist-packages (from spacy) (2.0.8)\n",
            "Requirement already satisfied: murmurhash<1.1.0,>=0.28.0 in /usr/local/lib/python3.8/dist-packages (from spacy) (1.0.9)\n",
            "Requirement already satisfied: setuptools in /usr/local/lib/python3.8/dist-packages (from spacy) (57.4.0)\n",
            "Requirement already satisfied: pydantic!=1.8,!=1.8.1,<1.11.0,>=1.7.4 in /usr/local/lib/python3.8/dist-packages (from spacy) (1.10.4)\n",
            "Requirement already satisfied: spacy-legacy<3.1.0,>=3.0.10 in /usr/local/lib/python3.8/dist-packages (from spacy) (3.0.11)\n",
            "Requirement already satisfied: spacy-loggers<2.0.0,>=1.0.0 in /usr/local/lib/python3.8/dist-packages (from spacy) (1.0.4)\n",
            "Requirement already satisfied: srsly<3.0.0,>=2.4.3 in /usr/local/lib/python3.8/dist-packages (from spacy) (2.4.5)\n",
            "Requirement already satisfied: typer<0.8.0,>=0.3.0 in /usr/local/lib/python3.8/dist-packages (from spacy) (0.7.0)\n",
            "Requirement already satisfied: numpy>=1.15.0 in /usr/local/lib/python3.8/dist-packages (from spacy) (1.21.6)\n",
            "Requirement already satisfied: jinja2 in /usr/local/lib/python3.8/dist-packages (from spacy) (2.11.3)\n",
            "Requirement already satisfied: packaging>=20.0 in /usr/local/lib/python3.8/dist-packages (from spacy) (21.3)\n",
            "Requirement already satisfied: tqdm<5.0.0,>=4.38.0 in /usr/local/lib/python3.8/dist-packages (from spacy) (4.64.1)\n",
            "Requirement already satisfied: pathy>=0.3.5 in /usr/local/lib/python3.8/dist-packages (from spacy) (0.10.1)\n",
            "Requirement already satisfied: langcodes<4.0.0,>=3.2.0 in /usr/local/lib/python3.8/dist-packages (from spacy) (3.3.0)\n",
            "Requirement already satisfied: wasabi<1.1.0,>=0.9.1 in /usr/local/lib/python3.8/dist-packages (from spacy) (0.10.1)\n",
            "Requirement already satisfied: thinc<8.2.0,>=8.1.0 in /usr/local/lib/python3.8/dist-packages (from spacy) (8.1.6)\n",
            "Requirement already satisfied: preshed<3.1.0,>=3.0.2 in /usr/local/lib/python3.8/dist-packages (from spacy) (3.0.8)\n",
            "Requirement already satisfied: cymem<2.1.0,>=2.0.2 in /usr/local/lib/python3.8/dist-packages (from spacy) (2.0.7)\n",
            "Requirement already satisfied: smart-open<7.0.0,>=5.2.1 in /usr/local/lib/python3.8/dist-packages (from spacy) (6.3.0)\n",
            "Requirement already satisfied: requests<3.0.0,>=2.13.0 in /usr/local/lib/python3.8/dist-packages (from spacy) (2.25.1)\n",
            "Requirement already satisfied: pyparsing!=3.0.5,>=2.0.2 in /usr/local/lib/python3.8/dist-packages (from packaging>=20.0->spacy) (3.0.9)\n",
            "Requirement already satisfied: typing-extensions>=4.2.0 in /usr/local/lib/python3.8/dist-packages (from pydantic!=1.8,!=1.8.1,<1.11.0,>=1.7.4->spacy) (4.4.0)\n",
            "Requirement already satisfied: chardet<5,>=3.0.2 in /usr/local/lib/python3.8/dist-packages (from requests<3.0.0,>=2.13.0->spacy) (4.0.0)\n",
            "Requirement already satisfied: urllib3<1.27,>=1.21.1 in /usr/local/lib/python3.8/dist-packages (from requests<3.0.0,>=2.13.0->spacy) (1.24.3)\n",
            "Requirement already satisfied: idna<3,>=2.5 in /usr/local/lib/python3.8/dist-packages (from requests<3.0.0,>=2.13.0->spacy) (2.10)\n",
            "Requirement already satisfied: certifi>=2017.4.17 in /usr/local/lib/python3.8/dist-packages (from requests<3.0.0,>=2.13.0->spacy) (2022.12.7)\n",
            "Requirement already satisfied: blis<0.8.0,>=0.7.8 in /usr/local/lib/python3.8/dist-packages (from thinc<8.2.0,>=8.1.0->spacy) (0.7.9)\n",
            "Requirement already satisfied: confection<1.0.0,>=0.0.1 in /usr/local/lib/python3.8/dist-packages (from thinc<8.2.0,>=8.1.0->spacy) (0.0.3)\n",
            "Requirement already satisfied: click<9.0.0,>=7.1.1 in /usr/local/lib/python3.8/dist-packages (from typer<0.8.0,>=0.3.0->spacy) (7.1.2)\n",
            "Requirement already satisfied: MarkupSafe>=0.23 in /usr/local/lib/python3.8/dist-packages (from jinja2->spacy) (2.0.1)\n"
          ]
        }
      ],
      "source": [
        "! pip install spacy\n",
        "#! python -m spacy download es\n",
        "import warnings\n",
        "warnings.filterwarnings('ignore')\n",
        "import pandas as pd\n",
        "import spacy\n"
      ]
    },
    {
      "cell_type": "code",
      "source": [
        "def NLP_preprocesaDocumento(nlp, doc):\n",
        "\n",
        "  #Convertir a minúsculas\n",
        "  doc = doc.lower()\n",
        "\n",
        "  #Tokenizado\n",
        "  doc = [\" \".join([token.text for token in nlp(doc)])][0]\n",
        "\n",
        "  #Eliminación de signos de puntuación\n",
        "  doc = [\" \".join([token.lemma_ for token in nlp(doc) if not token.is_punct]) ][0]\n",
        "\n",
        "  #Eliminación de stopwords\n",
        "  spacy_stopwords = spacy.lang.es.stop_words.STOP_WORDS\n",
        "  doc = [\" \".join([token for token in doc.split() if not token.lower() in spacy_stopwords])][0]\n",
        "  \n",
        "  #Lematización de palabras\n",
        "  doc = [\" \".join([token.lemma_ for token in nlp(doc)])][0]\n",
        "\n",
        "  #Eliminación de tildes\n",
        "  tildes = {'á': 'a', 'é': 'e', 'í': 'i', 'ó': 'o', 'ú': 'u', 'Á': 'A', 'E': 'E', 'Í': 'I', 'Ó': 'O', 'Ú': 'U', 'ü': 'u', 'Ü': 'U'}\n",
        "  for tilde in tildes:\n",
        "\t  if tilde in doc:\n",
        "\t\t  doc = doc.replace(tilde, tildes[tilde])\n",
        "\n",
        "  return doc\n"
      ],
      "metadata": {
        "id": "OWmrre3vii8w"
      },
      "execution_count": null,
      "outputs": []
    },
    {
      "cell_type": "code",
      "source": [
        "def split_sentences(nlp, text):\n",
        "    tokens = nlp(text)\n",
        "    sentences = []\n",
        "    for sent in tokens.sents:\n",
        "        sentences.append(sent.text.strip())\n",
        "    return sentences"
      ],
      "metadata": {
        "id": "dvZh0zqwgZtk"
      },
      "execution_count": null,
      "outputs": []
    },
    {
      "cell_type": "code",
      "source": [
        "doc = \"Hay evidencia de hipoatenuación hepática difusa compatible con infiltración grasa . No hay dilatación de los conductos biliares intra o extrahepáticos. El paciente se encuentra en estado post colecistectomía. El bazo es normal. El páncreas es de contorno y características de atenuación normales. No hay evidencia de masa suprarrenal. Hay una hernia supraumbilical de tamaño moderado que contiene grasa. Los riñones son normales en tamaño, forma y configuración. No se identifican cálculos renales ni ureterales. No hay hidrouréter ni hidronefrosis. No hay evidencia de apendicitis. Hay varias asas de intestino delgado llenas de líquido, compatibles con una enteritis leve. No hay engrosamiento de la pared intestinal. No hay evidencia de obstrucción del intestino delgado o grueso. No hay evidencia de ascitis abdominal o linfadenopatía. No hay evidencia de masa vesical intrínseca o extrínseca . No hay ascitis pélvica ni linfadenopatía . El útero y los ovarios no presentan ninguna anomalía. Las imágenes de las bases pulmonares no muestran evidencia de masa pleural o parenquimatosa . No hay derrames pleurales. Hay cicatrices en el lóbulo medio derecho y en la língula, así como en ambas bases pulmonares. Las estructuras óseas están libres de lesiones líticas o blásticas. Se observan cambios degenerativos multinivel en la columna toracolumbar. Se observan calcificaciones dispersas en la aorta y en sus principales ramas, compatibles con la aterosclerosis.\"\n",
        "\n",
        "\n"
      ],
      "metadata": {
        "id": "SeK9vG4Oi2ZJ"
      },
      "execution_count": null,
      "outputs": []
    },
    {
      "cell_type": "markdown",
      "source": [
        "Modelo es_core_news_sm (reducido):"
      ],
      "metadata": {
        "id": "Jde0h1Ymhlaa"
      }
    },
    {
      "cell_type": "code",
      "source": [
        "modelname = \"es_core_news_sm\""
      ],
      "metadata": {
        "id": "Ivrc6Y8Xhauc"
      },
      "execution_count": null,
      "outputs": []
    },
    {
      "cell_type": "code",
      "source": [
        "#Cargamos el modelo en español\n",
        "nlp_sm = spacy.load(modelname)"
      ],
      "metadata": {
        "id": "7_tR5PQyg3rK"
      },
      "execution_count": null,
      "outputs": []
    },
    {
      "cell_type": "code",
      "source": [
        "#Troceamos en frases el contenido del informe\n",
        "frases_sm = split_sentences(nlp_sm, doc)\n",
        "print(frases_sm)"
      ],
      "metadata": {
        "colab": {
          "base_uri": "https://localhost:8080/"
        },
        "id": "6Sf0bwGSgVR9",
        "outputId": "a4d9e3a3-c59f-435a-e03d-51b6612925d5"
      },
      "execution_count": null,
      "outputs": [
        {
          "output_type": "stream",
          "name": "stdout",
          "text": [
            "['Hay evidencia de hipoatenuación hepática difusa compatible con infiltración grasa .', 'No hay dilatación de los conductos biliares intra o extrahepáticos.', 'El paciente se encuentra en estado post colecistectomía.', 'El bazo es normal.', 'El páncreas es de contorno y características de atenuación normales.', 'No hay evidencia de masa suprarrenal.', 'Hay una hernia supraumbilical de tamaño moderado que contiene grasa.', 'Los riñones son normales en tamaño, forma y configuración.', 'No se identifican cálculos renales ni ureterales.', 'No hay hidrouréter ni hidronefrosis.', 'No hay evidencia de apendicitis.', 'Hay varias asas de intestino delgado llenas de líquido, compatibles con una enteritis leve.', 'No hay engrosamiento de la pared intestinal.', 'No hay evidencia de obstrucción del intestino delgado o grueso.', 'No hay evidencia de ascitis abdominal o linfadenopatía.', 'No hay evidencia de masa vesical intrínseca o extrínseca .', 'No hay ascitis pélvica ni linfadenopatía .', 'El útero y los ovarios no presentan ninguna anomalía.', 'Las imágenes de las bases pulmonares no muestran evidencia de masa pleural o parenquimatosa .', 'No hay derrames pleurales.', 'Hay cicatrices en el lóbulo medio derecho y en la língula, así como en ambas bases pulmonares.', 'Las estructuras óseas están libres de lesiones líticas o blásticas.', 'Se observan cambios degenerativos multinivel en la columna toracolumbar.', 'Se observan calcificaciones dispersas en la aorta y en sus principales ramas, compatibles con la aterosclerosis.']\n"
          ]
        }
      ]
    },
    {
      "cell_type": "code",
      "source": [
        "preprocessed_doc_sm = NLP_preprocesaDocumento(nlp_sm, doc)\n",
        "print(preprocessed_doc_sm)"
      ],
      "metadata": {
        "colab": {
          "base_uri": "https://localhost:8080/"
        },
        "id": "xvA_WYtdjFOz",
        "outputId": "59f62d87-6ab4-4e29-b6b7-6c6107c75d3a"
      },
      "execution_count": null,
      "outputs": [
        {
          "output_type": "stream",
          "name": "stdout",
          "text": [
            "evidenciar hipoatenuacion hepatico difusa compatible infiltracion gras dilatacion conducto biliar intra extrahepatico paciente encontrar post colecistectomia bazo normal pancreo contorno caracteristico atenuacion normal evidenciar masa suprarrenal hernia supraumbilical tamaño moderado contener grasa riñon normal tamaño forma configuracion identificar calculo renal ureteral hidroureter hidronefrosis evidenciar apendicitis asa intestino delgado llenar liquido compatible enteriti leve engrosamiento pared intestinal evidenciar obstruccion intestino delgado grueso evidencia asciti abdominal linfadenopatir evidencio masa vesical intrinseco extrinseca asciti pelvico linfadenopatir utero ovario presentar anomalio imagen base pulmonar mostrar evidencio masa pleural parenquimatos derrame pleural cicatriz lobulo derecho lingular base pulmonar estructura oseo libre lesion litico blastico observar cambio degenerativo multinivel columno toracolumbar observar calcificacion disperso aorta principal rama compatible aterosclerosis\n"
          ]
        }
      ]
    },
    {
      "cell_type": "markdown",
      "source": [
        "Modelo es_core_news_md (medium):"
      ],
      "metadata": {
        "id": "E47zqzJ9hoyi"
      }
    },
    {
      "cell_type": "code",
      "source": [
        "modelname = \"es_core_news_md\""
      ],
      "metadata": {
        "id": "5bKEKTMfhtYp"
      },
      "execution_count": null,
      "outputs": []
    },
    {
      "cell_type": "code",
      "source": [
        "#Cargamos el modelo en español\n",
        "nlp_md = spacy.load(modelname)"
      ],
      "metadata": {
        "id": "jVkr4cy3htYp"
      },
      "execution_count": null,
      "outputs": []
    },
    {
      "cell_type": "code",
      "source": [
        "#Troceamos en frases el contenido del informe\n",
        "frases_md = split_sentences(nlp_md, doc)\n",
        "print(frases_md)"
      ],
      "metadata": {
        "colab": {
          "base_uri": "https://localhost:8080/"
        },
        "outputId": "7924c374-d73d-4115-a466-a6d77f5cf5e3",
        "id": "90QF6b77htYq"
      },
      "execution_count": null,
      "outputs": [
        {
          "output_type": "stream",
          "name": "stdout",
          "text": [
            "['Hay evidencia de hipoatenuación hepática difusa compatible con infiltración grasa .', 'No hay dilatación de los conductos biliares intra o extrahepáticos.', 'El paciente se encuentra en estado post colecistectomía.', 'El bazo es normal.', 'El páncreas es de contorno y características de atenuación normales.', 'No hay evidencia de masa suprarrenal.', 'Hay una hernia supraumbilical de tamaño moderado que contiene grasa.', 'Los riñones son normales en tamaño, forma y configuración.', 'No se identifican cálculos renales ni ureterales.', 'No hay hidrouréter ni hidronefrosis.', 'No hay evidencia de apendicitis.', 'Hay varias asas de intestino delgado llenas de líquido, compatibles con una enteritis leve.', 'No hay engrosamiento de la pared intestinal.', 'No hay evidencia de obstrucción del intestino delgado o grueso.', 'No hay evidencia de ascitis abdominal o linfadenopatía.', 'No hay evidencia de masa vesical intrínseca o extrínseca .', 'No hay ascitis pélvica ni linfadenopatía .', 'El útero y los ovarios no presentan ninguna anomalía.', 'Las imágenes de las bases pulmonares no muestran evidencia de masa pleural o parenquimatosa .', 'No hay derrames pleurales.', 'Hay cicatrices en el lóbulo medio derecho y en la língula, así como en ambas bases pulmonares.', 'Las estructuras óseas están libres de lesiones líticas o blásticas.', 'Se observan cambios degenerativos multinivel en la columna toracolumbar.', 'Se observan calcificaciones dispersas en la aorta y en sus principales ramas, compatibles con la aterosclerosis.']\n"
          ]
        }
      ]
    },
    {
      "cell_type": "code",
      "source": [
        "preprocessed_doc_md = NLP_preprocesaDocumento(nlp_md, doc)\n",
        "print(preprocessed_doc_md)"
      ],
      "metadata": {
        "colab": {
          "base_uri": "https://localhost:8080/"
        },
        "outputId": "28130532-f3bc-418b-9f27-ae8dfa851f46",
        "id": "j96SWyh-htYq"
      },
      "execution_count": null,
      "outputs": [
        {
          "output_type": "stream",
          "name": "stdout",
          "text": [
            "evidenciar hipoatenuacion hepatico difu compatible infiltracion gra dilatacion conducto biliar entrar extrahepatico paciente encontrar post colecistectomia bazo normal pancrea contorno caracteristico atenuacion normal evidenciar masa suprarrenal hernia supraumbilical tamaño moderado contener grasa riñon normal tamaño formar configuracion identificar calculo renal ureteral hidroureter hidronefrosis evidenciar apendicitis asa intestino delgado lleno liquido compatible enteritis leve engrosamiento pared intestinal evidenciar obstruccion intestino delgado grueso evidenciar ascitis abdominal linfadenopatia evidenciar masa vesical intrinseco extrinseca ascitis pelvico linfadenopatia utero ovario presentar anomalia imagen base pulmonar mostrar evidenciar masa pleural parenquimatos derrame pleural cicatriz lobulo derecho lingulo base pulmonar estructura oseo libre lesion litico blastico observar cambio degenerativo multinivel columna toracolumbar observar calcificacion disperso aorto principal rama compatible aterosclerosis\n"
          ]
        }
      ]
    },
    {
      "cell_type": "markdown",
      "source": [
        "Modelo es_core_news_lg (large):"
      ],
      "metadata": {
        "id": "aSME4IWgjxCI"
      }
    },
    {
      "cell_type": "code",
      "source": [
        "modelname = \"es_core_news_lg\""
      ],
      "metadata": {
        "id": "RJFcyTA0j5Pf"
      },
      "execution_count": null,
      "outputs": []
    },
    {
      "cell_type": "code",
      "source": [
        "#Cargamos el modelo en español\n",
        "nlp_lg = spacy.load(modelname)"
      ],
      "metadata": {
        "id": "IvWOkVZRj5Pf"
      },
      "execution_count": null,
      "outputs": []
    },
    {
      "cell_type": "code",
      "source": [
        "#Troceamos en frases el contenido del informe\n",
        "frases_lg = split_sentences(nlp_lg, doc)\n",
        "print(frases_lg)"
      ],
      "metadata": {
        "colab": {
          "base_uri": "https://localhost:8080/"
        },
        "outputId": "2e15872c-ed26-4a5e-9b34-f345ffe19c67",
        "id": "LGMeVEdij5Pf"
      },
      "execution_count": null,
      "outputs": [
        {
          "output_type": "stream",
          "name": "stdout",
          "text": [
            "['Hay evidencia de hipoatenuación hepática difusa compatible con infiltración grasa .', 'No hay dilatación de los conductos biliares intra o extrahepáticos.', 'El paciente se encuentra en estado post colecistectomía.', 'El bazo es normal.', 'El páncreas es de contorno y características de atenuación normales.', 'No hay evidencia de masa suprarrenal.', 'Hay una hernia supraumbilical de tamaño moderado que contiene grasa.', 'Los riñones son normales en tamaño, forma y configuración.', 'No se identifican cálculos renales ni ureterales.', 'No hay hidrouréter ni hidronefrosis.', 'No hay evidencia de apendicitis.', 'Hay varias asas de intestino delgado llenas de líquido, compatibles con una enteritis leve.', 'No hay engrosamiento de la pared intestinal.', 'No hay evidencia de obstrucción del intestino delgado o grueso.', 'No hay evidencia de ascitis abdominal o linfadenopatía.', 'No hay evidencia de masa vesical intrínseca o extrínseca .', 'No hay ascitis pélvica ni linfadenopatía .', 'El útero y los ovarios no presentan ninguna anomalía.', 'Las imágenes de las bases pulmonares no muestran evidencia de masa pleural o parenquimatosa .', 'No hay derrames pleurales.', 'Hay cicatrices en el lóbulo medio derecho y en la língula, así como en ambas bases pulmonares.', 'Las estructuras óseas están libres de lesiones líticas o blásticas.', 'Se observan cambios degenerativos multinivel en la columna toracolumbar.', 'Se observan calcificaciones dispersas en la aorta y en sus principales ramas, compatibles con la aterosclerosis.']\n"
          ]
        }
      ]
    },
    {
      "cell_type": "code",
      "source": [
        "preprocessed_doc_lg = NLP_preprocesaDocumento(nlp_lg, doc)\n",
        "print(preprocessed_doc_lg)"
      ],
      "metadata": {
        "colab": {
          "base_uri": "https://localhost:8080/"
        },
        "outputId": "c588f93c-6396-4632-cd12-fc5c88c23184",
        "id": "rwJQMQfnj5Pg"
      },
      "execution_count": null,
      "outputs": [
        {
          "output_type": "stream",
          "name": "stdout",
          "text": [
            "evidenciar hipoatenuacion hepatico difu compatible infiltracion grasa dilatacion conducto biliar intro extrahepatico paciente encontrar post colecistectomia bazo normal pancreas contorno caracteristico atenuacion normal evidenciar masa suprarrenal hernia supraumbilical tamaño moderado contener grasa riñon normal tamaño formar configuracion identificar calculo renal ureteral hidroureter hidronefrosis evidenciar apendiciti asa intestino delgado lleno liquido compatible enteritis leve engrosamiento pared intestinal evidenciar obstruccion intestino delgado grueso evidenciar ascitis abdominal linfadenopatio evidenciar masa vesical intrinseco extrinseco ascitis pelvico linfadenopatia utero ovario presentar anomalia imagen base pulmonar mostrar evidencio masa pleural parenquimatos derrame pleural cicatriz lobulo derecho lingular base pulmonar estructura oseo libre lesion litico blasticas observar cambio degenerativo multinivel columnar toracolumbar observar calcificacion disperso aortar principal rama compatible aterosclerosis\n"
          ]
        }
      ]
    },
    {
      "cell_type": "markdown",
      "source": [],
      "metadata": {
        "id": "MkEwW6wWlJMr"
      }
    },
    {
      "cell_type": "code",
      "source": [
        "import difflib\n",
        "\n",
        "texto1 = preprocessed_doc_sm\n",
        "texto2 = preprocessed_doc_md\n",
        "\n",
        "# Crea listas con las líneas de los textos anteriores\n",
        "lineas1 = texto1.splitlines()\n",
        "lineas2 = texto2.splitlines()\n",
        "\n",
        "# Obtiene diferencias \n",
        "\n",
        "diferencia = difflib.Differ()\n",
        "generador_diferencia = diferencia.compare(lineas1, lineas2)\n",
        "print('lineas1', type(lineas1), 'lineas2', type(lineas2))\n",
        "\n",
        "print('\\n'.join(generador_diferencia))"
      ],
      "metadata": {
        "colab": {
          "base_uri": "https://localhost:8080/"
        },
        "id": "Tz8QEY1_lJrT",
        "outputId": "49b23afe-9717-49f0-f514-17238322c5e7"
      },
      "execution_count": null,
      "outputs": [
        {
          "output_type": "stream",
          "name": "stdout",
          "text": [
            "lineas1 <class 'list'> lineas2 <class 'list'>\n",
            "- evidenciar hipoatenuacion hepatico difusa compatible infiltracion gras dilatacion conducto biliar intra extrahepatico paciente encontrar post colecistectomia bazo normal pancreo contorno caracteristico atenuacion normal evidenciar masa suprarrenal hernia supraumbilical tamaño moderado contener grasa riñon normal tamaño forma configuracion identificar calculo renal ureteral hidroureter hidronefrosis evidenciar apendicitis asa intestino delgado llenar liquido compatible enteriti leve engrosamiento pared intestinal evidenciar obstruccion intestino delgado grueso evidencia asciti abdominal linfadenopatir evidencio masa vesical intrinseco extrinseca asciti pelvico linfadenopatir utero ovario presentar anomalio imagen base pulmonar mostrar evidencio masa pleural parenquimatos derrame pleural cicatriz lobulo derecho lingular base pulmonar estructura oseo libre lesion litico blastico observar cambio degenerativo multinivel columno toracolumbar observar calcificacion disperso aorta principal rama compatible aterosclerosis\n",
            "?                                        --                            ^^^^^^^^^^^^^^^^^^^^^^^^^^^^^^^^^^                                                                         ^                                                                                                                                                                                                                                                                                  ^^                                                                                                                          ^^^^^^^                        ^^^^^^^^^^^                                                                ^^^^^^^^^^^^^^^^^^^^^^^^^^^^^^^^^                                      ^                                                                          ^^                                                                                                          ^                                                  ^^^^^^^^^^^^^^^^^^^^^^^^^^^^^^^^^^^^^^^^^^\n",
            "\n",
            "+ evidenciar hipoatenuacion hepatico difu compatible infiltracion gra dilatacion conducto biliar entrar extrahepatico paciente encontrar post colecistectomia bazo normal pancrea contorno caracteristico atenuacion normal evidenciar masa suprarrenal hernia supraumbilical tamaño moderado contener grasa riñon normal tamaño formar configuracion identificar calculo renal ureteral hidroureter hidronefrosis evidenciar apendicitis asa intestino delgado lleno liquido compatible enteritis leve engrosamiento pared intestinal evidenciar obstruccion intestino delgado grueso evidenciar ascitis abdominal linfadenopatia evidenciar masa vesical intrinseco extrinseca ascitis pelvico linfadenopatia utero ovario presentar anomalia imagen base pulmonar mostrar evidenciar masa pleural parenquimatos derrame pleural cicatriz lobulo derecho lingulo base pulmonar estructura oseo libre lesion litico blastico observar cambio degenerativo multinivel columna toracolumbar observar calcificacion disperso aorto principal rama compatible aterosclerosis\n",
            "?                                                                    ^^^^^^^^^^^^^^^^^^^^^^^^^^^^^^^^^^                                                                         ^                                                                                                                                                     +                                                                                                                             ^                            +                                                                                              ^^^^^^^^^                        ^^^^^^^^^^^^                                          +                      ^^^^^^^^^^^^^^^^^^^^^^^^^^^^^^^^^                                      ^^                                                                          ^                                                                                                          ^                                                  ^^^^^^^^^^^^^^^^^^^^^^^^^^^^^^^^^^^^^^^^^^\n",
            "\n"
          ]
        }
      ]
    },
    {
      "cell_type": "code",
      "source": [
        "texto1 = preprocessed_doc_md\n",
        "texto2 = preprocessed_doc_lg\n",
        "\n",
        "# Crea listas con las líneas de los textos anteriores\n",
        "lineas1 = texto1.splitlines()\n",
        "lineas2 = texto2.splitlines()\n",
        "\n",
        "# Obtiene diferencias \n",
        "\n",
        "diferencia = difflib.Differ()\n",
        "generador_diferencia = diferencia.compare(lineas1, lineas2)\n",
        "print('lineas1', type(lineas1), 'lineas2', type(lineas2))\n",
        "\n",
        "print('\\n'.join(generador_diferencia))"
      ],
      "metadata": {
        "colab": {
          "base_uri": "https://localhost:8080/"
        },
        "id": "ll6S_FRD3Qky",
        "outputId": "16601586-59cd-4733-906a-bbc75307d861"
      },
      "execution_count": null,
      "outputs": [
        {
          "output_type": "stream",
          "name": "stdout",
          "text": [
            "lineas1 <class 'list'> lineas2 <class 'list'>\n",
            "- evidenciar hipoatenuacion hepatico difu compatible infiltracion gra dilatacion conducto biliar entrar extrahepatico paciente encontrar post colecistectomia bazo normal pancrea contorno caracteristico atenuacion normal evidenciar masa suprarrenal hernia supraumbilical tamaño moderado contener grasa riñon normal tamaño formar configuracion identificar calculo renal ureteral hidroureter hidronefrosis evidenciar apendicitis asa intestino delgado lleno liquido compatible enteritis leve engrosamiento pared intestinal evidenciar obstruccion intestino delgado grueso evidenciar ascitis abdominal linfadenopatia evidenciar masa vesical intrinseco extrinseca ascitis pelvico linfadenopatia utero ovario presentar anomalia imagen base pulmonar mostrar evidenciar masa pleural parenquimatos derrame pleural cicatriz lobulo derecho lingulo base pulmonar estructura oseo libre lesion litico blastico observar cambio degenerativo multinivel columna toracolumbar observar calcificacion disperso aorto principal rama compatible aterosclerosis\n",
            "?                                                                    ^^^^^^^^^^^^^^^^^^^^^^^^^^^^^^^^^^                                                                                                                                                                                                                                                                                                                                 -                                                                                                                                                                                        ^                                             ^                                                                                                     ^^                                                                          ^^^^^^^^^^^^^^^^^^^^^^^^^^^^^^^^^^^^^^^^^^^^^^^^^^^^^^^^^^^^                                                                                                  ^^^^^^^^^^^^^^^^^^^^^^^^^^^^^^^^^^^^^^^^^^\n",
            "\n",
            "+ evidenciar hipoatenuacion hepatico difu compatible infiltracion grasa dilatacion conducto biliar intro extrahepatico paciente encontrar post colecistectomia bazo normal pancreas contorno caracteristico atenuacion normal evidenciar masa suprarrenal hernia supraumbilical tamaño moderado contener grasa riñon normal tamaño formar configuracion identificar calculo renal ureteral hidroureter hidronefrosis evidenciar apendiciti asa intestino delgado lleno liquido compatible enteritis leve engrosamiento pared intestinal evidenciar obstruccion intestino delgado grueso evidenciar ascitis abdominal linfadenopatio evidenciar masa vesical intrinseco extrinseco ascitis pelvico linfadenopatia utero ovario presentar anomalia imagen base pulmonar mostrar evidencio masa pleural parenquimatos derrame pleural cicatriz lobulo derecho lingular base pulmonar estructura oseo libre lesion litico blasticas observar cambio degenerativo multinivel columnar toracolumbar observar calcificacion disperso aortar principal rama compatible aterosclerosis\n",
            "?                                                                    ^^^^^^^^^^^^^^^^^^^^^^^^^^^^^^^^^^^                                                                          +                                                                                                                                                                                                                                                                                                                                                                                                                                               ^                                             ^                                                                                                     ^                                                                          ^^^^^^^^^^^^^^^^^^^^^^^^^^^^^^^^^^^^^^^^^^^^^^^^^^^^^^^^^^^^^^                                                +                                                  ^^^^^^^^^^^^^^^^^^^^^^^^^^^^^^^^^^^^^^^^^^^\n",
            "\n"
          ]
        }
      ]
    },
    {
      "cell_type": "code",
      "source": [
        "texto1 = preprocessed_doc_sm\n",
        "texto2 = preprocessed_doc_lg\n",
        "\n",
        "# Crea listas con las líneas de los textos anteriores\n",
        "lineas1 = texto1.splitlines()\n",
        "lineas2 = texto2.splitlines()\n",
        "\n",
        "# Obtiene diferencias \n",
        "\n",
        "diferencia = difflib.Differ()\n",
        "generador_diferencia = diferencia.compare(lineas1, lineas2)\n",
        "print('lineas1', type(lineas1), 'lineas2', type(lineas2))\n",
        "\n",
        "print('\\n'.join(generador_diferencia))"
      ],
      "metadata": {
        "colab": {
          "base_uri": "https://localhost:8080/"
        },
        "id": "QPvwE5X0mFNq",
        "outputId": "007b0e36-787f-491d-8664-6a44f3ea950c"
      },
      "execution_count": null,
      "outputs": [
        {
          "output_type": "stream",
          "name": "stdout",
          "text": [
            "lineas1 <class 'list'> lineas2 <class 'list'>\n",
            "- evidenciar hipoatenuacion hepatico difusa compatible infiltracion gras dilatacion conducto biliar intra extrahepatico paciente encontrar post colecistectomia bazo normal pancreo contorno caracteristico atenuacion normal evidenciar masa suprarrenal hernia supraumbilical tamaño moderado contener grasa riñon normal tamaño forma configuracion identificar calculo renal ureteral hidroureter hidronefrosis evidenciar apendicitis asa intestino delgado llenar liquido compatible enteriti leve engrosamiento pared intestinal evidenciar obstruccion intestino delgado grueso evidencia asciti abdominal linfadenopatir evidencio masa vesical intrinseco extrinseca asciti pelvico linfadenopatir utero ovario presentar anomalio imagen base pulmonar mostrar evidencio masa pleural parenquimatos derrame pleural cicatriz lobulo derecho lingular base pulmonar estructura oseo libre lesion litico blastico observar cambio degenerativo multinivel columno toracolumbar observar calcificacion disperso aorta principal rama compatible aterosclerosis\n",
            "?                                        --                             ^^^^^^^^^^^^^^^^^^^^^^^^^^^^^^^^^                                                                         ^                                                                                                                                                                                                                                                      -                           ^^                                                                                                                          ^^^^^^^                        ^^^^^^^^^^^                                  ^^^^^^^^                      ^^^^^^^^^^^^^^^^^^^^^^^^^^^^^^^^^                                                                                                                                                                             ^                                               ^                                                   ^^^^^^^^^^^^^^^^^^^^^^^^^^^^^^^^^^^^^^^^^\n",
            "\n",
            "+ evidenciar hipoatenuacion hepatico difu compatible infiltracion grasa dilatacion conducto biliar intro extrahepatico paciente encontrar post colecistectomia bazo normal pancreas contorno caracteristico atenuacion normal evidenciar masa suprarrenal hernia supraumbilical tamaño moderado contener grasa riñon normal tamaño formar configuracion identificar calculo renal ureteral hidroureter hidronefrosis evidenciar apendiciti asa intestino delgado lleno liquido compatible enteritis leve engrosamiento pared intestinal evidenciar obstruccion intestino delgado grueso evidenciar ascitis abdominal linfadenopatio evidenciar masa vesical intrinseco extrinseco ascitis pelvico linfadenopatia utero ovario presentar anomalia imagen base pulmonar mostrar evidencio masa pleural parenquimatos derrame pleural cicatriz lobulo derecho lingular base pulmonar estructura oseo libre lesion litico blasticas observar cambio degenerativo multinivel columnar toracolumbar observar calcificacion disperso aortar principal rama compatible aterosclerosis\n",
            "?                                                                     ^^^^^^^^^^^^^^^^^^^^^^^^^^^^^^^^^^                                                                         ^^                                                                                                                                                     +                                                                                                                            ^                            +                                                                                              ^^^^^^^^^                        ^^^^^^^^^^^^                                  ^^^^^^^^^                      ^^^^^^^^^^^^^^^^^^^^^^^^^^^^^^^^^                                                                                                                                                                             ^^                                               ^^                                                   ^^^^^^^^^^^^^^^^^^^^^^^^^^^^^^^^^^^^^^^^^^\n",
            "\n"
          ]
        }
      ]
    }
  ]
}