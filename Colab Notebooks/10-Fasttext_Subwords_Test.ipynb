{
  "nbformat": 4,
  "nbformat_minor": 0,
  "metadata": {
    "colab": {
      "provenance": []
    },
    "kernelspec": {
      "name": "python3",
      "display_name": "Python 3"
    },
    "language_info": {
      "name": "python"
    }
  },
  "cells": [
    {
      "cell_type": "markdown",
      "source": [
        "\n",
        "https://github.com/google/sentencepiece\n",
        "https://github.com/google/sentencepiece/blob/master/python/sentencepiece_python_module_example.ipynb\n"
      ],
      "metadata": {
        "id": "Mqpr-7JJRJ4g"
      }
    },
    {
      "cell_type": "code",
      "execution_count": null,
      "metadata": {
        "colab": {
          "base_uri": "https://localhost:8080/"
        },
        "id": "foKf_zl3DjSj",
        "outputId": "5f613941-a66a-4274-8969-616db607da2a"
      },
      "outputs": [
        {
          "output_type": "stream",
          "name": "stdout",
          "text": [
            "Looking in indexes: https://pypi.org/simple, https://us-python.pkg.dev/colab-wheels/public/simple/\n",
            "Collecting sentencepiece\n",
            "  Downloading sentencepiece-0.1.97-cp38-cp38-manylinux_2_17_x86_64.manylinux2014_x86_64.whl (1.3 MB)\n",
            "\u001b[2K     \u001b[90m━━━━━━━━━━━━━━━━━━━━━━━━━━━━━━━━━━━━━━━━\u001b[0m \u001b[32m1.3/1.3 MB\u001b[0m \u001b[31m16.1 MB/s\u001b[0m eta \u001b[36m0:00:00\u001b[0m\n",
            "\u001b[?25hInstalling collected packages: sentencepiece\n",
            "Successfully installed sentencepiece-0.1.97\n"
          ]
        }
      ],
      "source": [
        "!pip install sentencepiece\n",
        "import sentencepiece as spm\n"
      ]
    },
    {
      "cell_type": "code",
      "source": [
        "sp = spm.SentencePieceProcessor(model_file='drive/MyDrive/models/sp-cli-sw-emb-uncased-clinic.model')\n",
        "#sp = spm.SentencePieceProcessor(model_file='drive/MyDrive/models/sp-cli-sw-emb-uncased-clinic.model', vocabulary='drive/MyDrive/models/sp-cli-sw-emb-uncased-clinic.vocab')"
      ],
      "metadata": {
        "id": "TCdrH4ZpDvgK"
      },
      "execution_count": null,
      "outputs": []
    },
    {
      "cell_type": "code",
      "source": [
        "sp.encode('This is a test', out_type=str)"
      ],
      "metadata": {
        "colab": {
          "base_uri": "https://localhost:8080/"
        },
        "id": "1TFX_SA2D3Y9",
        "outputId": "a079d2ab-928e-44b7-c1fa-1003388ccd79"
      },
      "execution_count": null,
      "outputs": [
        {
          "output_type": "execute_result",
          "data": {
            "text/plain": [
              "['▁', 'T', 'his', '▁is', '▁a', '▁test']"
            ]
          },
          "metadata": {},
          "execution_count": 9
        }
      ]
    },
    {
      "cell_type": "code",
      "source": [
        "text = 'hello world'\n",
        "text = 'abdomen distendido'\n",
        "#text = '<s>' + text + '</s>'\n",
        "\n",
        "print('bos=', sp.bos_id())\n",
        "print('eos=', sp.eos_id())\n",
        "print('unk=', sp.unk_id())\n",
        "print('pad=', sp.pad_id())  # disabled by default\n",
        "\n",
        "print(sp.encode(text, out_type=str))\n",
        "print(sp.encode_as_ids(text))\n",
        "\n",
        "# Prepend or append bos/eos ids.\n",
        "ant=[sp.bos_id()] + sp.encode_as_ids(text) + [sp.eos_id()]\n",
        "print(ant)\n",
        "print(sp.decode(ant))\n",
        "print(sp.encode_as_pieces(text))   # , are handled as one token."
      ],
      "metadata": {
        "colab": {
          "base_uri": "https://localhost:8080/"
        },
        "id": "6FxCrsBHIx7J",
        "outputId": "6b8a5902-3206-46b0-9186-00df63dfa6ce"
      },
      "execution_count": null,
      "outputs": [
        {
          "output_type": "stream",
          "name": "stdout",
          "text": [
            "bos= 1\n",
            "eos= 2\n",
            "unk= 0\n",
            "pad= -1\n",
            "['▁abdomen', '▁distendido']\n",
            "[1260, 6549]\n",
            "[1, 1260, 6549, 2]\n",
            "abdomen distendido\n",
            "['▁abdomen', '▁distendido']\n"
          ]
        }
      ]
    },
    {
      "cell_type": "code",
      "source": [
        "\n",
        "print(sp.decode([sp.bos_id()]))"
      ],
      "metadata": {
        "colab": {
          "base_uri": "https://localhost:8080/"
        },
        "id": "VhjidIFULnCl",
        "outputId": "e48d50fd-72e5-447c-940e-d0577bc2e207"
      },
      "execution_count": null,
      "outputs": [
        {
          "output_type": "stream",
          "name": "stdout",
          "text": [
            "\n"
          ]
        }
      ]
    },
    {
      "cell_type": "code",
      "source": [
        "!pip install gensim\n",
        "from gensim.models import FastText\n",
        "\n",
        "#El fichero .vec, nos vale sólo para palabras exactas\n",
        "#Necesitamos usar el modelo .bin, para poder extraer el embedding de palabras nuevas\n",
        "def cargaEmbeddingFasttext():\n",
        "  model = FastText.load_fasttext_format('drive/MyDrive/models/sp-cli-sw-emb-uncased-skip-d50-clinic_es.bin')\n",
        "  return model\n",
        "\n",
        "def obtenEmbedding(model, doc):\n",
        "  return model.wv.get_vector(doc)"
      ],
      "metadata": {
        "colab": {
          "base_uri": "https://localhost:8080/"
        },
        "id": "wiI3ZZwGGC2M",
        "outputId": "59dd45f1-77f2-44ab-8c49-4cbcccd4dad0"
      },
      "execution_count": null,
      "outputs": [
        {
          "output_type": "stream",
          "name": "stdout",
          "text": [
            "Looking in indexes: https://pypi.org/simple, https://us-python.pkg.dev/colab-wheels/public/simple/\n",
            "Requirement already satisfied: gensim in /usr/local/lib/python3.8/dist-packages (3.6.0)\n",
            "Requirement already satisfied: six>=1.5.0 in /usr/local/lib/python3.8/dist-packages (from gensim) (1.15.0)\n",
            "Requirement already satisfied: smart-open>=1.2.1 in /usr/local/lib/python3.8/dist-packages (from gensim) (6.3.0)\n",
            "Requirement already satisfied: scipy>=0.18.1 in /usr/local/lib/python3.8/dist-packages (from gensim) (1.7.3)\n",
            "Requirement already satisfied: numpy>=1.11.3 in /usr/local/lib/python3.8/dist-packages (from gensim) (1.21.6)\n"
          ]
        }
      ]
    },
    {
      "cell_type": "code",
      "source": [
        "def obtenEmbedding(model, doc):\n",
        "  return model.wv.get_vector(doc)"
      ],
      "metadata": {
        "id": "iJv32FHMGRLn"
      },
      "execution_count": null,
      "outputs": []
    },
    {
      "cell_type": "code",
      "source": [
        "model = cargaEmbeddingFasttext()"
      ],
      "metadata": {
        "id": "BEXC6CTRGXaj"
      },
      "execution_count": null,
      "outputs": []
    },
    {
      "cell_type": "code",
      "source": [
        "texto1 = 'abdomen distendido'\n",
        "texto2 = 'abdomen distendido'\n",
        "vector_A = obtenEmbedding(model,sp.decode([sp.bos_id()] + sp.encode_as_ids(texto1) + [sp.eos_id()]))\n",
        "vector_B = obtenEmbedding(model,sp.decode([sp.bos_id()] + sp.encode_as_ids(texto2) + [sp.eos_id()]))\n",
        "import numpy as np\n",
        "from numpy.linalg import norm\n",
        "cosine = np.dot(vector_A,vector_B)/(norm(vector_A)*norm(vector_B))\n",
        "print(cosine)"
      ],
      "metadata": {
        "colab": {
          "base_uri": "https://localhost:8080/"
        },
        "id": "5XbHTZLMGYEF",
        "outputId": "6495c09a-c1ef-48c9-d2cd-c236cb53620e"
      },
      "execution_count": null,
      "outputs": [
        {
          "output_type": "stream",
          "name": "stdout",
          "text": [
            "0.9607276\n"
          ]
        }
      ]
    }
  ]
}