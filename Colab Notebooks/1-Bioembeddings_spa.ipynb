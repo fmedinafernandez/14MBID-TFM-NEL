{
  "nbformat": 4,
  "nbformat_minor": 0,
  "metadata": {
    "colab": {
      "provenance": []
    },
    "kernelspec": {
      "name": "python3",
      "display_name": "Python 3"
    },
    "language_info": {
      "name": "python"
    }
  },
  "cells": [
    {
      "cell_type": "markdown",
      "source": [
        "Usando Embeddings\n",
        "\n",
        "\n",
        "\n",
        "https://github.com/PlanTL-GOB-ES/Biomedical-Word-Embeddings-for-Spanish\n",
        "\n",
        "Biomedical Word Embeddings for Spanish: Development and Evaluation (v3.0)"
      ],
      "metadata": {
        "id": "ScRwqeOmq7NB"
      }
    },
    {
      "cell_type": "code",
      "execution_count": null,
      "metadata": {
        "id": "-iAzBypNq3OA"
      },
      "outputs": [],
      "source": [
        "#!pip install gensim\n",
        "from gensim.models import FastText\n",
        "import numpy as np"
      ]
    },
    {
      "cell_type": "code",
      "source": [],
      "metadata": {
        "id": "5RF08NNAreQd"
      },
      "execution_count": null,
      "outputs": []
    },
    {
      "cell_type": "code",
      "source": [
        "def usingVectors():\n",
        "    #Cargamos los embeddings de todas las palabras del modelo preentrenado\n",
        "    from gensim.models import KeyedVectors\n",
        "    word_vectors = KeyedVectors.load_word2vec_format('drive/MyDrive/clinic_es.vec', binary=False)\n",
        "    vector = word_vectors['paciente']  # numpy vector of a word\n",
        "    print(vector.shape)\n",
        "    print(vector)\n",
        "\n",
        "    #Obtenemos el embedding de todas las palabras del vocabulario\n",
        "    vocab = [\"paciente\", \"fiebre\", \"hematoma\", \"glande\"]\n",
        "    #vocab_embedding = {}\n",
        "    #for word in vocab:\n",
        "    #    vocab_embedding[word] = word_vectors[word]\n",
        "\n",
        "    #Obtenemos el embedding de informe\n",
        "    informe = [\"el\", \"paciente\", \"tiene\", \"un\", \"gran\", \"hematoma\"]\n",
        "    #informe_embedding = {}\n",
        "    #for word in informe:\n",
        "    #    informe_embedding[word] = word_vectors[word]\n",
        "\n",
        "    #Comparamos ambos embedding para ver la similaridad\n",
        "    for word1 in informe:\n",
        "        for word2 in vocab:\n",
        "            distance = word_vectors.distance(word1, word2)\n",
        "            #print(f\"{distance:.1f}\")\n",
        "            if distance < 0.2:\n",
        "                print(word2)\n",
        "\n",
        "    #Obtenemos el embedding de informe\n",
        "    informe = [\"el\", \"pacientin\", \"tiene\", \"un\", \"gran\", \"hematomin\"]\n",
        "    #informe_embedding = {}\n",
        "    #for word in informe:\n",
        "    #    informe_embedding[word] = word_vectors[word]\n",
        "\n",
        "    #Comparamos ambos embedding para ver la similaridad\n",
        "    for word1 in informe:\n",
        "        for word2 in vocab:\n",
        "            distance = word_vectors.distance(word1, word2)\n",
        "            #print(f\"{distance:.1f}\")\n",
        "            if distance < 0.2:\n",
        "                print(word2)"
      ],
      "metadata": {
        "id": "23sdJBParLEM"
      },
      "execution_count": null,
      "outputs": []
    },
    {
      "cell_type": "code",
      "source": [
        "usingVectors()"
      ],
      "metadata": {
        "colab": {
          "base_uri": "https://localhost:8080/",
          "height": 1000
        },
        "id": "7X_rY8Ckrudb",
        "outputId": "56f0ccaa-0257-4597-ba0c-531bd58254f5"
      },
      "execution_count": null,
      "outputs": [
        {
          "output_type": "stream",
          "name": "stdout",
          "text": [
            "(300,)\n",
            "[-6.5738e-02  1.3099e+00  4.9154e-01 -1.0067e+00  1.5844e+00 -1.3216e+00\n",
            " -1.2727e+00 -7.4601e-01 -1.7752e-01 -6.1044e-01 -4.4892e-01 -9.9951e-01\n",
            "  1.9555e+00 -6.1453e-01 -1.4903e-02  5.1223e-01  2.6405e-01  5.8399e-01\n",
            "  1.4646e+00 -1.1687e-01 -1.3951e+00 -2.5507e+00  1.2773e+00 -1.0250e+00\n",
            " -1.0102e+00 -1.9957e+00  9.1094e-01  3.8810e-01 -1.3272e-01 -1.2724e+00\n",
            "  7.8762e-02 -9.5248e-02  4.4141e-01 -3.1971e-01 -1.6160e+00  1.7626e+00\n",
            "  5.1587e-01  1.6547e+00  3.4967e-01 -1.2676e+00  1.3969e+00  1.0735e+00\n",
            "  8.7512e-02  7.1758e-02 -6.5622e-01  5.3481e-01 -2.0859e+00 -5.3893e-01\n",
            " -2.8300e+00 -1.9130e-02 -8.0544e-01 -2.2252e-01  5.9419e-01  9.3402e-01\n",
            " -1.8684e-01  3.4175e-01 -5.9242e-01 -1.3936e+00 -2.0715e+00 -1.2615e+00\n",
            "  1.5490e+00 -1.1358e+00 -2.0034e-01 -7.6767e-01 -4.0441e-01 -2.6127e+00\n",
            " -1.0838e+00  1.0361e-01  8.1057e-01  7.9177e-01 -2.9338e-01 -4.7635e-01\n",
            " -9.7222e-01  1.7191e+00  9.6442e-01  2.6287e-02  1.6041e+00  9.1575e-01\n",
            "  3.5021e-01 -4.7859e-01 -2.5172e+00  1.2515e+00 -6.0657e-01  3.7376e-01\n",
            " -7.2468e-02  8.2486e-01 -3.0212e+00  9.5936e-01 -6.8366e-01 -6.0705e-01\n",
            " -1.1502e+00 -5.2328e-01  9.9923e-01  3.7553e-01  2.1760e-02  3.0393e-01\n",
            " -1.2355e-01  6.7384e-01 -1.1042e+00  4.9178e-02 -1.0468e+00  1.0199e+00\n",
            " -3.1153e-01  6.0776e-01  2.2437e+00  9.5822e-01  2.6359e+00 -5.8242e-01\n",
            "  6.5776e-01 -6.1200e-01 -2.8275e-01 -2.5564e-01  1.2500e+00 -4.6290e-01\n",
            " -4.3010e-01 -1.8836e+00 -6.0506e-02  1.2453e+00 -7.8303e-01  2.4714e-01\n",
            " -1.3043e-01  5.7068e-01  9.2649e-01 -1.4143e-02 -1.1463e+00 -5.5399e-01\n",
            "  6.9964e-02 -5.5100e-01 -3.4465e-01 -4.9327e-01 -6.3599e-02  2.6297e-01\n",
            " -9.7422e-01 -8.6692e-01 -4.0403e-02 -1.2432e+00  6.5121e-01  3.5341e-01\n",
            "  2.5560e-01  5.2638e-01 -8.4296e-01 -3.3255e-01  5.0959e-01 -2.2166e-02\n",
            " -9.0529e-01 -9.5384e-01 -6.8407e-01 -1.1077e+00  4.3201e-01  1.8967e-01\n",
            "  2.6478e+00 -5.6959e-01  5.2012e-02 -3.1780e-01  1.3553e-01  9.8992e-01\n",
            "  2.8001e-02  3.7949e-01  1.5335e+00 -1.3042e+00 -6.2383e-01  3.2777e-01\n",
            "  1.6217e-01 -3.9403e-01  1.3573e+00  5.3436e-01  4.2434e-01  3.9605e-01\n",
            "  4.9391e-02 -3.7651e-01 -7.0416e-01 -4.8134e-01  7.7454e-03 -5.4461e-01\n",
            "  6.9753e-01 -3.4273e-01  5.8148e-01  7.7420e-01 -2.5196e-01  2.1878e-01\n",
            "  7.5697e-03 -1.6455e-01  5.5549e-01  1.1083e+00 -6.4363e-01 -8.4174e-01\n",
            " -5.5035e-01 -3.3499e-01 -1.1725e-01 -1.7601e+00 -1.6664e+00  1.8069e-01\n",
            " -9.3565e-01 -4.7105e-01  1.8578e+00  1.9701e-02  1.9996e-01  2.1740e+00\n",
            " -8.4608e-02 -1.7056e+00  9.2790e-01  3.7266e-01  1.5652e-01  4.1746e-01\n",
            "  1.5096e+00  9.1927e-01 -2.0050e-02 -9.7676e-03  1.0807e+00  1.1819e+00\n",
            "  6.1622e-01  1.9873e-01  1.0521e-01 -3.8334e-01 -3.7351e-01 -4.7386e-01\n",
            "  7.3792e-02 -1.2622e+00 -2.0339e+00 -9.4685e-01 -1.3498e+00 -1.1795e+00\n",
            " -1.7161e-01  6.1106e-01  2.0607e-01 -9.8991e-01 -3.1303e-01  6.0829e-01\n",
            " -3.3276e-01  8.0258e-01 -1.3262e+00 -9.4693e-02 -1.5481e+00 -9.7458e-01\n",
            " -1.4359e+00  1.2682e+00  1.0464e+00 -1.2319e-01  1.4563e-01 -2.2388e-01\n",
            " -2.3871e-01 -2.2216e-01 -4.1614e-01  1.0956e+00  8.3146e-01 -5.9887e-04\n",
            " -7.1611e-02  5.1654e-01  2.2220e-01 -3.5839e-01  8.8121e-01 -1.2732e+00\n",
            " -5.8706e-01  4.0523e-01 -3.5015e-01  8.3919e-01  1.0511e+00 -3.9117e-01\n",
            "  1.5555e+00 -3.7255e-02 -9.4087e-01 -1.2404e+00 -2.0487e+00  6.6109e-01\n",
            " -1.1440e+00 -1.0783e+00  5.7764e-01  4.5018e-01  7.4556e-01  1.6343e+00\n",
            " -2.2968e-01  1.2344e+00 -1.6939e+00 -5.8456e-01 -3.4977e-01  2.6200e-02\n",
            "  2.2571e-01  1.0409e+00 -1.3021e+00  2.1994e-01 -6.6260e-01  6.7223e-01\n",
            " -3.3566e-02  1.3884e+00 -6.8942e-01  1.2076e+00  1.7833e+00 -4.1403e-01\n",
            "  9.2159e-01  1.8902e+00 -6.9222e-01  2.1420e+00 -7.8930e-01  6.1529e-01\n",
            "  2.4577e-01 -1.1102e+00 -6.6180e-01 -6.8332e-01  8.3959e-01 -5.8015e-01]\n",
            "paciente\n",
            "glande\n"
          ]
        },
        {
          "output_type": "error",
          "ename": "KeyError",
          "evalue": "ignored",
          "traceback": [
            "\u001b[0;31m---------------------------------------------------------------------------\u001b[0m",
            "\u001b[0;31mKeyError\u001b[0m                                  Traceback (most recent call last)",
            "\u001b[0;32m<ipython-input-3-032668c717f1>\u001b[0m in \u001b[0;36m<module>\u001b[0;34m\u001b[0m\n\u001b[0;32m----> 1\u001b[0;31m \u001b[0musingVectors\u001b[0m\u001b[0;34m(\u001b[0m\u001b[0;34m)\u001b[0m\u001b[0;34m\u001b[0m\u001b[0;34m\u001b[0m\u001b[0m\n\u001b[0m",
            "\u001b[0;32m<ipython-input-2-a7447565f6b4>\u001b[0m in \u001b[0;36musingVectors\u001b[0;34m()\u001b[0m\n\u001b[1;32m     36\u001b[0m     \u001b[0;32mfor\u001b[0m \u001b[0mword1\u001b[0m \u001b[0;32min\u001b[0m \u001b[0minforme\u001b[0m\u001b[0;34m:\u001b[0m\u001b[0;34m\u001b[0m\u001b[0;34m\u001b[0m\u001b[0m\n\u001b[1;32m     37\u001b[0m         \u001b[0;32mfor\u001b[0m \u001b[0mword2\u001b[0m \u001b[0;32min\u001b[0m \u001b[0mvocab\u001b[0m\u001b[0;34m:\u001b[0m\u001b[0;34m\u001b[0m\u001b[0;34m\u001b[0m\u001b[0m\n\u001b[0;32m---> 38\u001b[0;31m             \u001b[0mdistance\u001b[0m \u001b[0;34m=\u001b[0m \u001b[0mword_vectors\u001b[0m\u001b[0;34m.\u001b[0m\u001b[0mdistance\u001b[0m\u001b[0;34m(\u001b[0m\u001b[0mword1\u001b[0m\u001b[0;34m,\u001b[0m \u001b[0mword2\u001b[0m\u001b[0;34m)\u001b[0m\u001b[0;34m\u001b[0m\u001b[0;34m\u001b[0m\u001b[0m\n\u001b[0m\u001b[1;32m     39\u001b[0m             \u001b[0;31m#print(f\"{distance:.1f}\")\u001b[0m\u001b[0;34m\u001b[0m\u001b[0;34m\u001b[0m\u001b[0;34m\u001b[0m\u001b[0m\n\u001b[1;32m     40\u001b[0m             \u001b[0;32mif\u001b[0m \u001b[0mdistance\u001b[0m \u001b[0;34m<\u001b[0m \u001b[0;36m0.2\u001b[0m\u001b[0;34m:\u001b[0m\u001b[0;34m\u001b[0m\u001b[0;34m\u001b[0m\u001b[0m\n",
            "\u001b[0;32m/usr/local/lib/python3.7/dist-packages/gensim/models/keyedvectors.py\u001b[0m in \u001b[0;36mdistance\u001b[0;34m(self, w1, w2)\u001b[0m\n\u001b[1;32m    972\u001b[0m \u001b[0;34m\u001b[0m\u001b[0m\n\u001b[1;32m    973\u001b[0m         \"\"\"\n\u001b[0;32m--> 974\u001b[0;31m         \u001b[0;32mreturn\u001b[0m \u001b[0;36m1\u001b[0m \u001b[0;34m-\u001b[0m \u001b[0mself\u001b[0m\u001b[0;34m.\u001b[0m\u001b[0msimilarity\u001b[0m\u001b[0;34m(\u001b[0m\u001b[0mw1\u001b[0m\u001b[0;34m,\u001b[0m \u001b[0mw2\u001b[0m\u001b[0;34m)\u001b[0m\u001b[0;34m\u001b[0m\u001b[0;34m\u001b[0m\u001b[0m\n\u001b[0m\u001b[1;32m    975\u001b[0m \u001b[0;34m\u001b[0m\u001b[0m\n\u001b[1;32m    976\u001b[0m     \u001b[0;32mdef\u001b[0m \u001b[0msimilarity\u001b[0m\u001b[0;34m(\u001b[0m\u001b[0mself\u001b[0m\u001b[0;34m,\u001b[0m \u001b[0mw1\u001b[0m\u001b[0;34m,\u001b[0m \u001b[0mw2\u001b[0m\u001b[0;34m)\u001b[0m\u001b[0;34m:\u001b[0m\u001b[0;34m\u001b[0m\u001b[0;34m\u001b[0m\u001b[0m\n",
            "\u001b[0;32m/usr/local/lib/python3.7/dist-packages/gensim/models/keyedvectors.py\u001b[0m in \u001b[0;36msimilarity\u001b[0;34m(self, w1, w2)\u001b[0m\n\u001b[1;32m    990\u001b[0m \u001b[0;34m\u001b[0m\u001b[0m\n\u001b[1;32m    991\u001b[0m         \"\"\"\n\u001b[0;32m--> 992\u001b[0;31m         \u001b[0;32mreturn\u001b[0m \u001b[0mdot\u001b[0m\u001b[0;34m(\u001b[0m\u001b[0mmatutils\u001b[0m\u001b[0;34m.\u001b[0m\u001b[0munitvec\u001b[0m\u001b[0;34m(\u001b[0m\u001b[0mself\u001b[0m\u001b[0;34m[\u001b[0m\u001b[0mw1\u001b[0m\u001b[0;34m]\u001b[0m\u001b[0;34m)\u001b[0m\u001b[0;34m,\u001b[0m \u001b[0mmatutils\u001b[0m\u001b[0;34m.\u001b[0m\u001b[0munitvec\u001b[0m\u001b[0;34m(\u001b[0m\u001b[0mself\u001b[0m\u001b[0;34m[\u001b[0m\u001b[0mw2\u001b[0m\u001b[0;34m]\u001b[0m\u001b[0;34m)\u001b[0m\u001b[0;34m)\u001b[0m\u001b[0;34m\u001b[0m\u001b[0;34m\u001b[0m\u001b[0m\n\u001b[0m\u001b[1;32m    993\u001b[0m \u001b[0;34m\u001b[0m\u001b[0m\n\u001b[1;32m    994\u001b[0m     \u001b[0;32mdef\u001b[0m \u001b[0mn_similarity\u001b[0m\u001b[0;34m(\u001b[0m\u001b[0mself\u001b[0m\u001b[0;34m,\u001b[0m \u001b[0mws1\u001b[0m\u001b[0;34m,\u001b[0m \u001b[0mws2\u001b[0m\u001b[0;34m)\u001b[0m\u001b[0;34m:\u001b[0m\u001b[0;34m\u001b[0m\u001b[0;34m\u001b[0m\u001b[0m\n",
            "\u001b[0;32m/usr/local/lib/python3.7/dist-packages/gensim/models/keyedvectors.py\u001b[0m in \u001b[0;36m__getitem__\u001b[0;34m(self, entities)\u001b[0m\n\u001b[1;32m    335\u001b[0m         \u001b[0;32mif\u001b[0m \u001b[0misinstance\u001b[0m\u001b[0;34m(\u001b[0m\u001b[0mentities\u001b[0m\u001b[0;34m,\u001b[0m \u001b[0mstring_types\u001b[0m\u001b[0;34m)\u001b[0m\u001b[0;34m:\u001b[0m\u001b[0;34m\u001b[0m\u001b[0;34m\u001b[0m\u001b[0m\n\u001b[1;32m    336\u001b[0m             \u001b[0;31m# allow calls like trained_model['office'], as a shorthand for trained_model[['office']]\u001b[0m\u001b[0;34m\u001b[0m\u001b[0;34m\u001b[0m\u001b[0;34m\u001b[0m\u001b[0m\n\u001b[0;32m--> 337\u001b[0;31m             \u001b[0;32mreturn\u001b[0m \u001b[0mself\u001b[0m\u001b[0;34m.\u001b[0m\u001b[0mget_vector\u001b[0m\u001b[0;34m(\u001b[0m\u001b[0mentities\u001b[0m\u001b[0;34m)\u001b[0m\u001b[0;34m\u001b[0m\u001b[0;34m\u001b[0m\u001b[0m\n\u001b[0m\u001b[1;32m    338\u001b[0m \u001b[0;34m\u001b[0m\u001b[0m\n\u001b[1;32m    339\u001b[0m         \u001b[0;32mreturn\u001b[0m \u001b[0mvstack\u001b[0m\u001b[0;34m(\u001b[0m\u001b[0;34m[\u001b[0m\u001b[0mself\u001b[0m\u001b[0;34m.\u001b[0m\u001b[0mget_vector\u001b[0m\u001b[0;34m(\u001b[0m\u001b[0mentity\u001b[0m\u001b[0;34m)\u001b[0m \u001b[0;32mfor\u001b[0m \u001b[0mentity\u001b[0m \u001b[0;32min\u001b[0m \u001b[0mentities\u001b[0m\u001b[0;34m]\u001b[0m\u001b[0;34m)\u001b[0m\u001b[0;34m\u001b[0m\u001b[0;34m\u001b[0m\u001b[0m\n",
            "\u001b[0;32m/usr/local/lib/python3.7/dist-packages/gensim/models/keyedvectors.py\u001b[0m in \u001b[0;36mget_vector\u001b[0;34m(self, word)\u001b[0m\n\u001b[1;32m    453\u001b[0m \u001b[0;34m\u001b[0m\u001b[0m\n\u001b[1;32m    454\u001b[0m     \u001b[0;32mdef\u001b[0m \u001b[0mget_vector\u001b[0m\u001b[0;34m(\u001b[0m\u001b[0mself\u001b[0m\u001b[0;34m,\u001b[0m \u001b[0mword\u001b[0m\u001b[0;34m)\u001b[0m\u001b[0;34m:\u001b[0m\u001b[0;34m\u001b[0m\u001b[0;34m\u001b[0m\u001b[0m\n\u001b[0;32m--> 455\u001b[0;31m         \u001b[0;32mreturn\u001b[0m \u001b[0mself\u001b[0m\u001b[0;34m.\u001b[0m\u001b[0mword_vec\u001b[0m\u001b[0;34m(\u001b[0m\u001b[0mword\u001b[0m\u001b[0;34m)\u001b[0m\u001b[0;34m\u001b[0m\u001b[0;34m\u001b[0m\u001b[0m\n\u001b[0m\u001b[1;32m    456\u001b[0m \u001b[0;34m\u001b[0m\u001b[0m\n\u001b[1;32m    457\u001b[0m     \u001b[0;32mdef\u001b[0m \u001b[0mwords_closer_than\u001b[0m\u001b[0;34m(\u001b[0m\u001b[0mself\u001b[0m\u001b[0;34m,\u001b[0m \u001b[0mw1\u001b[0m\u001b[0;34m,\u001b[0m \u001b[0mw2\u001b[0m\u001b[0;34m)\u001b[0m\u001b[0;34m:\u001b[0m\u001b[0;34m\u001b[0m\u001b[0;34m\u001b[0m\u001b[0m\n",
            "\u001b[0;32m/usr/local/lib/python3.7/dist-packages/gensim/models/keyedvectors.py\u001b[0m in \u001b[0;36mword_vec\u001b[0;34m(self, word, use_norm)\u001b[0m\n\u001b[1;32m    450\u001b[0m             \u001b[0;32mreturn\u001b[0m \u001b[0mresult\u001b[0m\u001b[0;34m\u001b[0m\u001b[0;34m\u001b[0m\u001b[0m\n\u001b[1;32m    451\u001b[0m         \u001b[0;32melse\u001b[0m\u001b[0;34m:\u001b[0m\u001b[0;34m\u001b[0m\u001b[0;34m\u001b[0m\u001b[0m\n\u001b[0;32m--> 452\u001b[0;31m             \u001b[0;32mraise\u001b[0m \u001b[0mKeyError\u001b[0m\u001b[0;34m(\u001b[0m\u001b[0;34m\"word '%s' not in vocabulary\"\u001b[0m \u001b[0;34m%\u001b[0m \u001b[0mword\u001b[0m\u001b[0;34m)\u001b[0m\u001b[0;34m\u001b[0m\u001b[0;34m\u001b[0m\u001b[0m\n\u001b[0m\u001b[1;32m    453\u001b[0m \u001b[0;34m\u001b[0m\u001b[0m\n\u001b[1;32m    454\u001b[0m     \u001b[0;32mdef\u001b[0m \u001b[0mget_vector\u001b[0m\u001b[0;34m(\u001b[0m\u001b[0mself\u001b[0m\u001b[0;34m,\u001b[0m \u001b[0mword\u001b[0m\u001b[0;34m)\u001b[0m\u001b[0;34m:\u001b[0m\u001b[0;34m\u001b[0m\u001b[0;34m\u001b[0m\u001b[0m\n",
            "\u001b[0;31mKeyError\u001b[0m: \"word 'pacientin' not in vocabulary\""
          ]
        }
      ]
    },
    {
      "cell_type": "code",
      "source": [
        "#El fichero .vec, nos vale sólo para palabras exactas\n",
        "#Necesitamos usar el modelo .bin, para poder extraer el embedding de palabras nuevas\n",
        "def loadmodel():\n",
        "  model = FastText.load_fasttext_format('drive/MyDrive/clinic_es.bin')\n",
        "  return model\n",
        "model = loadmodel()\n",
        "\n"
      ],
      "metadata": {
        "id": "FY3p5lXis3BF"
      },
      "execution_count": null,
      "outputs": []
    },
    {
      "cell_type": "code",
      "source": [
        "model.wv['pacientindafdsfadsf']"
      ],
      "metadata": {
        "colab": {
          "base_uri": "https://localhost:8080/"
        },
        "id": "vsTQ0d1xtRr7",
        "outputId": "563e88fa-4c86-4003-e045-6ce0003af705"
      },
      "execution_count": null,
      "outputs": [
        {
          "output_type": "execute_result",
          "data": {
            "text/plain": [
              "array([-0.13241039,  0.8184084 , -0.03107737, -0.3718054 ,  0.7172038 ,\n",
              "       -1.2184155 , -0.7527867 ,  0.49289325,  0.01539927, -0.4937658 ,\n",
              "        0.36645627, -0.31217867,  0.35405657,  0.38310626, -0.44938496,\n",
              "        0.43412632,  0.39125502,  0.03482118,  0.4964143 , -0.01873363,\n",
              "       -0.47119904, -1.5899562 , -0.02340583, -0.5139108 , -0.2766195 ,\n",
              "       -1.271571  ,  0.28853995,  0.0659994 ,  0.05615392, -0.54288226,\n",
              "       -0.2016844 , -0.4826861 ,  0.6836283 , -0.6379071 , -0.65458906,\n",
              "        0.5743193 ,  0.14440846,  0.9689706 , -0.19277975, -0.7956298 ,\n",
              "        0.15859258,  0.89360905, -0.1583835 , -0.20517935, -0.67327476,\n",
              "        0.00547826, -0.9307319 , -0.12721969, -1.4025077 ,  0.08717748,\n",
              "       -0.34096706, -0.09729729,  0.11543502,  0.3208651 , -0.38814947,\n",
              "        0.46038967, -0.12115913, -0.7724038 , -0.7113066 , -0.9084696 ,\n",
              "        0.79173905, -0.68844736, -0.38511786, -0.24260369, -0.21639046,\n",
              "       -1.6331221 , -0.9852257 , -0.02119224,  0.00446636,  0.44788378,\n",
              "       -0.26939887, -0.97119623, -0.2814142 ,  1.2492322 ,  0.57623667,\n",
              "        0.10357327,  0.6535245 ,  0.6796143 ,  0.2213564 ,  0.17920388,\n",
              "       -1.0548406 ,  0.33301583, -0.00722592,  0.44093475, -0.15108202,\n",
              "        0.07765051, -1.4461011 ,  0.49992803,  0.21049514, -0.10038368,\n",
              "       -1.1473643 , -0.31686515,  0.47134823,  0.04186151, -0.16135064,\n",
              "        0.11380316, -0.38745165,  0.67402893, -0.61898774,  0.41630977,\n",
              "       -0.35286424,  0.3358359 , -0.19116402,  0.35372695,  0.6249188 ,\n",
              "        0.6977139 ,  1.6161976 , -0.23818572,  0.21142352, -0.9251141 ,\n",
              "       -0.05221601, -0.4042773 ,  0.8712124 , -0.35415822, -0.5726253 ,\n",
              "       -0.6548104 ,  0.08213937,  0.16676216,  0.0655774 , -0.23904388,\n",
              "        0.08798757,  0.28061396,  0.18851632, -0.07354587, -0.03851019,\n",
              "       -0.78984493, -0.22740453, -0.39158842,  0.27451643, -0.6559631 ,\n",
              "       -0.11587495,  0.66867673, -1.0164496 ,  0.10194417, -0.39711067,\n",
              "       -0.4700436 ,  0.65921307,  0.27333087,  0.40315035, -0.11662682,\n",
              "        0.324319  ,  0.14399971,  0.3111555 ,  0.10095719, -1.1219261 ,\n",
              "       -1.2785529 ,  0.10727276, -0.8088384 ,  0.02283983,  0.40878347,\n",
              "        1.2821497 , -0.3447803 ,  0.30555713,  0.41243646,  0.41679183,\n",
              "        0.74843633,  0.32296365,  0.22642408,  0.6656383 , -0.44104415,\n",
              "       -0.65986806, -0.7612497 ,  0.66448057, -0.26914877,  0.09258486,\n",
              "        0.26231858, -0.18934932,  0.21086587, -0.2917864 ,  0.01674114,\n",
              "        0.0495    ,  0.0776823 ,  0.43428278,  0.08495477, -0.12465887,\n",
              "       -0.13736957, -0.02517607,  0.0810743 ,  0.26195538, -0.45419616,\n",
              "       -0.1412537 ,  0.01289793,  0.36355558,  0.64116186, -0.45868483,\n",
              "        0.08950755, -0.56178594, -0.47636804, -0.16208054, -0.6770833 ,\n",
              "       -0.5391107 ,  0.29715505, -0.14686854, -0.2374243 ,  1.5363578 ,\n",
              "        0.17388996,  0.1034565 ,  0.6886925 ,  0.12721302, -0.01564579,\n",
              "        0.7089914 , -0.24802534,  0.37008178,  0.13601847,  0.8665049 ,\n",
              "        0.21710837, -0.0886467 ,  0.08156304,  0.21070044,  0.77304363,\n",
              "        0.1618981 , -0.52676517, -0.10906385, -0.34277794, -0.4539065 ,\n",
              "       -0.12381225,  0.13874435, -0.6758792 , -1.1667752 , -0.25888464,\n",
              "       -0.31401974, -0.40566304, -0.8256505 ,  0.26465017, -0.12018606,\n",
              "       -0.6403318 , -0.37073353,  0.6057344 , -0.08638626, -0.09344005,\n",
              "       -0.80649084, -0.03557987, -0.32533157, -0.692996  , -0.69398135,\n",
              "        0.42321837,  0.41766146, -0.13314506,  0.37665886,  0.30736575,\n",
              "        0.15367694,  0.26242465, -0.29257834, -0.20735896,  0.7991138 ,\n",
              "       -0.13939035,  0.14757432,  0.45216697,  0.34929037, -0.16540006,\n",
              "        0.67011225,  0.00980687, -0.5511835 ,  0.10972339,  0.0429084 ,\n",
              "        0.99333006,  0.7617425 , -0.16591056,  0.8707239 ,  0.1700147 ,\n",
              "       -0.1451037 , -0.5157467 , -0.9399988 ,  0.36565408, -0.23955184,\n",
              "       -0.49637952, -0.06994378,  0.4485055 ,  0.24188557,  0.1405748 ,\n",
              "       -0.50838804,  0.32523197, -0.18593788, -0.01829123, -0.47354043,\n",
              "        0.295625  ,  0.08096568, -0.0184735 , -0.5650307 , -0.40091264,\n",
              "       -0.2527762 ,  1.2349439 ,  0.15687327,  0.02568519, -0.25383297,\n",
              "        0.47572735,  0.90079284, -0.3226723 , -0.14135578,  1.0618    ,\n",
              "       -0.7981591 ,  0.5909903 , -0.80009097,  0.11924734,  0.5379779 ,\n",
              "       -0.40479407, -0.55221874, -0.15155162,  0.6236824 , -0.3579942 ],\n",
              "      dtype=float32)"
            ]
          },
          "metadata": {},
          "execution_count": 14
        }
      ]
    },
    {
      "cell_type": "code",
      "source": [
        "#Obtenemos el embedding de todas las palabras del vocabulario\n",
        "vocab = [\"infiltrar\", \"biliar\", \"colecistectomía\", \"aterosclerosis\", \"enteritis\"]\n",
        "#vocab_embedding = {}\n",
        "#for word in vocab:\n",
        "#    vocab_embedding[word] = word_vectors[word]\n",
        "\n",
        "#Obtenemos el embedding de informe\n",
        "informe_raw = \"Hay evidencia de hipoatenuación hepática difusa compatible con infiltración grasa No hay dilatación de los conductos biliares intra o extrahepáticos El paciente se encuentra en estado post colecistectomía El bazo es normal El páncreas es de contorno y características de atenuación normales No hay evidencia de masa suprarrenal Hay una hernia supraumbilical de tamaño moderado que contiene grasa Los riñones son normales en tamaño, forma y configuración No se identifican cálculos renales ni ureterales No hay hidrouréter ni hidronefrosis No hay evidencia de apendicitis Hay varias asas de intestino delgado llenas de líquido compatibles con una enteritis leve No hay engrosamiento de la pared intestinal No hay evidencia de obstrucción del intestino delgado o grueso No hay evidencia de ascitis abdominal o linfadenopatía No hay evidencia de masa vesical intrínseca o extrínseca No hay ascitis pélvica ni linfadenopatía El útero y los ovarios no presentan ninguna anomalía Las imágenes de las bases pulmonares no muestran evidencia de masa pleural o parenquimatosa No hay derrames pleurales Hay cicatrices en el lóbulo medio derecho y en la língula así como en ambas bases pulmonares Las estructuras óseas están libres de lesiones líticas o blásticas Se observan cambios degenerativos multinivel en la columna toracolumbar Se observan calcificaciones dispersas en la aorta y en sus principales ramas compatibles con la aterosclerosis\"\n",
        "informe = informe_raw.lower().split()\n",
        "print(informe)\n",
        "#informe_embedding = {}\n",
        "#for word in informe:\n",
        "#    informe_embedding[word] = word_vectors[word]\n",
        "\n",
        "#Comparamos ambos embedding para ver la similaridad\n",
        "for word1 in informe:\n",
        "    for word2 in vocab:\n",
        "        distance = model.wv.distance(word1, word2)\n",
        "        #print(word1 + \"-\" + word2)\n",
        "        #print(f\"{distance:.11f}\")\n",
        "        if distance < 0.3:\n",
        "            print(word1 + \"-\" + word2)"
      ],
      "metadata": {
        "colab": {
          "base_uri": "https://localhost:8080/"
        },
        "id": "gxTTKVm8s791",
        "outputId": "f8cdd200-e404-4a63-a777-fb6c4e277ae4"
      },
      "execution_count": null,
      "outputs": [
        {
          "output_type": "stream",
          "name": "stdout",
          "text": [
            "['hay', 'evidencia', 'de', 'hipoatenuación', 'hepática', 'difusa', 'compatible', 'con', 'infiltración', 'grasa', 'no', 'hay', 'dilatación', 'de', 'los', 'conductos', 'biliares', 'intra', 'o', 'extrahepáticos', 'el', 'paciente', 'se', 'encuentra', 'en', 'estado', 'post', 'colecistectomía', 'el', 'bazo', 'es', 'normal', 'el', 'páncreas', 'es', 'de', 'contorno', 'y', 'características', 'de', 'atenuación', 'normales', 'no', 'hay', 'evidencia', 'de', 'masa', 'suprarrenal', 'hay', 'una', 'hernia', 'supraumbilical', 'de', 'tamaño', 'moderado', 'que', 'contiene', 'grasa', 'los', 'riñones', 'son', 'normales', 'en', 'tamaño,', 'forma', 'y', 'configuración', 'no', 'se', 'identifican', 'cálculos', 'renales', 'ni', 'ureterales', 'no', 'hay', 'hidrouréter', 'ni', 'hidronefrosis', 'no', 'hay', 'evidencia', 'de', 'apendicitis', 'hay', 'varias', 'asas', 'de', 'intestino', 'delgado', 'llenas', 'de', 'líquido', 'compatibles', 'con', 'una', 'enteritis', 'leve', 'no', 'hay', 'engrosamiento', 'de', 'la', 'pared', 'intestinal', 'no', 'hay', 'evidencia', 'de', 'obstrucción', 'del', 'intestino', 'delgado', 'o', 'grueso', 'no', 'hay', 'evidencia', 'de', 'ascitis', 'abdominal', 'o', 'linfadenopatía', 'no', 'hay', 'evidencia', 'de', 'masa', 'vesical', 'intrínseca', 'o', 'extrínseca', 'no', 'hay', 'ascitis', 'pélvica', 'ni', 'linfadenopatía', 'el', 'útero', 'y', 'los', 'ovarios', 'no', 'presentan', 'ninguna', 'anomalía', 'las', 'imágenes', 'de', 'las', 'bases', 'pulmonares', 'no', 'muestran', 'evidencia', 'de', 'masa', 'pleural', 'o', 'parenquimatosa', 'no', 'hay', 'derrames', 'pleurales', 'hay', 'cicatrices', 'en', 'el', 'lóbulo', 'medio', 'derecho', 'y', 'en', 'la', 'língula', 'así', 'como', 'en', 'ambas', 'bases', 'pulmonares', 'las', 'estructuras', 'óseas', 'están', 'libres', 'de', 'lesiones', 'líticas', 'o', 'blásticas', 'se', 'observan', 'cambios', 'degenerativos', 'multinivel', 'en', 'la', 'columna', 'toracolumbar', 'se', 'observan', 'calcificaciones', 'dispersas', 'en', 'la', 'aorta', 'y', 'en', 'sus', 'principales', 'ramas', 'compatibles', 'con', 'la', 'aterosclerosis']\n",
            "infiltración-infiltrar\n",
            "biliares-biliar\n",
            "colecistectomía-colecistectomía\n",
            "apendicitis-enteritis\n",
            "enteritis-enteritis\n",
            "aterosclerosis-aterosclerosis\n"
          ]
        }
      ]
    }
  ]
}