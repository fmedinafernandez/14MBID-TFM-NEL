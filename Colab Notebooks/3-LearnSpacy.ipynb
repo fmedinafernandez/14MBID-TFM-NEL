{
  "nbformat": 4,
  "nbformat_minor": 0,
  "metadata": {
    "colab": {
      "provenance": []
    },
    "kernelspec": {
      "name": "python3",
      "display_name": "Python 3"
    },
    "language_info": {
      "name": "python"
    }
  },
  "cells": [
    {
      "cell_type": "code",
      "source": [
        "! pip install spacy\n",
        "! python -m spacy download es\n",
        "import warnings\n",
        "warnings.filterwarnings('ignore')"
      ],
      "metadata": {
        "colab": {
          "base_uri": "https://localhost:8080/"
        },
        "id": "CI9a0voWAmMV",
        "outputId": "8e54fbb8-a9c7-4901-cfbf-80dcd5db3d86"
      },
      "execution_count": null,
      "outputs": [
        {
          "output_type": "stream",
          "name": "stdout",
          "text": [
            "Looking in indexes: https://pypi.org/simple, https://us-python.pkg.dev/colab-wheels/public/simple/\n",
            "Requirement already satisfied: spacy in /usr/local/lib/python3.7/dist-packages (3.4.2)\n",
            "Requirement already satisfied: packaging>=20.0 in /usr/local/lib/python3.7/dist-packages (from spacy) (21.3)\n",
            "Requirement already satisfied: pathy>=0.3.5 in /usr/local/lib/python3.7/dist-packages (from spacy) (0.6.2)\n",
            "Requirement already satisfied: spacy-loggers<2.0.0,>=1.0.0 in /usr/local/lib/python3.7/dist-packages (from spacy) (1.0.3)\n",
            "Requirement already satisfied: tqdm<5.0.0,>=4.38.0 in /usr/local/lib/python3.7/dist-packages (from spacy) (4.64.1)\n",
            "Requirement already satisfied: murmurhash<1.1.0,>=0.28.0 in /usr/local/lib/python3.7/dist-packages (from spacy) (1.0.9)\n",
            "Requirement already satisfied: srsly<3.0.0,>=2.4.3 in /usr/local/lib/python3.7/dist-packages (from spacy) (2.4.5)\n",
            "Requirement already satisfied: numpy>=1.15.0 in /usr/local/lib/python3.7/dist-packages (from spacy) (1.21.6)\n",
            "Requirement already satisfied: catalogue<2.1.0,>=2.0.6 in /usr/local/lib/python3.7/dist-packages (from spacy) (2.0.8)\n",
            "Requirement already satisfied: spacy-legacy<3.1.0,>=3.0.10 in /usr/local/lib/python3.7/dist-packages (from spacy) (3.0.10)\n",
            "Requirement already satisfied: typer<0.5.0,>=0.3.0 in /usr/local/lib/python3.7/dist-packages (from spacy) (0.4.2)\n",
            "Requirement already satisfied: thinc<8.2.0,>=8.1.0 in /usr/local/lib/python3.7/dist-packages (from spacy) (8.1.5)\n",
            "Requirement already satisfied: pydantic!=1.8,!=1.8.1,<1.11.0,>=1.7.4 in /usr/local/lib/python3.7/dist-packages (from spacy) (1.10.2)\n",
            "Requirement already satisfied: setuptools in /usr/local/lib/python3.7/dist-packages (from spacy) (57.4.0)\n",
            "Requirement already satisfied: preshed<3.1.0,>=3.0.2 in /usr/local/lib/python3.7/dist-packages (from spacy) (3.0.8)\n",
            "Requirement already satisfied: requests<3.0.0,>=2.13.0 in /usr/local/lib/python3.7/dist-packages (from spacy) (2.23.0)\n",
            "Requirement already satisfied: jinja2 in /usr/local/lib/python3.7/dist-packages (from spacy) (2.11.3)\n",
            "Requirement already satisfied: wasabi<1.1.0,>=0.9.1 in /usr/local/lib/python3.7/dist-packages (from spacy) (0.10.1)\n",
            "Requirement already satisfied: typing-extensions<4.2.0,>=3.7.4 in /usr/local/lib/python3.7/dist-packages (from spacy) (4.1.1)\n",
            "Requirement already satisfied: langcodes<4.0.0,>=3.2.0 in /usr/local/lib/python3.7/dist-packages (from spacy) (3.3.0)\n",
            "Requirement already satisfied: cymem<2.1.0,>=2.0.2 in /usr/local/lib/python3.7/dist-packages (from spacy) (2.0.7)\n",
            "Requirement already satisfied: zipp>=0.5 in /usr/local/lib/python3.7/dist-packages (from catalogue<2.1.0,>=2.0.6->spacy) (3.10.0)\n",
            "Requirement already satisfied: pyparsing!=3.0.5,>=2.0.2 in /usr/local/lib/python3.7/dist-packages (from packaging>=20.0->spacy) (3.0.9)\n",
            "Requirement already satisfied: smart-open<6.0.0,>=5.2.1 in /usr/local/lib/python3.7/dist-packages (from pathy>=0.3.5->spacy) (5.2.1)\n",
            "Requirement already satisfied: idna<3,>=2.5 in /usr/local/lib/python3.7/dist-packages (from requests<3.0.0,>=2.13.0->spacy) (2.10)\n",
            "Requirement already satisfied: certifi>=2017.4.17 in /usr/local/lib/python3.7/dist-packages (from requests<3.0.0,>=2.13.0->spacy) (2022.9.24)\n",
            "Requirement already satisfied: urllib3!=1.25.0,!=1.25.1,<1.26,>=1.21.1 in /usr/local/lib/python3.7/dist-packages (from requests<3.0.0,>=2.13.0->spacy) (1.24.3)\n",
            "Requirement already satisfied: chardet<4,>=3.0.2 in /usr/local/lib/python3.7/dist-packages (from requests<3.0.0,>=2.13.0->spacy) (3.0.4)\n",
            "Requirement already satisfied: blis<0.8.0,>=0.7.8 in /usr/local/lib/python3.7/dist-packages (from thinc<8.2.0,>=8.1.0->spacy) (0.7.9)\n",
            "Requirement already satisfied: confection<1.0.0,>=0.0.1 in /usr/local/lib/python3.7/dist-packages (from thinc<8.2.0,>=8.1.0->spacy) (0.0.3)\n",
            "Requirement already satisfied: click<9.0.0,>=7.1.1 in /usr/local/lib/python3.7/dist-packages (from typer<0.5.0,>=0.3.0->spacy) (7.1.2)\n",
            "Requirement already satisfied: MarkupSafe>=0.23 in /usr/local/lib/python3.7/dist-packages (from jinja2->spacy) (2.0.1)\n",
            "2022-11-14 21:19:21.810357: E tensorflow/stream_executor/cuda/cuda_driver.cc:271] failed call to cuInit: CUDA_ERROR_NO_DEVICE: no CUDA-capable device is detected\n",
            "\u001b[38;5;3m⚠ As of spaCy v3.0, shortcuts like 'es' are deprecated. Please use the\n",
            "full pipeline package name 'es_core_news_sm' instead.\u001b[0m\n",
            "Looking in indexes: https://pypi.org/simple, https://us-python.pkg.dev/colab-wheels/public/simple/\n",
            "Collecting es-core-news-sm==3.4.0\n",
            "  Downloading https://github.com/explosion/spacy-models/releases/download/es_core_news_sm-3.4.0/es_core_news_sm-3.4.0-py3-none-any.whl (12.9 MB)\n",
            "\u001b[K     |████████████████████████████████| 12.9 MB 4.9 MB/s \n",
            "\u001b[?25hRequirement already satisfied: spacy<3.5.0,>=3.4.0 in /usr/local/lib/python3.7/dist-packages (from es-core-news-sm==3.4.0) (3.4.2)\n",
            "Requirement already satisfied: requests<3.0.0,>=2.13.0 in /usr/local/lib/python3.7/dist-packages (from spacy<3.5.0,>=3.4.0->es-core-news-sm==3.4.0) (2.23.0)\n",
            "Requirement already satisfied: tqdm<5.0.0,>=4.38.0 in /usr/local/lib/python3.7/dist-packages (from spacy<3.5.0,>=3.4.0->es-core-news-sm==3.4.0) (4.64.1)\n",
            "Requirement already satisfied: pathy>=0.3.5 in /usr/local/lib/python3.7/dist-packages (from spacy<3.5.0,>=3.4.0->es-core-news-sm==3.4.0) (0.6.2)\n",
            "Requirement already satisfied: catalogue<2.1.0,>=2.0.6 in /usr/local/lib/python3.7/dist-packages (from spacy<3.5.0,>=3.4.0->es-core-news-sm==3.4.0) (2.0.8)\n",
            "Requirement already satisfied: murmurhash<1.1.0,>=0.28.0 in /usr/local/lib/python3.7/dist-packages (from spacy<3.5.0,>=3.4.0->es-core-news-sm==3.4.0) (1.0.9)\n",
            "Requirement already satisfied: srsly<3.0.0,>=2.4.3 in /usr/local/lib/python3.7/dist-packages (from spacy<3.5.0,>=3.4.0->es-core-news-sm==3.4.0) (2.4.5)\n",
            "Requirement already satisfied: packaging>=20.0 in /usr/local/lib/python3.7/dist-packages (from spacy<3.5.0,>=3.4.0->es-core-news-sm==3.4.0) (21.3)\n",
            "Requirement already satisfied: setuptools in /usr/local/lib/python3.7/dist-packages (from spacy<3.5.0,>=3.4.0->es-core-news-sm==3.4.0) (57.4.0)\n",
            "Requirement already satisfied: thinc<8.2.0,>=8.1.0 in /usr/local/lib/python3.7/dist-packages (from spacy<3.5.0,>=3.4.0->es-core-news-sm==3.4.0) (8.1.5)\n",
            "Requirement already satisfied: numpy>=1.15.0 in /usr/local/lib/python3.7/dist-packages (from spacy<3.5.0,>=3.4.0->es-core-news-sm==3.4.0) (1.21.6)\n",
            "Requirement already satisfied: wasabi<1.1.0,>=0.9.1 in /usr/local/lib/python3.7/dist-packages (from spacy<3.5.0,>=3.4.0->es-core-news-sm==3.4.0) (0.10.1)\n",
            "Requirement already satisfied: spacy-loggers<2.0.0,>=1.0.0 in /usr/local/lib/python3.7/dist-packages (from spacy<3.5.0,>=3.4.0->es-core-news-sm==3.4.0) (1.0.3)\n",
            "Requirement already satisfied: preshed<3.1.0,>=3.0.2 in /usr/local/lib/python3.7/dist-packages (from spacy<3.5.0,>=3.4.0->es-core-news-sm==3.4.0) (3.0.8)\n",
            "Requirement already satisfied: cymem<2.1.0,>=2.0.2 in /usr/local/lib/python3.7/dist-packages (from spacy<3.5.0,>=3.4.0->es-core-news-sm==3.4.0) (2.0.7)\n",
            "Requirement already satisfied: spacy-legacy<3.1.0,>=3.0.10 in /usr/local/lib/python3.7/dist-packages (from spacy<3.5.0,>=3.4.0->es-core-news-sm==3.4.0) (3.0.10)\n",
            "Requirement already satisfied: langcodes<4.0.0,>=3.2.0 in /usr/local/lib/python3.7/dist-packages (from spacy<3.5.0,>=3.4.0->es-core-news-sm==3.4.0) (3.3.0)\n",
            "Requirement already satisfied: jinja2 in /usr/local/lib/python3.7/dist-packages (from spacy<3.5.0,>=3.4.0->es-core-news-sm==3.4.0) (2.11.3)\n",
            "Requirement already satisfied: typer<0.5.0,>=0.3.0 in /usr/local/lib/python3.7/dist-packages (from spacy<3.5.0,>=3.4.0->es-core-news-sm==3.4.0) (0.4.2)\n",
            "Requirement already satisfied: typing-extensions<4.2.0,>=3.7.4 in /usr/local/lib/python3.7/dist-packages (from spacy<3.5.0,>=3.4.0->es-core-news-sm==3.4.0) (4.1.1)\n",
            "Requirement already satisfied: pydantic!=1.8,!=1.8.1,<1.11.0,>=1.7.4 in /usr/local/lib/python3.7/dist-packages (from spacy<3.5.0,>=3.4.0->es-core-news-sm==3.4.0) (1.10.2)\n",
            "Requirement already satisfied: zipp>=0.5 in /usr/local/lib/python3.7/dist-packages (from catalogue<2.1.0,>=2.0.6->spacy<3.5.0,>=3.4.0->es-core-news-sm==3.4.0) (3.10.0)\n",
            "Requirement already satisfied: pyparsing!=3.0.5,>=2.0.2 in /usr/local/lib/python3.7/dist-packages (from packaging>=20.0->spacy<3.5.0,>=3.4.0->es-core-news-sm==3.4.0) (3.0.9)\n",
            "Requirement already satisfied: smart-open<6.0.0,>=5.2.1 in /usr/local/lib/python3.7/dist-packages (from pathy>=0.3.5->spacy<3.5.0,>=3.4.0->es-core-news-sm==3.4.0) (5.2.1)\n",
            "Requirement already satisfied: idna<3,>=2.5 in /usr/local/lib/python3.7/dist-packages (from requests<3.0.0,>=2.13.0->spacy<3.5.0,>=3.4.0->es-core-news-sm==3.4.0) (2.10)\n",
            "Requirement already satisfied: chardet<4,>=3.0.2 in /usr/local/lib/python3.7/dist-packages (from requests<3.0.0,>=2.13.0->spacy<3.5.0,>=3.4.0->es-core-news-sm==3.4.0) (3.0.4)\n",
            "Requirement already satisfied: urllib3!=1.25.0,!=1.25.1,<1.26,>=1.21.1 in /usr/local/lib/python3.7/dist-packages (from requests<3.0.0,>=2.13.0->spacy<3.5.0,>=3.4.0->es-core-news-sm==3.4.0) (1.24.3)\n",
            "Requirement already satisfied: certifi>=2017.4.17 in /usr/local/lib/python3.7/dist-packages (from requests<3.0.0,>=2.13.0->spacy<3.5.0,>=3.4.0->es-core-news-sm==3.4.0) (2022.9.24)\n",
            "Requirement already satisfied: confection<1.0.0,>=0.0.1 in /usr/local/lib/python3.7/dist-packages (from thinc<8.2.0,>=8.1.0->spacy<3.5.0,>=3.4.0->es-core-news-sm==3.4.0) (0.0.3)\n",
            "Requirement already satisfied: blis<0.8.0,>=0.7.8 in /usr/local/lib/python3.7/dist-packages (from thinc<8.2.0,>=8.1.0->spacy<3.5.0,>=3.4.0->es-core-news-sm==3.4.0) (0.7.9)\n",
            "Requirement already satisfied: click<9.0.0,>=7.1.1 in /usr/local/lib/python3.7/dist-packages (from typer<0.5.0,>=0.3.0->spacy<3.5.0,>=3.4.0->es-core-news-sm==3.4.0) (7.1.2)\n",
            "Requirement already satisfied: MarkupSafe>=0.23 in /usr/local/lib/python3.7/dist-packages (from jinja2->spacy<3.5.0,>=3.4.0->es-core-news-sm==3.4.0) (2.0.1)\n",
            "Installing collected packages: es-core-news-sm\n",
            "Successfully installed es-core-news-sm-3.4.0\n",
            "\u001b[38;5;2m✔ Download and installation successful\u001b[0m\n",
            "You can now load the package via spacy.load('es_core_news_sm')\n"
          ]
        }
      ]
    },
    {
      "cell_type": "code",
      "execution_count": null,
      "metadata": {
        "colab": {
          "base_uri": "https://localhost:8080/"
        },
        "id": "Mihlp3osAhMP",
        "outputId": "7946539e-f08c-441f-b0c5-4fb91884aa14"
      },
      "outputs": [
        {
          "output_type": "stream",
          "name": "stdout",
          "text": [
            "Hay evidencia de hipoatenuación hepática difusa compatible con infiltración grasa .No hay dilatación de los conductos biliares intra o extrahepáticos. El paciente se encuentra en estado post colecistectomía. El bazo es normal. El páncreas es de contorno y características de atenuación normales. No hay evidencia de masa suprarrenal. Hay una hernia supraumbilical de tamaño moderado que contiene grasa. Los riñones son normales en tamaño, forma y configuración. No se identifican cálculos renales ni ureterales. No hay hidrouréter ni hidronefrosis. No hay evidencia de apendicitis. Hay varias asas de intestino delgado llenas de líquido, compatibles con una enteritis leve. No hay engrosamiento de la pared intestinal. No hay evidencia de obstrucción del intestino delgado o grueso. No hay evidencia de ascitis abdominal o linfadenopatía. No hay evidencia de masa vesical intrínseca o extrínseca . No hay ascitis pélvica ni linfadenopatía . El útero y los ovarios no presentan ninguna anomalía. Las imágenes de las bases pulmonares no muestran evidencia de masa pleural o parenquimatosa . No hay derrames pleurales. Hay cicatrices en el lóbulo medio derecho y en la língula, así como en ambas bases pulmonares. Las estructuras óseas están libres de lesiones líticas o blásticas. Se observan cambios degenerativos multinivel en la columna toracolumbar. Se observan calcificaciones dispersas en la aorta y en sus principales ramas, compatibles con la aterosclerosis.\n"
          ]
        }
      ],
      "source": [
        "import spacy\n",
        "\n",
        "# Carga el modelo \"es_core_news_sm\"\n",
        "nlp = spacy.load(\"es_core_news_sm\")\n",
        "#nlp = spacy.blank(\"es\")\n",
        "\n",
        "text = (\n",
        "    \"En 1990, más del 60 % de las personas en Asia del Este se encontraban \"\n",
        "    \"en extrema pobreza. Ahora, menos del 4 % lo están.\"\n",
        ")\n",
        "text = (\n",
        "    \"Hay evidencia de hipoatenuación hepática difusa compatible con infiltración grasa .\"\n",
        "    \"No hay dilatación de los conductos biliares intra o extrahepáticos. \"\n",
        "    \"El paciente se encuentra en estado post colecistectomía. El bazo es normal. \"\n",
        "    \"El páncreas es de contorno y características de atenuación normales. \"\n",
        "    \"No hay evidencia de masa suprarrenal. Hay una hernia supraumbilical de tamaño moderado que contiene grasa. \"\n",
        "    \"Los riñones son normales en tamaño, forma y configuración. No se identifican cálculos renales ni ureterales. \"\n",
        "    \"No hay hidrouréter ni hidronefrosis. No hay evidencia de apendicitis. \"\n",
        "    \"Hay varias asas de intestino delgado llenas de líquido, compatibles con una enteritis leve. \"\n",
        "    \"No hay engrosamiento de la pared intestinal. No hay evidencia de obstrucción del intestino delgado o grueso. \"\n",
        "    \"No hay evidencia de ascitis abdominal o linfadenopatía. No hay evidencia de masa vesical intrínseca o extrínseca . \"\n",
        "    \"No hay ascitis pélvica ni linfadenopatía . El útero y los ovarios no presentan ninguna anomalía. \"\n",
        "    \"Las imágenes de las bases pulmonares no muestran evidencia de masa pleural o parenquimatosa . \"\n",
        "    \"No hay derrames pleurales. Hay cicatrices en el lóbulo medio derecho y en la língula, así como en ambas bases pulmonares. \"\n",
        "    \"Las estructuras óseas están libres de lesiones líticas o blásticas. \"\n",
        "    \"Se observan cambios degenerativos multinivel en la columna toracolumbar. \"\n",
        "    \"Se observan calcificaciones dispersas en la aorta y en sus principales ramas, compatibles con la aterosclerosis.\"\n",
        ")\n",
        "\n",
        "# Procesa el texto\n",
        "doc = nlp(text)\n",
        "\n",
        "# Itera sobre los tokens en el doc\n",
        "for token in doc:\n",
        "    # Revisa si el token parece un número\n",
        "    if token.like_num:\n",
        "        # Obtén el próximo token en el documento\n",
        "        next_token = doc[token.i + 1]\n",
        "        # Revisa si el texto del siguiente token es igual a '%'\n",
        "        if next_token.text == \"%\":\n",
        "            print(\"Porcentaje encontrado:\", token.text)\n",
        "\n",
        "\n",
        "# Imprime en pantalla el texto del documento\n",
        "print(doc.text)\n"
      ]
    },
    {
      "cell_type": "markdown",
      "source": [
        "Prediciendo anotaciones lingüísticas\n",
        "\n",
        "Ahora puedes probar uno de los paquetes de pipelines pre-entrenados de spaCy y ver sus predicciones en acción. ¡También puedes intentarlo con tu propio texto! Para averiguar lo que cada tag o label significa puedes llamar a spacy.explain en el loop. Por ejemplo, spacy.explain(\"PROPN\") o spacy.explain(\"GPE\")."
      ],
      "metadata": {
        "id": "J-3A_I7jEoOx"
      }
    },
    {
      "cell_type": "code",
      "source": [
        "text = (\n",
        "    \"De acuerdo con la revista Fortune, Apple fue la empresa \"\n",
        "    \"más admirada en el mundo entre 2008 y 2012.\"\n",
        ")\n",
        "text = (\n",
        "    \"Hay evidencia de hipoatenuación hepática difusa compatible con infiltración grasa .\"\n",
        "    \"No hay dilatación de los conductos biliares intra o extrahepáticos. \"\n",
        "    \"El paciente se encuentra en estado post colecistectomía. El bazo es normal. \"\n",
        "    \"El páncreas es de contorno y características de atenuación normales. \"\n",
        "    \"No hay evidencia de masa suprarrenal. Hay una hernia supraumbilical de tamaño moderado que contiene grasa. \"\n",
        "    \"Los riñones son normales en tamaño, forma y configuración. No se identifican cálculos renales ni ureterales. \"\n",
        "    \"No hay hidrouréter ni hidronefrosis. No hay evidencia de apendicitis. \"\n",
        "    \"Hay varias asas de intestino delgado llenas de líquido, compatibles con una enteritis leve. \"\n",
        "    \"No hay engrosamiento de la pared intestinal. No hay evidencia de obstrucción del intestino delgado o grueso. \"\n",
        "    \"No hay evidencia de ascitis abdominal o linfadenopatía. No hay evidencia de masa vesical intrínseca o extrínseca . \"\n",
        "    \"No hay ascitis pélvica ni linfadenopatía . El útero y los ovarios no presentan ninguna anomalía. \"\n",
        "    \"Las imágenes de las bases pulmonares no muestran evidencia de masa pleural o parenquimatosa . \"\n",
        "    \"No hay derrames pleurales. Hay cicatrices en el lóbulo medio derecho y en la língula, así como en ambas bases pulmonares. \"\n",
        "    \"Las estructuras óseas están libres de lesiones líticas o blásticas. \"\n",
        "    \"Se observan cambios degenerativos multinivel en la columna toracolumbar. \"\n",
        "    \"Se observan calcificaciones dispersas en la aorta y en sus principales ramas, compatibles con la aterosclerosis.\"\n",
        ")\n",
        "\n",
        "# Procesa el texto\n",
        "doc = nlp(text)\n",
        "\n",
        "for token in doc:\n",
        "    # Obtén el texto del token, el part-of-speech tag y el dependency label\n",
        "    token_text = token.text\n",
        "    token_pos = token.pos_\n",
        "    token_dep = token.dep_\n",
        "    # Esto es solo por formato\n",
        "    print(f\"{token_text:<12}{token_pos:<10}{token_dep:<10}\")\n",
        "\n",
        "#for token in doc:\n",
        "#    print(token.text, token.lemma_, token.pos_, token.tag_, token.dep_,\n",
        "#            token.shape_, token.is_alpha, token.is_stop)\n"
      ],
      "metadata": {
        "colab": {
          "base_uri": "https://localhost:8080/"
        },
        "id": "eLjSl2rjB11i",
        "outputId": "a3d671ea-c3b8-4bbf-eb4d-303f399c5c15"
      },
      "execution_count": null,
      "outputs": [
        {
          "output_type": "stream",
          "name": "stdout",
          "text": [
            "Hay         AUX       ROOT      \n",
            "evidencia   NOUN      obj       \n",
            "de          ADP       case      \n",
            "hipoatenuaciónNOUN      nmod      \n",
            "hepática    ADJ       amod      \n",
            "difusa      NOUN      obj       \n",
            "compatible  ADJ       amod      \n",
            "con         ADP       case      \n",
            "infiltraciónNOUN      nmod      \n",
            "grasa       NOUN      amod      \n",
            ".No         NUM       punct     \n",
            "hay         AUX       ROOT      \n",
            "dilatación  NOUN      obj       \n",
            "de          ADP       case      \n",
            "los         DET       det       \n",
            "conductos   NOUN      nmod      \n",
            "biliares    NOUN      amod      \n",
            "intra       NOUN      amod      \n",
            "o           CCONJ     cc        \n",
            "extrahepáticosADJ       conj      \n",
            ".           PUNCT     punct     \n",
            "El          DET       det       \n",
            "paciente    NOUN      nsubj     \n",
            "se          PRON      expl:pv   \n",
            "encuentra   VERB      ROOT      \n",
            "en          ADP       case      \n",
            "estado      NOUN      obl       \n",
            "post        PROPN     obj       \n",
            "colecistectomíaNOUN      nmod      \n",
            ".           PUNCT     punct     \n",
            "El          DET       det       \n",
            "bazo        NOUN      nsubj     \n",
            "es          AUX       cop       \n",
            "normal      ADJ       ROOT      \n",
            ".           PUNCT     punct     \n",
            "El          DET       det       \n",
            "páncreas    NOUN      nsubj     \n",
            "es          AUX       cop       \n",
            "de          ADP       case      \n",
            "contorno    NOUN      ROOT      \n",
            "y           CCONJ     cc        \n",
            "característicasNOUN      conj      \n",
            "de          ADP       case      \n",
            "atenuación  NOUN      nmod      \n",
            "normales    ADJ       amod      \n",
            ".           PUNCT     punct     \n",
            "No          ADV       advmod    \n",
            "hay         AUX       ROOT      \n",
            "evidencia   NOUN      obj       \n",
            "de          ADP       case      \n",
            "masa        NOUN      nmod      \n",
            "suprarrenal ADJ       amod      \n",
            ".           PUNCT     punct     \n",
            "Hay         AUX       ROOT      \n",
            "una         DET       det       \n",
            "hernia      NOUN      obj       \n",
            "supraumbilicalADJ       amod      \n",
            "de          ADP       case      \n",
            "tamaño      NOUN      nmod      \n",
            "moderado    ADJ       amod      \n",
            "que         PRON      nsubj     \n",
            "contiene    VERB      acl       \n",
            "grasa       NOUN      obj       \n",
            ".           PUNCT     punct     \n",
            "Los         DET       det       \n",
            "riñones     NOUN      nsubj     \n",
            "son         AUX       cop       \n",
            "normales    ADJ       ROOT      \n",
            "en          ADP       case      \n",
            "tamaño      NOUN      obl       \n",
            ",           PUNCT     punct     \n",
            "forma       NOUN      obl       \n",
            "y           CCONJ     cc        \n",
            "configuraciónNOUN      conj      \n",
            ".           PUNCT     punct     \n",
            "No          ADV       advmod    \n",
            "se          PRON      expl:pass \n",
            "identifican VERB      ROOT      \n",
            "cálculos    NOUN      nsubj     \n",
            "renales     ADJ       amod      \n",
            "ni          CCONJ     cc        \n",
            "ureterales  ADJ       conj      \n",
            ".           PUNCT     punct     \n",
            "No          ADV       advmod    \n",
            "hay         AUX       ROOT      \n",
            "hidrouréter NOUN      obj       \n",
            "ni          CCONJ     cc        \n",
            "hidronefrosisNOUN      obj       \n",
            ".           PUNCT     punct     \n",
            "No          ADV       advmod    \n",
            "hay         AUX       ROOT      \n",
            "evidencia   NOUN      obj       \n",
            "de          ADP       case      \n",
            "apendicitis PROPN     nmod      \n",
            ".           PUNCT     punct     \n",
            "Hay         AUX       ROOT      \n",
            "varias      DET       det       \n",
            "asas        NOUN      obj       \n",
            "de          ADP       case      \n",
            "intestino   NOUN      nmod      \n",
            "delgado     ADJ       amod      \n",
            "llenas      NOUN      obj       \n",
            "de          ADP       case      \n",
            "líquido     NOUN      nmod      \n",
            ",           PUNCT     punct     \n",
            "compatibles ADJ       amod      \n",
            "con         ADP       case      \n",
            "una         DET       det       \n",
            "enteritis   NOUN      nmod      \n",
            "leve        ADJ       amod      \n",
            ".           PUNCT     punct     \n",
            "No          ADV       advmod    \n",
            "hay         AUX       ROOT      \n",
            "engrosamientoNOUN      obj       \n",
            "de          ADP       case      \n",
            "la          DET       det       \n",
            "pared       NOUN      nmod      \n",
            "intestinal  ADJ       amod      \n",
            ".           PUNCT     punct     \n",
            "No          ADV       advmod    \n",
            "hay         AUX       ROOT      \n",
            "evidencia   NOUN      obj       \n",
            "de          ADP       case      \n",
            "obstrucción NOUN      nmod      \n",
            "del         ADP       case      \n",
            "intestino   NOUN      nmod      \n",
            "delgado     ADJ       amod      \n",
            "o           CCONJ     cc        \n",
            "grueso      ADJ       conj      \n",
            ".           PUNCT     punct     \n",
            "No          ADV       advmod    \n",
            "hay         AUX       ROOT      \n",
            "evidencia   NOUN      obj       \n",
            "de          ADP       case      \n",
            "ascitis     NOUN      nmod      \n",
            "abdominal   ADJ       amod      \n",
            "o           CCONJ     cc        \n",
            "linfadenopatíaVERB      conj      \n",
            ".           PUNCT     punct     \n",
            "No          ADV       advmod    \n",
            "hay         AUX       ROOT      \n",
            "evidencia   NOUN      obj       \n",
            "de          ADP       case      \n",
            "masa        NOUN      nmod      \n",
            "vesical     ADJ       amod      \n",
            "intrínseca  ADJ       amod      \n",
            "o           CCONJ     cc        \n",
            "extrínseca  NOUN      conj      \n",
            ".           PUNCT     punct     \n",
            "No          ADV       advmod    \n",
            "hay         AUX       ROOT      \n",
            "ascitis     NOUN      obj       \n",
            "pélvica     ADJ       amod      \n",
            "ni          CCONJ     cc        \n",
            "linfadenopatíaVERB      conj      \n",
            ".           PUNCT     punct     \n",
            "El          DET       det       \n",
            "útero       NOUN      nsubj     \n",
            "y           CCONJ     cc        \n",
            "los         DET       det       \n",
            "ovarios     NOUN      conj      \n",
            "no          ADV       advmod    \n",
            "presentan   VERB      ROOT      \n",
            "ninguna     DET       det       \n",
            "anomalía    NOUN      obj       \n",
            ".           PUNCT     punct     \n",
            "Las         DET       det       \n",
            "imágenes    NOUN      nsubj     \n",
            "de          ADP       case      \n",
            "las         DET       det       \n",
            "bases       NOUN      nmod      \n",
            "pulmonares  ADJ       amod      \n",
            "no          ADV       advmod    \n",
            "muestran    VERB      ROOT      \n",
            "evidencia   NOUN      obj       \n",
            "de          ADP       case      \n",
            "masa        NOUN      nmod      \n",
            "pleural     ADJ       amod      \n",
            "o           CCONJ     cc        \n",
            "parenquimatosaADJ       conj      \n",
            ".           PUNCT     punct     \n",
            "No          ADV       advmod    \n",
            "hay         AUX       ROOT      \n",
            "derrames    NOUN      obj       \n",
            "pleurales   ADJ       amod      \n",
            ".           PUNCT     punct     \n",
            "Hay         AUX       ROOT      \n",
            "cicatrices  NOUN      obj       \n",
            "en          ADP       case      \n",
            "el          DET       det       \n",
            "lóbulo      NOUN      obl       \n",
            "medio       ADJ       amod      \n",
            "derecho     NOUN      amod      \n",
            "y           CCONJ     cc        \n",
            "en          ADP       case      \n",
            "la          DET       det       \n",
            "língula     NOUN      dep       \n",
            ",           PUNCT     punct     \n",
            "así         ADV       cc        \n",
            "como        SCONJ     fixed     \n",
            "en          ADP       case      \n",
            "ambas       NUM       nummod    \n",
            "bases       NOUN      conj      \n",
            "pulmonares  ADJ       amod      \n",
            ".           PUNCT     punct     \n",
            "Las         DET       det       \n",
            "estructuras NOUN      nsubj     \n",
            "óseas       ADJ       amod      \n",
            "están       AUX       cop       \n",
            "libres      ADJ       ROOT      \n",
            "de          ADP       case      \n",
            "lesiones    NOUN      nmod      \n",
            "líticas     ADJ       amod      \n",
            "o           CCONJ     cc        \n",
            "blásticas   ADJ       conj      \n",
            ".           PUNCT     punct     \n",
            "Se          PRON      expl:pass \n",
            "observan    VERB      ROOT      \n",
            "cambios     NOUN      nsubj     \n",
            "degenerativosADJ       amod      \n",
            "multinivel  NOUN      nmod      \n",
            "en          ADP       case      \n",
            "la          DET       det       \n",
            "columna     NOUN      nmod      \n",
            "toracolumbarVERB      csubj     \n",
            ".           PUNCT     punct     \n",
            "Se          PRON      expl:pass \n",
            "observan    VERB      ROOT      \n",
            "calcificacionesNOUN      nsubj     \n",
            "dispersas   ADJ       amod      \n",
            "en          ADP       case      \n",
            "la          DET       det       \n",
            "aorta       NOUN      obl       \n",
            "y           CCONJ     cc        \n",
            "en          ADP       case      \n",
            "sus         DET       det       \n",
            "principales ADJ       amod      \n",
            "ramas       NOUN      conj      \n",
            ",           PUNCT     punct     \n",
            "compatibles ADJ       advcl     \n",
            "con         ADP       case      \n",
            "la          DET       det       \n",
            "aterosclerosisNOUN      nmod      \n",
            ".           PUNCT     punct     \n"
          ]
        }
      ]
    },
    {
      "cell_type": "code",
      "source": [
        "# Itera sobre las entidades predichas\n",
        "for ent in doc.ents:\n",
        "    # Imprime en pantalla el texto de la entidad y su etiqueta\n",
        "    print(ent.text, ent.label_)"
      ],
      "metadata": {
        "colab": {
          "base_uri": "https://localhost:8080/"
        },
        "id": "ceH575u6DsQ9",
        "outputId": "041f98ac-4cfc-4582-f7cf-b1569b17f692"
      },
      "execution_count": null,
      "outputs": [
        {
          "output_type": "stream",
          "name": "stdout",
          "text": [
            "El paciente se encuentra en estado post MISC\n",
            "El bazo MISC\n",
            "El páncreas MISC\n",
            "No hay evidencia de masa suprarrenal. MISC\n",
            "Los riñones MISC\n",
            "No hay hidrouréter ni hidronefrosis. MISC\n",
            "No hay evidencia de apendicitis. MISC\n",
            "Hay varias asas de intestino MISC\n",
            "No hay engrosamiento de la pared MISC\n",
            "No hay evidencia de obstrucción del intestino delgado MISC\n",
            "No hay evidencia de ascitis abdominal o linfadenopatía. MISC\n",
            "No hay evidencia de masa vesical intrínseca MISC\n",
            "No hay ascitis pélvica ni linfadenopatía MISC\n",
            "El útero y los ovarios MISC\n",
            "Las imágenes de las bases pulmonares MISC\n",
            "No hay derrames pleurales. MISC\n",
            "Hay cicatrices en el lóbulo medio derecho MISC\n",
            "Las estructuras óseas están libres de lesiones líticas MISC\n",
            "columna toracolumbar. LOC\n"
          ]
        }
      ]
    },
    {
      "cell_type": "markdown",
      "source": [
        "Prediciendo entidades nombradas (NER) en contexto\n",
        "\n",
        "Los modelos son estadísticos y no siempre son correctos. La corrección de sus predicciones depende de los datos de entrenamiento y del texto que estás procesando. Veamos un ejemplo.\n",
        "\n",
        "Procesa el texto con el objeto doc.\n",
        "Itera sobre las entidades e imprime en pantalla el texto de la entidad y la etiqueta.\n",
        "Parece ser que el modelo no predijo “adidas zx”. Crea un span para esos tokens manualmente."
      ],
      "metadata": {
        "id": "h2b4vt8sEBI4"
      }
    },
    {
      "cell_type": "code",
      "source": [
        "text = (\n",
        "    \"Los Olímpicos de Tokio 2020 son la inspiración para la nueva \"\n",
        "    \"colección de zapatillas adidas zx.\"\n",
        ")\n",
        "\n",
        "# Procesa el texto\n",
        "doc = nlp(text)\n",
        "\n",
        "\n",
        "# Itera sobre las entidades\n",
        "for ent in doc.ents:\n",
        "    # Imprime en pantalla el texto de la entidad y su etiqueta\n",
        "    print(ent.text, ent.label_)\n",
        "\n",
        "# Obtén el span para \"adidas zx\"\n",
        "adidas_zx = doc[14:16]\n",
        "\n",
        "# Imprime en pantalla el texto del span\n",
        "print(\"Entidad faltante:\", adidas_zx.text)"
      ],
      "metadata": {
        "colab": {
          "base_uri": "https://localhost:8080/"
        },
        "id": "ulYUIWciD_4u",
        "outputId": "ff56640f-8b37-4a5d-c10d-a925a4cfaa18"
      },
      "execution_count": null,
      "outputs": [
        {
          "output_type": "stream",
          "name": "stdout",
          "text": [
            "Olímpicos de Tokio 2020 LOC\n",
            "Entidad faltante: adidas zx\n"
          ]
        }
      ]
    },
    {
      "cell_type": "markdown",
      "source": [
        "Probemos el Matcher basado en reglas de spaCy. Vas a usar un ejemplo del ejercicio anterior y escribirás un patrón que encuentre la frase “adidas zx” en el texto.\n",
        "\n",
        "Importa el Matcher desde spacy.matcher.\n",
        "Inicialízalo con el vocab compartido del objeto nlp.\n",
        "Crea un patrón que encuentre los valores \"TEXT\" de dos tokens: \"adidas\" y \"zx\".\n",
        "Usa el método matcher.add para añadir el patrón al matcher.\n",
        "Llama al matcher en el doc y guarda el resultado en la variable matches.\n",
        "Itera sobre los resultados y obtén el span resultante desde el índice start hasta el índice end."
      ],
      "metadata": {
        "id": "VER1UBE0F3ol"
      }
    },
    {
      "cell_type": "code",
      "source": [
        "# Importa el Matcher\n",
        "from spacy.matcher import Matcher\n",
        "\n",
        "nlp = spacy.load(\"es_core_news_sm\")\n",
        "doc = nlp(\n",
        "    \"Los Olímpicos de Tokio 2020 son la inspiración para la nueva \"\n",
        "    \"colección de zapatillas adidas zx.\"\n",
        ")\n",
        "\n",
        "# Inicializa el matcher con el vocabulario compartido\n",
        "matcher = Matcher(nlp.vocab)\n",
        "\n",
        "# Crea un patrón que encuentre dos tokens: \"adidas\" y \"zx\"\n",
        "pattern = [{\"TEXT\": \"adidas\"}, {\"TEXT\": \"zx\"}]\n",
        "\n",
        "# Añade el patrón al matcher\n",
        "matcher.add(\"ADIDAS_ZX_PATTERN\", [pattern])\n",
        "\n",
        "# Usa al matcher sobre el doc\n",
        "matches = matcher(doc)\n",
        "print(\"Resultados:\", [doc[start:end].text for match_id, start, end in matches])"
      ],
      "metadata": {
        "colab": {
          "base_uri": "https://localhost:8080/"
        },
        "id": "U7sTJIrmFv4w",
        "outputId": "1e4b820c-9ba3-4139-8092-f5506e6e1b62"
      },
      "execution_count": null,
      "outputs": [
        {
          "output_type": "stream",
          "name": "stdout",
          "text": [
            "Resultados: ['adidas zx']\n"
          ]
        }
      ]
    },
    {
      "cell_type": "code",
      "source": [
        "Parte 1\n",
        "Escribe un patrón que únicamente encuentre menciones de las versiones completas de iOS: “iOS 7”, “iOS 11” and “iOS 10”."
      ],
      "metadata": {
        "id": "6uP0ZnSxF-ok"
      },
      "execution_count": null,
      "outputs": []
    },
    {
      "cell_type": "code",
      "source": [
        "import spacy\n",
        "from spacy.matcher import Matcher\n",
        "\n",
        "nlp = spacy.load(\"es_core_news_sm\")\n",
        "matcher = Matcher(nlp.vocab)\n",
        "\n",
        "\n",
        "doc = nlp(\n",
        "    \"Después de hacer la actualización de iOS no notarás un rediseño \"\n",
        "    \"radical del sistema: no se compara con los cambios estéticos que \"\n",
        "    \"tuvimos con el iOS 7. La mayoría de las funcionalidades del iOS 11 \"\n",
        "    \"siguen iguales en el iOS 10.\"\n",
        ")\n",
        "\n",
        "# Escribe un patrón para las versiones de iOS enteras\n",
        "# (\"iOS 7\", \"iOS 11\", \"iOS 10\")\n",
        "pattern = [{\"TEXT\": \"iOS\"}, {\"IS_DIGIT\": True}]\n",
        "\n",
        "# Añade el patrón al matcher y usa el matcher sobre el documento\n",
        "matcher.add(\"IOS_VERSION_PATTERN\", [pattern])\n",
        "matches = matcher(doc)\n",
        "print(\"Total de resultados encontrados:\", len(matches))\n",
        "\n",
        "# Itera sobre los resultados e imprime el texto del span\n",
        "for match_id, start, end in matches:\n",
        "    print(\"Resultado encontrado:\", doc[start:end].text)"
      ],
      "metadata": {
        "colab": {
          "base_uri": "https://localhost:8080/"
        },
        "id": "oF-avLBUF8s7",
        "outputId": "6fd59aaa-a0f7-40ac-bc96-c8303b251799"
      },
      "execution_count": null,
      "outputs": [
        {
          "output_type": "stream",
          "name": "stdout",
          "text": [
            "Total de resultados encontrados: 3\n",
            "Resultado encontrado: iOS 7\n",
            "Resultado encontrado: iOS 11\n",
            "Resultado encontrado: iOS 10\n"
          ]
        }
      ]
    },
    {
      "cell_type": "code",
      "source": [
        "! pip install transformers\n",
        "\n",
        "from transformers import AutoTokenizer, AutoModelForTokenClassification, pipeline\n",
        "\n",
        "tokenizer = AutoTokenizer.from_pretrained(\"PlanTL-GOB-ES/bsc-bio-es\")\n",
        "\n",
        "model = AutoModelForTokenClassification.from_pretrained(\"PlanTL-GOB-ES/bsc-bio-es\")\n",
        "\n",
        "pipe =  pipeline(task='token-classification', model='PlanTL-GOB-ES/bsc-bio-es')\n",
        "#pipe =  pipeline(task='ner', model='PlanTL-GOB-ES/bsc-bio-es')\n",
        "\n",
        "sentence = 'Por el hallazgo de múltiples fracturas por estrés, se procedió a estudio en nuestras consultas, realizándose análisis con función renal, calcio sérico y urinario, calcio iónico, magnesio y PTH, que fueron normales.'\n",
        "results = pipe(sentence)\n",
        "\n",
        "print(results)\n"
      ],
      "metadata": {
        "colab": {
          "base_uri": "https://localhost:8080/"
        },
        "id": "cOdKbaksGSiO",
        "outputId": "010ee1e8-6cba-4017-df05-fe35afe28cd0"
      },
      "execution_count": null,
      "outputs": [
        {
          "output_type": "stream",
          "name": "stdout",
          "text": [
            "Looking in indexes: https://pypi.org/simple, https://us-python.pkg.dev/colab-wheels/public/simple/\n",
            "Requirement already satisfied: transformers in /usr/local/lib/python3.7/dist-packages (4.24.0)\n",
            "Requirement already satisfied: huggingface-hub<1.0,>=0.10.0 in /usr/local/lib/python3.7/dist-packages (from transformers) (0.11.0)\n",
            "Requirement already satisfied: tqdm>=4.27 in /usr/local/lib/python3.7/dist-packages (from transformers) (4.64.1)\n",
            "Requirement already satisfied: pyyaml>=5.1 in /usr/local/lib/python3.7/dist-packages (from transformers) (6.0)\n",
            "Requirement already satisfied: regex!=2019.12.17 in /usr/local/lib/python3.7/dist-packages (from transformers) (2022.6.2)\n",
            "Requirement already satisfied: packaging>=20.0 in /usr/local/lib/python3.7/dist-packages (from transformers) (21.3)\n",
            "Requirement already satisfied: numpy>=1.17 in /usr/local/lib/python3.7/dist-packages (from transformers) (1.21.6)\n",
            "Requirement already satisfied: tokenizers!=0.11.3,<0.14,>=0.11.1 in /usr/local/lib/python3.7/dist-packages (from transformers) (0.13.2)\n",
            "Requirement already satisfied: filelock in /usr/local/lib/python3.7/dist-packages (from transformers) (3.8.0)\n",
            "Requirement already satisfied: importlib-metadata in /usr/local/lib/python3.7/dist-packages (from transformers) (4.13.0)\n",
            "Requirement already satisfied: requests in /usr/local/lib/python3.7/dist-packages (from transformers) (2.23.0)\n",
            "Requirement already satisfied: typing-extensions>=3.7.4.3 in /usr/local/lib/python3.7/dist-packages (from huggingface-hub<1.0,>=0.10.0->transformers) (4.1.1)\n",
            "Requirement already satisfied: pyparsing!=3.0.5,>=2.0.2 in /usr/local/lib/python3.7/dist-packages (from packaging>=20.0->transformers) (3.0.9)\n",
            "Requirement already satisfied: zipp>=0.5 in /usr/local/lib/python3.7/dist-packages (from importlib-metadata->transformers) (3.10.0)\n",
            "Requirement already satisfied: idna<3,>=2.5 in /usr/local/lib/python3.7/dist-packages (from requests->transformers) (2.10)\n",
            "Requirement already satisfied: certifi>=2017.4.17 in /usr/local/lib/python3.7/dist-packages (from requests->transformers) (2022.9.24)\n",
            "Requirement already satisfied: chardet<4,>=3.0.2 in /usr/local/lib/python3.7/dist-packages (from requests->transformers) (3.0.4)\n",
            "Requirement already satisfied: urllib3!=1.25.0,!=1.25.1,<1.26,>=1.21.1 in /usr/local/lib/python3.7/dist-packages (from requests->transformers) (1.24.3)\n"
          ]
        },
        {
          "output_type": "stream",
          "name": "stderr",
          "text": [
            "Some weights of the model checkpoint at PlanTL-GOB-ES/bsc-bio-es were not used when initializing RobertaForTokenClassification: ['lm_head.bias', 'lm_head.layer_norm.bias', 'lm_head.dense.weight', 'lm_head.dense.bias', 'lm_head.decoder.weight', 'lm_head.decoder.bias', 'lm_head.layer_norm.weight']\n",
            "- This IS expected if you are initializing RobertaForTokenClassification from the checkpoint of a model trained on another task or with another architecture (e.g. initializing a BertForSequenceClassification model from a BertForPreTraining model).\n",
            "- This IS NOT expected if you are initializing RobertaForTokenClassification from the checkpoint of a model that you expect to be exactly identical (initializing a BertForSequenceClassification model from a BertForSequenceClassification model).\n",
            "Some weights of RobertaForTokenClassification were not initialized from the model checkpoint at PlanTL-GOB-ES/bsc-bio-es and are newly initialized: ['classifier.bias', 'classifier.weight']\n",
            "You should probably TRAIN this model on a down-stream task to be able to use it for predictions and inference.\n",
            "Some weights of the model checkpoint at PlanTL-GOB-ES/bsc-bio-es were not used when initializing RobertaForTokenClassification: ['lm_head.bias', 'lm_head.layer_norm.bias', 'lm_head.dense.weight', 'lm_head.dense.bias', 'lm_head.decoder.weight', 'lm_head.decoder.bias', 'lm_head.layer_norm.weight']\n",
            "- This IS expected if you are initializing RobertaForTokenClassification from the checkpoint of a model trained on another task or with another architecture (e.g. initializing a BertForSequenceClassification model from a BertForPreTraining model).\n",
            "- This IS NOT expected if you are initializing RobertaForTokenClassification from the checkpoint of a model that you expect to be exactly identical (initializing a BertForSequenceClassification model from a BertForSequenceClassification model).\n",
            "Some weights of RobertaForTokenClassification were not initialized from the model checkpoint at PlanTL-GOB-ES/bsc-bio-es and are newly initialized: ['classifier.bias', 'classifier.weight']\n",
            "You should probably TRAIN this model on a down-stream task to be able to use it for predictions and inference.\n"
          ]
        },
        {
          "output_type": "stream",
          "name": "stdout",
          "text": [
            "[{'entity': 'LABEL_0', 'score': 0.6456457, 'index': 1, 'word': 'ĠPor', 'start': 0, 'end': 3}, {'entity': 'LABEL_0', 'score': 0.6025636, 'index': 2, 'word': 'Ġel', 'start': 4, 'end': 6}, {'entity': 'LABEL_0', 'score': 0.57402796, 'index': 3, 'word': 'Ġhallazgo', 'start': 7, 'end': 15}, {'entity': 'LABEL_0', 'score': 0.61319935, 'index': 4, 'word': 'Ġde', 'start': 16, 'end': 18}, {'entity': 'LABEL_0', 'score': 0.63566554, 'index': 5, 'word': 'ĠmÃºltiples', 'start': 19, 'end': 28}, {'entity': 'LABEL_0', 'score': 0.6149372, 'index': 6, 'word': 'Ġfracturas', 'start': 29, 'end': 38}, {'entity': 'LABEL_0', 'score': 0.6287967, 'index': 7, 'word': 'Ġpor', 'start': 39, 'end': 42}, {'entity': 'LABEL_0', 'score': 0.629624, 'index': 8, 'word': 'ĠestrÃ©s', 'start': 43, 'end': 49}, {'entity': 'LABEL_0', 'score': 0.59710383, 'index': 9, 'word': ',', 'start': 49, 'end': 50}, {'entity': 'LABEL_0', 'score': 0.5794788, 'index': 10, 'word': 'Ġse', 'start': 51, 'end': 53}, {'entity': 'LABEL_0', 'score': 0.6081033, 'index': 11, 'word': 'ĠprocediÃ³', 'start': 54, 'end': 62}, {'entity': 'LABEL_0', 'score': 0.54931706, 'index': 12, 'word': 'Ġa', 'start': 63, 'end': 64}, {'entity': 'LABEL_0', 'score': 0.6096408, 'index': 13, 'word': 'Ġestudio', 'start': 65, 'end': 72}, {'entity': 'LABEL_0', 'score': 0.6197444, 'index': 14, 'word': 'Ġen', 'start': 73, 'end': 75}, {'entity': 'LABEL_0', 'score': 0.6100605, 'index': 15, 'word': 'Ġnuestras', 'start': 76, 'end': 84}, {'entity': 'LABEL_0', 'score': 0.66147023, 'index': 16, 'word': 'Ġconsultas', 'start': 85, 'end': 94}, {'entity': 'LABEL_0', 'score': 0.5995981, 'index': 17, 'word': ',', 'start': 94, 'end': 95}, {'entity': 'LABEL_0', 'score': 0.6520346, 'index': 18, 'word': 'ĠrealizÃ¡ndose', 'start': 96, 'end': 108}, {'entity': 'LABEL_0', 'score': 0.5818807, 'index': 19, 'word': 'ĠanÃ¡lisis', 'start': 109, 'end': 117}, {'entity': 'LABEL_0', 'score': 0.58224285, 'index': 20, 'word': 'Ġcon', 'start': 118, 'end': 121}, {'entity': 'LABEL_0', 'score': 0.5745004, 'index': 21, 'word': 'ĠfunciÃ³n', 'start': 122, 'end': 129}, {'entity': 'LABEL_0', 'score': 0.567317, 'index': 22, 'word': 'Ġrenal', 'start': 130, 'end': 135}, {'entity': 'LABEL_0', 'score': 0.6402391, 'index': 23, 'word': ',', 'start': 135, 'end': 136}, {'entity': 'LABEL_0', 'score': 0.6200419, 'index': 24, 'word': 'Ġcalcio', 'start': 137, 'end': 143}, {'entity': 'LABEL_0', 'score': 0.59369546, 'index': 25, 'word': 'ĠsÃ©rico', 'start': 144, 'end': 150}, {'entity': 'LABEL_0', 'score': 0.61755294, 'index': 26, 'word': 'Ġy', 'start': 151, 'end': 152}, {'entity': 'LABEL_0', 'score': 0.5807998, 'index': 27, 'word': 'Ġurinario', 'start': 153, 'end': 161}, {'entity': 'LABEL_0', 'score': 0.63721645, 'index': 28, 'word': ',', 'start': 161, 'end': 162}, {'entity': 'LABEL_0', 'score': 0.61517614, 'index': 29, 'word': 'Ġcalcio', 'start': 163, 'end': 169}, {'entity': 'LABEL_0', 'score': 0.60927033, 'index': 30, 'word': 'ĠiÃ³nico', 'start': 170, 'end': 176}, {'entity': 'LABEL_0', 'score': 0.64806473, 'index': 31, 'word': ',', 'start': 176, 'end': 177}, {'entity': 'LABEL_0', 'score': 0.6056558, 'index': 32, 'word': 'Ġmagnesio', 'start': 178, 'end': 186}, {'entity': 'LABEL_0', 'score': 0.6208297, 'index': 33, 'word': 'Ġy', 'start': 187, 'end': 188}, {'entity': 'LABEL_0', 'score': 0.56755745, 'index': 34, 'word': 'ĠPTH', 'start': 189, 'end': 192}, {'entity': 'LABEL_0', 'score': 0.6099461, 'index': 35, 'word': ',', 'start': 192, 'end': 193}, {'entity': 'LABEL_0', 'score': 0.5763, 'index': 36, 'word': 'Ġque', 'start': 194, 'end': 197}, {'entity': 'LABEL_0', 'score': 0.62722, 'index': 37, 'word': 'Ġfueron', 'start': 198, 'end': 204}, {'entity': 'LABEL_0', 'score': 0.6017581, 'index': 38, 'word': 'Ġnormales', 'start': 205, 'end': 213}, {'entity': 'LABEL_0', 'score': 0.6022288, 'index': 39, 'word': '.', 'start': 213, 'end': 214}]\n"
          ]
        }
      ]
    },
    {
      "cell_type": "code",
      "source": [
        "text = (\n",
        "    \"Hay evidencia de hipoatenuación hepática difusa compatible con infiltración grasa .\"\n",
        "    \"No hay dilatación de los conductos biliares intra o extrahepáticos. \"\n",
        "    \"El paciente se encuentra en estado post colecistectomía. El bazo es normal. \"\n",
        "    \"El páncreas es de contorno y características de atenuación normales. \"\n",
        "    \"No hay evidencia de masa suprarrenal. Hay una hernia supraumbilical de tamaño moderado que contiene grasa. \"\n",
        "    \"Los riñones son normales en tamaño, forma y configuración. No se identifican cálculos renales ni ureterales. \"\n",
        "    \"No hay hidrouréter ni hidronefrosis. No hay evidencia de apendicitis. \"\n",
        "    \"Hay varias asas de intestino delgado llenas de líquido, compatibles con una enteritis leve. \"\n",
        "    \"No hay engrosamiento de la pared intestinal. No hay evidencia de obstrucción del intestino delgado o grueso. \"\n",
        "    \"No hay evidencia de ascitis abdominal o linfadenopatía. No hay evidencia de masa vesical intrínseca o extrínseca . \"\n",
        "    \"No hay ascitis pélvica ni linfadenopatía . El útero y los ovarios no presentan ninguna anomalía. \"\n",
        "    \"Las imágenes de las bases pulmonares no muestran evidencia de masa pleural o parenquimatosa . \"\n",
        "    \"No hay derrames pleurales. Hay cicatrices en el lóbulo medio derecho y en la língula, así como en ambas bases pulmonares. \"\n",
        "    \"Las estructuras óseas están libres de lesiones líticas o blásticas. \"\n",
        "    \"Se observan cambios degenerativos multinivel en la columna toracolumbar. \"\n",
        "    \"Se observan calcificaciones dispersas en la aorta y en sus principales ramas, compatibles con la aterosclerosis.\"\n",
        ")\n",
        "\n",
        "results = pipe(text)\n",
        "\n",
        "\n",
        "\n",
        "print(results)"
      ],
      "metadata": {
        "colab": {
          "base_uri": "https://localhost:8080/"
        },
        "id": "1LyemG5RHAGF",
        "outputId": "285e84c6-39dd-4fb8-c763-b6fbd6cc3acc"
      },
      "execution_count": null,
      "outputs": [
        {
          "output_type": "stream",
          "name": "stdout",
          "text": [
            "[{'entity': 'LABEL_0', 'score': 0.61561483, 'index': 1, 'word': 'ĠHay', 'start': 0, 'end': 3}, {'entity': 'LABEL_0', 'score': 0.5476618, 'index': 2, 'word': 'Ġevidencia', 'start': 4, 'end': 13}, {'entity': 'LABEL_0', 'score': 0.56502575, 'index': 3, 'word': 'Ġde', 'start': 14, 'end': 16}, {'entity': 'LABEL_0', 'score': 0.611602, 'index': 4, 'word': 'Ġhipo', 'start': 17, 'end': 21}, {'entity': 'LABEL_0', 'score': 0.6241483, 'index': 5, 'word': 'aten', 'start': 21, 'end': 25}, {'entity': 'LABEL_0', 'score': 0.6104685, 'index': 6, 'word': 'uaciÃ³n', 'start': 25, 'end': 31}, {'entity': 'LABEL_0', 'score': 0.57844955, 'index': 7, 'word': 'ĠhepÃ¡tica', 'start': 32, 'end': 40}, {'entity': 'LABEL_0', 'score': 0.59257853, 'index': 8, 'word': 'Ġdifusa', 'start': 41, 'end': 47}, {'entity': 'LABEL_0', 'score': 0.5478903, 'index': 9, 'word': 'Ġcompatible', 'start': 48, 'end': 58}, {'entity': 'LABEL_1', 'score': 0.518827, 'index': 10, 'word': 'Ġcon', 'start': 59, 'end': 62}, {'entity': 'LABEL_0', 'score': 0.6106673, 'index': 11, 'word': 'ĠinfiltraciÃ³n', 'start': 63, 'end': 75}, {'entity': 'LABEL_0', 'score': 0.6051036, 'index': 12, 'word': 'Ġgrasa', 'start': 76, 'end': 81}, {'entity': 'LABEL_0', 'score': 0.6505824, 'index': 13, 'word': 'Ġ.', 'start': 82, 'end': 83}, {'entity': 'LABEL_0', 'score': 0.6113852, 'index': 14, 'word': 'No', 'start': 83, 'end': 85}, {'entity': 'LABEL_0', 'score': 0.598778, 'index': 15, 'word': 'Ġhay', 'start': 86, 'end': 89}, {'entity': 'LABEL_0', 'score': 0.5458557, 'index': 16, 'word': 'ĠdilataciÃ³n', 'start': 90, 'end': 100}, {'entity': 'LABEL_0', 'score': 0.5487823, 'index': 17, 'word': 'Ġde', 'start': 101, 'end': 103}, {'entity': 'LABEL_0', 'score': 0.5803615, 'index': 18, 'word': 'Ġlos', 'start': 104, 'end': 107}, {'entity': 'LABEL_0', 'score': 0.5564445, 'index': 19, 'word': 'Ġconductos', 'start': 108, 'end': 117}, {'entity': 'LABEL_0', 'score': 0.5760178, 'index': 20, 'word': 'Ġbiliares', 'start': 118, 'end': 126}, {'entity': 'LABEL_0', 'score': 0.6421809, 'index': 21, 'word': 'Ġintra', 'start': 127, 'end': 132}, {'entity': 'LABEL_0', 'score': 0.5632243, 'index': 22, 'word': 'Ġo', 'start': 133, 'end': 134}, {'entity': 'LABEL_0', 'score': 0.5608704, 'index': 23, 'word': 'Ġextra', 'start': 135, 'end': 140}, {'entity': 'LABEL_0', 'score': 0.6398489, 'index': 24, 'word': 'he', 'start': 140, 'end': 142}, {'entity': 'LABEL_0', 'score': 0.65111244, 'index': 25, 'word': 'pÃ¡ticos', 'start': 142, 'end': 149}, {'entity': 'LABEL_0', 'score': 0.64149195, 'index': 26, 'word': '.', 'start': 149, 'end': 150}, {'entity': 'LABEL_0', 'score': 0.5862613, 'index': 27, 'word': 'ĠEl', 'start': 151, 'end': 153}, {'entity': 'LABEL_0', 'score': 0.6030293, 'index': 28, 'word': 'Ġpaciente', 'start': 154, 'end': 162}, {'entity': 'LABEL_0', 'score': 0.57361466, 'index': 29, 'word': 'Ġse', 'start': 163, 'end': 165}, {'entity': 'LABEL_0', 'score': 0.59670156, 'index': 30, 'word': 'Ġencuentra', 'start': 166, 'end': 175}, {'entity': 'LABEL_0', 'score': 0.56483656, 'index': 31, 'word': 'Ġen', 'start': 176, 'end': 178}, {'entity': 'LABEL_0', 'score': 0.57179636, 'index': 32, 'word': 'Ġestado', 'start': 179, 'end': 185}, {'entity': 'LABEL_0', 'score': 0.57957983, 'index': 33, 'word': 'Ġpost', 'start': 186, 'end': 190}, {'entity': 'LABEL_0', 'score': 0.5527478, 'index': 34, 'word': 'ĠcolecistectomÃŃa', 'start': 191, 'end': 206}, {'entity': 'LABEL_0', 'score': 0.6526017, 'index': 35, 'word': '.', 'start': 206, 'end': 207}, {'entity': 'LABEL_0', 'score': 0.6073768, 'index': 36, 'word': 'ĠEl', 'start': 208, 'end': 210}, {'entity': 'LABEL_0', 'score': 0.60178834, 'index': 37, 'word': 'Ġbazo', 'start': 211, 'end': 215}, {'entity': 'LABEL_0', 'score': 0.56893235, 'index': 38, 'word': 'Ġes', 'start': 216, 'end': 218}, {'entity': 'LABEL_0', 'score': 0.58108425, 'index': 39, 'word': 'Ġnormal', 'start': 219, 'end': 225}, {'entity': 'LABEL_0', 'score': 0.6571316, 'index': 40, 'word': '.', 'start': 225, 'end': 226}, {'entity': 'LABEL_0', 'score': 0.56554794, 'index': 41, 'word': 'ĠEl', 'start': 227, 'end': 229}, {'entity': 'LABEL_0', 'score': 0.5987183, 'index': 42, 'word': 'ĠpÃ¡ncreas', 'start': 230, 'end': 238}, {'entity': 'LABEL_0', 'score': 0.56387204, 'index': 43, 'word': 'Ġes', 'start': 239, 'end': 241}, {'entity': 'LABEL_0', 'score': 0.60679644, 'index': 44, 'word': 'Ġde', 'start': 242, 'end': 244}, {'entity': 'LABEL_0', 'score': 0.5488866, 'index': 45, 'word': 'Ġcontorno', 'start': 245, 'end': 253}, {'entity': 'LABEL_0', 'score': 0.5882273, 'index': 46, 'word': 'Ġy', 'start': 254, 'end': 255}, {'entity': 'LABEL_0', 'score': 0.55825037, 'index': 47, 'word': 'ĠcaracterÃŃsticas', 'start': 256, 'end': 271}, {'entity': 'LABEL_0', 'score': 0.58076775, 'index': 48, 'word': 'Ġde', 'start': 272, 'end': 274}, {'entity': 'LABEL_0', 'score': 0.585772, 'index': 49, 'word': 'ĠatenuaciÃ³n', 'start': 275, 'end': 285}, {'entity': 'LABEL_0', 'score': 0.5653856, 'index': 50, 'word': 'Ġnormales', 'start': 286, 'end': 294}, {'entity': 'LABEL_0', 'score': 0.63830084, 'index': 51, 'word': '.', 'start': 294, 'end': 295}, {'entity': 'LABEL_0', 'score': 0.5878151, 'index': 52, 'word': 'ĠNo', 'start': 296, 'end': 298}, {'entity': 'LABEL_0', 'score': 0.6080034, 'index': 53, 'word': 'Ġhay', 'start': 299, 'end': 302}, {'entity': 'LABEL_0', 'score': 0.52160126, 'index': 54, 'word': 'Ġevidencia', 'start': 303, 'end': 312}, {'entity': 'LABEL_0', 'score': 0.5363285, 'index': 55, 'word': 'Ġde', 'start': 313, 'end': 315}, {'entity': 'LABEL_0', 'score': 0.6143424, 'index': 56, 'word': 'Ġmasa', 'start': 316, 'end': 320}, {'entity': 'LABEL_0', 'score': 0.6218367, 'index': 57, 'word': 'Ġsuprarrenal', 'start': 321, 'end': 332}, {'entity': 'LABEL_0', 'score': 0.6314706, 'index': 58, 'word': '.', 'start': 332, 'end': 333}, {'entity': 'LABEL_0', 'score': 0.6298796, 'index': 59, 'word': 'ĠHay', 'start': 334, 'end': 337}, {'entity': 'LABEL_0', 'score': 0.57542115, 'index': 60, 'word': 'Ġuna', 'start': 338, 'end': 341}, {'entity': 'LABEL_0', 'score': 0.6269939, 'index': 61, 'word': 'Ġhernia', 'start': 342, 'end': 348}, {'entity': 'LABEL_0', 'score': 0.67154413, 'index': 62, 'word': 'Ġsupra', 'start': 349, 'end': 354}, {'entity': 'LABEL_0', 'score': 0.59333616, 'index': 63, 'word': 'um', 'start': 354, 'end': 356}, {'entity': 'LABEL_0', 'score': 0.6438113, 'index': 64, 'word': 'bilical', 'start': 356, 'end': 363}, {'entity': 'LABEL_0', 'score': 0.5856714, 'index': 65, 'word': 'Ġde', 'start': 364, 'end': 366}, {'entity': 'LABEL_0', 'score': 0.5104179, 'index': 66, 'word': 'ĠtamaÃ±o', 'start': 367, 'end': 373}, {'entity': 'LABEL_0', 'score': 0.5834286, 'index': 67, 'word': 'Ġmoderado', 'start': 374, 'end': 382}, {'entity': 'LABEL_0', 'score': 0.557614, 'index': 68, 'word': 'Ġque', 'start': 383, 'end': 386}, {'entity': 'LABEL_0', 'score': 0.54549074, 'index': 69, 'word': 'Ġcontiene', 'start': 387, 'end': 395}, {'entity': 'LABEL_0', 'score': 0.5731385, 'index': 70, 'word': 'Ġgrasa', 'start': 396, 'end': 401}, {'entity': 'LABEL_0', 'score': 0.6316419, 'index': 71, 'word': '.', 'start': 401, 'end': 402}, {'entity': 'LABEL_0', 'score': 0.56037426, 'index': 72, 'word': 'ĠLos', 'start': 403, 'end': 406}, {'entity': 'LABEL_0', 'score': 0.5160138, 'index': 73, 'word': 'ĠriÃ±ones', 'start': 407, 'end': 414}, {'entity': 'LABEL_0', 'score': 0.5715046, 'index': 74, 'word': 'Ġson', 'start': 415, 'end': 418}, {'entity': 'LABEL_0', 'score': 0.6104035, 'index': 75, 'word': 'Ġnormales', 'start': 419, 'end': 427}, {'entity': 'LABEL_0', 'score': 0.6077601, 'index': 76, 'word': 'Ġen', 'start': 428, 'end': 430}, {'entity': 'LABEL_1', 'score': 0.5160359, 'index': 77, 'word': 'ĠtamaÃ±o', 'start': 431, 'end': 437}, {'entity': 'LABEL_0', 'score': 0.6451657, 'index': 78, 'word': ',', 'start': 437, 'end': 438}, {'entity': 'LABEL_1', 'score': 0.5415041, 'index': 79, 'word': 'Ġforma', 'start': 439, 'end': 444}, {'entity': 'LABEL_0', 'score': 0.6167465, 'index': 80, 'word': 'Ġy', 'start': 445, 'end': 446}, {'entity': 'LABEL_0', 'score': 0.5267221, 'index': 81, 'word': 'ĠconfiguraciÃ³n', 'start': 447, 'end': 460}, {'entity': 'LABEL_0', 'score': 0.6473916, 'index': 82, 'word': '.', 'start': 460, 'end': 461}, {'entity': 'LABEL_0', 'score': 0.60928863, 'index': 83, 'word': 'ĠNo', 'start': 462, 'end': 464}, {'entity': 'LABEL_0', 'score': 0.5973242, 'index': 84, 'word': 'Ġse', 'start': 465, 'end': 467}, {'entity': 'LABEL_0', 'score': 0.61251366, 'index': 85, 'word': 'Ġidentifican', 'start': 468, 'end': 479}, {'entity': 'LABEL_0', 'score': 0.5971265, 'index': 86, 'word': 'ĠcÃ¡lculos', 'start': 480, 'end': 488}, {'entity': 'LABEL_0', 'score': 0.5744261, 'index': 87, 'word': 'Ġrenales', 'start': 489, 'end': 496}, {'entity': 'LABEL_0', 'score': 0.62050027, 'index': 88, 'word': 'Ġni', 'start': 497, 'end': 499}, {'entity': 'LABEL_0', 'score': 0.58985454, 'index': 89, 'word': 'Ġure', 'start': 500, 'end': 503}, {'entity': 'LABEL_0', 'score': 0.57983786, 'index': 90, 'word': 'terales', 'start': 503, 'end': 510}, {'entity': 'LABEL_0', 'score': 0.6428446, 'index': 91, 'word': '.', 'start': 510, 'end': 511}, {'entity': 'LABEL_0', 'score': 0.61274296, 'index': 92, 'word': 'ĠNo', 'start': 512, 'end': 514}, {'entity': 'LABEL_0', 'score': 0.6120188, 'index': 93, 'word': 'Ġhay', 'start': 515, 'end': 518}, {'entity': 'LABEL_0', 'score': 0.6283162, 'index': 94, 'word': 'Ġhidro', 'start': 519, 'end': 524}, {'entity': 'LABEL_0', 'score': 0.5964513, 'index': 95, 'word': 'ur', 'start': 524, 'end': 526}, {'entity': 'LABEL_0', 'score': 0.5331996, 'index': 96, 'word': 'Ã©', 'start': 526, 'end': 527}, {'entity': 'LABEL_0', 'score': 0.6128163, 'index': 97, 'word': 'ter', 'start': 527, 'end': 530}, {'entity': 'LABEL_0', 'score': 0.6063978, 'index': 98, 'word': 'Ġni', 'start': 531, 'end': 533}, {'entity': 'LABEL_0', 'score': 0.615791, 'index': 99, 'word': 'Ġhid', 'start': 534, 'end': 537}, {'entity': 'LABEL_0', 'score': 0.6724306, 'index': 100, 'word': 'ronefrosis', 'start': 537, 'end': 547}, {'entity': 'LABEL_0', 'score': 0.6285579, 'index': 101, 'word': '.', 'start': 547, 'end': 548}, {'entity': 'LABEL_0', 'score': 0.5842597, 'index': 102, 'word': 'ĠNo', 'start': 549, 'end': 551}, {'entity': 'LABEL_0', 'score': 0.6012133, 'index': 103, 'word': 'Ġhay', 'start': 552, 'end': 555}, {'entity': 'LABEL_0', 'score': 0.53702563, 'index': 104, 'word': 'Ġevidencia', 'start': 556, 'end': 565}, {'entity': 'LABEL_0', 'score': 0.5435845, 'index': 105, 'word': 'Ġde', 'start': 566, 'end': 568}, {'entity': 'LABEL_0', 'score': 0.5792806, 'index': 106, 'word': 'Ġapendicitis', 'start': 569, 'end': 580}, {'entity': 'LABEL_0', 'score': 0.6488201, 'index': 107, 'word': '.', 'start': 580, 'end': 581}, {'entity': 'LABEL_0', 'score': 0.65392363, 'index': 108, 'word': 'ĠHay', 'start': 582, 'end': 585}, {'entity': 'LABEL_0', 'score': 0.6344436, 'index': 109, 'word': 'Ġvarias', 'start': 586, 'end': 592}, {'entity': 'LABEL_0', 'score': 0.62572336, 'index': 110, 'word': 'Ġasas', 'start': 593, 'end': 597}, {'entity': 'LABEL_0', 'score': 0.57766086, 'index': 111, 'word': 'Ġde', 'start': 598, 'end': 600}, {'entity': 'LABEL_0', 'score': 0.5946468, 'index': 112, 'word': 'Ġintestino', 'start': 601, 'end': 610}, {'entity': 'LABEL_0', 'score': 0.5972886, 'index': 113, 'word': 'Ġdelgado', 'start': 611, 'end': 618}, {'entity': 'LABEL_0', 'score': 0.60391486, 'index': 114, 'word': 'Ġllenas', 'start': 619, 'end': 625}, {'entity': 'LABEL_0', 'score': 0.56195027, 'index': 115, 'word': 'Ġde', 'start': 626, 'end': 628}, {'entity': 'LABEL_0', 'score': 0.5631633, 'index': 116, 'word': 'ĠlÃŃquido', 'start': 629, 'end': 636}, {'entity': 'LABEL_0', 'score': 0.5969777, 'index': 117, 'word': ',', 'start': 636, 'end': 637}, {'entity': 'LABEL_0', 'score': 0.5645444, 'index': 118, 'word': 'Ġcompatibles', 'start': 638, 'end': 649}, {'entity': 'LABEL_1', 'score': 0.5384128, 'index': 119, 'word': 'Ġcon', 'start': 650, 'end': 653}, {'entity': 'LABEL_0', 'score': 0.5722019, 'index': 120, 'word': 'Ġuna', 'start': 654, 'end': 657}, {'entity': 'LABEL_0', 'score': 0.5788024, 'index': 121, 'word': 'Ġenter', 'start': 658, 'end': 663}, {'entity': 'LABEL_0', 'score': 0.6125307, 'index': 122, 'word': 'itis', 'start': 663, 'end': 667}, {'entity': 'LABEL_0', 'score': 0.58723897, 'index': 123, 'word': 'Ġleve', 'start': 668, 'end': 672}, {'entity': 'LABEL_0', 'score': 0.628914, 'index': 124, 'word': '.', 'start': 672, 'end': 673}, {'entity': 'LABEL_0', 'score': 0.6082731, 'index': 125, 'word': 'ĠNo', 'start': 674, 'end': 676}, {'entity': 'LABEL_0', 'score': 0.6137839, 'index': 126, 'word': 'Ġhay', 'start': 677, 'end': 680}, {'entity': 'LABEL_0', 'score': 0.5727826, 'index': 127, 'word': 'Ġengrosamiento', 'start': 681, 'end': 694}, {'entity': 'LABEL_0', 'score': 0.5511842, 'index': 128, 'word': 'Ġde', 'start': 695, 'end': 697}, {'entity': 'LABEL_0', 'score': 0.53472155, 'index': 129, 'word': 'Ġla', 'start': 698, 'end': 700}, {'entity': 'LABEL_0', 'score': 0.5786255, 'index': 130, 'word': 'Ġpared', 'start': 701, 'end': 706}, {'entity': 'LABEL_0', 'score': 0.59908676, 'index': 131, 'word': 'Ġintestinal', 'start': 707, 'end': 717}, {'entity': 'LABEL_0', 'score': 0.6490876, 'index': 132, 'word': '.', 'start': 717, 'end': 718}, {'entity': 'LABEL_0', 'score': 0.6064903, 'index': 133, 'word': 'ĠNo', 'start': 719, 'end': 721}, {'entity': 'LABEL_0', 'score': 0.6015607, 'index': 134, 'word': 'Ġhay', 'start': 722, 'end': 725}, {'entity': 'LABEL_0', 'score': 0.53902173, 'index': 135, 'word': 'Ġevidencia', 'start': 726, 'end': 735}, {'entity': 'LABEL_0', 'score': 0.56890213, 'index': 136, 'word': 'Ġde', 'start': 736, 'end': 738}, {'entity': 'LABEL_0', 'score': 0.57680607, 'index': 137, 'word': 'ĠobstrucciÃ³n', 'start': 739, 'end': 750}, {'entity': 'LABEL_0', 'score': 0.55729973, 'index': 138, 'word': 'Ġdel', 'start': 751, 'end': 754}, {'entity': 'LABEL_0', 'score': 0.6190356, 'index': 139, 'word': 'Ġintestino', 'start': 755, 'end': 764}, {'entity': 'LABEL_0', 'score': 0.57904774, 'index': 140, 'word': 'Ġdelgado', 'start': 765, 'end': 772}, {'entity': 'LABEL_0', 'score': 0.57844716, 'index': 141, 'word': 'Ġo', 'start': 773, 'end': 774}, {'entity': 'LABEL_0', 'score': 0.5566894, 'index': 142, 'word': 'Ġgrueso', 'start': 775, 'end': 781}, {'entity': 'LABEL_0', 'score': 0.6318533, 'index': 143, 'word': '.', 'start': 781, 'end': 782}, {'entity': 'LABEL_0', 'score': 0.5925707, 'index': 144, 'word': 'ĠNo', 'start': 783, 'end': 785}, {'entity': 'LABEL_0', 'score': 0.59759027, 'index': 145, 'word': 'Ġhay', 'start': 786, 'end': 789}, {'entity': 'LABEL_0', 'score': 0.5317216, 'index': 146, 'word': 'Ġevidencia', 'start': 790, 'end': 799}, {'entity': 'LABEL_0', 'score': 0.56110686, 'index': 147, 'word': 'Ġde', 'start': 800, 'end': 802}, {'entity': 'LABEL_0', 'score': 0.5864856, 'index': 148, 'word': 'Ġascitis', 'start': 803, 'end': 810}, {'entity': 'LABEL_0', 'score': 0.60887825, 'index': 149, 'word': 'Ġabdominal', 'start': 811, 'end': 820}, {'entity': 'LABEL_0', 'score': 0.55501574, 'index': 150, 'word': 'Ġo', 'start': 821, 'end': 822}, {'entity': 'LABEL_0', 'score': 0.6845831, 'index': 151, 'word': 'Ġlinfaden', 'start': 823, 'end': 831}, {'entity': 'LABEL_0', 'score': 0.58282673, 'index': 152, 'word': 'opatÃŃa', 'start': 831, 'end': 837}, {'entity': 'LABEL_0', 'score': 0.617551, 'index': 153, 'word': '.', 'start': 837, 'end': 838}, {'entity': 'LABEL_0', 'score': 0.5846532, 'index': 154, 'word': 'ĠNo', 'start': 839, 'end': 841}, {'entity': 'LABEL_0', 'score': 0.586127, 'index': 155, 'word': 'Ġhay', 'start': 842, 'end': 845}, {'entity': 'LABEL_0', 'score': 0.51740026, 'index': 156, 'word': 'Ġevidencia', 'start': 846, 'end': 855}, {'entity': 'LABEL_0', 'score': 0.53706706, 'index': 157, 'word': 'Ġde', 'start': 856, 'end': 858}, {'entity': 'LABEL_0', 'score': 0.58761466, 'index': 158, 'word': 'Ġmasa', 'start': 859, 'end': 863}, {'entity': 'LABEL_0', 'score': 0.62042964, 'index': 159, 'word': 'Ġvesical', 'start': 864, 'end': 871}, {'entity': 'LABEL_0', 'score': 0.6204004, 'index': 160, 'word': 'ĠintrÃŃnseca', 'start': 872, 'end': 882}, {'entity': 'LABEL_0', 'score': 0.53503406, 'index': 161, 'word': 'Ġo', 'start': 883, 'end': 884}, {'entity': 'LABEL_0', 'score': 0.58894306, 'index': 162, 'word': 'ĠextrÃŃnseca', 'start': 885, 'end': 895}, {'entity': 'LABEL_0', 'score': 0.632589, 'index': 163, 'word': 'Ġ.', 'start': 896, 'end': 897}, {'entity': 'LABEL_0', 'score': 0.5943561, 'index': 164, 'word': 'ĠNo', 'start': 898, 'end': 900}, {'entity': 'LABEL_0', 'score': 0.5764641, 'index': 165, 'word': 'Ġhay', 'start': 901, 'end': 904}, {'entity': 'LABEL_0', 'score': 0.5668095, 'index': 166, 'word': 'Ġascitis', 'start': 905, 'end': 912}, {'entity': 'LABEL_0', 'score': 0.6138233, 'index': 167, 'word': 'ĠpÃ©lvica', 'start': 913, 'end': 920}, {'entity': 'LABEL_0', 'score': 0.5486259, 'index': 168, 'word': 'Ġni', 'start': 921, 'end': 923}, {'entity': 'LABEL_0', 'score': 0.65540314, 'index': 169, 'word': 'Ġlinfaden', 'start': 924, 'end': 932}, {'entity': 'LABEL_0', 'score': 0.56375766, 'index': 170, 'word': 'opatÃŃa', 'start': 932, 'end': 938}, {'entity': 'LABEL_0', 'score': 0.62960243, 'index': 171, 'word': 'Ġ.', 'start': 939, 'end': 940}, {'entity': 'LABEL_0', 'score': 0.59594357, 'index': 172, 'word': 'ĠEl', 'start': 941, 'end': 943}, {'entity': 'LABEL_0', 'score': 0.58282, 'index': 173, 'word': 'ĠÃºtero', 'start': 944, 'end': 949}, {'entity': 'LABEL_0', 'score': 0.58755565, 'index': 174, 'word': 'Ġy', 'start': 950, 'end': 951}, {'entity': 'LABEL_0', 'score': 0.55803704, 'index': 175, 'word': 'Ġlos', 'start': 952, 'end': 955}, {'entity': 'LABEL_0', 'score': 0.6286053, 'index': 176, 'word': 'Ġovarios', 'start': 956, 'end': 963}, {'entity': 'LABEL_0', 'score': 0.56247675, 'index': 177, 'word': 'Ġno', 'start': 964, 'end': 966}, {'entity': 'LABEL_0', 'score': 0.5954263, 'index': 178, 'word': 'Ġpresentan', 'start': 967, 'end': 976}, {'entity': 'LABEL_0', 'score': 0.52010477, 'index': 179, 'word': 'Ġninguna', 'start': 977, 'end': 984}, {'entity': 'LABEL_0', 'score': 0.55779296, 'index': 180, 'word': 'ĠanomalÃŃa', 'start': 985, 'end': 993}, {'entity': 'LABEL_0', 'score': 0.6290357, 'index': 181, 'word': '.', 'start': 993, 'end': 994}, {'entity': 'LABEL_0', 'score': 0.5962217, 'index': 182, 'word': 'ĠLas', 'start': 995, 'end': 998}, {'entity': 'LABEL_0', 'score': 0.6084347, 'index': 183, 'word': 'ĠimÃ¡genes', 'start': 999, 'end': 1007}, {'entity': 'LABEL_0', 'score': 0.5786452, 'index': 184, 'word': 'Ġde', 'start': 1008, 'end': 1010}, {'entity': 'LABEL_0', 'score': 0.59375167, 'index': 185, 'word': 'Ġlas', 'start': 1011, 'end': 1014}, {'entity': 'LABEL_0', 'score': 0.6258183, 'index': 186, 'word': 'Ġbases', 'start': 1015, 'end': 1020}, {'entity': 'LABEL_0', 'score': 0.5835338, 'index': 187, 'word': 'Ġpulmonares', 'start': 1021, 'end': 1031}, {'entity': 'LABEL_0', 'score': 0.57870144, 'index': 188, 'word': 'Ġno', 'start': 1032, 'end': 1034}, {'entity': 'LABEL_0', 'score': 0.61471254, 'index': 189, 'word': 'Ġmuestran', 'start': 1035, 'end': 1043}, {'entity': 'LABEL_0', 'score': 0.5181279, 'index': 190, 'word': 'Ġevidencia', 'start': 1044, 'end': 1053}, {'entity': 'LABEL_0', 'score': 0.55450845, 'index': 191, 'word': 'Ġde', 'start': 1054, 'end': 1056}, {'entity': 'LABEL_0', 'score': 0.6207506, 'index': 192, 'word': 'Ġmasa', 'start': 1057, 'end': 1061}, {'entity': 'LABEL_0', 'score': 0.58461964, 'index': 193, 'word': 'Ġpleural', 'start': 1062, 'end': 1069}, {'entity': 'LABEL_0', 'score': 0.562544, 'index': 194, 'word': 'Ġo', 'start': 1070, 'end': 1071}, {'entity': 'LABEL_0', 'score': 0.57606035, 'index': 195, 'word': 'Ġparenquima', 'start': 1072, 'end': 1082}, {'entity': 'LABEL_0', 'score': 0.51597214, 'index': 196, 'word': 'tosa', 'start': 1082, 'end': 1086}, {'entity': 'LABEL_0', 'score': 0.6267432, 'index': 197, 'word': 'Ġ.', 'start': 1087, 'end': 1088}, {'entity': 'LABEL_0', 'score': 0.6111202, 'index': 198, 'word': 'ĠNo', 'start': 1089, 'end': 1091}, {'entity': 'LABEL_0', 'score': 0.6022206, 'index': 199, 'word': 'Ġhay', 'start': 1092, 'end': 1095}, {'entity': 'LABEL_0', 'score': 0.5427792, 'index': 200, 'word': 'Ġderrames', 'start': 1096, 'end': 1104}, {'entity': 'LABEL_0', 'score': 0.5429771, 'index': 201, 'word': 'Ġpleurales', 'start': 1105, 'end': 1114}, {'entity': 'LABEL_0', 'score': 0.6198332, 'index': 202, 'word': '.', 'start': 1114, 'end': 1115}, {'entity': 'LABEL_0', 'score': 0.6180881, 'index': 203, 'word': 'ĠHay', 'start': 1116, 'end': 1119}, {'entity': 'LABEL_0', 'score': 0.57504, 'index': 204, 'word': 'Ġcicatrices', 'start': 1120, 'end': 1130}, {'entity': 'LABEL_0', 'score': 0.5341806, 'index': 205, 'word': 'Ġen', 'start': 1131, 'end': 1133}, {'entity': 'LABEL_0', 'score': 0.54580116, 'index': 206, 'word': 'Ġel', 'start': 1134, 'end': 1136}, {'entity': 'LABEL_0', 'score': 0.565374, 'index': 207, 'word': 'ĠlÃ³bulo', 'start': 1137, 'end': 1143}, {'entity': 'LABEL_0', 'score': 0.6151174, 'index': 208, 'word': 'Ġmedio', 'start': 1144, 'end': 1149}, {'entity': 'LABEL_0', 'score': 0.5672149, 'index': 209, 'word': 'Ġderecho', 'start': 1150, 'end': 1157}, {'entity': 'LABEL_0', 'score': 0.5822969, 'index': 210, 'word': 'Ġy', 'start': 1158, 'end': 1159}, {'entity': 'LABEL_0', 'score': 0.5417922, 'index': 211, 'word': 'Ġen', 'start': 1160, 'end': 1162}, {'entity': 'LABEL_0', 'score': 0.52339745, 'index': 212, 'word': 'Ġla', 'start': 1163, 'end': 1165}, {'entity': 'LABEL_0', 'score': 0.522151, 'index': 213, 'word': 'ĠlÃŃn', 'start': 1166, 'end': 1169}, {'entity': 'LABEL_0', 'score': 0.6628566, 'index': 214, 'word': 'g', 'start': 1169, 'end': 1170}, {'entity': 'LABEL_0', 'score': 0.58664346, 'index': 215, 'word': 'ula', 'start': 1170, 'end': 1173}, {'entity': 'LABEL_0', 'score': 0.60145926, 'index': 216, 'word': ',', 'start': 1173, 'end': 1174}, {'entity': 'LABEL_0', 'score': 0.55601925, 'index': 217, 'word': 'ĠasÃŃ', 'start': 1175, 'end': 1178}, {'entity': 'LABEL_0', 'score': 0.60117215, 'index': 218, 'word': 'Ġcomo', 'start': 1179, 'end': 1183}, {'entity': 'LABEL_0', 'score': 0.53365, 'index': 219, 'word': 'Ġen', 'start': 1184, 'end': 1186}, {'entity': 'LABEL_0', 'score': 0.5571371, 'index': 220, 'word': 'Ġambas', 'start': 1187, 'end': 1192}, {'entity': 'LABEL_0', 'score': 0.56924677, 'index': 221, 'word': 'Ġbases', 'start': 1193, 'end': 1198}, {'entity': 'LABEL_0', 'score': 0.56924415, 'index': 222, 'word': 'Ġpulmonares', 'start': 1199, 'end': 1209}, {'entity': 'LABEL_0', 'score': 0.61615664, 'index': 223, 'word': '.', 'start': 1209, 'end': 1210}, {'entity': 'LABEL_0', 'score': 0.5524612, 'index': 224, 'word': 'ĠLas', 'start': 1211, 'end': 1214}, {'entity': 'LABEL_0', 'score': 0.5964335, 'index': 225, 'word': 'Ġestructuras', 'start': 1215, 'end': 1226}, {'entity': 'LABEL_0', 'score': 0.5907672, 'index': 226, 'word': 'ĠÃ³seas', 'start': 1227, 'end': 1232}, {'entity': 'LABEL_0', 'score': 0.5859131, 'index': 227, 'word': 'ĠestÃ¡n', 'start': 1233, 'end': 1238}, {'entity': 'LABEL_0', 'score': 0.5524135, 'index': 228, 'word': 'Ġlibres', 'start': 1239, 'end': 1245}, {'entity': 'LABEL_0', 'score': 0.5339254, 'index': 229, 'word': 'Ġde', 'start': 1246, 'end': 1248}, {'entity': 'LABEL_0', 'score': 0.5616641, 'index': 230, 'word': 'Ġlesiones', 'start': 1249, 'end': 1257}, {'entity': 'LABEL_0', 'score': 0.5288787, 'index': 231, 'word': 'ĠlÃŃ', 'start': 1258, 'end': 1260}, {'entity': 'LABEL_0', 'score': 0.52468723, 'index': 232, 'word': 'ticas', 'start': 1260, 'end': 1265}, {'entity': 'LABEL_0', 'score': 0.5463943, 'index': 233, 'word': 'Ġo', 'start': 1266, 'end': 1267}, {'entity': 'LABEL_0', 'score': 0.57414424, 'index': 234, 'word': 'Ġbl', 'start': 1268, 'end': 1270}, {'entity': 'LABEL_0', 'score': 0.55548906, 'index': 235, 'word': 'Ã¡sticas', 'start': 1270, 'end': 1277}, {'entity': 'LABEL_0', 'score': 0.6013144, 'index': 236, 'word': '.', 'start': 1277, 'end': 1278}, {'entity': 'LABEL_0', 'score': 0.59258735, 'index': 237, 'word': 'ĠSe', 'start': 1279, 'end': 1281}, {'entity': 'LABEL_0', 'score': 0.5685655, 'index': 238, 'word': 'Ġobservan', 'start': 1282, 'end': 1290}, {'entity': 'LABEL_0', 'score': 0.5512903, 'index': 239, 'word': 'Ġcambios', 'start': 1291, 'end': 1298}, {'entity': 'LABEL_0', 'score': 0.53783065, 'index': 240, 'word': 'Ġdegenerativos', 'start': 1299, 'end': 1312}, {'entity': 'LABEL_0', 'score': 0.6313059, 'index': 241, 'word': 'Ġmultin', 'start': 1313, 'end': 1319}, {'entity': 'LABEL_0', 'score': 0.6387644, 'index': 242, 'word': 'ivel', 'start': 1319, 'end': 1323}, {'entity': 'LABEL_0', 'score': 0.54149705, 'index': 243, 'word': 'Ġen', 'start': 1324, 'end': 1326}, {'entity': 'LABEL_0', 'score': 0.55435574, 'index': 244, 'word': 'Ġla', 'start': 1327, 'end': 1329}, {'entity': 'LABEL_0', 'score': 0.62735957, 'index': 245, 'word': 'Ġcolumna', 'start': 1330, 'end': 1337}, {'entity': 'LABEL_0', 'score': 0.5877996, 'index': 246, 'word': 'Ġtor', 'start': 1338, 'end': 1341}, {'entity': 'LABEL_0', 'score': 0.6503926, 'index': 247, 'word': 'acol', 'start': 1341, 'end': 1345}, {'entity': 'LABEL_0', 'score': 0.57152814, 'index': 248, 'word': 'um', 'start': 1345, 'end': 1347}, {'entity': 'LABEL_0', 'score': 0.5687472, 'index': 249, 'word': 'bar', 'start': 1347, 'end': 1350}, {'entity': 'LABEL_0', 'score': 0.6115648, 'index': 250, 'word': '.', 'start': 1350, 'end': 1351}, {'entity': 'LABEL_0', 'score': 0.60644287, 'index': 251, 'word': 'ĠSe', 'start': 1352, 'end': 1354}, {'entity': 'LABEL_0', 'score': 0.58749115, 'index': 252, 'word': 'Ġobservan', 'start': 1355, 'end': 1363}, {'entity': 'LABEL_0', 'score': 0.61615187, 'index': 253, 'word': 'Ġcalcificaciones', 'start': 1364, 'end': 1379}, {'entity': 'LABEL_0', 'score': 0.6199074, 'index': 254, 'word': 'Ġdisper', 'start': 1380, 'end': 1386}, {'entity': 'LABEL_0', 'score': 0.59950566, 'index': 255, 'word': 'sas', 'start': 1386, 'end': 1389}, {'entity': 'LABEL_0', 'score': 0.555692, 'index': 256, 'word': 'Ġen', 'start': 1390, 'end': 1392}, {'entity': 'LABEL_0', 'score': 0.56768495, 'index': 257, 'word': 'Ġla', 'start': 1393, 'end': 1395}, {'entity': 'LABEL_0', 'score': 0.5567979, 'index': 258, 'word': 'Ġaorta', 'start': 1396, 'end': 1401}, {'entity': 'LABEL_0', 'score': 0.6142729, 'index': 259, 'word': 'Ġy', 'start': 1402, 'end': 1403}, {'entity': 'LABEL_0', 'score': 0.56644344, 'index': 260, 'word': 'Ġen', 'start': 1404, 'end': 1406}, {'entity': 'LABEL_0', 'score': 0.57260144, 'index': 261, 'word': 'Ġsus', 'start': 1407, 'end': 1410}, {'entity': 'LABEL_0', 'score': 0.5842839, 'index': 262, 'word': 'Ġprincipales', 'start': 1411, 'end': 1422}, {'entity': 'LABEL_0', 'score': 0.58498234, 'index': 263, 'word': 'Ġramas', 'start': 1423, 'end': 1428}, {'entity': 'LABEL_0', 'score': 0.6084898, 'index': 264, 'word': ',', 'start': 1428, 'end': 1429}, {'entity': 'LABEL_0', 'score': 0.57494324, 'index': 265, 'word': 'Ġcompatibles', 'start': 1430, 'end': 1441}, {'entity': 'LABEL_1', 'score': 0.51755357, 'index': 266, 'word': 'Ġcon', 'start': 1442, 'end': 1445}, {'entity': 'LABEL_0', 'score': 0.54333943, 'index': 267, 'word': 'Ġla', 'start': 1446, 'end': 1448}, {'entity': 'LABEL_0', 'score': 0.56474715, 'index': 268, 'word': 'Ġaterosclerosis', 'start': 1449, 'end': 1463}, {'entity': 'LABEL_0', 'score': 0.59008473, 'index': 269, 'word': '.', 'start': 1463, 'end': 1464}]\n"
          ]
        }
      ]
    }
  ]
}