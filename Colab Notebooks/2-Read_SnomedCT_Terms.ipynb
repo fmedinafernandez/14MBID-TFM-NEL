{
  "nbformat": 4,
  "nbformat_minor": 0,
  "metadata": {
    "colab": {
      "provenance": []
    },
    "kernelspec": {
      "name": "python3",
      "display_name": "Python 3"
    },
    "language_info": {
      "name": "python"
    }
  },
  "cells": [
    {
      "cell_type": "code",
      "source": [],
      "metadata": {
        "id": "51bVBwaMdhIR"
      },
      "execution_count": null,
      "outputs": []
    },
    {
      "cell_type": "markdown",
      "source": [
        "Carga de los códigos SNOMED-CT."
      ],
      "metadata": {
        "id": "RVmR0mJldiZu"
      }
    },
    {
      "cell_type": "code",
      "execution_count": null,
      "metadata": {
        "id": "AriTWECzSM1y"
      },
      "outputs": [],
      "source": [
        "import os\n",
        "f = open('der2_Refset_ProblemasSaludAHSpainExtensionSnapshot_ES_20221201.txt')\n",
        "#for line in f:\n",
        "#  print(line.strip())"
      ]
    },
    {
      "cell_type": "code",
      "source": [
        "terminos_snomedct_problemassaludAH = []\n",
        "cont = 0\n",
        "for row in f:\n",
        "  values = row.strip().split(\"\\t\")\n",
        "  #id\teffectiveTime\tactive\tmoduleId\trefsetId\treferencedComponentId\tterm\n",
        "  #print(values)\n",
        "  termino = {}\n",
        "  termino[\"id\"] = values[0];\n",
        "  termino[\"effectiveTime\"] = values[1];\n",
        "  termino[\"active\"] = values[2];\n",
        "  termino[\"moduleId\"] = values[3];\n",
        "  termino[\"refsetId\"] = values[4];\n",
        "  termino[\"referencedComponentId\"] = values[5];\n",
        "  termino[\"term\"] = values[6];\n",
        "  termino[\"num_palabras\"] = len(values[6].split(\" \"));\n",
        "  #print(termino)\n",
        "  terminos_snomedct_problemassaludAH.append(termino)\n",
        "\n",
        "f.close();\n"
      ],
      "metadata": {
        "id": "M1lwM31vTdYV"
      },
      "execution_count": null,
      "outputs": []
    },
    {
      "cell_type": "markdown",
      "source": [
        "Carga de modelo y obtención de embeddings de las palabras (es necesario preprocesar el texto)"
      ],
      "metadata": {
        "id": "XRilhoC2doAU"
      }
    },
    {
      "cell_type": "code",
      "source": [
        "#!pip install gensim\n",
        "from gensim.models import FastText\n",
        "#El fichero .vec, nos vale sólo para palabras exactas\n",
        "#Necesitamos usar el modelo .bin, para poder extraer el embedding de palabras nuevas\n",
        "def loadmodel():\n",
        "  model = FastText.load_fasttext_format('drive/MyDrive/clinic_es.bin')\n",
        "  return model\n",
        "model = loadmodel()"
      ],
      "metadata": {
        "id": "VxrytuTEV666"
      },
      "execution_count": null,
      "outputs": []
    },
    {
      "cell_type": "code",
      "source": [
        "for termino in terminos_snomedct_problemassaludAH:\n",
        "  termino[\"embedding\"] = model.wv.get_vector(termino[\"term\"])"
      ],
      "metadata": {
        "id": "fXYaBKltW1Nm"
      },
      "execution_count": null,
      "outputs": []
    },
    {
      "cell_type": "markdown",
      "source": [
        "Prueba con un texto específico"
      ],
      "metadata": {
        "id": "YA45RUOsdvNc"
      }
    },
    {
      "cell_type": "code",
      "source": [
        "text = \"El paciente presenta un abdomen distendido, y no es capaz de volverse loco\"\n",
        "tokens = text.split(\" \");\n",
        "print(tokens)\n"
      ],
      "metadata": {
        "colab": {
          "base_uri": "https://localhost:8080/"
        },
        "id": "RI-z__sgbCmr",
        "outputId": "14272eae-2f85-43d5-9942-93085aa81f2c"
      },
      "execution_count": null,
      "outputs": [
        {
          "output_type": "stream",
          "name": "stdout",
          "text": [
            "['El', 'paciente', 'presenta', 'un', 'abdomen', 'distendido,', 'y', 'no', 'es', 'capaz', 'de', 'volverse', 'loco']\n"
          ]
        }
      ]
    },
    {
      "cell_type": "markdown",
      "source": [
        "Buscamos, para cada palabra la equivalencia terminológica y la mostramos"
      ],
      "metadata": {
        "id": "2jUSj-g4bXb6"
      }
    },
    {
      "cell_type": "code",
      "source": [
        "for token in tokens:\n",
        "  vector_A = model.wv.get_vector(token)\n",
        "  for termino in terminos_snomedct_problemassaludAH:\n",
        "    vector_B = termino[\"embedding\"]\n",
        "    cosine = np.dot(vector_A,vector_B)/(norm(vector_A)*norm(vector_B))\n",
        "    if cosine > 0.80:\n",
        "      print(token, \" \", termino[\"term\"], \" Cosine Similarity:\", cosine)\n"
      ],
      "metadata": {
        "colab": {
          "base_uri": "https://localhost:8080/"
        },
        "id": "EAL_gmV_bVZm",
        "outputId": "0cde463f-81ec-498f-db2b-52b9ec389920"
      },
      "execution_count": null,
      "outputs": [
        {
          "output_type": "stream",
          "name": "stdout",
          "text": [
            "paciente   cuidado domiciliario del paciente  Cosine Similarity: 0.8024697\n",
            "presenta   presentación pélvica  Cosine Similarity: 0.86765575\n",
            "presenta   presentación pélvica anómala convertida exitosamente en presentación cefálica  Cosine Similarity: 0.83078706\n",
            "distendido,   abdomen distendido  Cosine Similarity: 0.86112595\n"
          ]
        }
      ]
    },
    {
      "cell_type": "markdown",
      "source": [
        "Guardamos en BBDD (esto no funciona en colab en la nube)"
      ],
      "metadata": {
        "id": "jYPzsbyxfB3k"
      }
    },
    {
      "cell_type": "code",
      "source": [
        "#!pip install mysql-connector-python\n",
        "import mysql.connector\n",
        "mydb = mysql.connector.connect(\n",
        "  host=\"127.0.0.1\",\n",
        "  user=\"root\",\n",
        "  password=\"mysql\"\n",
        ")\n",
        "print(mydb)"
      ],
      "metadata": {
        "colab": {
          "base_uri": "https://localhost:8080/",
          "height": 432
        },
        "id": "Dt2isp96fCRg",
        "outputId": "b08c8114-a8b3-4741-b21e-c043a2e8d2ca"
      },
      "execution_count": null,
      "outputs": [
        {
          "output_type": "error",
          "ename": "DatabaseError",
          "evalue": "ignored",
          "traceback": [
            "\u001b[0;31m---------------------------------------------------------------------------\u001b[0m",
            "\u001b[0;31mMySQLInterfaceError\u001b[0m                       Traceback (most recent call last)",
            "\u001b[0;32m/usr/local/lib/python3.8/dist-packages/mysql/connector/connection_cext.py\u001b[0m in \u001b[0;36m_open_connection\u001b[0;34m(self)\u001b[0m\n\u001b[1;32m    267\u001b[0m         \u001b[0;32mtry\u001b[0m\u001b[0;34m:\u001b[0m\u001b[0;34m\u001b[0m\u001b[0;34m\u001b[0m\u001b[0m\n\u001b[0;32m--> 268\u001b[0;31m             \u001b[0mself\u001b[0m\u001b[0;34m.\u001b[0m\u001b[0m_cmysql\u001b[0m\u001b[0;34m.\u001b[0m\u001b[0mconnect\u001b[0m\u001b[0;34m(\u001b[0m\u001b[0;34m**\u001b[0m\u001b[0mcnx_kwargs\u001b[0m\u001b[0;34m)\u001b[0m\u001b[0;34m\u001b[0m\u001b[0;34m\u001b[0m\u001b[0m\n\u001b[0m\u001b[1;32m    269\u001b[0m             \u001b[0mself\u001b[0m\u001b[0;34m.\u001b[0m\u001b[0m_cmysql\u001b[0m\u001b[0;34m.\u001b[0m\u001b[0mconverter_str_fallback\u001b[0m \u001b[0;34m=\u001b[0m \u001b[0mself\u001b[0m\u001b[0;34m.\u001b[0m\u001b[0m_converter_str_fallback\u001b[0m\u001b[0;34m\u001b[0m\u001b[0;34m\u001b[0m\u001b[0m\n",
            "\u001b[0;31mMySQLInterfaceError\u001b[0m: Can't connect to MySQL server on '127.0.0.1:3306' (111)",
            "\nThe above exception was the direct cause of the following exception:\n",
            "\u001b[0;31mDatabaseError\u001b[0m                             Traceback (most recent call last)",
            "\u001b[0;32m<ipython-input-63-f13fd7f21441>\u001b[0m in \u001b[0;36m<module>\u001b[0;34m\u001b[0m\n\u001b[1;32m      1\u001b[0m \u001b[0;31m#!pip install mysql-connector-python\u001b[0m\u001b[0;34m\u001b[0m\u001b[0;34m\u001b[0m\u001b[0;34m\u001b[0m\u001b[0m\n\u001b[1;32m      2\u001b[0m \u001b[0;32mimport\u001b[0m \u001b[0mmysql\u001b[0m\u001b[0;34m.\u001b[0m\u001b[0mconnector\u001b[0m\u001b[0;34m\u001b[0m\u001b[0;34m\u001b[0m\u001b[0m\n\u001b[0;32m----> 3\u001b[0;31m mydb = mysql.connector.connect(\n\u001b[0m\u001b[1;32m      4\u001b[0m   \u001b[0mhost\u001b[0m\u001b[0;34m=\u001b[0m\u001b[0;34m\"127.0.0.1\"\u001b[0m\u001b[0;34m,\u001b[0m\u001b[0;34m\u001b[0m\u001b[0;34m\u001b[0m\u001b[0m\n\u001b[1;32m      5\u001b[0m   \u001b[0muser\u001b[0m\u001b[0;34m=\u001b[0m\u001b[0;34m\"root\"\u001b[0m\u001b[0;34m,\u001b[0m\u001b[0;34m\u001b[0m\u001b[0;34m\u001b[0m\u001b[0m\n",
            "\u001b[0;32m/usr/local/lib/python3.8/dist-packages/mysql/connector/pooling.py\u001b[0m in \u001b[0;36mconnect\u001b[0;34m(*args, **kwargs)\u001b[0m\n\u001b[1;32m    284\u001b[0m \u001b[0;34m\u001b[0m\u001b[0m\n\u001b[1;32m    285\u001b[0m     \u001b[0;32mif\u001b[0m \u001b[0mCMySQLConnection\u001b[0m \u001b[0;32mand\u001b[0m \u001b[0;32mnot\u001b[0m \u001b[0muse_pure\u001b[0m\u001b[0;34m:\u001b[0m\u001b[0;34m\u001b[0m\u001b[0;34m\u001b[0m\u001b[0m\n\u001b[0;32m--> 286\u001b[0;31m         \u001b[0;32mreturn\u001b[0m \u001b[0mCMySQLConnection\u001b[0m\u001b[0;34m(\u001b[0m\u001b[0;34m*\u001b[0m\u001b[0margs\u001b[0m\u001b[0;34m,\u001b[0m \u001b[0;34m**\u001b[0m\u001b[0mkwargs\u001b[0m\u001b[0;34m)\u001b[0m\u001b[0;34m\u001b[0m\u001b[0;34m\u001b[0m\u001b[0m\n\u001b[0m\u001b[1;32m    287\u001b[0m     \u001b[0;32mreturn\u001b[0m \u001b[0mMySQLConnection\u001b[0m\u001b[0;34m(\u001b[0m\u001b[0;34m*\u001b[0m\u001b[0margs\u001b[0m\u001b[0;34m,\u001b[0m \u001b[0;34m**\u001b[0m\u001b[0mkwargs\u001b[0m\u001b[0;34m)\u001b[0m\u001b[0;34m\u001b[0m\u001b[0;34m\u001b[0m\u001b[0m\n\u001b[1;32m    288\u001b[0m \u001b[0;34m\u001b[0m\u001b[0m\n",
            "\u001b[0;32m/usr/local/lib/python3.8/dist-packages/mysql/connector/connection_cext.py\u001b[0m in \u001b[0;36m__init__\u001b[0;34m(self, **kwargs)\u001b[0m\n\u001b[1;32m     99\u001b[0m \u001b[0;34m\u001b[0m\u001b[0m\n\u001b[1;32m    100\u001b[0m         \u001b[0;32mif\u001b[0m \u001b[0mkwargs\u001b[0m\u001b[0;34m:\u001b[0m\u001b[0;34m\u001b[0m\u001b[0;34m\u001b[0m\u001b[0m\n\u001b[0;32m--> 101\u001b[0;31m             \u001b[0mself\u001b[0m\u001b[0;34m.\u001b[0m\u001b[0mconnect\u001b[0m\u001b[0;34m(\u001b[0m\u001b[0;34m**\u001b[0m\u001b[0mkwargs\u001b[0m\u001b[0;34m)\u001b[0m\u001b[0;34m\u001b[0m\u001b[0;34m\u001b[0m\u001b[0m\n\u001b[0m\u001b[1;32m    102\u001b[0m \u001b[0;34m\u001b[0m\u001b[0m\n\u001b[1;32m    103\u001b[0m     \u001b[0;32mdef\u001b[0m \u001b[0m_add_default_conn_attrs\u001b[0m\u001b[0;34m(\u001b[0m\u001b[0mself\u001b[0m\u001b[0;34m)\u001b[0m\u001b[0;34m:\u001b[0m\u001b[0;34m\u001b[0m\u001b[0;34m\u001b[0m\u001b[0m\n",
            "\u001b[0;32m/usr/local/lib/python3.8/dist-packages/mysql/connector/abstracts.py\u001b[0m in \u001b[0;36mconnect\u001b[0;34m(self, **kwargs)\u001b[0m\n\u001b[1;32m   1106\u001b[0m \u001b[0;34m\u001b[0m\u001b[0m\n\u001b[1;32m   1107\u001b[0m         \u001b[0mself\u001b[0m\u001b[0;34m.\u001b[0m\u001b[0mdisconnect\u001b[0m\u001b[0;34m(\u001b[0m\u001b[0;34m)\u001b[0m\u001b[0;34m\u001b[0m\u001b[0;34m\u001b[0m\u001b[0m\n\u001b[0;32m-> 1108\u001b[0;31m         \u001b[0mself\u001b[0m\u001b[0;34m.\u001b[0m\u001b[0m_open_connection\u001b[0m\u001b[0;34m(\u001b[0m\u001b[0;34m)\u001b[0m\u001b[0;34m\u001b[0m\u001b[0;34m\u001b[0m\u001b[0m\n\u001b[0m\u001b[1;32m   1109\u001b[0m         \u001b[0;31m# Server does not allow to run any other statement different from ALTER\u001b[0m\u001b[0;34m\u001b[0m\u001b[0;34m\u001b[0m\u001b[0;34m\u001b[0m\u001b[0m\n\u001b[1;32m   1110\u001b[0m         \u001b[0;31m# when user's password has been expired.\u001b[0m\u001b[0;34m\u001b[0m\u001b[0;34m\u001b[0m\u001b[0;34m\u001b[0m\u001b[0m\n",
            "\u001b[0;32m/usr/local/lib/python3.8/dist-packages/mysql/connector/connection_cext.py\u001b[0m in \u001b[0;36m_open_connection\u001b[0;34m(self)\u001b[0m\n\u001b[1;32m    271\u001b[0m                 \u001b[0mself\u001b[0m\u001b[0;34m.\u001b[0m\u001b[0mconverter\u001b[0m\u001b[0;34m.\u001b[0m\u001b[0mstr_fallback\u001b[0m \u001b[0;34m=\u001b[0m \u001b[0mself\u001b[0m\u001b[0;34m.\u001b[0m\u001b[0m_converter_str_fallback\u001b[0m\u001b[0;34m\u001b[0m\u001b[0;34m\u001b[0m\u001b[0m\n\u001b[1;32m    272\u001b[0m         \u001b[0;32mexcept\u001b[0m \u001b[0mMySQLInterfaceError\u001b[0m \u001b[0;32mas\u001b[0m \u001b[0merr\u001b[0m\u001b[0;34m:\u001b[0m\u001b[0;34m\u001b[0m\u001b[0;34m\u001b[0m\u001b[0m\n\u001b[0;32m--> 273\u001b[0;31m             raise get_mysql_exception(\n\u001b[0m\u001b[1;32m    274\u001b[0m                 \u001b[0mmsg\u001b[0m\u001b[0;34m=\u001b[0m\u001b[0merr\u001b[0m\u001b[0;34m.\u001b[0m\u001b[0mmsg\u001b[0m\u001b[0;34m,\u001b[0m \u001b[0merrno\u001b[0m\u001b[0;34m=\u001b[0m\u001b[0merr\u001b[0m\u001b[0;34m.\u001b[0m\u001b[0merrno\u001b[0m\u001b[0;34m,\u001b[0m \u001b[0msqlstate\u001b[0m\u001b[0;34m=\u001b[0m\u001b[0merr\u001b[0m\u001b[0;34m.\u001b[0m\u001b[0msqlstate\u001b[0m\u001b[0;34m\u001b[0m\u001b[0;34m\u001b[0m\u001b[0m\n\u001b[1;32m    275\u001b[0m             ) from err\n",
            "\u001b[0;31mDatabaseError\u001b[0m: 2003 (HY000): Can't connect to MySQL server on '127.0.0.1:3306' (111)"
          ]
        }
      ]
    },
    {
      "cell_type": "code",
      "source": [
        "\n",
        "mycursor = mydb.cursor()\n",
        "\n",
        "mycursor.execute(\"CREATE DATABASE nlp_reports\")\n",
        "#id\teffectiveTime\tactive\tmoduleId\trefsetId\treferencedComponentId\tterm\n",
        "mycursor.execute(\"CREATE TABLE terminos_snomedct_problemassaludAH (id INT AUTO_INCREMENT PRIMARY KEY, effectiveTime VARCHAR(255), active VARCHAR(255), moduleId VARCHAR(255), refsetId VARCHAR(255), referencedComponentId VARCHAR(255), term VARCHAR(255), embedding VARCHAR(4000))\")"
      ],
      "metadata": {
        "id": "CxssHCmefWsp"
      },
      "execution_count": null,
      "outputs": []
    },
    {
      "cell_type": "code",
      "source": [
        "import json\n",
        "#s = json.dumps(vector)\n",
        "for termino in terminos_snomedct_problemassaludAH:\n",
        "   mycursor.execute(\"INSERT INTO terminos_snomedct_problemassaludAH(id, effectiveTime, active, moduleId, refsetId, referencedComponentId, term, embedding) VALUES (%s,%s,...\", (termino[\"id\"], termino[\"effectiveTime\"], termino[\"active\"], termino[\"moduleId\"], termino[\"refsetId\"], termino[\"referencedComponentId\"], termino[\"term\"], termino[\"embedding\"]))"
      ],
      "metadata": {
        "id": "P4ppr0-sgMWR"
      },
      "execution_count": null,
      "outputs": []
    },
    {
      "cell_type": "markdown",
      "source": [
        "A partir de aquí pruebas."
      ],
      "metadata": {
        "id": "iy3_W9v8dcue"
      }
    },
    {
      "cell_type": "code",
      "source": [
        "\n",
        "# import required libraries\n",
        "import numpy as np\n",
        "from numpy.linalg import norm\n",
        "\n",
        "A = model.wv.get_vector(\"distendido\")\n",
        "B = terminos_snomedct_problemassaludAH[1][\"embedding\"]\n",
        "\n",
        "# compute cosine similarity\n",
        "cosine = np.dot(A,B)/(norm(A)*norm(B))\n",
        "print(\"Cosine Similarity:\", cosine)"
      ],
      "metadata": {
        "colab": {
          "base_uri": "https://localhost:8080/"
        },
        "id": "FSCyZnSxaiVV",
        "outputId": "c51ec110-11db-438b-9cd7-f9c2890e2ded"
      },
      "execution_count": null,
      "outputs": [
        {
          "output_type": "stream",
          "name": "stdout",
          "text": [
            "Cosine Similarity: 0.8997975\n"
          ]
        }
      ]
    },
    {
      "cell_type": "code",
      "source": [
        "termino = terminos_snomedct_problemassaludAH[1]\n",
        "print( termino[\"term\"])"
      ],
      "metadata": {
        "colab": {
          "base_uri": "https://localhost:8080/"
        },
        "id": "sRvKEUCcXsTk",
        "outputId": "5a1cc81f-56d4-4229-de88-19d084214de0"
      },
      "execution_count": null,
      "outputs": [
        {
          "output_type": "stream",
          "name": "stdout",
          "text": [
            "abdomen distendido\n"
          ]
        }
      ]
    },
    {
      "cell_type": "code",
      "source": [
        "termino[\"embedding\"]"
      ],
      "metadata": {
        "colab": {
          "base_uri": "https://localhost:8080/"
        },
        "id": "ZGeQdkXSXHLb",
        "outputId": "4149f0c8-9c07-4788-b5d0-e28f4b413afa"
      },
      "execution_count": null,
      "outputs": [
        {
          "output_type": "execute_result",
          "data": {
            "text/plain": [
              "array([-3.41379493e-01,  8.51220787e-01,  1.97412252e-01, -1.13405132e+00,\n",
              "        6.47886038e-01,  1.86931849e-01,  3.61175567e-01, -1.28212929e+00,\n",
              "       -5.30260384e-01,  1.12864792e-01,  7.03634024e-02, -1.15307122e-01,\n",
              "       -2.09871959e-02, -2.57505268e-01, -9.38366205e-02,  8.03253174e-01,\n",
              "       -5.14225841e-01,  4.13851649e-01,  9.18954372e-01,  2.58679241e-01,\n",
              "        2.99320877e-01, -3.65961552e-01,  6.31190598e-01, -8.59170675e-01,\n",
              "       -5.97080648e-01,  2.79198170e-01,  2.81931423e-02, -1.17702079e+00,\n",
              "       -5.98247409e-01, -7.17386425e-01,  3.12720798e-02,  1.11395383e+00,\n",
              "        2.65944481e-01,  1.29806966e-01, -1.97782554e-02,  6.17558241e-01,\n",
              "        4.67322022e-01,  1.75810909e+00,  3.73224556e-01, -6.67529702e-01,\n",
              "        9.69988167e-01,  1.03337479e+00, -5.92100263e-01,  5.20665288e-01,\n",
              "        3.72344494e-01,  7.10983753e-01, -4.01026636e-01,  4.44256663e-01,\n",
              "       -4.41327363e-01, -6.60625339e-01, -2.97578603e-01, -3.63338649e-01,\n",
              "        9.39562976e-01,  1.25630111e-01, -1.29154757e-01, -7.21245289e-01,\n",
              "        1.06712306e+00, -6.51168108e-01, -1.78827688e-01, -7.52573192e-01,\n",
              "        1.25671196e+00, -3.77541959e-01,  2.21759334e-01, -4.93573338e-01,\n",
              "       -5.64664960e-01, -1.17271006e+00,  1.12799692e+00,  9.36798573e-01,\n",
              "        8.63959610e-01,  1.69813347e+00, -2.88499752e-03,  1.50943005e+00,\n",
              "       -2.20086157e-01,  8.55386078e-01, -1.56948969e-01,  1.77922100e-01,\n",
              "        1.72386095e-01,  5.69300294e-01,  6.05601907e-01, -3.07114031e-02,\n",
              "       -6.12328947e-01,  5.07741272e-01, -2.11861804e-01,  7.23826230e-01,\n",
              "        1.65311635e-01, -9.49221700e-02, -8.30034375e-01, -1.70905858e-01,\n",
              "        5.35082817e-02, -4.85333204e-01, -3.01542521e-01, -1.35642028e+00,\n",
              "        5.16381264e-01, -3.77332360e-01, -6.63373396e-02,  3.40350181e-01,\n",
              "        2.47182310e-01,  3.24304104e-01,  6.36457026e-01, -6.21212602e-01,\n",
              "       -1.55328465e+00, -2.45742146e-02, -1.28280687e+00,  4.89812315e-01,\n",
              "        1.44400108e+00,  9.47029710e-01,  3.44636530e-01,  1.88148916e-01,\n",
              "        1.16948152e+00, -1.95553303e+00, -2.79436111e-01,  4.57804054e-01,\n",
              "        8.63881856e-02, -2.47895330e-01,  6.35872245e-01, -1.33488202e+00,\n",
              "       -4.00874466e-01,  7.72620499e-01, -3.53541315e-01, -1.11317670e+00,\n",
              "       -2.87231773e-01,  2.86099911e-01, -3.47802311e-01, -4.40916091e-01,\n",
              "       -3.50449115e-01,  3.04792911e-01, -2.82767296e-01, -1.05562246e+00,\n",
              "       -6.84854627e-01, -5.14667869e-01,  7.77643621e-01,  1.33043155e-01,\n",
              "       -1.21224070e+00, -1.75884795e+00, -1.49845883e-01, -1.31296170e+00,\n",
              "       -7.95127004e-02,  1.66234121e-01, -5.77735007e-01, -5.14608681e-01,\n",
              "        4.62685555e-01, -1.32284507e-01, -1.82199076e-01, -1.01995721e-01,\n",
              "       -1.12035310e+00, -7.44785607e-01, -2.55295727e-02, -4.63714600e-01,\n",
              "       -1.25868440e-01, -4.26370293e-01, -1.63943753e-01,  1.14803135e-01,\n",
              "       -1.06581998e+00,  5.36865711e-01,  7.53011584e-01,  4.08870578e-02,\n",
              "        7.96988785e-01, -4.10485752e-02,  1.03642058e+00, -7.80079365e-01,\n",
              "        2.18442738e-01,  7.79495895e-01, -1.13484427e-01,  5.66096604e-01,\n",
              "       -2.11919755e-01,  8.16481829e-01, -2.10208640e-01,  1.15806901e+00,\n",
              "       -3.21597233e-02, -9.80952919e-01, -2.48231128e-01,  8.04039955e-01,\n",
              "        7.69628346e-01, -6.59230947e-01, -8.48172009e-01, -6.00745738e-01,\n",
              "        9.93957520e-01,  7.70123601e-01, -3.19842100e-01,  8.72199908e-02,\n",
              "        8.10328126e-01,  7.43739679e-02,  9.44102526e-01,  1.46057403e+00,\n",
              "        1.20510292e+00, -4.37933981e-01, -1.39115286e+00,  1.97016090e-01,\n",
              "        5.10911167e-01, -7.97777593e-01, -1.09381878e+00, -4.25539650e-02,\n",
              "        3.60093236e-01, -6.37398243e-01, -7.50476956e-01,  1.93535686e-01,\n",
              "       -2.59755194e-01,  3.73802602e-01,  7.98976958e-01, -5.32846987e-01,\n",
              "        4.33990657e-01, -7.78011680e-01,  3.95123452e-01,  5.30749679e-01,\n",
              "       -3.77614200e-02, -8.70988905e-01, -2.09902421e-01, -8.43273044e-01,\n",
              "       -3.50896358e-01,  7.88617969e-01, -1.66850686e-01,  3.57655473e-02,\n",
              "       -9.33232382e-02,  5.19626498e-01,  1.38479483e+00, -7.06036314e-02,\n",
              "        4.85698193e-01, -4.07795936e-01, -3.25986117e-01, -9.65282559e-01,\n",
              "       -1.05342723e-01, -4.87377048e-01,  4.91863549e-01,  1.24375570e+00,\n",
              "        1.27144718e+00, -3.65973681e-01, -7.62305915e-01,  3.01008895e-02,\n",
              "        3.81845325e-01,  3.60201120e-01, -6.57970011e-01, -2.13466302e-01,\n",
              "        2.06631748e-03, -3.43537360e-01, -5.45602143e-01, -3.33883345e-01,\n",
              "       -2.98503280e-01, -1.09377313e+00,  9.63677466e-01, -7.42095232e-01,\n",
              "       -1.29611480e+00,  1.43581316e-01,  3.53852004e-01,  1.41370177e+00,\n",
              "       -5.35385847e-01, -2.10255802e-01, -1.27355158e-01, -1.50347903e-01,\n",
              "       -1.17715918e-01,  4.26494569e-01,  1.13682568e+00,  2.27675121e-03,\n",
              "       -6.89363301e-01,  1.35284257e+00,  5.17607570e-01, -5.92860878e-01,\n",
              "        1.11329281e+00, -5.84049404e-01, -2.42021143e-01,  2.83789188e-01,\n",
              "        1.35660544e-01, -1.11352408e+00, -1.56657124e+00,  5.44025123e-01,\n",
              "       -3.18670809e-01, -3.17990452e-01,  2.53145248e-02,  1.38165152e+00,\n",
              "        2.07531989e-01,  1.58466235e-01,  2.18035579e+00,  6.65348530e-01,\n",
              "       -1.52767253e+00, -4.63193357e-01,  6.81425035e-01, -1.98885128e-01,\n",
              "       -5.05298257e-01,  2.52941281e-01, -5.21469235e-01,  6.43378645e-02,\n",
              "       -2.19119832e-01,  9.50051785e-01,  7.20912367e-02,  1.41521895e+00,\n",
              "        4.64390039e-01,  1.36275899e+00,  1.51635885e-01,  8.56848538e-01,\n",
              "       -3.30521852e-01,  5.09855926e-01,  1.89502037e+00,  1.63863960e-03,\n",
              "       -4.02752161e-01,  6.71886683e-01, -4.08006102e-01, -7.23400712e-01,\n",
              "        4.97811437e-01,  1.97574541e-01,  6.96358204e-01, -3.28515768e-01],\n",
              "      dtype=float32)"
            ]
          },
          "metadata": {},
          "execution_count": 35
        }
      ]
    }
  ]
}