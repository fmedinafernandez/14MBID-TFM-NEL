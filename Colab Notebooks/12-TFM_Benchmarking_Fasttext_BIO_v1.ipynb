{
  "nbformat": 4,
  "nbformat_minor": 0,
  "metadata": {
    "colab": {
      "provenance": []
    },
    "kernelspec": {
      "name": "python3",
      "display_name": "Python 3"
    },
    "language_info": {
      "name": "python"
    }
  },
  "cells": [
    {
      "cell_type": "markdown",
      "source": [
        "# Benchmark modelos de Fasttext (BIO) para obtener Embeddings del texto\n",
        "\n",
        "\n"
      ],
      "metadata": {
        "id": "WWKk5ENDqBwA"
      }
    },
    {
      "cell_type": "code",
      "source": [
        "! python -m spacy download es_core_news_lg"
      ],
      "metadata": {
        "colab": {
          "base_uri": "https://localhost:8080/"
        },
        "id": "qoV_aSw2iGwO",
        "outputId": "6e4638d7-c9e4-48f7-e63b-087910d08faf"
      },
      "execution_count": null,
      "outputs": [
        {
          "output_type": "stream",
          "name": "stdout",
          "text": [
            "/usr/local/lib/python3.8/dist-packages/torch/cuda/__init__.py:497: UserWarning: Can't initialize NVML\n",
            "  warnings.warn(\"Can't initialize NVML\")\n",
            "2023-01-27 09:40:09.747809: E tensorflow/stream_executor/cuda/cuda_driver.cc:271] failed call to cuInit: CUDA_ERROR_NO_DEVICE: no CUDA-capable device is detected\n",
            "Looking in indexes: https://pypi.org/simple, https://us-python.pkg.dev/colab-wheels/public/simple/\n",
            "Collecting es-core-news-lg==3.4.0\n",
            "  Downloading https://github.com/explosion/spacy-models/releases/download/es_core_news_lg-3.4.0/es_core_news_lg-3.4.0-py3-none-any.whl (568.0 MB)\n",
            "\u001b[2K     \u001b[90m━━━━━━━━━━━━━━━━━━━━━━━━━━━━━━━━━━━━━━━\u001b[0m \u001b[32m568.0/568.0 MB\u001b[0m \u001b[31m1.4 MB/s\u001b[0m eta \u001b[36m0:00:00\u001b[0m\n",
            "\u001b[?25hRequirement already satisfied: spacy<3.5.0,>=3.4.0 in /usr/local/lib/python3.8/dist-packages (from es-core-news-lg==3.4.0) (3.4.4)\n",
            "Requirement already satisfied: spacy-loggers<2.0.0,>=1.0.0 in /usr/local/lib/python3.8/dist-packages (from spacy<3.5.0,>=3.4.0->es-core-news-lg==3.4.0) (1.0.4)\n",
            "Requirement already satisfied: jinja2 in /usr/local/lib/python3.8/dist-packages (from spacy<3.5.0,>=3.4.0->es-core-news-lg==3.4.0) (2.11.3)\n",
            "Requirement already satisfied: spacy-legacy<3.1.0,>=3.0.10 in /usr/local/lib/python3.8/dist-packages (from spacy<3.5.0,>=3.4.0->es-core-news-lg==3.4.0) (3.0.11)\n",
            "Requirement already satisfied: smart-open<7.0.0,>=5.2.1 in /usr/local/lib/python3.8/dist-packages (from spacy<3.5.0,>=3.4.0->es-core-news-lg==3.4.0) (6.3.0)\n",
            "Requirement already satisfied: srsly<3.0.0,>=2.4.3 in /usr/local/lib/python3.8/dist-packages (from spacy<3.5.0,>=3.4.0->es-core-news-lg==3.4.0) (2.4.5)\n",
            "Requirement already satisfied: tqdm<5.0.0,>=4.38.0 in /usr/local/lib/python3.8/dist-packages (from spacy<3.5.0,>=3.4.0->es-core-news-lg==3.4.0) (4.64.1)\n",
            "Requirement already satisfied: pydantic!=1.8,!=1.8.1,<1.11.0,>=1.7.4 in /usr/local/lib/python3.8/dist-packages (from spacy<3.5.0,>=3.4.0->es-core-news-lg==3.4.0) (1.10.4)\n",
            "Requirement already satisfied: catalogue<2.1.0,>=2.0.6 in /usr/local/lib/python3.8/dist-packages (from spacy<3.5.0,>=3.4.0->es-core-news-lg==3.4.0) (2.0.8)\n",
            "Requirement already satisfied: packaging>=20.0 in /usr/local/lib/python3.8/dist-packages (from spacy<3.5.0,>=3.4.0->es-core-news-lg==3.4.0) (21.3)\n",
            "Requirement already satisfied: preshed<3.1.0,>=3.0.2 in /usr/local/lib/python3.8/dist-packages (from spacy<3.5.0,>=3.4.0->es-core-news-lg==3.4.0) (3.0.8)\n",
            "Requirement already satisfied: thinc<8.2.0,>=8.1.0 in /usr/local/lib/python3.8/dist-packages (from spacy<3.5.0,>=3.4.0->es-core-news-lg==3.4.0) (8.1.6)\n",
            "Requirement already satisfied: pathy>=0.3.5 in /usr/local/lib/python3.8/dist-packages (from spacy<3.5.0,>=3.4.0->es-core-news-lg==3.4.0) (0.10.1)\n",
            "Requirement already satisfied: langcodes<4.0.0,>=3.2.0 in /usr/local/lib/python3.8/dist-packages (from spacy<3.5.0,>=3.4.0->es-core-news-lg==3.4.0) (3.3.0)\n",
            "Requirement already satisfied: typer<0.8.0,>=0.3.0 in /usr/local/lib/python3.8/dist-packages (from spacy<3.5.0,>=3.4.0->es-core-news-lg==3.4.0) (0.7.0)\n",
            "Requirement already satisfied: requests<3.0.0,>=2.13.0 in /usr/local/lib/python3.8/dist-packages (from spacy<3.5.0,>=3.4.0->es-core-news-lg==3.4.0) (2.25.1)\n",
            "Requirement already satisfied: murmurhash<1.1.0,>=0.28.0 in /usr/local/lib/python3.8/dist-packages (from spacy<3.5.0,>=3.4.0->es-core-news-lg==3.4.0) (1.0.9)\n",
            "Requirement already satisfied: numpy>=1.15.0 in /usr/local/lib/python3.8/dist-packages (from spacy<3.5.0,>=3.4.0->es-core-news-lg==3.4.0) (1.21.6)\n",
            "Requirement already satisfied: cymem<2.1.0,>=2.0.2 in /usr/local/lib/python3.8/dist-packages (from spacy<3.5.0,>=3.4.0->es-core-news-lg==3.4.0) (2.0.7)\n",
            "Requirement already satisfied: setuptools in /usr/local/lib/python3.8/dist-packages (from spacy<3.5.0,>=3.4.0->es-core-news-lg==3.4.0) (57.4.0)\n",
            "Requirement already satisfied: wasabi<1.1.0,>=0.9.1 in /usr/local/lib/python3.8/dist-packages (from spacy<3.5.0,>=3.4.0->es-core-news-lg==3.4.0) (0.10.1)\n",
            "Requirement already satisfied: pyparsing!=3.0.5,>=2.0.2 in /usr/local/lib/python3.8/dist-packages (from packaging>=20.0->spacy<3.5.0,>=3.4.0->es-core-news-lg==3.4.0) (3.0.9)\n",
            "Requirement already satisfied: typing-extensions>=4.2.0 in /usr/local/lib/python3.8/dist-packages (from pydantic!=1.8,!=1.8.1,<1.11.0,>=1.7.4->spacy<3.5.0,>=3.4.0->es-core-news-lg==3.4.0) (4.4.0)\n",
            "Requirement already satisfied: certifi>=2017.4.17 in /usr/local/lib/python3.8/dist-packages (from requests<3.0.0,>=2.13.0->spacy<3.5.0,>=3.4.0->es-core-news-lg==3.4.0) (2022.12.7)\n",
            "Requirement already satisfied: urllib3<1.27,>=1.21.1 in /usr/local/lib/python3.8/dist-packages (from requests<3.0.0,>=2.13.0->spacy<3.5.0,>=3.4.0->es-core-news-lg==3.4.0) (1.24.3)\n",
            "Requirement already satisfied: chardet<5,>=3.0.2 in /usr/local/lib/python3.8/dist-packages (from requests<3.0.0,>=2.13.0->spacy<3.5.0,>=3.4.0->es-core-news-lg==3.4.0) (4.0.0)\n",
            "Requirement already satisfied: idna<3,>=2.5 in /usr/local/lib/python3.8/dist-packages (from requests<3.0.0,>=2.13.0->spacy<3.5.0,>=3.4.0->es-core-news-lg==3.4.0) (2.10)\n",
            "Requirement already satisfied: blis<0.8.0,>=0.7.8 in /usr/local/lib/python3.8/dist-packages (from thinc<8.2.0,>=8.1.0->spacy<3.5.0,>=3.4.0->es-core-news-lg==3.4.0) (0.7.9)\n",
            "Requirement already satisfied: confection<1.0.0,>=0.0.1 in /usr/local/lib/python3.8/dist-packages (from thinc<8.2.0,>=8.1.0->spacy<3.5.0,>=3.4.0->es-core-news-lg==3.4.0) (0.0.3)\n",
            "Requirement already satisfied: click<9.0.0,>=7.1.1 in /usr/local/lib/python3.8/dist-packages (from typer<0.8.0,>=0.3.0->spacy<3.5.0,>=3.4.0->es-core-news-lg==3.4.0) (7.1.2)\n",
            "Requirement already satisfied: MarkupSafe>=0.23 in /usr/local/lib/python3.8/dist-packages (from jinja2->spacy<3.5.0,>=3.4.0->es-core-news-lg==3.4.0) (2.0.1)\n",
            "Installing collected packages: es-core-news-lg\n",
            "Successfully installed es-core-news-lg-3.4.0\n",
            "\u001b[38;5;2m✔ Download and installation successful\u001b[0m\n",
            "You can now load the package via spacy.load('es_core_news_lg')\n"
          ]
        }
      ]
    },
    {
      "cell_type": "code",
      "execution_count": null,
      "metadata": {
        "colab": {
          "base_uri": "https://localhost:8080/"
        },
        "id": "NRj-GbKDiNAg",
        "outputId": "7a1c26d3-113c-4eae-b26d-f31cad210e12"
      },
      "outputs": [
        {
          "output_type": "stream",
          "name": "stdout",
          "text": [
            "Looking in indexes: https://pypi.org/simple, https://us-python.pkg.dev/colab-wheels/public/simple/\n",
            "Requirement already satisfied: spacy in /usr/local/lib/python3.8/dist-packages (3.4.4)\n",
            "Requirement already satisfied: spacy-legacy<3.1.0,>=3.0.10 in /usr/local/lib/python3.8/dist-packages (from spacy) (3.0.11)\n",
            "Requirement already satisfied: wasabi<1.1.0,>=0.9.1 in /usr/local/lib/python3.8/dist-packages (from spacy) (0.10.1)\n",
            "Requirement already satisfied: setuptools in /usr/local/lib/python3.8/dist-packages (from spacy) (57.4.0)\n",
            "Requirement already satisfied: langcodes<4.0.0,>=3.2.0 in /usr/local/lib/python3.8/dist-packages (from spacy) (3.3.0)\n",
            "Requirement already satisfied: cymem<2.1.0,>=2.0.2 in /usr/local/lib/python3.8/dist-packages (from spacy) (2.0.7)\n",
            "Requirement already satisfied: pathy>=0.3.5 in /usr/local/lib/python3.8/dist-packages (from spacy) (0.10.1)\n",
            "Requirement already satisfied: typer<0.8.0,>=0.3.0 in /usr/local/lib/python3.8/dist-packages (from spacy) (0.7.0)\n",
            "Requirement already satisfied: jinja2 in /usr/local/lib/python3.8/dist-packages (from spacy) (2.11.3)\n",
            "Requirement already satisfied: thinc<8.2.0,>=8.1.0 in /usr/local/lib/python3.8/dist-packages (from spacy) (8.1.6)\n",
            "Requirement already satisfied: requests<3.0.0,>=2.13.0 in /usr/local/lib/python3.8/dist-packages (from spacy) (2.25.1)\n",
            "Requirement already satisfied: catalogue<2.1.0,>=2.0.6 in /usr/local/lib/python3.8/dist-packages (from spacy) (2.0.8)\n",
            "Requirement already satisfied: numpy>=1.15.0 in /usr/local/lib/python3.8/dist-packages (from spacy) (1.21.6)\n",
            "Requirement already satisfied: spacy-loggers<2.0.0,>=1.0.0 in /usr/local/lib/python3.8/dist-packages (from spacy) (1.0.4)\n",
            "Requirement already satisfied: tqdm<5.0.0,>=4.38.0 in /usr/local/lib/python3.8/dist-packages (from spacy) (4.64.1)\n",
            "Requirement already satisfied: preshed<3.1.0,>=3.0.2 in /usr/local/lib/python3.8/dist-packages (from spacy) (3.0.8)\n",
            "Requirement already satisfied: pydantic!=1.8,!=1.8.1,<1.11.0,>=1.7.4 in /usr/local/lib/python3.8/dist-packages (from spacy) (1.10.4)\n",
            "Requirement already satisfied: murmurhash<1.1.0,>=0.28.0 in /usr/local/lib/python3.8/dist-packages (from spacy) (1.0.9)\n",
            "Requirement already satisfied: packaging>=20.0 in /usr/local/lib/python3.8/dist-packages (from spacy) (21.3)\n",
            "Requirement already satisfied: srsly<3.0.0,>=2.4.3 in /usr/local/lib/python3.8/dist-packages (from spacy) (2.4.5)\n",
            "Requirement already satisfied: smart-open<7.0.0,>=5.2.1 in /usr/local/lib/python3.8/dist-packages (from spacy) (6.3.0)\n",
            "Requirement already satisfied: pyparsing!=3.0.5,>=2.0.2 in /usr/local/lib/python3.8/dist-packages (from packaging>=20.0->spacy) (3.0.9)\n",
            "Requirement already satisfied: typing-extensions>=4.2.0 in /usr/local/lib/python3.8/dist-packages (from pydantic!=1.8,!=1.8.1,<1.11.0,>=1.7.4->spacy) (4.4.0)\n",
            "Requirement already satisfied: chardet<5,>=3.0.2 in /usr/local/lib/python3.8/dist-packages (from requests<3.0.0,>=2.13.0->spacy) (4.0.0)\n",
            "Requirement already satisfied: certifi>=2017.4.17 in /usr/local/lib/python3.8/dist-packages (from requests<3.0.0,>=2.13.0->spacy) (2022.12.7)\n",
            "Requirement already satisfied: urllib3<1.27,>=1.21.1 in /usr/local/lib/python3.8/dist-packages (from requests<3.0.0,>=2.13.0->spacy) (1.24.3)\n",
            "Requirement already satisfied: idna<3,>=2.5 in /usr/local/lib/python3.8/dist-packages (from requests<3.0.0,>=2.13.0->spacy) (2.10)\n",
            "Requirement already satisfied: blis<0.8.0,>=0.7.8 in /usr/local/lib/python3.8/dist-packages (from thinc<8.2.0,>=8.1.0->spacy) (0.7.9)\n",
            "Requirement already satisfied: confection<1.0.0,>=0.0.1 in /usr/local/lib/python3.8/dist-packages (from thinc<8.2.0,>=8.1.0->spacy) (0.0.3)\n",
            "Requirement already satisfied: click<9.0.0,>=7.1.1 in /usr/local/lib/python3.8/dist-packages (from typer<0.8.0,>=0.3.0->spacy) (7.1.2)\n",
            "Requirement already satisfied: MarkupSafe>=0.23 in /usr/local/lib/python3.8/dist-packages (from jinja2->spacy) (2.0.1)\n"
          ]
        }
      ],
      "source": [
        "! pip install spacy\n",
        "#! python -m spacy download es\n",
        "import warnings\n",
        "warnings.filterwarnings('ignore')\n",
        "import pandas as pd\n",
        "import spacy\n"
      ]
    },
    {
      "cell_type": "code",
      "source": [
        "def NLP_preprocesaDocumento(nlp, doc):\n",
        "\n",
        "  #Convertir a minúsculas\n",
        "  doc = doc.lower()\n",
        "  \n",
        "  #Tokenizado\n",
        "  doc = [\" \".join([token.text for token in nlp(doc)])][0]\n",
        "\n",
        "  #Eliminación de signos de puntuación\n",
        "  doc = [\" \".join([token.lemma_ for token in nlp(doc) if not token.is_punct]) ][0]\n",
        "\n",
        "  #Eliminación de stopwords\n",
        "  spacy_stopwords = spacy.lang.es.stop_words.STOP_WORDS\n",
        "  doc = [\" \".join([token for token in doc.split() if not token.lower() in spacy_stopwords])][0]\n",
        "  \n",
        "  #Lematización de palabras\n",
        "  doc = [\" \".join([token.lemma_ for token in nlp(doc)])][0]\n",
        "\n",
        "  #Eliminación de tildes\n",
        "  tildes = {'á': 'a', 'é': 'e', 'í': 'i', 'ó': 'o', 'ú': 'u', 'Á': 'A', 'E': 'E', 'Í': 'I', 'Ó': 'O', 'Ú': 'U', 'ü': 'u', 'Ü': 'U'}\n",
        "  for tilde in tildes:\n",
        "\t  if tilde in doc:\n",
        "\t\t  doc = doc.replace(tilde, tildes[tilde])\n",
        "\n",
        "  return doc\n"
      ],
      "metadata": {
        "id": "OWmrre3vii8w"
      },
      "execution_count": null,
      "outputs": []
    },
    {
      "cell_type": "code",
      "source": [
        "def split_sentences(nlp, text):\n",
        "    tokens = nlp(text)\n",
        "    sentences = []\n",
        "    for sent in tokens.sents:\n",
        "        sentences.append(sent.text.strip())\n",
        "    return sentences"
      ],
      "metadata": {
        "id": "dvZh0zqwgZtk"
      },
      "execution_count": null,
      "outputs": []
    },
    {
      "cell_type": "code",
      "source": [
        "#Cargamos el modelo en español\n",
        "nlp_lg = spacy.load(\"es_core_news_lg\")"
      ],
      "metadata": {
        "id": "IvWOkVZRj5Pf"
      },
      "execution_count": null,
      "outputs": []
    },
    {
      "cell_type": "markdown",
      "source": [
        "## Carga de las terminologías clínicas SNOMED-CT y generación de sus Embeddings\n",
        "NOTA: Estos solo es necesario hacerlo la primera vez"
      ],
      "metadata": {
        "id": "luRQ4W8wpX_0"
      }
    },
    {
      "cell_type": "code",
      "source": [
        "import os\n",
        "def cargaProblemasSaludAHSpainExtension():\n",
        "  f = open('der2_Refset_ProblemasSaludAHSpainExtensionSnapshot_ES_20221201.txt')\n",
        "  terminos_snomedct_problemassaludAH = []\n",
        "  cont = 0\n",
        "  for row in f:\n",
        "    if cont>0:\n",
        "      values = row.strip().split(\"\\t\")\n",
        "      #id\teffectiveTime\tactive\tmoduleId\trefsetId\treferencedComponentId\tterm\n",
        "      #print(values)\n",
        "      termino = {}\n",
        "      termino[\"id\"] = values[0];\n",
        "      #termino[\"effectiveTime\"] = values[1];\n",
        "      #termino[\"active\"] = values[2];\n",
        "      #termino[\"moduleId\"] = values[3];\n",
        "      #termino[\"refsetId\"] = values[4];\n",
        "      #termino[\"referencedComponentId\"] = values[5];\n",
        "      termino[\"term\"] = values[6];\n",
        "      #termino[\"num_palabras\"] = len(values[6].split(\" \"));\n",
        "      #print(termino)\n",
        "      terminos_snomedct_problemassaludAH.append(termino)\n",
        "    cont = cont + 1\n",
        "\n",
        "  f.close();\n",
        "  return terminos_snomedct_problemassaludAH;"
      ],
      "metadata": {
        "id": "5sL1HVqZjlkI"
      },
      "execution_count": null,
      "outputs": []
    },
    {
      "cell_type": "code",
      "source": [
        "def anadirEmbedding(model,nlp,lista,num_items_max=0,preprocesado=False):\n",
        "  cont = 0\n",
        "  for item in lista:\n",
        "    #print(item[\"term\"])\n",
        "    if preprocesado:\n",
        "      doc = NLP_preprocesaDocumento(nlp,item[\"term\"])\n",
        "      if doc == \"\":\n",
        "        print(\"ERROR AL Parsear \" + item[\"term\"])\n",
        "        doc = item[\"term\"]\n",
        "    else:\n",
        "      doc = item[\"term\"]\n",
        "    #print(doc)\n",
        "    item[\"embedding\"] = model.wv.get_vector(doc)\n",
        "    cont = cont + 1\n",
        "    if cont == num_items_max:\n",
        "      break\n",
        "  return lista"
      ],
      "metadata": {
        "id": "nBnZnJKcjydV"
      },
      "execution_count": null,
      "outputs": []
    },
    {
      "cell_type": "code",
      "source": [
        "terminos_snomedct_problemassaludAH = cargaProblemasSaludAHSpainExtension();"
      ],
      "metadata": {
        "id": "OpciyOj9h5hk"
      },
      "execution_count": null,
      "outputs": []
    },
    {
      "cell_type": "code",
      "source": [
        "import json\n",
        "from json import JSONEncoder\n",
        "import numpy\n",
        "\n",
        "class NumpyArrayEncoder(JSONEncoder):\n",
        "    def default(self, obj):\n",
        "        if isinstance(obj, numpy.ndarray):\n",
        "            return obj.tolist()\n",
        "        return JSONEncoder.default(self, obj)\n",
        "\n",
        "#numpyArrayOne = numpy.array([[11, 22, 33], [44, 55, 66], [77, 88, 99]])\n",
        "\n",
        "# Serialization\n",
        "#numpyData = {\"array\": numpyArrayOne}\n",
        "#encodedNumpyData = json.dumps(numpyData, cls=NumpyArrayEncoder)  # use dump() to write array into file\n",
        "#print(\"Printing JSON serialized NumPy array\")\n",
        "#print(encodedNumpyData)\n",
        "\n",
        "# Deserialization\n",
        "#print(\"Decode JSON serialized NumPy array\")\n",
        "#decodedArrays = json.loads(encodedNumpyData)\n",
        "\n",
        "#finalNumpyArray = numpy.asarray(decodedArrays[\"array\"])\n",
        "#print(\"NumPy Array\")\n",
        "#print(finalNumpyArray)"
      ],
      "metadata": {
        "id": "PB48lS9hMrmh"
      },
      "execution_count": null,
      "outputs": []
    },
    {
      "cell_type": "code",
      "source": [
        "!pip install gensim\n",
        "from gensim.models import FastText\n",
        "import json"
      ],
      "metadata": {
        "colab": {
          "base_uri": "https://localhost:8080/"
        },
        "id": "wf74B8pM6FnL",
        "outputId": "d9dc2724-81a8-4091-992f-5e17a16b9b28"
      },
      "execution_count": null,
      "outputs": [
        {
          "output_type": "stream",
          "name": "stdout",
          "text": [
            "Looking in indexes: https://pypi.org/simple, https://us-python.pkg.dev/colab-wheels/public/simple/\n",
            "Requirement already satisfied: gensim in /usr/local/lib/python3.8/dist-packages (3.6.0)\n",
            "Requirement already satisfied: six>=1.5.0 in /usr/local/lib/python3.8/dist-packages (from gensim) (1.15.0)\n",
            "Requirement already satisfied: smart-open>=1.2.1 in /usr/local/lib/python3.8/dist-packages (from gensim) (6.3.0)\n",
            "Requirement already satisfied: scipy>=0.18.1 in /usr/local/lib/python3.8/dist-packages (from gensim) (1.7.3)\n",
            "Requirement already satisfied: numpy>=1.11.3 in /usr/local/lib/python3.8/dist-packages (from gensim) (1.21.6)\n"
          ]
        }
      ]
    },
    {
      "cell_type": "markdown",
      "source": [
        "Obtención de embeddings con el modelo seleccionado (nlp_lg y model sp-cli-w-emb-uncased-cbow-d50-clinic_es)"
      ],
      "metadata": {
        "id": "nsBm4viqsN4J"
      }
    },
    {
      "cell_type": "code",
      "source": [
        "#Tiempo de ejecucion: 60 sg\n",
        "model = FastText.load_fasttext_format('drive/MyDrive/models/sp-bio-w-emb-uncased-cbow-d50-bio_es.bin')"
      ],
      "metadata": {
        "id": "fLl8xj52qSmY"
      },
      "execution_count": null,
      "outputs": []
    },
    {
      "cell_type": "code",
      "source": [
        "#Tiempo de ejecucion: 60 sg\n",
        "terminos_snomedct_problemassaludAH = anadirEmbedding(model, nlp_lg, terminos_snomedct_problemassaludAH, 0, True);"
      ],
      "metadata": {
        "colab": {
          "base_uri": "https://localhost:8080/"
        },
        "id": "b0WxjASUrcuY",
        "outputId": "5860393d-99db-424a-e35e-43b357d41e85"
      },
      "execution_count": null,
      "outputs": [
        {
          "output_type": "stream",
          "name": "stdout",
          "text": [
            "ERROR AL Parsear estado de gran mal\n"
          ]
        }
      ]
    },
    {
      "cell_type": "code",
      "source": [
        "for termino in terminos_snomedct_problemassaludAH:\n",
        "  termino[\"embedding\"] = json.dumps(termino[\"embedding\"], cls=NumpyArrayEncoder)"
      ],
      "metadata": {
        "id": "CHbvxR0BtpO2"
      },
      "execution_count": null,
      "outputs": []
    },
    {
      "cell_type": "code",
      "source": [
        "with open('catalogo_sp-bio-w-emb-uncased-cbow-d50-bio_es.json', 'w') as file:\n",
        "    json.dump(terminos_snomedct_problemassaludAH, file)\n",
        "file.close()"
      ],
      "metadata": {
        "id": "96GlR-tAAkFy"
      },
      "execution_count": null,
      "outputs": []
    },
    {
      "cell_type": "code",
      "source": [
        "#Tiempo de ejecucion: 120 sg\n",
        "model = FastText.load_fasttext_format('drive/MyDrive/models/sp-bio-w-emb-uncased-cbow-d100-bio_es.bin')"
      ],
      "metadata": {
        "id": "ioV8M5H8v7ar"
      },
      "execution_count": null,
      "outputs": []
    },
    {
      "cell_type": "code",
      "source": [
        "#Tiempo de ejecucion: 60 sg\n",
        "terminos_snomedct_problemassaludAH = anadirEmbedding(model, nlp_lg, terminos_snomedct_problemassaludAH, 0, True);"
      ],
      "metadata": {
        "colab": {
          "base_uri": "https://localhost:8080/"
        },
        "id": "JJEvOWU_v7SB",
        "outputId": "ee3fd4a3-6c6f-438b-fdc2-8bb14de339af"
      },
      "execution_count": null,
      "outputs": [
        {
          "output_type": "stream",
          "name": "stdout",
          "text": [
            "ERROR AL Parsear estado de gran mal\n"
          ]
        }
      ]
    },
    {
      "cell_type": "code",
      "source": [
        "for termino in terminos_snomedct_problemassaludAH:\n",
        "  termino[\"embedding\"] = json.dumps(termino[\"embedding\"], cls=NumpyArrayEncoder)"
      ],
      "metadata": {
        "id": "14ugGGMUv7HM"
      },
      "execution_count": null,
      "outputs": []
    },
    {
      "cell_type": "code",
      "source": [
        "with open('catalogo_sp-bio-w-emb-uncased-cbow-d100-bio_es.json', 'w') as file:\n",
        "    json.dump(terminos_snomedct_problemassaludAH, file)\n",
        "file.close()"
      ],
      "metadata": {
        "id": "EL9x_9UYv66F"
      },
      "execution_count": null,
      "outputs": []
    },
    {
      "cell_type": "code",
      "source": [
        "#Tiempo de ejecucion: 180 sg\n",
        "model = FastText.load_fasttext_format('drive/MyDrive/models/sp-bio-w-emb-uncased-cbow-d300-bio_es.bin')"
      ],
      "metadata": {
        "id": "3GoxqaU0woGK"
      },
      "execution_count": null,
      "outputs": []
    },
    {
      "cell_type": "code",
      "source": [
        "#Tiempo de ejecucion: 60 sg\n",
        "terminos_snomedct_problemassaludAH = anadirEmbedding(model, nlp_lg, terminos_snomedct_problemassaludAH, 0, True);"
      ],
      "metadata": {
        "outputId": "079b3c28-12da-4fc2-e9d7-61be91057d79",
        "colab": {
          "base_uri": "https://localhost:8080/"
        },
        "id": "sceQZudrwoGK"
      },
      "execution_count": null,
      "outputs": [
        {
          "output_type": "stream",
          "name": "stdout",
          "text": [
            "ERROR AL Parsear estado de gran mal\n"
          ]
        }
      ]
    },
    {
      "cell_type": "code",
      "source": [
        "for termino in terminos_snomedct_problemassaludAH:\n",
        "  termino[\"embedding\"] = json.dumps(termino[\"embedding\"], cls=NumpyArrayEncoder)"
      ],
      "metadata": {
        "id": "8EBvSJIiwoGK"
      },
      "execution_count": null,
      "outputs": []
    },
    {
      "cell_type": "code",
      "source": [
        "with open('catalogo_sp-bio-w-emb-uncased-cbow-d300-bio_es.json', 'w') as file:\n",
        "    json.dump(terminos_snomedct_problemassaludAH, file)\n",
        "file.close()"
      ],
      "metadata": {
        "id": "4sbPJ6fzwoGL"
      },
      "execution_count": null,
      "outputs": []
    },
    {
      "cell_type": "code",
      "source": [
        "#Tiempo de ejecucion: 60 sg\n",
        "model = FastText.load_fasttext_format('drive/MyDrive/models/sp-bio-w-emb-uncased-skip-d50-bio_es.bin')\n"
      ],
      "metadata": {
        "id": "SJGi2Nxf68BQ"
      },
      "execution_count": null,
      "outputs": []
    },
    {
      "cell_type": "code",
      "source": [
        "#Tiempo de ejecucion: 48 sg\n",
        "terminos_snomedct_problemassaludAH = anadirEmbedding(model, nlp_lg, terminos_snomedct_problemassaludAH, 0, True);\n"
      ],
      "metadata": {
        "colab": {
          "base_uri": "https://localhost:8080/"
        },
        "id": "omklmsYN69DJ",
        "outputId": "8116dd33-ec75-453d-9834-39e1d18e42ad"
      },
      "execution_count": null,
      "outputs": [
        {
          "output_type": "stream",
          "name": "stdout",
          "text": [
            "ERROR AL Parsear estado de gran mal\n"
          ]
        }
      ]
    },
    {
      "cell_type": "code",
      "source": [
        "for termino in terminos_snomedct_problemassaludAH:\n",
        "  termino[\"embedding\"] = json.dumps(termino[\"embedding\"], cls=NumpyArrayEncoder)\n",
        "with open('catalogo_sp-bio-w-emb-uncased-skip-d50-bio_es.json', 'w') as file:\n",
        "    json.dump(terminos_snomedct_problemassaludAH, file)\n",
        "file.close()"
      ],
      "metadata": {
        "id": "52tGysHlT1_s"
      },
      "execution_count": null,
      "outputs": []
    },
    {
      "cell_type": "code",
      "source": [
        "#Tiempo de ejecucion: 60 sg\n",
        "model = FastText.load_fasttext_format('drive/MyDrive/models/sp-bio-w-emb-uncased-skip-d100-bio_es.bin')\n"
      ],
      "metadata": {
        "id": "w5W71WMd7Drp"
      },
      "execution_count": null,
      "outputs": []
    },
    {
      "cell_type": "code",
      "source": [
        "#Tiempo de ejecucion: 48 sg\n",
        "terminos_snomedct_problemassaludAH = anadirEmbedding(model, nlp_lg, terminos_snomedct_problemassaludAH, 0, True);\n"
      ],
      "metadata": {
        "colab": {
          "base_uri": "https://localhost:8080/"
        },
        "id": "ypfy1oKe7EKI",
        "outputId": "5e19389c-121f-40f5-87ba-08f7d73f5b96"
      },
      "execution_count": null,
      "outputs": [
        {
          "output_type": "stream",
          "name": "stdout",
          "text": [
            "ERROR AL Parsear estado de gran mal\n"
          ]
        }
      ]
    },
    {
      "cell_type": "code",
      "source": [
        "for termino in terminos_snomedct_problemassaludAH:\n",
        "  termino[\"embedding\"] = json.dumps(termino[\"embedding\"], cls=NumpyArrayEncoder)\n",
        "with open('catalogo_sp-bio-w-emb-uncased-skip-d100-bio_es.json', 'w') as file:\n",
        "    json.dump(terminos_snomedct_problemassaludAH, file)\n",
        "file.close()"
      ],
      "metadata": {
        "id": "BVwhRt2LT1sY"
      },
      "execution_count": null,
      "outputs": []
    },
    {
      "cell_type": "code",
      "source": [
        "#Tiempo de ejecucion: 120 sg\n",
        "model = FastText.load_fasttext_format('drive/MyDrive/models/sp-bio-w-emb-uncased-skip-d300-bio_es.bin')\n"
      ],
      "metadata": {
        "id": "EF1uJmMJ7IPR"
      },
      "execution_count": null,
      "outputs": []
    },
    {
      "cell_type": "code",
      "source": [
        "#Tiempo de ejecucion: 60 sg\n",
        "terminos_snomedct_problemassaludAH = anadirEmbedding(model, nlp_lg, terminos_snomedct_problemassaludAH, 0, True);\n"
      ],
      "metadata": {
        "colab": {
          "base_uri": "https://localhost:8080/"
        },
        "id": "2BdSNhoZ7InX",
        "outputId": "c6f77b74-5eb1-4a26-f864-3705088aead7"
      },
      "execution_count": null,
      "outputs": [
        {
          "output_type": "stream",
          "name": "stdout",
          "text": [
            "ERROR AL Parsear estado de gran mal\n"
          ]
        }
      ]
    },
    {
      "cell_type": "code",
      "source": [
        "for termino in terminos_snomedct_problemassaludAH:\n",
        "  termino[\"embedding\"] = json.dumps(termino[\"embedding\"], cls=NumpyArrayEncoder)\n",
        "with open('catalogo_sp-bio-w-emb-uncased-skip-d300-bio_es.json', 'w') as file:\n",
        "    json.dump(terminos_snomedct_problemassaludAH, file)\n",
        "file.close()"
      ],
      "metadata": {
        "id": "kl5ZUyYnUSpW"
      },
      "execution_count": null,
      "outputs": []
    },
    {
      "cell_type": "markdown",
      "source": [
        "## Obtención de embeddings, carga de modelos y pruebas"
      ],
      "metadata": {
        "id": "9A4o1IJ7s9_f"
      }
    },
    {
      "cell_type": "code",
      "source": [
        "!pip install gensim\n",
        "from gensim.models import FastText"
      ],
      "metadata": {
        "colab": {
          "base_uri": "https://localhost:8080/"
        },
        "id": "N3z5pQjBpJla",
        "outputId": "028536e1-21fa-4235-b924-3b4b3bc72971"
      },
      "execution_count": null,
      "outputs": [
        {
          "output_type": "stream",
          "name": "stdout",
          "text": [
            "Looking in indexes: https://pypi.org/simple, https://us-python.pkg.dev/colab-wheels/public/simple/\n",
            "Requirement already satisfied: gensim in /usr/local/lib/python3.8/dist-packages (3.6.0)\n",
            "Requirement already satisfied: numpy>=1.11.3 in /usr/local/lib/python3.8/dist-packages (from gensim) (1.21.6)\n",
            "Requirement already satisfied: smart-open>=1.2.1 in /usr/local/lib/python3.8/dist-packages (from gensim) (6.3.0)\n",
            "Requirement already satisfied: six>=1.5.0 in /usr/local/lib/python3.8/dist-packages (from gensim) (1.15.0)\n",
            "Requirement already satisfied: scipy>=0.18.1 in /usr/local/lib/python3.8/dist-packages (from gensim) (1.7.3)\n"
          ]
        }
      ]
    },
    {
      "cell_type": "code",
      "source": [
        "def obtenEmbedding(model, doc):\n",
        "  return model.wv.get_vector(doc)"
      ],
      "metadata": {
        "id": "wbD4bdIIqok7"
      },
      "execution_count": null,
      "outputs": []
    },
    {
      "cell_type": "code",
      "source": [
        "model_cc50 = FastText.load_fasttext_format('drive/MyDrive/models/sp-bio-w-emb-uncased-cbow-d50-bio_es.bin')\n",
        "model_cc100 = FastText.load_fasttext_format('drive/MyDrive/models/sp-bio-w-emb-uncased-cbow-d100-bio_es.bin')\n",
        "model_cc300 = FastText.load_fasttext_format('drive/MyDrive/models/sp-bio-w-emb-uncased-cbow-d300-bio_es.bin')\n"
      ],
      "metadata": {
        "id": "rNAnTrKLgWXZ"
      },
      "execution_count": null,
      "outputs": []
    },
    {
      "cell_type": "code",
      "source": [
        "model_cs50 = FastText.load_fasttext_format('drive/MyDrive/models/sp-bio-w-emb-uncased-skip-d50-bio_es.bin')\n",
        "model_cs100 = FastText.load_fasttext_format('drive/MyDrive/models/sp-bio-w-emb-uncased-skip-d100-bio_es.bin')\n",
        "#model_cs300 = FastText.load_fasttext_format('drive/MyDrive/models/sp-bio-w-emb-uncased-skip-d300-bio_es.bin')"
      ],
      "metadata": {
        "id": "esZDSWgqUnb7"
      },
      "execution_count": null,
      "outputs": []
    },
    {
      "cell_type": "code",
      "source": [
        "import os, json, numpy\n",
        "\n",
        "f = open('catalogo_sp-bio-w-emb-uncased-cbow-d50-bio_es.json')\n",
        "data = json.load(f)\n",
        "terminos_snomedct_problemassaludAH_cc50 = []\n",
        "for termino in data:\n",
        "  termino[\"embedding\"] = numpy.asarray(json.loads(termino[\"embedding\"]));\n",
        "  terminos_snomedct_problemassaludAH_cc50.append(termino)\n",
        "f.close();\n",
        "\n",
        "f = open('catalogo_sp-bio-w-emb-uncased-cbow-d100-bio_es.json')\n",
        "data = json.load(f)\n",
        "terminos_snomedct_problemassaludAH_cc100 = []\n",
        "for termino in data:\n",
        "  termino[\"embedding\"] = numpy.asarray(json.loads(termino[\"embedding\"]));\n",
        "  terminos_snomedct_problemassaludAH_cc100.append(termino)\n",
        "f.close();\n",
        "\n",
        "f = open('catalogo_sp-bio-w-emb-uncased-cbow-d300-bio_es.json')\n",
        "data = json.load(f)\n",
        "terminos_snomedct_problemassaludAH_cc300 = []\n",
        "for termino in data:\n",
        "  termino[\"embedding\"] = numpy.asarray(json.loads(termino[\"embedding\"]));\n",
        "  terminos_snomedct_problemassaludAH_cc300.append(termino)\n",
        "f.close();"
      ],
      "metadata": {
        "id": "5zIJCOemgkgV"
      },
      "execution_count": null,
      "outputs": []
    },
    {
      "cell_type": "code",
      "source": [
        "f = open('catalogo_sp-bio-w-emb-uncased-skip-d50-bio_es.json')\n",
        "data = json.load(f)\n",
        "terminos_snomedct_problemassaludAH_cs50 = []\n",
        "for termino in data:\n",
        "  termino[\"embedding\"] = numpy.asarray(json.loads(termino[\"embedding\"]));\n",
        "  terminos_snomedct_problemassaludAH_cs50.append(termino)\n",
        "f.close();\n",
        "\n",
        "f = open('catalogo_sp-bio-w-emb-uncased-skip-d100-bio_es.json')\n",
        "data = json.load(f)\n",
        "terminos_snomedct_problemassaludAH_cs100 = []\n",
        "for termino in data:\n",
        "  termino[\"embedding\"] = numpy.asarray(json.loads(termino[\"embedding\"]));\n",
        "  terminos_snomedct_problemassaludAH_cs100.append(termino)\n",
        "f.close();\n",
        "\n",
        "f = open('catalogo_sp-bio-w-emb-uncased-skip-d300-bio_es.json')\n",
        "data = json.load(f)\n",
        "terminos_snomedct_problemassaludAH_cs300 = []\n",
        "for termino in data:\n",
        "  termino[\"embedding\"] = numpy.asarray(json.loads(termino[\"embedding\"]));\n",
        "  terminos_snomedct_problemassaludAH_cs300.append(termino)\n",
        "f.close();"
      ],
      "metadata": {
        "id": "YJYpitxqUw1j"
      },
      "execution_count": null,
      "outputs": []
    },
    {
      "cell_type": "code",
      "source": [
        "def NLP_get_ngrams(text, n):\n",
        "    text = text.split()\n",
        "    output = []\n",
        "    for i in range(len(text) - n + 1):\n",
        "        output.append(text[i:i+n])\n",
        "    return output"
      ],
      "metadata": {
        "id": "LohpNnBFs-YW"
      },
      "execution_count": null,
      "outputs": []
    },
    {
      "cell_type": "code",
      "source": [
        "#informe = \"El paciente presenta el abdomen distenido .\"\n",
        "#informe = \"El paciente presenta un aborto espontáneo y retenido, distendido, y no es capaz de volverse loco. El paciente presenta ansiedad y a veces un poco de apraxia.\"\n",
        "#informe = \"El paciente presenta un abdomen distendido, y no es capaz de volverse loco. El paciente presenta ansiedad y a veces un poco de apraxia.\"\n",
        "informe = \"Hay evidencia de hipoatenuación hepática difusa compatible con infiltración grasa . No hay dilatación de los conductos biliares intra o extrahepáticos. El paciente se encuentra en estado post colecistectomía. El bazo es normal. El páncreas es de contorno y características de atenuación normales. No hay evidencia de masa suprarrenal. Hay una hernia supraumbilical de tamaño moderado que contiene grasa. Los riñones son normales en tamaño, forma y configuración. No se identifican cálculos renales ni ureterales. No hay hidrouréter ni hidronefrosis. No hay evidencia de apendicitis. Hay varias asas de intestino delgado llenas de líquido, compatibles con una enteritis leve. No hay engrosamiento de la pared intestinal. No hay evidencia de obstrucción del intestino delgado o grueso. No hay evidencia de ascitis abdominal o linfadenopatía. No hay evidencia de masa vesical intrínseca o extrínseca . No hay ascitis pélvica ni linfadenopatía . El útero y los ovarios no presentan ninguna anomalía. Las imágenes de las bases pulmonares no muestran evidencia de masa pleural o parenquimatosa . No hay derrames pleurales. Hay cicatrices en el lóbulo medio derecho y en la língula, así como en ambas bases pulmonares. Las estructuras óseas están libres de lesiones líticas o blásticas. Se observan cambios degenerativos multinivel en la columna toracolumbar. Se observan calcificaciones dispersas en la aorta y en sus principales ramas, compatibles con la aterosclerosis.\"\n"
      ],
      "metadata": {
        "id": "fdgQMdgQsDmT"
      },
      "execution_count": null,
      "outputs": []
    },
    {
      "cell_type": "code",
      "source": [
        "import numpy as np\n",
        "from numpy.linalg import norm\n",
        "from operator import itemgetter\n",
        "\n",
        "def get_terminos_vinculados(model, catalog, similarity_threshold, similarity, informe):\n",
        "  terminos_vinculados = []\n",
        "\n",
        "  frases = split_sentences(nlp_lg, informe)\n",
        "  for frase in frases:\n",
        "    informe_preprocesado = NLP_preprocesaDocumento(nlp_lg, frase)\n",
        "\n",
        "    #Empezamos por ngramas más grandes a más pequeños\n",
        "    for num_ngrams in range(6, 0, -1):\n",
        "      ngramas = NLP_get_ngrams(informe_preprocesado, num_ngrams)\n",
        "      for ngrama in ngramas:\n",
        "        doc = \" \".join([token for token in ngrama])\n",
        "        #print(doc)\n",
        "        doc_embedding = model.wv.get_vector(doc)\n",
        "        vector_A = doc_embedding\n",
        "        #Por cada término de la terminología, comprobamos la similaridad con el ngrama previo\n",
        "        terminos_candidatos = []\n",
        "        for termino in catalog:\n",
        "          vector_B = termino[\"embedding\"]\n",
        "          if similarity == 0:\n",
        "            dist = numpy.linalg.norm(vector_A-vector_B)\n",
        "            if dist <= similarity_threshold:\n",
        "              #print(doc, \" \", termino[\"term\"], \" Similarity:\", dist)\n",
        "              terminos_candidatos.append({\"term\": termino[\"term\"], \"embedding\": termino[\"embedding\"], \"similarity\": dist})\n",
        "            #Nos quedamos con el término con menor distancia de los obtenidos\n",
        "            if terminos_candidatos:\n",
        "              terminos_candidatos_sorted = sorted(terminos_candidatos, key=itemgetter('similarity'), reverse=False) \n",
        "              terminos_vinculados.append(terminos_candidatos_sorted[0])\n",
        "          else:\n",
        "            dist = np.dot(vector_A,vector_B)/(norm(vector_A)*norm(vector_B))\n",
        "            if dist >= similarity_threshold:\n",
        "              #print(doc, \" \", termino[\"term\"], \" Similarity:\", dist)\n",
        "              terminos_candidatos.append({\"term\": termino[\"term\"], \"embedding\": termino[\"embedding\"], \"similarity\": dist})\n",
        "            #Nos quedamos con el término con mayor probabilidad de los obtenidos\n",
        "            if terminos_candidatos:\n",
        "              terminos_candidatos_sorted = sorted(terminos_candidatos, key=itemgetter('similarity'), reverse=True) \n",
        "              terminos_vinculados.append(terminos_candidatos_sorted[0])\n",
        "\n",
        "  print(\"Resultado:\")\n",
        "\n",
        "  if similarity == 0:\n",
        "    #Eliminamos duplicados\n",
        "    terminos_vinculados_sorted = sorted(terminos_vinculados, key=itemgetter('term')) \n",
        "    termino_ant = {\"term\":\"\", \"similarity\": \"100.0\"}\n",
        "    terminos_vinculados_deduplicated = []\n",
        "    for termino in terminos_vinculados_sorted:\n",
        "      if termino[\"term\"] != termino_ant[\"term\"]:\n",
        "        if termino_ant[\"term\"] != \"\":\n",
        "          terminos_vinculados_deduplicated.append(termino_ant)\n",
        "          #print(termino_ant[\"term\"], \" Cosine Similarity:\", termino_ant[\"similarity\"])\n",
        "        termino_ant = termino\n",
        "      else:\n",
        "        if termino_ant[\"similarity\"]>termino[\"similarity\"]:\n",
        "          termino_ant = termino\n",
        "    terminos_vinculados_deduplicated.append(termino_ant)\n",
        "    #print(termino_ant[\"term\"], \" Cosine Similarity:\", termino_ant[\"similarity\"])\n",
        "\n",
        "  else:\n",
        "    #Eliminamos duplicados\n",
        "    terminos_vinculados_sorted = sorted(terminos_vinculados, key=itemgetter('term')) \n",
        "    termino_ant = {\"term\":\"\", \"similarity\": \"0.0\"}\n",
        "    terminos_vinculados_deduplicated = []\n",
        "    for termino in terminos_vinculados_sorted:\n",
        "      if termino[\"term\"] != termino_ant[\"term\"]:\n",
        "        if termino_ant[\"term\"] != \"\":\n",
        "          terminos_vinculados_deduplicated.append(termino_ant)\n",
        "          #print(termino_ant[\"term\"], \" Cosine Similarity:\", termino_ant[\"similarity\"])\n",
        "        termino_ant = termino\n",
        "      else:\n",
        "        if termino_ant[\"similarity\"]<termino[\"similarity\"]:\n",
        "          termino_ant = termino\n",
        "    terminos_vinculados_deduplicated.append(termino_ant)\n",
        "    #print(termino_ant[\"term\"], \" Cosine Similarity:\", termino_ant[\"similarity\"])\n",
        "\n",
        "  return terminos_vinculados_deduplicated\n"
      ],
      "metadata": {
        "id": "tYlwWo87tJKA"
      },
      "execution_count": null,
      "outputs": []
    },
    {
      "cell_type": "code",
      "source": [],
      "metadata": {
        "id": "w5fzw2I-pilH"
      },
      "execution_count": null,
      "outputs": []
    },
    {
      "cell_type": "code",
      "source": [
        "#Tiempo de ejecucion: 7 sg\n",
        "terminos_vinculados = get_terminos_vinculados(model_cc50, terminos_snomedct_problemassaludAH_cc50, 3.6, 0, informe )\n",
        "for termino in terminos_vinculados:\n",
        "  print(termino[\"term\"], \" Similarity:\", termino[\"similarity\"])\n"
      ],
      "metadata": {
        "colab": {
          "base_uri": "https://localhost:8080/"
        },
        "id": "ZW4ErlO9pOzE",
        "outputId": "9b7cbe31-f875-4aa3-eace-e699a99e775b"
      },
      "execution_count": null,
      "outputs": [
        {
          "output_type": "stream",
          "name": "stdout",
          "text": [
            "Resultado:\n",
            "apendicitis  Similarity: 0.0\n",
            "ascitis  Similarity: 0.0\n",
            "cicatriz  Similarity: 0.0\n",
            "cálculo renal  Similarity: 0.0\n",
            "derrame pleural  Similarity: 0.0\n",
            "hernia paraumbilical  Similarity: 2.389089627534487\n",
            "hidronefrosis  Similarity: 0.0\n",
            "hidroureteronefrosis  Similarity: 2.799965914540009\n",
            "linfadenopatía  Similarity: 0.0\n",
            "masa suprarrenal  Similarity: 0.0\n",
            "obstrucción del intestino delgado  Similarity: 0.0\n"
          ]
        }
      ]
    },
    {
      "cell_type": "code",
      "source": [
        "#Tiempo de ejecucion: 14 sg\n",
        "terminos_vinculados = get_terminos_vinculados(model_cc50, terminos_snomedct_problemassaludAH_cc50, 0.95, 1, informe )\n",
        "for termino in terminos_vinculados:\n",
        "  print(termino[\"term\"], \" Cosine Similarity:\", termino[\"similarity\"])"
      ],
      "metadata": {
        "colab": {
          "base_uri": "https://localhost:8080/"
        },
        "id": "6CE3_B76svRc",
        "outputId": "fa5ecd42-1310-4740-b9b5-5e2b8e00a059"
      },
      "execution_count": null,
      "outputs": [
        {
          "output_type": "stream",
          "name": "stdout",
          "text": [
            "Resultado:\n",
            "apendicitis  Cosine Similarity: 0.999999936480693\n",
            "ascitis  Cosine Similarity: 1.0000000269859675\n",
            "aterosclerosis de aorta  Cosine Similarity: 0.9591700775957654\n",
            "cicatriz  Cosine Similarity: 1.0000000107440326\n",
            "cálculo renal  Cosine Similarity: 1.000000012533459\n",
            "derrame pleural  Cosine Similarity: 0.9999999984069964\n",
            "dolor de la pared abdominal  Cosine Similarity: 0.9547481720396018\n",
            "estrechez del conducto biliar  Cosine Similarity: 0.967123320276856\n",
            "hernia paraumbilical  Cosine Similarity: 0.9831991762383055\n",
            "hidronefrosis  Cosine Similarity: 0.9999999838711423\n",
            "hidroureteronefrosis  Cosine Similarity: 0.9787684673258287\n",
            "lesión hepática  Cosine Similarity: 0.9572028197015432\n",
            "linfadenopatía  Cosine Similarity: 1.000000041617977\n",
            "masa abdominal  Cosine Similarity: 0.9683426464425468\n",
            "masa pélvica  Cosine Similarity: 0.9639209134184615\n",
            "masa suprarrenal  Cosine Similarity: 1.0000000411666718\n",
            "miopía alta progresiva degenerativa  Cosine Similarity: 0.9502464248194111\n",
            "obstrucción del intestino delgado  Cosine Similarity: 0.9999999999280532\n"
          ]
        }
      ]
    },
    {
      "cell_type": "code",
      "source": [
        "#Tiempo de ejecucion: 7 sg\n",
        "terminos_vinculados = get_terminos_vinculados(model_cc100, terminos_snomedct_problemassaludAH_cc100, 3.6, 0, informe )\n",
        "for termino in terminos_vinculados:\n",
        "  print(termino[\"term\"], \" Euclidean Similarity:\", termino[\"similarity\"])"
      ],
      "metadata": {
        "colab": {
          "base_uri": "https://localhost:8080/"
        },
        "id": "E6aZLbgrq1w9",
        "outputId": "b910b0c2-e732-4d8f-aa70-05c118876545"
      },
      "execution_count": null,
      "outputs": [
        {
          "output_type": "stream",
          "name": "stdout",
          "text": [
            "Resultado:\n",
            "apendicitis  Euclidean Similarity: 0.0\n",
            "ascitis  Euclidean Similarity: 0.0\n",
            "cicatriz  Euclidean Similarity: 0.0\n",
            "cálculo renal  Euclidean Similarity: 0.0\n",
            "derrame pleural  Euclidean Similarity: 0.0\n",
            "hernia paraumbilical  Euclidean Similarity: 2.492255784624611\n",
            "hidronefrosis  Euclidean Similarity: 0.0\n",
            "hidroureteronefrosis  Euclidean Similarity: 3.0515556116232316\n",
            "linfadenopatía  Euclidean Similarity: 0.0\n",
            "masa suprarrenal  Euclidean Similarity: 0.0\n",
            "obstrucción del intestino delgado  Euclidean Similarity: 0.0\n"
          ]
        }
      ]
    },
    {
      "cell_type": "code",
      "source": [
        "#Tiempo de ejecucion: 14 sg\n",
        "terminos_vinculados = get_terminos_vinculados(model_cc100, terminos_snomedct_problemassaludAH_cc100, 0.95, 1, informe )\n",
        "for termino in terminos_vinculados:\n",
        "  print(termino[\"term\"], \" Cosine Similarity:\", termino[\"similarity\"])"
      ],
      "metadata": {
        "colab": {
          "base_uri": "https://localhost:8080/"
        },
        "id": "yCO4vdD-tJS1",
        "outputId": "38731aa0-3d14-4e79-9352-4c32a61434ec"
      },
      "execution_count": null,
      "outputs": [
        {
          "output_type": "stream",
          "name": "stdout",
          "text": [
            "Resultado:\n",
            "apendicitis  Cosine Similarity: 1.0000000330027676\n",
            "ascitis  Cosine Similarity: 0.9999999817716361\n",
            "aterosclerosis de aorta  Cosine Similarity: 0.9540795972645387\n",
            "cicatriz  Cosine Similarity: 0.999999986298762\n",
            "cálculo renal  Cosine Similarity: 0.9999999723004029\n",
            "derrame pleural  Cosine Similarity: 1.0000000237612028\n",
            "hernia paraumbilical  Cosine Similarity: 0.9829142065456283\n",
            "hidronefrosis  Cosine Similarity: 0.9999999883575863\n",
            "hidroureteronefrosis  Cosine Similarity: 0.9740628994661286\n",
            "linfadenopatía  Cosine Similarity: 0.9999999508360591\n",
            "masa abdominal  Cosine Similarity: 0.9515683032409354\n",
            "masa suprarrenal  Cosine Similarity: 1.0000000343593185\n",
            "obstrucción del intestino delgado  Cosine Similarity: 1.0000000083922036\n"
          ]
        }
      ]
    },
    {
      "cell_type": "code",
      "source": [
        "#Tiempo de ejecucion: 7 sg\n",
        "terminos_vinculados = get_terminos_vinculados(model_cc300, terminos_snomedct_problemassaludAH_cc300, 3.6, 0, informe )\n",
        "for termino in terminos_vinculados:\n",
        "  print(termino[\"term\"], \" Euclidean Similarity:\", termino[\"similarity\"])"
      ],
      "metadata": {
        "colab": {
          "base_uri": "https://localhost:8080/"
        },
        "id": "Ja1SJ4kDrDjG",
        "outputId": "4e842a4c-6b02-48af-9c27-04415666cf11"
      },
      "execution_count": null,
      "outputs": [
        {
          "output_type": "stream",
          "name": "stdout",
          "text": [
            "Resultado:\n",
            "apendicitis  Euclidean Similarity: 0.0\n",
            "ascitis  Euclidean Similarity: 0.0\n",
            "cicatriz  Euclidean Similarity: 0.0\n",
            "cálculo renal  Euclidean Similarity: 0.0\n",
            "derrame pleural  Euclidean Similarity: 0.0\n",
            "hernia paraumbilical  Euclidean Similarity: 2.6722831904510875\n",
            "hidronefrosis  Euclidean Similarity: 0.0\n",
            "hidroureteronefrosis  Euclidean Similarity: 3.21093541660065\n",
            "linfadenopatía  Euclidean Similarity: 0.0\n",
            "masa suprarrenal  Euclidean Similarity: 0.0\n",
            "obstrucción del intestino delgado  Euclidean Similarity: 0.0\n"
          ]
        }
      ]
    },
    {
      "cell_type": "code",
      "source": [
        "#Tiempo de ejecucion: 14 sg\n",
        "terminos_vinculados = get_terminos_vinculados(model_cc300, terminos_snomedct_problemassaludAH_cc300, 0.95, 1, informe )\n",
        "for termino in terminos_vinculados:\n",
        "  print(termino[\"term\"], \" Cosine Similarity:\", termino[\"similarity\"])"
      ],
      "metadata": {
        "colab": {
          "base_uri": "https://localhost:8080/"
        },
        "id": "omlDs22_tNK1",
        "outputId": "92653f6a-ea6f-4f5e-dc77-e96e03e03690"
      },
      "execution_count": null,
      "outputs": [
        {
          "output_type": "stream",
          "name": "stdout",
          "text": [
            "Resultado:\n",
            "apendicitis  Cosine Similarity: 0.9999999326309524\n",
            "ascitis  Cosine Similarity: 0.9999999409117064\n",
            "cicatriz  Cosine Similarity: 1.0000000310196664\n",
            "cálculo renal  Cosine Similarity: 0.9999999895197529\n",
            "derrame pleural  Cosine Similarity: 1.0000000329506975\n",
            "hernia paraumbilical  Cosine Similarity: 0.9803130275701475\n",
            "hidronefrosis  Cosine Similarity: 1.0000000501487158\n",
            "hidroureteronefrosis  Cosine Similarity: 0.9738593477678313\n",
            "linfadenopatía  Cosine Similarity: 1.0000000685270494\n",
            "masa suprarrenal  Cosine Similarity: 1.0000000090424441\n",
            "obstrucción del intestino delgado  Cosine Similarity: 1.000000050942657\n"
          ]
        }
      ]
    },
    {
      "cell_type": "code",
      "source": [
        "#informe =\"el paciente presenta el abdomen distendido\"\n",
        "informe = \"Hay evidencia de hipoatenuación hepática difusa compatible con infiltración grasa . No hay dilatación de los conductos biliares intra o extrahepáticos. El paciente se encuentra en estado post colecistectomía. El bazo es normal. El páncreas es de contorno y características de atenuación normales. No hay evidencia de masa suprarrenal. Hay una hernia supraumbilical de tamaño moderado que contiene grasa. Los riñones son normales en tamaño, forma y configuración. No se identifican cálculos renales ni ureterales. No hay hidrouréter ni hidronefrosis. No hay evidencia de apendicitis. Hay varias asas de intestino delgado llenas de líquido, compatibles con una enteritis leve. No hay engrosamiento de la pared intestinal. No hay evidencia de obstrucción del intestino delgado o grueso. No hay evidencia de ascitis abdominal o linfadenopatía. No hay evidencia de masa vesical intrínseca o extrínseca . No hay ascitis pélvica ni linfadenopatía . El útero y los ovarios no presentan ninguna anomalía. Las imágenes de las bases pulmonares no muestran evidencia de masa pleural o parenquimatosa . No hay derrames pleurales. Hay cicatrices en el lóbulo medio derecho y en la língula, así como en ambas bases pulmonares. Las estructuras óseas están libres de lesiones líticas o blásticas. Se observan cambios degenerativos multinivel en la columna toracolumbar. Se observan calcificaciones dispersas en la aorta y en sus principales ramas, compatibles con la aterosclerosis.\""
      ],
      "metadata": {
        "id": "Z5A4YQugEzI7"
      },
      "execution_count": null,
      "outputs": []
    },
    {
      "cell_type": "code",
      "source": [
        "#Tiempo de ejecucion: 9 sg\n",
        "terminos_vinculados = get_terminos_vinculados(model_cs50, terminos_snomedct_problemassaludAH_cs50, 1.2, 0, informe )\n",
        "for termino in terminos_vinculados:\n",
        "  print(termino[\"term\"], \" Similarity:\", termino[\"similarity\"])"
      ],
      "metadata": {
        "id": "w7gr_KEZVLCe",
        "colab": {
          "base_uri": "https://localhost:8080/"
        },
        "outputId": "1c99c89e-ca77-4f8d-fa71-a224ce7bb321"
      },
      "execution_count": null,
      "outputs": [
        {
          "output_type": "stream",
          "name": "stdout",
          "text": [
            "Resultado:\n",
            "absceso abdominal  Similarity: 1.1068349166363272\n",
            "adherencias intestinales con obstrucción  Similarity: 1.004833075831601\n",
            "amplitud de movimiento articular activo reducido  Similarity: 1.167941177059055\n",
            "anemia por pérdida crónica de sangre  Similarity: 1.1973448265257902\n",
            "anomalía fetal sospechada que afecta el manejo de la madre  Similarity: 1.1854451817800258\n",
            "apendicitis  Similarity: 0.0\n",
            "artrosis primaria localizada, de la región pélvica y muslo  Similarity: 1.130894289716902\n",
            "ascitis  Similarity: 0.0\n",
            "aterosclerosis de injerto-puente de miembro  Similarity: 1.1686517344078948\n",
            "atrofia sistémica múltiple  Similarity: 1.1737567867300949\n",
            "calcificación de mama  Similarity: 0.9740240720534186\n",
            "callo - lesión  Similarity: 1.1915649321707833\n",
            "carcinoma in situ de parénquima pulmonar y bronquio del lóbulo superior  Similarity: 0.9829802036543631\n",
            "cicatriz  Similarity: 0.0\n",
            "cuadriplejía incompleta debida a lesión de médula espinal entre primera y cuarta vértebras cervicales  Similarity: 1.196272767295056\n",
            "cuerpo extraño en dedo de la mano  Similarity: 1.1741428032295267\n",
            "cuerpo extraño en estructura corporal  Similarity: 1.0564269582297479\n",
            "cálculo del conducto biliar con obstrucción  Similarity: 1.1685808984803872\n",
            "cálculo en la vía biliar  Similarity: 1.1905937308748409\n",
            "cálculo renal  Similarity: 0.0\n",
            "células escamosas atípicas de significación indeterminada en el extendido de Papanicolaou cervical  Similarity: 1.1160833178716643\n",
            "demencia degenerativa primaria de tipo Alzheimer, de inicio en la edad senil, no complicada  Similarity: 1.102113210097836\n",
            "derrame pleural  Similarity: 0.0\n",
            "diferencia adquirida en la longitud de las piernas  Similarity: 0.8918334508543851\n",
            "efecto de parto y extracción de nalgas sobre el feto o recién nacido  Similarity: 1.09855432272048\n",
            "efecto sobre el feto o recién nacido de presentación y/o posición anómalas y/o desproporción durante el trabajo de parto y/o parto  Similarity: 1.1729065130228675\n",
            "enfermedad arterial periférica oclusiva  Similarity: 1.1313109140184991\n",
            "enfermedad articular degenerativa con compromiso de múltiples articulaciones  Similarity: 1.1712156196577013\n",
            "enfermedad articular degenerativa de región de hombro  Similarity: 1.0525228125451602\n",
            "enfermedad de Crohn de intestinos delgado Y grueso  Similarity: 1.0392022132614287\n",
            "enfermedad vascular mixta del colágeno  Similarity: 1.0066353357914626\n",
            "enteritis viral  Similarity: 1.163035168147883\n",
            "esclerosis múltiple progresiva secundaria  Similarity: 1.1495228060788363\n",
            "estenosis adquirida de conducto nasolagrimal  Similarity: 1.0838797810465706\n",
            "estenosis degenerativa del conducto raquídeo de la región lumbar  Similarity: 0.9418257091951746\n",
            "estrechez del conducto biliar  Similarity: 0.8731785463027284\n",
            "estreñimiento debido a obstrucción de la salida  Similarity: 1.0084960831307648\n",
            "falta de descenso testicular izquierdo  Similarity: 1.183687845129224\n",
            "falta de progresión en la segunda etapa del trabajo de parto  Similarity: 1.161910945865245\n",
            "función hepática anormal  Similarity: 1.1774466281449105\n",
            "hallazgo relacionado con sangrado vaginal  Similarity: 1.1438862044102516\n",
            "hemorragia de intestino grueso con enfermedad diverticular de intestino grueso  Similarity: 1.1923186411281295\n",
            "herida abierta en la pared abdominal anterior  Similarity: 1.162802024732429\n",
            "hernia inguinal bilateral  Similarity: 1.0415061753413757\n",
            "hernia inguinal izquierda  Similarity: 1.0444709908435537\n",
            "hernia inguinal izquierda recurrente  Similarity: 1.1470521134470555\n",
            "hernia paraumbilical  Similarity: 0.8826918421951283\n",
            "hidronefrosis  Similarity: 0.0\n",
            "hidroureteronefrosis  Similarity: 0.8563233886070517\n",
            "hiperplasia prostática benigna con obstrucción del flujo de salida  Similarity: 0.9834031440710611\n",
            "ileítis regional del intestino delgado  Similarity: 1.105359111271239\n",
            "infección localizada de piel Y/O tejido celular subcutáneo  Similarity: 1.133047357597337\n",
            "insuficiencia suprarrenal crónica  Similarity: 1.0215618352008797\n",
            "linfadenopatía  Similarity: 0.0\n",
            "linfadenopatía axilar  Similarity: 0.9407209274545798\n",
            "masa suprarrenal  Similarity: 0.0\n",
            "miopía alta progresiva degenerativa  Similarity: 0.9179515581633635\n",
            "obstrucción del intestino delgado  Similarity: 0.0\n",
            "obstrucción del tracto de salida vesical  Similarity: 1.1673043378984382\n",
            "osteoartrosis de localizaciones múltiples, no especificada como generalizada  Similarity: 1.1143059862455986\n",
            "pielonefritis crónica no obstructiva asociada a reflujo  Similarity: 1.144994939039627\n",
            "pruebas de función hepática anormales  Similarity: 0.982022476921043\n"
          ]
        }
      ]
    },
    {
      "cell_type": "code",
      "source": [
        "#Tiempo de ejecucion: 20 sg\n",
        "terminos_vinculados = get_terminos_vinculados(model_cs50, terminos_snomedct_problemassaludAH_cs50, 0.95, 1, informe )\n",
        "for termino in terminos_vinculados:\n",
        "  print(termino[\"term\"], \" Similarity:\", termino[\"similarity\"])"
      ],
      "metadata": {
        "id": "f6ssyUlnVMwT",
        "colab": {
          "base_uri": "https://localhost:8080/"
        },
        "outputId": "b5366db4-87da-4c42-a0b3-d752fa279136"
      },
      "execution_count": null,
      "outputs": [
        {
          "output_type": "stream",
          "name": "stdout",
          "text": [
            "Resultado:\n",
            "apendicitis  Similarity: 0.9999999356723795\n",
            "ascitis  Similarity: 1.000000019192385\n",
            "aterosclerosis de aorta  Similarity: 0.9531262237422627\n",
            "cicatriz  Similarity: 1.0000000233752089\n",
            "cálculo renal  Similarity: 1.0000000188722205\n",
            "derrame pleural  Similarity: 0.9999999975373195\n",
            "hernia paraumbilical  Similarity: 0.9723111344676618\n",
            "hidronefrosis  Similarity: 1.0000000309150467\n",
            "hidroureteronefrosis  Similarity: 0.9755432316003292\n",
            "linfadenopatía  Similarity: 1.0000000109378062\n",
            "masa suprarrenal  Similarity: 1.0000000165937915\n",
            "obstrucción del intestino delgado  Similarity: 0.9999999459173821\n"
          ]
        }
      ]
    },
    {
      "cell_type": "code",
      "source": [
        "terminos_vinculados = get_terminos_vinculados(model_cs100, terminos_snomedct_problemassaludAH_cs100, 1.2, 0, informe )\n",
        "for termino in terminos_vinculados:\n",
        "  print(termino[\"term\"], \" Similarity:\", termino[\"similarity\"])"
      ],
      "metadata": {
        "id": "NF7bbMLfVUqH",
        "colab": {
          "base_uri": "https://localhost:8080/"
        },
        "outputId": "d4087ee7-0d37-4b14-f380-45e848fd3dac"
      },
      "execution_count": null,
      "outputs": [
        {
          "output_type": "stream",
          "name": "stdout",
          "text": [
            "Resultado:\n",
            "apendicitis  Similarity: 0.0\n",
            "ascitis  Similarity: 0.0\n",
            "calcificación de mama  Similarity: 1.1559857123042463\n",
            "cicatriz  Similarity: 0.0\n",
            "cálculo renal  Similarity: 0.0\n",
            "derrame pleural  Similarity: 0.0\n",
            "enfermedad de Crohn de intestinos delgado Y grueso  Similarity: 1.119336685957993\n",
            "estenosis degenerativa del conducto raquídeo de la región lumbar  Similarity: 1.098937152459598\n",
            "estrechez del conducto biliar  Similarity: 1.1526721225573981\n",
            "hernia paraumbilical  Similarity: 1.042304288474881\n",
            "hidronefrosis  Similarity: 0.0\n",
            "hidroureteronefrosis  Similarity: 1.143493328416541\n",
            "linfadenopatía  Similarity: 0.0\n",
            "masa suprarrenal  Similarity: 0.0\n",
            "miopía alta progresiva degenerativa  Similarity: 1.1657013958435916\n",
            "obstrucción del intestino delgado  Similarity: 0.0\n",
            "pruebas de función hepática anormales  Similarity: 1.1861172749621762\n"
          ]
        }
      ]
    },
    {
      "cell_type": "code",
      "source": [
        "terminos_vinculados = get_terminos_vinculados(model_cs100, terminos_snomedct_problemassaludAH_cs100, 0.95, 1, informe )\n",
        "for termino in terminos_vinculados:\n",
        "  print(termino[\"term\"], \" Similarity:\", termino[\"similarity\"])"
      ],
      "metadata": {
        "id": "M3kRfRdJVjbY",
        "colab": {
          "base_uri": "https://localhost:8080/"
        },
        "outputId": "fcf93edf-8881-44a4-8851-9c2c8a0f5f8d"
      },
      "execution_count": null,
      "outputs": [
        {
          "output_type": "stream",
          "name": "stdout",
          "text": [
            "Resultado:\n",
            "apendicitis  Similarity: 0.9999999802842179\n",
            "ascitis  Similarity: 0.9999999626764693\n",
            "aterosclerosis de aorta  Similarity: 0.9529418925156002\n",
            "cicatriz  Similarity: 0.9999999845765345\n",
            "cálculo renal  Similarity: 1.00000004624113\n",
            "derrame pleural  Similarity: 1.0000000018148436\n",
            "hernia paraumbilical  Similarity: 0.9650706149281232\n",
            "hidronefrosis  Similarity: 1.0000000356641567\n",
            "hidroureteronefrosis  Similarity: 0.9627810207381385\n",
            "linfadenopatía  Similarity: 1.000000029915514\n",
            "masa suprarrenal  Similarity: 0.9999999547462615\n",
            "obstrucción del intestino delgado  Similarity: 1.0000000207570674\n"
          ]
        }
      ]
    },
    {
      "cell_type": "code",
      "source": [
        "terminos_vinculados = get_terminos_vinculados(model_cs300, terminos_snomedct_problemassaludAH_cs300, 1.2, 0, informe )\n",
        "for termino in terminos_vinculados:\n",
        "  print(termino[\"term\"], \" Similarity:\", termino[\"similarity\"])"
      ],
      "metadata": {
        "id": "Bk4nqG1YVrzO",
        "colab": {
          "base_uri": "https://localhost:8080/"
        },
        "outputId": "30f98aa9-d01c-4290-8d21-065096eec84f"
      },
      "execution_count": null,
      "outputs": [
        {
          "output_type": "stream",
          "name": "stdout",
          "text": [
            "Resultado:\n",
            "apendicitis  Similarity: 0.0\n",
            "ascitis  Similarity: 0.0\n",
            "cicatriz  Similarity: 0.0\n",
            "cálculo renal  Similarity: 0.0\n",
            "derrame pleural  Similarity: 0.0\n",
            "hernia paraumbilical  Similarity: 1.1935243176327452\n",
            "hidronefrosis  Similarity: 0.0\n",
            "linfadenopatía  Similarity: 0.0\n",
            "masa suprarrenal  Similarity: 0.0\n",
            "obstrucción del intestino delgado  Similarity: 0.0\n"
          ]
        }
      ]
    },
    {
      "cell_type": "code",
      "source": [
        "terminos_vinculados = get_terminos_vinculados(model_cs300, terminos_snomedct_problemassaludAH_cs300, 0.95, 1, informe )\n",
        "for termino in terminos_vinculados:\n",
        "  print(termino[\"term\"], \" Similarity:\", termino[\"similarity\"])"
      ],
      "metadata": {
        "id": "_2Ag4A99VspD",
        "colab": {
          "base_uri": "https://localhost:8080/"
        },
        "outputId": "f028a3ac-4c8b-44d9-920e-2727ee55f2d3"
      },
      "execution_count": null,
      "outputs": [
        {
          "output_type": "stream",
          "name": "stdout",
          "text": [
            "Resultado:\n",
            "apendicitis  Similarity: 0.9999999962064328\n",
            "ascitis  Similarity: 1.0000000085561287\n",
            "cicatriz  Similarity: 1.0000000027894624\n",
            "cálculo renal  Similarity: 0.9999999935315248\n",
            "derrame pleural  Similarity: 0.9999999602383638\n",
            "hernia paraumbilical  Similarity: 0.9617149205651632\n",
            "hidronefrosis  Similarity: 1.0000000144906906\n",
            "hidroureteronefrosis  Similarity: 0.9591198345534763\n",
            "linfadenopatía  Similarity: 0.9999999615653624\n",
            "masa suprarrenal  Similarity: 0.9999999898767472\n",
            "obstrucción del intestino delgado  Similarity: 1.0000000646101876\n"
          ]
        }
      ]
    }
  ]
}